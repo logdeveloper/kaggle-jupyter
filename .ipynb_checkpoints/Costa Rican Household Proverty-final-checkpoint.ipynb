{
 "cells": [
  {
   "cell_type": "markdown",
   "metadata": {
    "ExecuteTime": {
     "end_time": "2020-09-07T15:10:20.891653Z",
     "start_time": "2020-09-07T15:10:20.887665Z"
    },
    "colab_type": "text",
    "id": "2jUNaPCnRpdD"
   },
   "source": [
    "Costa Rican Household Poverty Level Prediction"
   ]
  },
  {
   "cell_type": "code",
   "execution_count": 8,
   "metadata": {
    "ExecuteTime": {
     "end_time": "2020-09-17T13:30:23.567310Z",
     "start_time": "2020-09-17T13:30:14.681898Z"
    },
    "colab": {},
    "colab_type": "code",
    "executionInfo": {
     "elapsed": 4551,
     "status": "ok",
     "timestamp": 1600401254812,
     "user": {
      "displayName": "김한빛",
      "photoUrl": "",
      "userId": "16905169175399423651"
     },
     "user_tz": -540
    },
    "id": "v_TKu9XKRpdE"
   },
   "outputs": [],
   "source": [
    "import pandas as pd\n",
    "import numpy as np\n",
    "import seaborn as sns\n",
    "import matplotlib.pyplot as plt\n",
    "\n",
    "sns.set(font_scale=2.2)\n",
    "plt.style.use('seaborn')\n",
    "\n",
    "from sklearn.preprocessing import LabelEncoder, MinMaxScaler, StandardScaler, OneHotEncoder\n",
    "from sklearn.model_selection import StratifiedKFold, train_test_split, ShuffleSplit\n",
    "from sklearn.metrics import f1_score\n",
    "import itertools\n",
    "import lightgbm as lgb\n",
    "import xgboost as xgb\n",
    "from xgboost import XGBClassifier\n",
    "from tqdm import tqdm\n",
    "import shap\n",
    "import featuretools as ft\n",
    "import warnings\n",
    "warnings.filterwarnings('ignore')\n",
    "import time"
   ]
  },
  {
   "cell_type": "markdown",
   "metadata": {
    "ExecuteTime": {
     "end_time": "2020-09-07T15:18:30.638096Z",
     "start_time": "2020-09-07T15:18:30.634108Z"
    },
    "colab_type": "text",
    "id": "ucnVQM1CRpdH"
   },
   "source": [
    "# 1. Check datasets\n",
    "## 1.1 Read datasets"
   ]
  },
  {
   "cell_type": "code",
   "execution_count": 9,
   "metadata": {
    "colab": {
     "base_uri": "https://localhost:8080/",
     "height": 35
    },
    "colab_type": "code",
    "executionInfo": {
     "elapsed": 4540,
     "status": "ok",
     "timestamp": 1600401254813,
     "user": {
      "displayName": "김한빛",
      "photoUrl": "",
      "userId": "16905169175399423651"
     },
     "user_tz": -540
    },
    "id": "S9ypUMcdUqhH",
    "outputId": "180b5c06-aa4a-4f6a-f5fd-0b05b329fef3"
   },
   "outputs": [
    {
     "name": "stdout",
     "output_type": "stream",
     "text": [
      "Drive already mounted at /content/drive; to attempt to forcibly remount, call drive.mount(\"/content/drive\", force_remount=True).\n"
     ]
    }
   ],
   "source": [
    "from google.colab import drive\n",
    "drive.mount('/content/drive')"
   ]
  },
  {
   "cell_type": "code",
   "execution_count": 10,
   "metadata": {
    "ExecuteTime": {
     "end_time": "2020-09-15T09:30:09.517386Z",
     "start_time": "2020-09-15T09:30:09.110022Z"
    },
    "colab": {},
    "colab_type": "code",
    "executionInfo": {
     "elapsed": 5107,
     "status": "ok",
     "timestamp": 1600401255395,
     "user": {
      "displayName": "김한빛",
      "photoUrl": "",
      "userId": "16905169175399423651"
     },
     "user_tz": -540
    },
    "id": "u8k0zI2cRpdI"
   },
   "outputs": [],
   "source": [
    "df_train = pd.read_csv('/content/drive/My Drive/data/costa rican/train.csv')\n",
    "df_test = pd.read_csv('/content/drive/My Drive/data/costa rican/test.csv')"
   ]
  },
  {
   "cell_type": "code",
   "execution_count": 11,
   "metadata": {
    "ExecuteTime": {
     "end_time": "2020-09-15T09:30:09.525347Z",
     "start_time": "2020-09-15T09:30:09.520348Z"
    },
    "colab": {
     "base_uri": "https://localhost:8080/",
     "height": 35
    },
    "colab_type": "code",
    "executionInfo": {
     "elapsed": 5098,
     "status": "ok",
     "timestamp": 1600401255396,
     "user": {
      "displayName": "김한빛",
      "photoUrl": "",
      "userId": "16905169175399423651"
     },
     "user_tz": -540
    },
    "id": "qpsz8fsdRpdK",
    "outputId": "425ca647-2129-472f-cc95-34548e1475d1"
   },
   "outputs": [
    {
     "name": "stdout",
     "output_type": "stream",
     "text": [
      "df_train shape: (9557, 143)    df_test shape:  (23856, 142)\n"
     ]
    }
   ],
   "source": [
    "print('df_train shape:', df_train.shape, '  ', 'df_test shape: ', df_test.shape)"
   ]
  },
  {
   "cell_type": "code",
   "execution_count": 12,
   "metadata": {
    "ExecuteTime": {
     "end_time": "2020-09-15T09:30:09.560439Z",
     "start_time": "2020-09-15T09:30:09.527868Z"
    },
    "colab": {
     "base_uri": "https://localhost:8080/",
     "height": 253
    },
    "colab_type": "code",
    "executionInfo": {
     "elapsed": 5094,
     "status": "ok",
     "timestamp": 1600401255397,
     "user": {
      "displayName": "김한빛",
      "photoUrl": "",
      "userId": "16905169175399423651"
     },
     "user_tz": -540
    },
    "id": "GhJttkZDRpdN",
    "outputId": "2e317362-6c23-47d6-9afc-a136c9222335"
   },
   "outputs": [
    {
     "data": {
      "text/html": [
       "<div>\n",
       "<style scoped>\n",
       "    .dataframe tbody tr th:only-of-type {\n",
       "        vertical-align: middle;\n",
       "    }\n",
       "\n",
       "    .dataframe tbody tr th {\n",
       "        vertical-align: top;\n",
       "    }\n",
       "\n",
       "    .dataframe thead th {\n",
       "        text-align: right;\n",
       "    }\n",
       "</style>\n",
       "<table border=\"1\" class=\"dataframe\">\n",
       "  <thead>\n",
       "    <tr style=\"text-align: right;\">\n",
       "      <th></th>\n",
       "      <th>Id</th>\n",
       "      <th>v2a1</th>\n",
       "      <th>hacdor</th>\n",
       "      <th>rooms</th>\n",
       "      <th>hacapo</th>\n",
       "      <th>v14a</th>\n",
       "      <th>refrig</th>\n",
       "      <th>v18q</th>\n",
       "      <th>v18q1</th>\n",
       "      <th>r4h1</th>\n",
       "      <th>r4h2</th>\n",
       "      <th>r4h3</th>\n",
       "      <th>r4m1</th>\n",
       "      <th>r4m2</th>\n",
       "      <th>r4m3</th>\n",
       "      <th>r4t1</th>\n",
       "      <th>r4t2</th>\n",
       "      <th>r4t3</th>\n",
       "      <th>tamhog</th>\n",
       "      <th>tamviv</th>\n",
       "      <th>escolari</th>\n",
       "      <th>rez_esc</th>\n",
       "      <th>hhsize</th>\n",
       "      <th>paredblolad</th>\n",
       "      <th>paredzocalo</th>\n",
       "      <th>paredpreb</th>\n",
       "      <th>pareddes</th>\n",
       "      <th>paredmad</th>\n",
       "      <th>paredzinc</th>\n",
       "      <th>paredfibras</th>\n",
       "      <th>paredother</th>\n",
       "      <th>pisomoscer</th>\n",
       "      <th>pisocemento</th>\n",
       "      <th>pisoother</th>\n",
       "      <th>pisonatur</th>\n",
       "      <th>pisonotiene</th>\n",
       "      <th>pisomadera</th>\n",
       "      <th>techozinc</th>\n",
       "      <th>techoentrepiso</th>\n",
       "      <th>techocane</th>\n",
       "      <th>...</th>\n",
       "      <th>meaneduc</th>\n",
       "      <th>instlevel1</th>\n",
       "      <th>instlevel2</th>\n",
       "      <th>instlevel3</th>\n",
       "      <th>instlevel4</th>\n",
       "      <th>instlevel5</th>\n",
       "      <th>instlevel6</th>\n",
       "      <th>instlevel7</th>\n",
       "      <th>instlevel8</th>\n",
       "      <th>instlevel9</th>\n",
       "      <th>bedrooms</th>\n",
       "      <th>overcrowding</th>\n",
       "      <th>tipovivi1</th>\n",
       "      <th>tipovivi2</th>\n",
       "      <th>tipovivi3</th>\n",
       "      <th>tipovivi4</th>\n",
       "      <th>tipovivi5</th>\n",
       "      <th>computer</th>\n",
       "      <th>television</th>\n",
       "      <th>mobilephone</th>\n",
       "      <th>qmobilephone</th>\n",
       "      <th>lugar1</th>\n",
       "      <th>lugar2</th>\n",
       "      <th>lugar3</th>\n",
       "      <th>lugar4</th>\n",
       "      <th>lugar5</th>\n",
       "      <th>lugar6</th>\n",
       "      <th>area1</th>\n",
       "      <th>area2</th>\n",
       "      <th>age</th>\n",
       "      <th>SQBescolari</th>\n",
       "      <th>SQBage</th>\n",
       "      <th>SQBhogar_total</th>\n",
       "      <th>SQBedjefe</th>\n",
       "      <th>SQBhogar_nin</th>\n",
       "      <th>SQBovercrowding</th>\n",
       "      <th>SQBdependency</th>\n",
       "      <th>SQBmeaned</th>\n",
       "      <th>agesq</th>\n",
       "      <th>Target</th>\n",
       "    </tr>\n",
       "  </thead>\n",
       "  <tbody>\n",
       "    <tr>\n",
       "      <th>0</th>\n",
       "      <td>ID_279628684</td>\n",
       "      <td>190000.0</td>\n",
       "      <td>0</td>\n",
       "      <td>3</td>\n",
       "      <td>0</td>\n",
       "      <td>1</td>\n",
       "      <td>1</td>\n",
       "      <td>0</td>\n",
       "      <td>NaN</td>\n",
       "      <td>0</td>\n",
       "      <td>1</td>\n",
       "      <td>1</td>\n",
       "      <td>0</td>\n",
       "      <td>0</td>\n",
       "      <td>0</td>\n",
       "      <td>0</td>\n",
       "      <td>1</td>\n",
       "      <td>1</td>\n",
       "      <td>1</td>\n",
       "      <td>1</td>\n",
       "      <td>10</td>\n",
       "      <td>NaN</td>\n",
       "      <td>1</td>\n",
       "      <td>1</td>\n",
       "      <td>0</td>\n",
       "      <td>0</td>\n",
       "      <td>0</td>\n",
       "      <td>0</td>\n",
       "      <td>0</td>\n",
       "      <td>0</td>\n",
       "      <td>0</td>\n",
       "      <td>1</td>\n",
       "      <td>0</td>\n",
       "      <td>0</td>\n",
       "      <td>0</td>\n",
       "      <td>0</td>\n",
       "      <td>0</td>\n",
       "      <td>0</td>\n",
       "      <td>1</td>\n",
       "      <td>0</td>\n",
       "      <td>...</td>\n",
       "      <td>10.0</td>\n",
       "      <td>0</td>\n",
       "      <td>0</td>\n",
       "      <td>0</td>\n",
       "      <td>1</td>\n",
       "      <td>0</td>\n",
       "      <td>0</td>\n",
       "      <td>0</td>\n",
       "      <td>0</td>\n",
       "      <td>0</td>\n",
       "      <td>1</td>\n",
       "      <td>1.000000</td>\n",
       "      <td>0</td>\n",
       "      <td>0</td>\n",
       "      <td>1</td>\n",
       "      <td>0</td>\n",
       "      <td>0</td>\n",
       "      <td>0</td>\n",
       "      <td>0</td>\n",
       "      <td>1</td>\n",
       "      <td>1</td>\n",
       "      <td>1</td>\n",
       "      <td>0</td>\n",
       "      <td>0</td>\n",
       "      <td>0</td>\n",
       "      <td>0</td>\n",
       "      <td>0</td>\n",
       "      <td>1</td>\n",
       "      <td>0</td>\n",
       "      <td>43</td>\n",
       "      <td>100</td>\n",
       "      <td>1849</td>\n",
       "      <td>1</td>\n",
       "      <td>100</td>\n",
       "      <td>0</td>\n",
       "      <td>1.000000</td>\n",
       "      <td>0.0</td>\n",
       "      <td>100.0</td>\n",
       "      <td>1849</td>\n",
       "      <td>4</td>\n",
       "    </tr>\n",
       "    <tr>\n",
       "      <th>1</th>\n",
       "      <td>ID_f29eb3ddd</td>\n",
       "      <td>135000.0</td>\n",
       "      <td>0</td>\n",
       "      <td>4</td>\n",
       "      <td>0</td>\n",
       "      <td>1</td>\n",
       "      <td>1</td>\n",
       "      <td>1</td>\n",
       "      <td>1.0</td>\n",
       "      <td>0</td>\n",
       "      <td>1</td>\n",
       "      <td>1</td>\n",
       "      <td>0</td>\n",
       "      <td>0</td>\n",
       "      <td>0</td>\n",
       "      <td>0</td>\n",
       "      <td>1</td>\n",
       "      <td>1</td>\n",
       "      <td>1</td>\n",
       "      <td>1</td>\n",
       "      <td>12</td>\n",
       "      <td>NaN</td>\n",
       "      <td>1</td>\n",
       "      <td>0</td>\n",
       "      <td>0</td>\n",
       "      <td>0</td>\n",
       "      <td>0</td>\n",
       "      <td>1</td>\n",
       "      <td>0</td>\n",
       "      <td>0</td>\n",
       "      <td>0</td>\n",
       "      <td>0</td>\n",
       "      <td>0</td>\n",
       "      <td>0</td>\n",
       "      <td>0</td>\n",
       "      <td>0</td>\n",
       "      <td>1</td>\n",
       "      <td>1</td>\n",
       "      <td>0</td>\n",
       "      <td>0</td>\n",
       "      <td>...</td>\n",
       "      <td>12.0</td>\n",
       "      <td>0</td>\n",
       "      <td>0</td>\n",
       "      <td>0</td>\n",
       "      <td>0</td>\n",
       "      <td>0</td>\n",
       "      <td>0</td>\n",
       "      <td>0</td>\n",
       "      <td>1</td>\n",
       "      <td>0</td>\n",
       "      <td>1</td>\n",
       "      <td>1.000000</td>\n",
       "      <td>0</td>\n",
       "      <td>0</td>\n",
       "      <td>1</td>\n",
       "      <td>0</td>\n",
       "      <td>0</td>\n",
       "      <td>0</td>\n",
       "      <td>0</td>\n",
       "      <td>1</td>\n",
       "      <td>1</td>\n",
       "      <td>1</td>\n",
       "      <td>0</td>\n",
       "      <td>0</td>\n",
       "      <td>0</td>\n",
       "      <td>0</td>\n",
       "      <td>0</td>\n",
       "      <td>1</td>\n",
       "      <td>0</td>\n",
       "      <td>67</td>\n",
       "      <td>144</td>\n",
       "      <td>4489</td>\n",
       "      <td>1</td>\n",
       "      <td>144</td>\n",
       "      <td>0</td>\n",
       "      <td>1.000000</td>\n",
       "      <td>64.0</td>\n",
       "      <td>144.0</td>\n",
       "      <td>4489</td>\n",
       "      <td>4</td>\n",
       "    </tr>\n",
       "    <tr>\n",
       "      <th>2</th>\n",
       "      <td>ID_68de51c94</td>\n",
       "      <td>NaN</td>\n",
       "      <td>0</td>\n",
       "      <td>8</td>\n",
       "      <td>0</td>\n",
       "      <td>1</td>\n",
       "      <td>1</td>\n",
       "      <td>0</td>\n",
       "      <td>NaN</td>\n",
       "      <td>0</td>\n",
       "      <td>0</td>\n",
       "      <td>0</td>\n",
       "      <td>0</td>\n",
       "      <td>1</td>\n",
       "      <td>1</td>\n",
       "      <td>0</td>\n",
       "      <td>1</td>\n",
       "      <td>1</td>\n",
       "      <td>1</td>\n",
       "      <td>1</td>\n",
       "      <td>11</td>\n",
       "      <td>NaN</td>\n",
       "      <td>1</td>\n",
       "      <td>0</td>\n",
       "      <td>0</td>\n",
       "      <td>0</td>\n",
       "      <td>0</td>\n",
       "      <td>1</td>\n",
       "      <td>0</td>\n",
       "      <td>0</td>\n",
       "      <td>0</td>\n",
       "      <td>1</td>\n",
       "      <td>0</td>\n",
       "      <td>0</td>\n",
       "      <td>0</td>\n",
       "      <td>0</td>\n",
       "      <td>0</td>\n",
       "      <td>1</td>\n",
       "      <td>0</td>\n",
       "      <td>0</td>\n",
       "      <td>...</td>\n",
       "      <td>11.0</td>\n",
       "      <td>0</td>\n",
       "      <td>0</td>\n",
       "      <td>0</td>\n",
       "      <td>0</td>\n",
       "      <td>1</td>\n",
       "      <td>0</td>\n",
       "      <td>0</td>\n",
       "      <td>0</td>\n",
       "      <td>0</td>\n",
       "      <td>2</td>\n",
       "      <td>0.500000</td>\n",
       "      <td>1</td>\n",
       "      <td>0</td>\n",
       "      <td>0</td>\n",
       "      <td>0</td>\n",
       "      <td>0</td>\n",
       "      <td>0</td>\n",
       "      <td>0</td>\n",
       "      <td>0</td>\n",
       "      <td>0</td>\n",
       "      <td>1</td>\n",
       "      <td>0</td>\n",
       "      <td>0</td>\n",
       "      <td>0</td>\n",
       "      <td>0</td>\n",
       "      <td>0</td>\n",
       "      <td>1</td>\n",
       "      <td>0</td>\n",
       "      <td>92</td>\n",
       "      <td>121</td>\n",
       "      <td>8464</td>\n",
       "      <td>1</td>\n",
       "      <td>0</td>\n",
       "      <td>0</td>\n",
       "      <td>0.250000</td>\n",
       "      <td>64.0</td>\n",
       "      <td>121.0</td>\n",
       "      <td>8464</td>\n",
       "      <td>4</td>\n",
       "    </tr>\n",
       "    <tr>\n",
       "      <th>3</th>\n",
       "      <td>ID_d671db89c</td>\n",
       "      <td>180000.0</td>\n",
       "      <td>0</td>\n",
       "      <td>5</td>\n",
       "      <td>0</td>\n",
       "      <td>1</td>\n",
       "      <td>1</td>\n",
       "      <td>1</td>\n",
       "      <td>1.0</td>\n",
       "      <td>0</td>\n",
       "      <td>2</td>\n",
       "      <td>2</td>\n",
       "      <td>1</td>\n",
       "      <td>1</td>\n",
       "      <td>2</td>\n",
       "      <td>1</td>\n",
       "      <td>3</td>\n",
       "      <td>4</td>\n",
       "      <td>4</td>\n",
       "      <td>4</td>\n",
       "      <td>9</td>\n",
       "      <td>1.0</td>\n",
       "      <td>4</td>\n",
       "      <td>1</td>\n",
       "      <td>0</td>\n",
       "      <td>0</td>\n",
       "      <td>0</td>\n",
       "      <td>0</td>\n",
       "      <td>0</td>\n",
       "      <td>0</td>\n",
       "      <td>0</td>\n",
       "      <td>1</td>\n",
       "      <td>0</td>\n",
       "      <td>0</td>\n",
       "      <td>0</td>\n",
       "      <td>0</td>\n",
       "      <td>0</td>\n",
       "      <td>1</td>\n",
       "      <td>0</td>\n",
       "      <td>0</td>\n",
       "      <td>...</td>\n",
       "      <td>11.0</td>\n",
       "      <td>0</td>\n",
       "      <td>0</td>\n",
       "      <td>0</td>\n",
       "      <td>1</td>\n",
       "      <td>0</td>\n",
       "      <td>0</td>\n",
       "      <td>0</td>\n",
       "      <td>0</td>\n",
       "      <td>0</td>\n",
       "      <td>3</td>\n",
       "      <td>1.333333</td>\n",
       "      <td>0</td>\n",
       "      <td>0</td>\n",
       "      <td>1</td>\n",
       "      <td>0</td>\n",
       "      <td>0</td>\n",
       "      <td>0</td>\n",
       "      <td>0</td>\n",
       "      <td>1</td>\n",
       "      <td>3</td>\n",
       "      <td>1</td>\n",
       "      <td>0</td>\n",
       "      <td>0</td>\n",
       "      <td>0</td>\n",
       "      <td>0</td>\n",
       "      <td>0</td>\n",
       "      <td>1</td>\n",
       "      <td>0</td>\n",
       "      <td>17</td>\n",
       "      <td>81</td>\n",
       "      <td>289</td>\n",
       "      <td>16</td>\n",
       "      <td>121</td>\n",
       "      <td>4</td>\n",
       "      <td>1.777778</td>\n",
       "      <td>1.0</td>\n",
       "      <td>121.0</td>\n",
       "      <td>289</td>\n",
       "      <td>4</td>\n",
       "    </tr>\n",
       "    <tr>\n",
       "      <th>4</th>\n",
       "      <td>ID_d56d6f5f5</td>\n",
       "      <td>180000.0</td>\n",
       "      <td>0</td>\n",
       "      <td>5</td>\n",
       "      <td>0</td>\n",
       "      <td>1</td>\n",
       "      <td>1</td>\n",
       "      <td>1</td>\n",
       "      <td>1.0</td>\n",
       "      <td>0</td>\n",
       "      <td>2</td>\n",
       "      <td>2</td>\n",
       "      <td>1</td>\n",
       "      <td>1</td>\n",
       "      <td>2</td>\n",
       "      <td>1</td>\n",
       "      <td>3</td>\n",
       "      <td>4</td>\n",
       "      <td>4</td>\n",
       "      <td>4</td>\n",
       "      <td>11</td>\n",
       "      <td>NaN</td>\n",
       "      <td>4</td>\n",
       "      <td>1</td>\n",
       "      <td>0</td>\n",
       "      <td>0</td>\n",
       "      <td>0</td>\n",
       "      <td>0</td>\n",
       "      <td>0</td>\n",
       "      <td>0</td>\n",
       "      <td>0</td>\n",
       "      <td>1</td>\n",
       "      <td>0</td>\n",
       "      <td>0</td>\n",
       "      <td>0</td>\n",
       "      <td>0</td>\n",
       "      <td>0</td>\n",
       "      <td>1</td>\n",
       "      <td>0</td>\n",
       "      <td>0</td>\n",
       "      <td>...</td>\n",
       "      <td>11.0</td>\n",
       "      <td>0</td>\n",
       "      <td>0</td>\n",
       "      <td>0</td>\n",
       "      <td>0</td>\n",
       "      <td>1</td>\n",
       "      <td>0</td>\n",
       "      <td>0</td>\n",
       "      <td>0</td>\n",
       "      <td>0</td>\n",
       "      <td>3</td>\n",
       "      <td>1.333333</td>\n",
       "      <td>0</td>\n",
       "      <td>0</td>\n",
       "      <td>1</td>\n",
       "      <td>0</td>\n",
       "      <td>0</td>\n",
       "      <td>0</td>\n",
       "      <td>0</td>\n",
       "      <td>1</td>\n",
       "      <td>3</td>\n",
       "      <td>1</td>\n",
       "      <td>0</td>\n",
       "      <td>0</td>\n",
       "      <td>0</td>\n",
       "      <td>0</td>\n",
       "      <td>0</td>\n",
       "      <td>1</td>\n",
       "      <td>0</td>\n",
       "      <td>37</td>\n",
       "      <td>121</td>\n",
       "      <td>1369</td>\n",
       "      <td>16</td>\n",
       "      <td>121</td>\n",
       "      <td>4</td>\n",
       "      <td>1.777778</td>\n",
       "      <td>1.0</td>\n",
       "      <td>121.0</td>\n",
       "      <td>1369</td>\n",
       "      <td>4</td>\n",
       "    </tr>\n",
       "  </tbody>\n",
       "</table>\n",
       "<p>5 rows × 143 columns</p>\n",
       "</div>"
      ],
      "text/plain": [
       "             Id      v2a1  hacdor  ...  SQBmeaned  agesq  Target\n",
       "0  ID_279628684  190000.0       0  ...      100.0   1849       4\n",
       "1  ID_f29eb3ddd  135000.0       0  ...      144.0   4489       4\n",
       "2  ID_68de51c94       NaN       0  ...      121.0   8464       4\n",
       "3  ID_d671db89c  180000.0       0  ...      121.0    289       4\n",
       "4  ID_d56d6f5f5  180000.0       0  ...      121.0   1369       4\n",
       "\n",
       "[5 rows x 143 columns]"
      ]
     },
     "execution_count": 12,
     "metadata": {
      "tags": []
     },
     "output_type": "execute_result"
    }
   ],
   "source": [
    "df_train.head()"
   ]
  },
  {
   "cell_type": "code",
   "execution_count": 13,
   "metadata": {
    "ExecuteTime": {
     "end_time": "2020-09-15T09:30:09.591412Z",
     "start_time": "2020-09-15T09:30:09.562385Z"
    },
    "colab": {
     "base_uri": "https://localhost:8080/",
     "height": 253
    },
    "colab_type": "code",
    "executionInfo": {
     "elapsed": 5089,
     "status": "ok",
     "timestamp": 1600401255397,
     "user": {
      "displayName": "김한빛",
      "photoUrl": "",
      "userId": "16905169175399423651"
     },
     "user_tz": -540
    },
    "id": "UDsH-D9kRpdP",
    "outputId": "a54ff4a2-7388-46c4-94db-29792a7111fa"
   },
   "outputs": [
    {
     "data": {
      "text/html": [
       "<div>\n",
       "<style scoped>\n",
       "    .dataframe tbody tr th:only-of-type {\n",
       "        vertical-align: middle;\n",
       "    }\n",
       "\n",
       "    .dataframe tbody tr th {\n",
       "        vertical-align: top;\n",
       "    }\n",
       "\n",
       "    .dataframe thead th {\n",
       "        text-align: right;\n",
       "    }\n",
       "</style>\n",
       "<table border=\"1\" class=\"dataframe\">\n",
       "  <thead>\n",
       "    <tr style=\"text-align: right;\">\n",
       "      <th></th>\n",
       "      <th>Id</th>\n",
       "      <th>v2a1</th>\n",
       "      <th>hacdor</th>\n",
       "      <th>rooms</th>\n",
       "      <th>hacapo</th>\n",
       "      <th>v14a</th>\n",
       "      <th>refrig</th>\n",
       "      <th>v18q</th>\n",
       "      <th>v18q1</th>\n",
       "      <th>r4h1</th>\n",
       "      <th>r4h2</th>\n",
       "      <th>r4h3</th>\n",
       "      <th>r4m1</th>\n",
       "      <th>r4m2</th>\n",
       "      <th>r4m3</th>\n",
       "      <th>r4t1</th>\n",
       "      <th>r4t2</th>\n",
       "      <th>r4t3</th>\n",
       "      <th>tamhog</th>\n",
       "      <th>tamviv</th>\n",
       "      <th>escolari</th>\n",
       "      <th>rez_esc</th>\n",
       "      <th>hhsize</th>\n",
       "      <th>paredblolad</th>\n",
       "      <th>paredzocalo</th>\n",
       "      <th>paredpreb</th>\n",
       "      <th>pareddes</th>\n",
       "      <th>paredmad</th>\n",
       "      <th>paredzinc</th>\n",
       "      <th>paredfibras</th>\n",
       "      <th>paredother</th>\n",
       "      <th>pisomoscer</th>\n",
       "      <th>pisocemento</th>\n",
       "      <th>pisoother</th>\n",
       "      <th>pisonatur</th>\n",
       "      <th>pisonotiene</th>\n",
       "      <th>pisomadera</th>\n",
       "      <th>techozinc</th>\n",
       "      <th>techoentrepiso</th>\n",
       "      <th>techocane</th>\n",
       "      <th>...</th>\n",
       "      <th>edjefa</th>\n",
       "      <th>meaneduc</th>\n",
       "      <th>instlevel1</th>\n",
       "      <th>instlevel2</th>\n",
       "      <th>instlevel3</th>\n",
       "      <th>instlevel4</th>\n",
       "      <th>instlevel5</th>\n",
       "      <th>instlevel6</th>\n",
       "      <th>instlevel7</th>\n",
       "      <th>instlevel8</th>\n",
       "      <th>instlevel9</th>\n",
       "      <th>bedrooms</th>\n",
       "      <th>overcrowding</th>\n",
       "      <th>tipovivi1</th>\n",
       "      <th>tipovivi2</th>\n",
       "      <th>tipovivi3</th>\n",
       "      <th>tipovivi4</th>\n",
       "      <th>tipovivi5</th>\n",
       "      <th>computer</th>\n",
       "      <th>television</th>\n",
       "      <th>mobilephone</th>\n",
       "      <th>qmobilephone</th>\n",
       "      <th>lugar1</th>\n",
       "      <th>lugar2</th>\n",
       "      <th>lugar3</th>\n",
       "      <th>lugar4</th>\n",
       "      <th>lugar5</th>\n",
       "      <th>lugar6</th>\n",
       "      <th>area1</th>\n",
       "      <th>area2</th>\n",
       "      <th>age</th>\n",
       "      <th>SQBescolari</th>\n",
       "      <th>SQBage</th>\n",
       "      <th>SQBhogar_total</th>\n",
       "      <th>SQBedjefe</th>\n",
       "      <th>SQBhogar_nin</th>\n",
       "      <th>SQBovercrowding</th>\n",
       "      <th>SQBdependency</th>\n",
       "      <th>SQBmeaned</th>\n",
       "      <th>agesq</th>\n",
       "    </tr>\n",
       "  </thead>\n",
       "  <tbody>\n",
       "    <tr>\n",
       "      <th>0</th>\n",
       "      <td>ID_2f6873615</td>\n",
       "      <td>NaN</td>\n",
       "      <td>0</td>\n",
       "      <td>5</td>\n",
       "      <td>0</td>\n",
       "      <td>1</td>\n",
       "      <td>1</td>\n",
       "      <td>0</td>\n",
       "      <td>NaN</td>\n",
       "      <td>1</td>\n",
       "      <td>1</td>\n",
       "      <td>2</td>\n",
       "      <td>0</td>\n",
       "      <td>1</td>\n",
       "      <td>1</td>\n",
       "      <td>1</td>\n",
       "      <td>2</td>\n",
       "      <td>3</td>\n",
       "      <td>3</td>\n",
       "      <td>3</td>\n",
       "      <td>0</td>\n",
       "      <td>NaN</td>\n",
       "      <td>3</td>\n",
       "      <td>1</td>\n",
       "      <td>0</td>\n",
       "      <td>0</td>\n",
       "      <td>0</td>\n",
       "      <td>0</td>\n",
       "      <td>0</td>\n",
       "      <td>0</td>\n",
       "      <td>0</td>\n",
       "      <td>1</td>\n",
       "      <td>0</td>\n",
       "      <td>0</td>\n",
       "      <td>0</td>\n",
       "      <td>0</td>\n",
       "      <td>0</td>\n",
       "      <td>1</td>\n",
       "      <td>0</td>\n",
       "      <td>0</td>\n",
       "      <td>...</td>\n",
       "      <td>17</td>\n",
       "      <td>16.5</td>\n",
       "      <td>1</td>\n",
       "      <td>0</td>\n",
       "      <td>0</td>\n",
       "      <td>0</td>\n",
       "      <td>0</td>\n",
       "      <td>0</td>\n",
       "      <td>0</td>\n",
       "      <td>0</td>\n",
       "      <td>0</td>\n",
       "      <td>2</td>\n",
       "      <td>1.5</td>\n",
       "      <td>1</td>\n",
       "      <td>0</td>\n",
       "      <td>0</td>\n",
       "      <td>0</td>\n",
       "      <td>0</td>\n",
       "      <td>1</td>\n",
       "      <td>0</td>\n",
       "      <td>1</td>\n",
       "      <td>2</td>\n",
       "      <td>1</td>\n",
       "      <td>0</td>\n",
       "      <td>0</td>\n",
       "      <td>0</td>\n",
       "      <td>0</td>\n",
       "      <td>0</td>\n",
       "      <td>1</td>\n",
       "      <td>0</td>\n",
       "      <td>4</td>\n",
       "      <td>0</td>\n",
       "      <td>16</td>\n",
       "      <td>9</td>\n",
       "      <td>0</td>\n",
       "      <td>1</td>\n",
       "      <td>2.25</td>\n",
       "      <td>0.25</td>\n",
       "      <td>272.25</td>\n",
       "      <td>16</td>\n",
       "    </tr>\n",
       "    <tr>\n",
       "      <th>1</th>\n",
       "      <td>ID_1c78846d2</td>\n",
       "      <td>NaN</td>\n",
       "      <td>0</td>\n",
       "      <td>5</td>\n",
       "      <td>0</td>\n",
       "      <td>1</td>\n",
       "      <td>1</td>\n",
       "      <td>0</td>\n",
       "      <td>NaN</td>\n",
       "      <td>1</td>\n",
       "      <td>1</td>\n",
       "      <td>2</td>\n",
       "      <td>0</td>\n",
       "      <td>1</td>\n",
       "      <td>1</td>\n",
       "      <td>1</td>\n",
       "      <td>2</td>\n",
       "      <td>3</td>\n",
       "      <td>3</td>\n",
       "      <td>3</td>\n",
       "      <td>16</td>\n",
       "      <td>NaN</td>\n",
       "      <td>3</td>\n",
       "      <td>1</td>\n",
       "      <td>0</td>\n",
       "      <td>0</td>\n",
       "      <td>0</td>\n",
       "      <td>0</td>\n",
       "      <td>0</td>\n",
       "      <td>0</td>\n",
       "      <td>0</td>\n",
       "      <td>1</td>\n",
       "      <td>0</td>\n",
       "      <td>0</td>\n",
       "      <td>0</td>\n",
       "      <td>0</td>\n",
       "      <td>0</td>\n",
       "      <td>1</td>\n",
       "      <td>0</td>\n",
       "      <td>0</td>\n",
       "      <td>...</td>\n",
       "      <td>17</td>\n",
       "      <td>16.5</td>\n",
       "      <td>0</td>\n",
       "      <td>0</td>\n",
       "      <td>0</td>\n",
       "      <td>0</td>\n",
       "      <td>0</td>\n",
       "      <td>0</td>\n",
       "      <td>0</td>\n",
       "      <td>1</td>\n",
       "      <td>0</td>\n",
       "      <td>2</td>\n",
       "      <td>1.5</td>\n",
       "      <td>1</td>\n",
       "      <td>0</td>\n",
       "      <td>0</td>\n",
       "      <td>0</td>\n",
       "      <td>0</td>\n",
       "      <td>1</td>\n",
       "      <td>0</td>\n",
       "      <td>1</td>\n",
       "      <td>2</td>\n",
       "      <td>1</td>\n",
       "      <td>0</td>\n",
       "      <td>0</td>\n",
       "      <td>0</td>\n",
       "      <td>0</td>\n",
       "      <td>0</td>\n",
       "      <td>1</td>\n",
       "      <td>0</td>\n",
       "      <td>41</td>\n",
       "      <td>256</td>\n",
       "      <td>1681</td>\n",
       "      <td>9</td>\n",
       "      <td>0</td>\n",
       "      <td>1</td>\n",
       "      <td>2.25</td>\n",
       "      <td>0.25</td>\n",
       "      <td>272.25</td>\n",
       "      <td>1681</td>\n",
       "    </tr>\n",
       "    <tr>\n",
       "      <th>2</th>\n",
       "      <td>ID_e5442cf6a</td>\n",
       "      <td>NaN</td>\n",
       "      <td>0</td>\n",
       "      <td>5</td>\n",
       "      <td>0</td>\n",
       "      <td>1</td>\n",
       "      <td>1</td>\n",
       "      <td>0</td>\n",
       "      <td>NaN</td>\n",
       "      <td>1</td>\n",
       "      <td>1</td>\n",
       "      <td>2</td>\n",
       "      <td>0</td>\n",
       "      <td>1</td>\n",
       "      <td>1</td>\n",
       "      <td>1</td>\n",
       "      <td>2</td>\n",
       "      <td>3</td>\n",
       "      <td>3</td>\n",
       "      <td>3</td>\n",
       "      <td>17</td>\n",
       "      <td>NaN</td>\n",
       "      <td>3</td>\n",
       "      <td>1</td>\n",
       "      <td>0</td>\n",
       "      <td>0</td>\n",
       "      <td>0</td>\n",
       "      <td>0</td>\n",
       "      <td>0</td>\n",
       "      <td>0</td>\n",
       "      <td>0</td>\n",
       "      <td>1</td>\n",
       "      <td>0</td>\n",
       "      <td>0</td>\n",
       "      <td>0</td>\n",
       "      <td>0</td>\n",
       "      <td>0</td>\n",
       "      <td>1</td>\n",
       "      <td>0</td>\n",
       "      <td>0</td>\n",
       "      <td>...</td>\n",
       "      <td>17</td>\n",
       "      <td>16.5</td>\n",
       "      <td>0</td>\n",
       "      <td>0</td>\n",
       "      <td>0</td>\n",
       "      <td>0</td>\n",
       "      <td>0</td>\n",
       "      <td>0</td>\n",
       "      <td>0</td>\n",
       "      <td>0</td>\n",
       "      <td>1</td>\n",
       "      <td>2</td>\n",
       "      <td>1.5</td>\n",
       "      <td>1</td>\n",
       "      <td>0</td>\n",
       "      <td>0</td>\n",
       "      <td>0</td>\n",
       "      <td>0</td>\n",
       "      <td>1</td>\n",
       "      <td>0</td>\n",
       "      <td>1</td>\n",
       "      <td>2</td>\n",
       "      <td>1</td>\n",
       "      <td>0</td>\n",
       "      <td>0</td>\n",
       "      <td>0</td>\n",
       "      <td>0</td>\n",
       "      <td>0</td>\n",
       "      <td>1</td>\n",
       "      <td>0</td>\n",
       "      <td>41</td>\n",
       "      <td>289</td>\n",
       "      <td>1681</td>\n",
       "      <td>9</td>\n",
       "      <td>0</td>\n",
       "      <td>1</td>\n",
       "      <td>2.25</td>\n",
       "      <td>0.25</td>\n",
       "      <td>272.25</td>\n",
       "      <td>1681</td>\n",
       "    </tr>\n",
       "    <tr>\n",
       "      <th>3</th>\n",
       "      <td>ID_a8db26a79</td>\n",
       "      <td>NaN</td>\n",
       "      <td>0</td>\n",
       "      <td>14</td>\n",
       "      <td>0</td>\n",
       "      <td>1</td>\n",
       "      <td>1</td>\n",
       "      <td>1</td>\n",
       "      <td>1.0</td>\n",
       "      <td>0</td>\n",
       "      <td>1</td>\n",
       "      <td>1</td>\n",
       "      <td>0</td>\n",
       "      <td>0</td>\n",
       "      <td>0</td>\n",
       "      <td>0</td>\n",
       "      <td>1</td>\n",
       "      <td>1</td>\n",
       "      <td>1</td>\n",
       "      <td>1</td>\n",
       "      <td>16</td>\n",
       "      <td>NaN</td>\n",
       "      <td>1</td>\n",
       "      <td>1</td>\n",
       "      <td>0</td>\n",
       "      <td>0</td>\n",
       "      <td>0</td>\n",
       "      <td>0</td>\n",
       "      <td>0</td>\n",
       "      <td>0</td>\n",
       "      <td>0</td>\n",
       "      <td>1</td>\n",
       "      <td>0</td>\n",
       "      <td>0</td>\n",
       "      <td>0</td>\n",
       "      <td>0</td>\n",
       "      <td>0</td>\n",
       "      <td>1</td>\n",
       "      <td>0</td>\n",
       "      <td>0</td>\n",
       "      <td>...</td>\n",
       "      <td>no</td>\n",
       "      <td>16.0</td>\n",
       "      <td>0</td>\n",
       "      <td>0</td>\n",
       "      <td>0</td>\n",
       "      <td>0</td>\n",
       "      <td>0</td>\n",
       "      <td>0</td>\n",
       "      <td>0</td>\n",
       "      <td>1</td>\n",
       "      <td>0</td>\n",
       "      <td>1</td>\n",
       "      <td>1.0</td>\n",
       "      <td>1</td>\n",
       "      <td>0</td>\n",
       "      <td>0</td>\n",
       "      <td>0</td>\n",
       "      <td>0</td>\n",
       "      <td>1</td>\n",
       "      <td>0</td>\n",
       "      <td>1</td>\n",
       "      <td>2</td>\n",
       "      <td>1</td>\n",
       "      <td>0</td>\n",
       "      <td>0</td>\n",
       "      <td>0</td>\n",
       "      <td>0</td>\n",
       "      <td>0</td>\n",
       "      <td>1</td>\n",
       "      <td>0</td>\n",
       "      <td>59</td>\n",
       "      <td>256</td>\n",
       "      <td>3481</td>\n",
       "      <td>1</td>\n",
       "      <td>256</td>\n",
       "      <td>0</td>\n",
       "      <td>1.00</td>\n",
       "      <td>0.00</td>\n",
       "      <td>256.00</td>\n",
       "      <td>3481</td>\n",
       "    </tr>\n",
       "    <tr>\n",
       "      <th>4</th>\n",
       "      <td>ID_a62966799</td>\n",
       "      <td>175000.0</td>\n",
       "      <td>0</td>\n",
       "      <td>4</td>\n",
       "      <td>0</td>\n",
       "      <td>1</td>\n",
       "      <td>1</td>\n",
       "      <td>1</td>\n",
       "      <td>1.0</td>\n",
       "      <td>0</td>\n",
       "      <td>0</td>\n",
       "      <td>0</td>\n",
       "      <td>0</td>\n",
       "      <td>1</td>\n",
       "      <td>1</td>\n",
       "      <td>0</td>\n",
       "      <td>1</td>\n",
       "      <td>1</td>\n",
       "      <td>1</td>\n",
       "      <td>1</td>\n",
       "      <td>11</td>\n",
       "      <td>NaN</td>\n",
       "      <td>1</td>\n",
       "      <td>1</td>\n",
       "      <td>0</td>\n",
       "      <td>0</td>\n",
       "      <td>0</td>\n",
       "      <td>0</td>\n",
       "      <td>0</td>\n",
       "      <td>0</td>\n",
       "      <td>0</td>\n",
       "      <td>1</td>\n",
       "      <td>0</td>\n",
       "      <td>0</td>\n",
       "      <td>0</td>\n",
       "      <td>0</td>\n",
       "      <td>0</td>\n",
       "      <td>1</td>\n",
       "      <td>0</td>\n",
       "      <td>0</td>\n",
       "      <td>...</td>\n",
       "      <td>11</td>\n",
       "      <td>NaN</td>\n",
       "      <td>0</td>\n",
       "      <td>0</td>\n",
       "      <td>0</td>\n",
       "      <td>0</td>\n",
       "      <td>1</td>\n",
       "      <td>0</td>\n",
       "      <td>0</td>\n",
       "      <td>0</td>\n",
       "      <td>0</td>\n",
       "      <td>2</td>\n",
       "      <td>0.5</td>\n",
       "      <td>0</td>\n",
       "      <td>0</td>\n",
       "      <td>1</td>\n",
       "      <td>0</td>\n",
       "      <td>0</td>\n",
       "      <td>0</td>\n",
       "      <td>0</td>\n",
       "      <td>1</td>\n",
       "      <td>1</td>\n",
       "      <td>1</td>\n",
       "      <td>0</td>\n",
       "      <td>0</td>\n",
       "      <td>0</td>\n",
       "      <td>0</td>\n",
       "      <td>0</td>\n",
       "      <td>1</td>\n",
       "      <td>0</td>\n",
       "      <td>18</td>\n",
       "      <td>121</td>\n",
       "      <td>324</td>\n",
       "      <td>1</td>\n",
       "      <td>0</td>\n",
       "      <td>1</td>\n",
       "      <td>0.25</td>\n",
       "      <td>64.00</td>\n",
       "      <td>NaN</td>\n",
       "      <td>324</td>\n",
       "    </tr>\n",
       "  </tbody>\n",
       "</table>\n",
       "<p>5 rows × 142 columns</p>\n",
       "</div>"
      ],
      "text/plain": [
       "             Id      v2a1  hacdor  ...  SQBdependency  SQBmeaned  agesq\n",
       "0  ID_2f6873615       NaN       0  ...           0.25     272.25     16\n",
       "1  ID_1c78846d2       NaN       0  ...           0.25     272.25   1681\n",
       "2  ID_e5442cf6a       NaN       0  ...           0.25     272.25   1681\n",
       "3  ID_a8db26a79       NaN       0  ...           0.00     256.00   3481\n",
       "4  ID_a62966799  175000.0       0  ...          64.00        NaN    324\n",
       "\n",
       "[5 rows x 142 columns]"
      ]
     },
     "execution_count": 13,
     "metadata": {
      "tags": []
     },
     "output_type": "execute_result"
    }
   ],
   "source": [
    "df_test.head()"
   ]
  },
  {
   "cell_type": "markdown",
   "metadata": {
    "ExecuteTime": {
     "end_time": "2020-09-07T15:28:04.710170Z",
     "start_time": "2020-09-07T15:28:04.707381Z"
    },
    "colab_type": "text",
    "id": "aGK0_02QRpdR"
   },
   "source": [
    "## 1.2 Make description df"
   ]
  },
  {
   "cell_type": "code",
   "execution_count": 14,
   "metadata": {
    "ExecuteTime": {
     "end_time": "2020-09-15T09:30:09.621384Z",
     "start_time": "2020-09-15T09:30:09.594388Z"
    },
    "colab": {},
    "colab_type": "code",
    "executionInfo": {
     "elapsed": 5569,
     "status": "ok",
     "timestamp": 1600401255890,
     "user": {
      "displayName": "김한빛",
      "photoUrl": "",
      "userId": "16905169175399423651"
     },
     "user_tz": -540
    },
    "id": "EefZpPzPRpdS"
   },
   "outputs": [],
   "source": [
    "description = [\n",
    "(\"v2a1\",\" Monthly rent payment\"),\n",
    "(\"hacdor\",\" =1 Overcrowding by bedrooms\"),\n",
    "(\"rooms\",\"  number of all rooms in the house\"),\n",
    "(\"hacapo\",\" =1 Overcrowding by rooms\"),\n",
    "(\"v14a\",\" =1 has toilet in the household\"),\n",
    "(\"refrig\",\" =1 if the household has refrigerator\"),\n",
    "(\"v18q\",\" owns a tablet\"),\n",
    "(\"v18q1\",\" number of tablets household owns\"),\n",
    "(\"r4h1\",\" Males younger than 12 years of age\"),\n",
    "(\"r4h2\",\" Males 12 years of age and older\"),\n",
    "(\"r4h3\",\" Total males in the household\"),\n",
    "(\"r4m1\",\" Females younger than 12 years of age\"),\n",
    "(\"r4m2\",\" Females 12 years of age and older\"),\n",
    "(\"r4m3\",\" Total females in the household\"),\n",
    "(\"r4t1\",\" persons younger than 12 years of age\"),\n",
    "(\"r4t2\",\" persons 12 years of age and older\"),\n",
    "(\"r4t3\",\" Total persons in the household\"),\n",
    "(\"tamhog\",\" size of the household\"),\n",
    "(\"tamviv\",\" number of persons living in the household\"),\n",
    "(\"escolari\",\" years of schooling\"),\n",
    "(\"rez_esc\",\" Years behind in school\"),\n",
    "(\"hhsize\",\" household size\"),\n",
    "(\"paredblolad\",\" =1 if predominant material on the outside wall is block or brick\"),\n",
    "(\"paredzocalo\",\" =1 if predominant material on the outside wall is socket (wood, zinc or absbesto\"),\n",
    "(\"paredpreb\",\" =1 if predominant material on the outside wall is prefabricated or cement\"),\n",
    "(\"pareddes\",\" =1 if predominant material on the outside wall is waste material\"),\n",
    "(\"paredmad\",\" =1 if predominant material on the outside wall is wood\"),\n",
    "(\"paredzinc\",\" =1 if predominant material on the outside wall is zink\"),\n",
    "(\"paredfibras\",\" =1 if predominant material on the outside wall is natural fibers\"),\n",
    "(\"paredother\",\" =1 if predominant material on the outside wall is other\"),\n",
    "(\"pisomoscer\",\" =1 if predominant material on the floor is mosaic ceramic   terrazo\"),\n",
    "(\"pisocemento\",\" =1 if predominant material on the floor is cement\"),\n",
    "(\"pisoother\",\" =1 if predominant material on the floor is other\"),\n",
    "(\"pisonatur\",\" =1 if predominant material on the floor is  natural material\"),\n",
    "(\"pisonotiene\",\" =1 if no floor at the household\"),\n",
    "(\"pisomadera\",\" =1 if predominant material on the floor is wood\"),\n",
    "(\"techozinc\",\" =1 if predominant material on the roof is metal foil or zink\"),\n",
    "(\"techoentrepiso\",\" =1 if predominant material on the roof is fiber cement,   mezzanine \"),\n",
    "(\"techocane\",\" =1 if predominant material on the roof is natural fibers\"),\n",
    "(\"techootro\",\" =1 if predominant material on the roof is other\"),\n",
    "(\"cielorazo\",\" =1 if the house has ceiling\"),\n",
    "(\"abastaguadentro\",\" =1 if water provision inside the dwelling\"),\n",
    "(\"abastaguafuera\",\" =1 if water provision outside the dwelling\"),\n",
    "(\"abastaguano\",\" =1 if no water provision\"),\n",
    "(\"public\",\" =1 electricity from CNFL,  ICE, ESPH/JASEC\"),\n",
    "(\"planpri\",\" =1 electricity from private plant\"),\n",
    "(\"noelec\",\" =1 no electricity in the dwelling\"),\n",
    "(\"coopele\",\" =1 electricity from cooperative\"),\n",
    "(\"sanitario1\",\" =1 no toilet in the dwelling\"),\n",
    "(\"sanitario2\",\" =1 toilet connected to sewer or cesspool\"),\n",
    "(\"sanitario3\",\" =1 toilet connected to  septic tank\"),\n",
    "(\"sanitario5\",\" =1 toilet connected to black hole or letrine\"),\n",
    "(\"sanitario6\",\" =1 toilet connected to other system\"),\n",
    "(\"energcocinar1\",\" =1 no main source of energy used for cooking (no kitchen)\"),\n",
    "(\"energcocinar2\",\" =1 main source of energy used for cooking electricity\"),\n",
    "(\"energcocinar3\",\" =1 main source of energy used for cooking gas\"),\n",
    "(\"energcocinar4\",\" =1 main source of energy used for cooking wood charcoal\"),\n",
    "(\"elimbasu1\",\" =1 if rubbish disposal mainly by tanker truck\"),\n",
    "(\"elimbasu2\",\" =1 if rubbish disposal mainly by botan hollow or buried\"),\n",
    "(\"elimbasu3\",\" =1 if rubbish disposal mainly by burning\"),\n",
    "(\"elimbasu4\",\" =1 if rubbish disposal mainly by throwing in an unoccupied space\"),\n",
    "(\"elimbasu5\",\" =1 if rubbish disposal mainly by throwing in river,   creek or sea\"),\n",
    "(\"elimbasu6\",\" =1 if rubbish disposal mainly other\"),\n",
    "(\"epared1\",\" =1 if walls are bad\"),\n",
    "(\"epared2\",\" =1 if walls are regular\"),\n",
    "(\"epared3\",\" =1 if walls are good\"),\n",
    "(\"etecho1\",\" =1 if roof are bad\"),\n",
    "(\"etecho2\",\" =1 if roof are regular\"),\n",
    "(\"etecho3\",\" =1 if roof are good\"),\n",
    "(\"eviv1\",\" =1 if floor are bad\"),\n",
    "(\"eviv2\",\" =1 if floor are regular\"),\n",
    "(\"eviv3\",\" =1 if floor are good\"),\n",
    "(\"dis\",\" =1 if disable person\"),\n",
    "(\"male\",\" =1 if male\"),\n",
    "(\"female\",\" =1 if female\"),\n",
    "(\"estadocivil1\",\" =1 if less than 10 years old\"),\n",
    "(\"estadocivil2\",\" =1 if free or coupled uunion\"),\n",
    "(\"estadocivil3\",\" =1 if married\"),\n",
    "(\"estadocivil4\",\" =1 if divorced\"),\n",
    "(\"estadocivil5\",\" =1 if separated\"),\n",
    "(\"estadocivil6\",\" =1 if widow/er\"),\n",
    "(\"estadocivil7\",\" =1 if single\"),\n",
    "(\"parentesco1\",\" =1 if household head\"),\n",
    "(\"parentesco2\",\" =1 if spouse/partner\"),\n",
    "(\"parentesco3\",\" =1 if son/doughter\"),\n",
    "(\"parentesco4\",\" =1 if stepson/doughter\"),\n",
    "(\"parentesco5\",\" =1 if son/doughter in law\"),\n",
    "(\"parentesco6\",\" =1 if grandson/doughter\"),\n",
    "(\"parentesco7\",\" =1 if mother/father\"),\n",
    "(\"parentesco8\",\" =1 if father/mother in law\"),\n",
    "(\"parentesco9\",\" =1 if brother/sister\"),\n",
    "(\"parentesco10\",\" =1 if brother/sister in law\"),\n",
    "(\"parentesco11\",\" =1 if other family member\"),\n",
    "(\"parentesco12\",\" =1 if other non family member\"),\n",
    "(\"idhogar\",\" Household level identifier\"),\n",
    "(\"hogar_nin\",\" Number of children 0 to 19 in household\"),\n",
    "(\"hogar_adul\",\" Number of adults in household\"),\n",
    "(\"hogar_mayor\",\" # of individuals 65+ in the household\"),\n",
    "(\"hogar_total\",\" # of total individuals in the household\"),\n",
    "(\"dependency\",\" Dependency rate\"),\n",
    "(\"edjefe\",\" years of education of male head of household\"),\n",
    "(\"edjefa\",\" years of education of female head of household\"),\n",
    "(\"meaneduc\",\"average years of education for adults (18+)\"),\n",
    "(\"instlevel1\",\" =1 no level of education\"),\n",
    "(\"instlevel2\",\" =1 incomplete primary\"),\n",
    "(\"instlevel3\",\" =1 complete primary\"),\n",
    "(\"instlevel4\",\" =1 incomplete academic secondary level\"),\n",
    "(\"instlevel5\",\" =1 complete academic secondary level\"),\n",
    "(\"instlevel6\",\" =1 incomplete technical secondary level\"),\n",
    "(\"instlevel7\",\" =1 complete technical secondary level\"),\n",
    "(\"instlevel8\",\" =1 undergraduate and higher education\"),\n",
    "(\"instlevel9\",\" =1 postgraduate higher education\"),\n",
    "(\"bedrooms\",\" number of bedrooms\"),\n",
    "(\"overcrowding\",\" # persons per room\"),\n",
    "(\"tipovivi1\",\" =1 own and fully paid house\"),\n",
    "(\"tipovivi2\",\" =1 own,   paying in installments\"),\n",
    "(\"tipovivi3\",\" =1 rented\"),\n",
    "(\"tipovivi4\",\" =1 precarious\"),\n",
    "(\"tipovivi5\",\" =1 other(assigned\"),\n",
    "(\"computer\",\" =1 if the household has notebook or desktop computer,   borrowed)\"),\n",
    "(\"television\",\" =1 if the household has TV\"),\n",
    "(\"mobilephone\",\" =1 if mobile phone\"),\n",
    "(\"qmobilephone\",\" # of mobile phones\"),\n",
    "(\"lugar1\",\" =1 region Central\"),\n",
    "(\"lugar2\",\" =1 region Chorotega\"),\n",
    "(\"lugar3\",\" =1 region PacÃƒÂ­fico central\"),\n",
    "(\"lugar4\",\" =1 region Brunca\"),\n",
    "(\"lugar5\",\" =1 region Huetar AtlÃƒÂ¡ntica\"),\n",
    "(\"lugar6\",\" =1 region Huetar Norte\"),\n",
    "(\"area1\",\" =1 zona urbana\"),\n",
    "(\"area2\",\" =2 zona rural\"),\n",
    "(\"age\",\" Age in years\"),\n",
    "(\"SQBescolari\",\" escolari squared\"),\n",
    "(\"SQBage\",\" age squared\"),\n",
    "(\"SQBhogar_total\",\" hogar_total squared\"),\n",
    "(\"SQBedjefe\",\" edjefe squared\"),\n",
    "(\"SQBhogar_nin\",\" hogar_nin squared\"),\n",
    "(\"SQBovercrowding\",\" overcrowding squared\"),\n",
    "(\"SQBdependency\",\" dependency squared\"),\n",
    "(\"SQBmeaned\",\" meaned squared\"),\n",
    "(\"agesq\",\" Age squared\"),]\n",
    "\n",
    "description = pd.DataFrame(description, columns=['varname', 'description'])"
   ]
  },
  {
   "cell_type": "code",
   "execution_count": 15,
   "metadata": {
    "ExecuteTime": {
     "end_time": "2020-09-15T09:30:09.640423Z",
     "start_time": "2020-09-15T09:30:09.625385Z"
    },
    "colab": {
     "base_uri": "https://localhost:8080/",
     "height": 419
    },
    "colab_type": "code",
    "executionInfo": {
     "elapsed": 5565,
     "status": "ok",
     "timestamp": 1600401255891,
     "user": {
      "displayName": "김한빛",
      "photoUrl": "",
      "userId": "16905169175399423651"
     },
     "user_tz": -540
    },
    "id": "6Gk6nhPYRpdU",
    "outputId": "6d8b169a-011e-43d7-f02e-89f213fb7e9b"
   },
   "outputs": [
    {
     "data": {
      "text/html": [
       "<div>\n",
       "<style scoped>\n",
       "    .dataframe tbody tr th:only-of-type {\n",
       "        vertical-align: middle;\n",
       "    }\n",
       "\n",
       "    .dataframe tbody tr th {\n",
       "        vertical-align: top;\n",
       "    }\n",
       "\n",
       "    .dataframe thead th {\n",
       "        text-align: right;\n",
       "    }\n",
       "</style>\n",
       "<table border=\"1\" class=\"dataframe\">\n",
       "  <thead>\n",
       "    <tr style=\"text-align: right;\">\n",
       "      <th></th>\n",
       "      <th>varname</th>\n",
       "      <th>description</th>\n",
       "    </tr>\n",
       "  </thead>\n",
       "  <tbody>\n",
       "    <tr>\n",
       "      <th>0</th>\n",
       "      <td>v2a1</td>\n",
       "      <td>Monthly rent payment</td>\n",
       "    </tr>\n",
       "    <tr>\n",
       "      <th>1</th>\n",
       "      <td>hacdor</td>\n",
       "      <td>=1 Overcrowding by bedrooms</td>\n",
       "    </tr>\n",
       "    <tr>\n",
       "      <th>2</th>\n",
       "      <td>rooms</td>\n",
       "      <td>number of all rooms in the house</td>\n",
       "    </tr>\n",
       "    <tr>\n",
       "      <th>3</th>\n",
       "      <td>hacapo</td>\n",
       "      <td>=1 Overcrowding by rooms</td>\n",
       "    </tr>\n",
       "    <tr>\n",
       "      <th>4</th>\n",
       "      <td>v14a</td>\n",
       "      <td>=1 has toilet in the household</td>\n",
       "    </tr>\n",
       "    <tr>\n",
       "      <th>...</th>\n",
       "      <td>...</td>\n",
       "      <td>...</td>\n",
       "    </tr>\n",
       "    <tr>\n",
       "      <th>136</th>\n",
       "      <td>SQBhogar_nin</td>\n",
       "      <td>hogar_nin squared</td>\n",
       "    </tr>\n",
       "    <tr>\n",
       "      <th>137</th>\n",
       "      <td>SQBovercrowding</td>\n",
       "      <td>overcrowding squared</td>\n",
       "    </tr>\n",
       "    <tr>\n",
       "      <th>138</th>\n",
       "      <td>SQBdependency</td>\n",
       "      <td>dependency squared</td>\n",
       "    </tr>\n",
       "    <tr>\n",
       "      <th>139</th>\n",
       "      <td>SQBmeaned</td>\n",
       "      <td>meaned squared</td>\n",
       "    </tr>\n",
       "    <tr>\n",
       "      <th>140</th>\n",
       "      <td>agesq</td>\n",
       "      <td>Age squared</td>\n",
       "    </tr>\n",
       "  </tbody>\n",
       "</table>\n",
       "<p>141 rows × 2 columns</p>\n",
       "</div>"
      ],
      "text/plain": [
       "             varname                         description\n",
       "0               v2a1                Monthly rent payment\n",
       "1             hacdor         =1 Overcrowding by bedrooms\n",
       "2              rooms    number of all rooms in the house\n",
       "3             hacapo            =1 Overcrowding by rooms\n",
       "4               v14a      =1 has toilet in the household\n",
       "..               ...                                 ...\n",
       "136     SQBhogar_nin                   hogar_nin squared\n",
       "137  SQBovercrowding                overcrowding squared\n",
       "138    SQBdependency                  dependency squared\n",
       "139        SQBmeaned                      meaned squared\n",
       "140            agesq                         Age squared\n",
       "\n",
       "[141 rows x 2 columns]"
      ]
     },
     "execution_count": 15,
     "metadata": {
      "tags": []
     },
     "output_type": "execute_result"
    }
   ],
   "source": [
    "description"
   ]
  },
  {
   "cell_type": "code",
   "execution_count": 16,
   "metadata": {
    "ExecuteTime": {
     "end_time": "2020-09-15T09:30:09.671421Z",
     "start_time": "2020-09-15T09:30:09.643393Z"
    },
    "colab": {},
    "colab_type": "code",
    "executionInfo": {
     "elapsed": 5561,
     "status": "ok",
     "timestamp": 1600401255891,
     "user": {
      "displayName": "김한빛",
      "photoUrl": "",
      "userId": "16905169175399423651"
     },
     "user_tz": -540
    },
    "id": "Qu0KtCUtRpdW"
   },
   "outputs": [],
   "source": [
    "description_ko=[(\"v2a1\",\"월세납부\"),\n",
    "(\"hacdor\",\"=1 침실별 과잉 수용\"),\n",
    "(\"rooms\",\"집 안의 모든 방의 수\"),\n",
    "(\"hacapo\",\"=1실별 과잉 수용\"),\n",
    "(\"v14a\",\"=1 가정에 화장실 있음\"),\n",
    "(\"refrig\",\"=1가구에 냉장고가 있는 경우\"),\n",
    "(\"v18q\",\"태블릿 소유\"),\n",
    "(\"v18q1\",\"가구 소유의 태블릿 수\"),\n",
    "(\"r4h1\",\"12세 미만의 남성\"),\n",
    "(\"r4h2\",\"남성 12세 이상\"),\n",
    "(\"r4h3\",\"가구원수합계\"),\n",
    "(\"r4m1\",\"12세 이하 여성\"),\n",
    "(\"r4m2\",\"12세 이상 여성\"),\n",
    "(\"r4m3\",\"가구원 총여성\"),\n",
    "(\"r4t1\",\"12세 이하인 사람\"),\n",
    "(\"r4t2\",\"12세 이상\"),\n",
    "(\"r4t3\",\"가구원 합계\"),\n",
    "(\"tamhog\",\"가구원수\"),\n",
    "(\"tamviv\",\"가구원수\"),\n",
    "(\"escolari\",\"다년간의 교육\"),\n",
    "(\"rez_esc\",\"학창시절 몇년 뒤\"),\n",
    "(\"hhsize\",\"가구 크기\"),\n",
    "(\"paredblolad\",\"=1 외벽의 주요 재료가 블록 또는 벽돌인 경우\"),\n",
    "(\"paredzocalo\",\"=1 외벽의 주요 재료가 소켓인 경우(목재, 아연 또는 압베스토\"),\n",
    "(\"paredpreb\",\"=1 외벽의 주요 재료가 사전 조립 또는 시멘트인 경우\"),\n",
    "(\"pareddes\",\"=1 외벽의 주요 소재가 폐자재일 경우\"),\n",
    "(\"paredmad\",\"=1 외벽의 주요 재료가 목재인 경우\"),\n",
    "(\"paredzinc\",\"=1 외벽의 주요 재료가 징크인 경우\"),\n",
    "(\"paredfibras\",\"=1 외벽의 주요 소재가 천연섬유일 경우\"),\n",
    "(\"paredother\",\"=1 외벽의 주요 재료가 다른 경우\"),\n",
    "(\"pisomoscer\",\"=1 바닥의 주요 재료가 모자이크 세라믹 테라조인 경우\"),\n",
    "(\"pisocemento\",\"=1 바닥의 주요 재료가 시멘트인 경우\"),\n",
    "(\"pisoother\",\"=1 바닥의 주요 재료가 다른 경우\"),\n",
    "(\"pisonatur\",\"=1 바닥의 주요 재료가 천연 재료인 경우\"),\n",
    "(\"pisonotiene\",\"=가정에 층이 없는 경우 1개\"),\n",
    "(\"pisomadera\",\"=1 바닥의 주요 재료가 목재인 경우\"),\n",
    "(\"techozinc\",\"=1 지붕의 주요 재료가 금속 포일 또는 징크인 경우\"),\n",
    "(\"techoentrepiso\",\"=1 지붕의 주요 재료가 섬유 시멘트, 메자닌인 경우 \"),\n",
    "(\"techocane\",\"=1 지붕의 주요 재료가 천연 섬유인 경우\"),\n",
    "(\"techootro\",\"=1 지붕의 주요 재료가 다른 경우\"),\n",
    "(\"cielorazo\",\"=1 집에 천장이 있는 경우\"),\n",
    "(\"abastaguadentro\",\"=1 주거지 내부의 급수인 경우\"),\n",
    "(\"abastaguafuera\",\"=1 주거지 외부에 물이 공급되는 경우\"),\n",
    "(\"abastaguano\",\"=1 물 공급이 없는 경우\"),\n",
    "(\"public\",\"=CNFL, ICE, ESPH/JASEC에서 나오는 전기 1개\"),\n",
    "(\"planpri\",\"=민간 발전소에서 나오는 전기 1개\"),\n",
    "(\"noelec\",\"=1주거지에 전기가 없음\"),\n",
    "(\"coopele\",\"=협동조합 전기 1개\"),\n",
    "(\"sanitario1\",\"=1주거지에 화장실 없음\"),\n",
    "(\"sanitario2\",\"=하수도 또는 하수구에 연결된 화장실 1개\"),\n",
    "(\"sanitario3\",\"= 정화조에 연결된 화장실 1개\"),\n",
    "(\"sanitario5\",\"=블랙홀 또는 레트린에 연결된 화장실 1개\"),\n",
    "(\"sanitario6\",\"=다른 시스템에 연결된 화장실 1개\"),\n",
    "(\"energcocinar1\",\"=1 요리에 사용되는 주요 에너지원이 없음(주방 없음\"),\n",
    "(\"energcocinar2\",\"=1 전기 조리에 사용되는 주요 에너지 공급원\"),\n",
    "(\"energcocinar3\",\"=요리가스에 사용되는 주요 에너지 공급원 1개\"),\n",
    "(\"energcocinar4\",\"=1 목재 숯 조리에 사용되는 주요 에너지원\"),\n",
    "(\"elimbasu1\",\"=1 유조선 트럭에 의한 쓰레기 처리의 경우\"),\n",
    "(\"elimbasu2\",\"=1 주로 식물성 중공 또는 매립에 의한 쓰레기 처리\"),\n",
    "(\"elimbasu3\",\"=1 주로 불에 태워 폐기물을 처리하는 경우\"),\n",
    "(\"elimbasu4\",\"=1 빈 공간에 주로 던져서 쓰레기를 처리하는 경우\"),\n",
    "(\"elimbasu5\",\"=1 주로 강, 하천 또는 바다에 투척하여 쓰레기를 처리하는 경우\"),\n",
    "(\"elimbasu6\",\"=1 쓰레기 처리가 주로 다른 경우\"),\n",
    "(\"epared1\",\"=벽이 나쁜 경우 1\"),\n",
    "(\"epared2\",\"=1 벽이 정규적인 경우\"),\n",
    "(\"epared3\",\"=벽이 좋은 경우 1개\"),\n",
    "(\"etecho1\",\"=1 지붕이 나쁜 경우\"),\n",
    "(\"etecho2\",\"=1 지붕이 정규적인 경우\"),\n",
    "(\"etecho3\",\"=1 지붕이 양호한 경우\"),\n",
    "(\"eviv1\",\"=1 바닥이 나쁜 경우\"),\n",
    "(\"eviv2\",\"=1 바닥이 규칙적인 경우\"),\n",
    "(\"eviv3\",\"=1 바닥이 좋은 경우\"),\n",
    "(\"dis\",\"=1 장애인일 경우\"),\n",
    "(\"male\",\"=1 남성일 경우\"),\n",
    "(\"female\",\"=1 여성인 경우\"),\n",
    "(\"estadocivil1\",\"=10세 미만인 경우 1개\"),\n",
    "(\"estadocivil2\",\"=자유 또는 커플링된 경우 1개\"),\n",
    "(\"estadocivil3\",\"=결혼한 경우 1개\"),\n",
    "(\"estadocivil4\",\"=이혼한 경우 1개\"),\n",
    "(\"estadocivil5\",\"=1 별거한 경우\"),\n",
    "(\"estadocivil6\",\"=과부 경우 1개\"),\n",
    "(\"estadocivil7\",\"=싱글일 경우 1개\"),\n",
    "(\"parentesco1\",\"=가정의 가장일의 경우 1개\"),\n",
    "(\"parentesco2\",\"=배우자/파트너일 경우 1개\"),\n",
    "(\"parentesco3\",\"=아들/딸일 경우 1개\"),\n",
    "(\"parentesco4\",\"=의붓아들/딸 일 경우\"),\n",
    "(\"parentesco5\",\"=법률상 아들/딸일 경우 1개\"),\n",
    "(\"parentesco6\",\"=손자/손자일 경우\"),\n",
    "(\"parentesco7\",\"=어머니/아버지인 경우\"),\n",
    "(\"parentesco8\",\"=법률상 아버지/어머니일 경우 1개\"),\n",
    "(\"parentesco9\",\"=형/동생인 경우 1개\"),\n",
    "(\"parentesco10\",\"=법률상 형제/자매인 경우 1개\"),\n",
    "(\"parentesco11\",\"=1 다른 가족 구성원의 경우\"),\n",
    "(\"parentesco12\",\"=1 가족이 아닌 다른 구성원의 경우\"),\n",
    "(\"idhogar\",\"가구 수준 식별자\"),\n",
    "(\"hogar_nin\",\"0~19세인 가구원 수 \"),\n",
    "(\"hogar_adul\",\"어른인 가구원수\"),\n",
    "(\"hogar_mayor\",\"65세 이상인 가구원수 \"),\n",
    "(\"hogar_total\",\"가구원 총 인원수\"),\n",
    "(\"dependency\",\"종속율\"),\n",
    "(\"edjefe\",\"남성 가장의 수년간 교육\"),\n",
    "(\"edjefa\",\"여성 가장의 수년간 교육\"),\n",
    "(\"meaneduc\",\"평균 성인 교육년(18+)\"),\n",
    "(\"instlevel1\",\"=1 교육 수준 없음\"),\n",
    "(\"instlevel2\",\"=1 불완전한 초등교육\"),\n",
    "(\"instlevel3\",\"=1 완전한 초등교육\"),\n",
    "(\"instlevel4\",\"=1 불완전한 학업 2차 수준\"),\n",
    "(\"instlevel5\",\"=1 완전한 학문적 2차 수준\"),\n",
    "(\"instlevel6\",\"=1 불완전한 기술 2차 수준\"),\n",
    "(\"instlevel7\",\"=1 완전한 기술 2차 수준\"),\n",
    "(\"instlevel8\",\"=1학부 이상\"),\n",
    "(\"instlevel9\",\"=1 대학원 고등교육\"),\n",
    "(\"bedrooms\",\"침실 수\"),\n",
    "(\"overcrowding\",\"# 객실당 인원수\"),\n",
    "(\"tipovivi1\",\"=1자체 및 완전유급주택\"),\n",
    "(\"tipovivi2\",\"=1개 소유, 할부 결제\"),\n",
    "(\"tipovivi3\",\"=1 임대\"),\n",
    "(\"tipovivi4\",\"=1 불안정한\"),\n",
    "(\"tipovivi5\",\"=1 다른사람에게 할당된\"),\n",
    "(\"computer\",\"=1 가구에 노트북 또는 데스크탑 컴퓨터가 있는 경우, 대여\"),\n",
    "(\"television\",\"=1가구에 TV가 있는 경우\"),\n",
    "(\"mobilephone\",\"=휴대전화일 경우 1\"),\n",
    "(\"qmobilephone\",\"휴대전화 번호\"),\n",
    "(\"lugar1\",\"=1 지역 중심\"),\n",
    "(\"lugar2\",\"=1 지역 Chorotega\"),\n",
    "(\"lugar3\",\"=1 지역 PacÃƒÂ­fico central\"),\n",
    "(\"lugar4\",\"=1 지역 Brunca\"),\n",
    "(\"lugar5\",\"=1 지역 Huetar AtlÃƒÂ¡ntica\"),\n",
    "(\"lugar6\",\"=1 지역 Huetar Norte\"),\n",
    "(\"area1\",\"=1 조나 우르바나\"),\n",
    "(\"area2\",\"=2 조나 시골\"),\n",
    "(\"age\",\"연령\"),\n",
    "(\"SQBescolari\",\"에스코라리 제곱\"),\n",
    "(\"SQBage\",\"나이 제곱\"),\n",
    "(\"SQBhogar_total\",\"hogar_total 제곱\"),\n",
    "(\"SQBedjefe\",\"에드제프 제곱\"),\n",
    "(\"SQBhogar_nin\",\"hogar_nin 제곱\"),\n",
    "(\"SQBovercrowding\",\"과밀 제곱\"),\n",
    "(\"SQBdependency\",\"종속성 제곱\"),\n",
    "(\"SQBmeaned\",\"평균 제곱\"),\n",
    "(\"agesq\",\"나이 제곱\"),]\n",
    "\n",
    "description_ko = pd.DataFrame(description_ko, columns=['varname', 'description'])"
   ]
  },
  {
   "cell_type": "code",
   "execution_count": 17,
   "metadata": {
    "ExecuteTime": {
     "end_time": "2020-09-15T09:30:09.692388Z",
     "start_time": "2020-09-15T09:30:09.673386Z"
    },
    "colab": {
     "base_uri": "https://localhost:8080/",
     "height": 419
    },
    "colab_type": "code",
    "executionInfo": {
     "elapsed": 5556,
     "status": "ok",
     "timestamp": 1600401255892,
     "user": {
      "displayName": "김한빛",
      "photoUrl": "",
      "userId": "16905169175399423651"
     },
     "user_tz": -540
    },
    "id": "zFTFDiNwRpdY",
    "outputId": "36f71349-55e3-4f79-8a5c-3a57246feae8"
   },
   "outputs": [
    {
     "data": {
      "text/html": [
       "<div>\n",
       "<style scoped>\n",
       "    .dataframe tbody tr th:only-of-type {\n",
       "        vertical-align: middle;\n",
       "    }\n",
       "\n",
       "    .dataframe tbody tr th {\n",
       "        vertical-align: top;\n",
       "    }\n",
       "\n",
       "    .dataframe thead th {\n",
       "        text-align: right;\n",
       "    }\n",
       "</style>\n",
       "<table border=\"1\" class=\"dataframe\">\n",
       "  <thead>\n",
       "    <tr style=\"text-align: right;\">\n",
       "      <th></th>\n",
       "      <th>varname</th>\n",
       "      <th>description</th>\n",
       "    </tr>\n",
       "  </thead>\n",
       "  <tbody>\n",
       "    <tr>\n",
       "      <th>0</th>\n",
       "      <td>v2a1</td>\n",
       "      <td>월세납부</td>\n",
       "    </tr>\n",
       "    <tr>\n",
       "      <th>1</th>\n",
       "      <td>hacdor</td>\n",
       "      <td>=1 침실별 과잉 수용</td>\n",
       "    </tr>\n",
       "    <tr>\n",
       "      <th>2</th>\n",
       "      <td>rooms</td>\n",
       "      <td>집 안의 모든 방의 수</td>\n",
       "    </tr>\n",
       "    <tr>\n",
       "      <th>3</th>\n",
       "      <td>hacapo</td>\n",
       "      <td>=1실별 과잉 수용</td>\n",
       "    </tr>\n",
       "    <tr>\n",
       "      <th>4</th>\n",
       "      <td>v14a</td>\n",
       "      <td>=1 가정에 화장실 있음</td>\n",
       "    </tr>\n",
       "    <tr>\n",
       "      <th>...</th>\n",
       "      <td>...</td>\n",
       "      <td>...</td>\n",
       "    </tr>\n",
       "    <tr>\n",
       "      <th>136</th>\n",
       "      <td>SQBhogar_nin</td>\n",
       "      <td>hogar_nin 제곱</td>\n",
       "    </tr>\n",
       "    <tr>\n",
       "      <th>137</th>\n",
       "      <td>SQBovercrowding</td>\n",
       "      <td>과밀 제곱</td>\n",
       "    </tr>\n",
       "    <tr>\n",
       "      <th>138</th>\n",
       "      <td>SQBdependency</td>\n",
       "      <td>종속성 제곱</td>\n",
       "    </tr>\n",
       "    <tr>\n",
       "      <th>139</th>\n",
       "      <td>SQBmeaned</td>\n",
       "      <td>평균 제곱</td>\n",
       "    </tr>\n",
       "    <tr>\n",
       "      <th>140</th>\n",
       "      <td>agesq</td>\n",
       "      <td>나이 제곱</td>\n",
       "    </tr>\n",
       "  </tbody>\n",
       "</table>\n",
       "<p>141 rows × 2 columns</p>\n",
       "</div>"
      ],
      "text/plain": [
       "             varname    description\n",
       "0               v2a1           월세납부\n",
       "1             hacdor   =1 침실별 과잉 수용\n",
       "2              rooms   집 안의 모든 방의 수\n",
       "3             hacapo     =1실별 과잉 수용\n",
       "4               v14a  =1 가정에 화장실 있음\n",
       "..               ...            ...\n",
       "136     SQBhogar_nin   hogar_nin 제곱\n",
       "137  SQBovercrowding          과밀 제곱\n",
       "138    SQBdependency         종속성 제곱\n",
       "139        SQBmeaned          평균 제곱\n",
       "140            agesq          나이 제곱\n",
       "\n",
       "[141 rows x 2 columns]"
      ]
     },
     "execution_count": 17,
     "metadata": {
      "tags": []
     },
     "output_type": "execute_result"
    }
   ],
   "source": [
    "description_ko"
   ]
  },
  {
   "cell_type": "markdown",
   "metadata": {
    "colab_type": "text",
    "id": "SNqJutEbRpdb"
   },
   "source": [
    "## 1.3 Check null data"
   ]
  },
  {
   "cell_type": "code",
   "execution_count": 18,
   "metadata": {
    "ExecuteTime": {
     "end_time": "2020-09-15T09:30:09.743423Z",
     "start_time": "2020-09-15T09:30:09.695388Z"
    },
    "colab": {
     "base_uri": "https://localhost:8080/",
     "height": 669
    },
    "colab_type": "code",
    "executionInfo": {
     "elapsed": 5553,
     "status": "ok",
     "timestamp": 1600401255893,
     "user": {
      "displayName": "김한빛",
      "photoUrl": "",
      "userId": "16905169175399423651"
     },
     "user_tz": -540
    },
    "id": "kI7YzMCYRpdb",
    "outputId": "1e9e1206-c666-4902-dd73-fe3ae1194d6e"
   },
   "outputs": [
    {
     "data": {
      "text/html": [
       "<div>\n",
       "<style scoped>\n",
       "    .dataframe tbody tr th:only-of-type {\n",
       "        vertical-align: middle;\n",
       "    }\n",
       "\n",
       "    .dataframe tbody tr th {\n",
       "        vertical-align: top;\n",
       "    }\n",
       "\n",
       "    .dataframe thead th {\n",
       "        text-align: right;\n",
       "    }\n",
       "</style>\n",
       "<table border=\"1\" class=\"dataframe\">\n",
       "  <thead>\n",
       "    <tr style=\"text-align: right;\">\n",
       "      <th></th>\n",
       "      <th>Total</th>\n",
       "      <th>Percent</th>\n",
       "    </tr>\n",
       "  </thead>\n",
       "  <tbody>\n",
       "    <tr>\n",
       "      <th>rez_esc</th>\n",
       "      <td>7928</td>\n",
       "      <td>82.954902</td>\n",
       "    </tr>\n",
       "    <tr>\n",
       "      <th>v18q1</th>\n",
       "      <td>7342</td>\n",
       "      <td>76.823271</td>\n",
       "    </tr>\n",
       "    <tr>\n",
       "      <th>v2a1</th>\n",
       "      <td>6860</td>\n",
       "      <td>71.779847</td>\n",
       "    </tr>\n",
       "    <tr>\n",
       "      <th>meaneduc</th>\n",
       "      <td>5</td>\n",
       "      <td>0.052318</td>\n",
       "    </tr>\n",
       "    <tr>\n",
       "      <th>SQBmeaned</th>\n",
       "      <td>5</td>\n",
       "      <td>0.052318</td>\n",
       "    </tr>\n",
       "    <tr>\n",
       "      <th>techozinc</th>\n",
       "      <td>0</td>\n",
       "      <td>0.000000</td>\n",
       "    </tr>\n",
       "    <tr>\n",
       "      <th>techoentrepiso</th>\n",
       "      <td>0</td>\n",
       "      <td>0.000000</td>\n",
       "    </tr>\n",
       "    <tr>\n",
       "      <th>techocane</th>\n",
       "      <td>0</td>\n",
       "      <td>0.000000</td>\n",
       "    </tr>\n",
       "    <tr>\n",
       "      <th>techootro</th>\n",
       "      <td>0</td>\n",
       "      <td>0.000000</td>\n",
       "    </tr>\n",
       "    <tr>\n",
       "      <th>cielorazo</th>\n",
       "      <td>0</td>\n",
       "      <td>0.000000</td>\n",
       "    </tr>\n",
       "    <tr>\n",
       "      <th>abastaguadentro</th>\n",
       "      <td>0</td>\n",
       "      <td>0.000000</td>\n",
       "    </tr>\n",
       "    <tr>\n",
       "      <th>sanitario3</th>\n",
       "      <td>0</td>\n",
       "      <td>0.000000</td>\n",
       "    </tr>\n",
       "    <tr>\n",
       "      <th>abastaguafuera</th>\n",
       "      <td>0</td>\n",
       "      <td>0.000000</td>\n",
       "    </tr>\n",
       "    <tr>\n",
       "      <th>abastaguano</th>\n",
       "      <td>0</td>\n",
       "      <td>0.000000</td>\n",
       "    </tr>\n",
       "    <tr>\n",
       "      <th>public</th>\n",
       "      <td>0</td>\n",
       "      <td>0.000000</td>\n",
       "    </tr>\n",
       "    <tr>\n",
       "      <th>planpri</th>\n",
       "      <td>0</td>\n",
       "      <td>0.000000</td>\n",
       "    </tr>\n",
       "    <tr>\n",
       "      <th>noelec</th>\n",
       "      <td>0</td>\n",
       "      <td>0.000000</td>\n",
       "    </tr>\n",
       "    <tr>\n",
       "      <th>coopele</th>\n",
       "      <td>0</td>\n",
       "      <td>0.000000</td>\n",
       "    </tr>\n",
       "    <tr>\n",
       "      <th>sanitario1</th>\n",
       "      <td>0</td>\n",
       "      <td>0.000000</td>\n",
       "    </tr>\n",
       "    <tr>\n",
       "      <th>sanitario2</th>\n",
       "      <td>0</td>\n",
       "      <td>0.000000</td>\n",
       "    </tr>\n",
       "  </tbody>\n",
       "</table>\n",
       "</div>"
      ],
      "text/plain": [
       "                 Total    Percent\n",
       "rez_esc           7928  82.954902\n",
       "v18q1             7342  76.823271\n",
       "v2a1              6860  71.779847\n",
       "meaneduc             5   0.052318\n",
       "SQBmeaned            5   0.052318\n",
       "techozinc            0   0.000000\n",
       "techoentrepiso       0   0.000000\n",
       "techocane            0   0.000000\n",
       "techootro            0   0.000000\n",
       "cielorazo            0   0.000000\n",
       "abastaguadentro      0   0.000000\n",
       "sanitario3           0   0.000000\n",
       "abastaguafuera       0   0.000000\n",
       "abastaguano          0   0.000000\n",
       "public               0   0.000000\n",
       "planpri              0   0.000000\n",
       "noelec               0   0.000000\n",
       "coopele              0   0.000000\n",
       "sanitario1           0   0.000000\n",
       "sanitario2           0   0.000000"
      ]
     },
     "execution_count": 18,
     "metadata": {
      "tags": []
     },
     "output_type": "execute_result"
    }
   ],
   "source": [
    "total = df_train.isnull().sum().sort_values(ascending=False)\n",
    "percent = 100 * (df_train.isnull().sum() / df_train.isnull().count()).sort_values(ascending=False)\n",
    "missing_df = pd.concat([total, percent], axis=1, keys=['Total', 'Percent'])\n",
    "\n",
    "missing_df.head(20)"
   ]
  },
  {
   "cell_type": "markdown",
   "metadata": {
    "ExecuteTime": {
     "end_time": "2020-09-08T03:36:53.934273Z",
     "start_time": "2020-09-08T03:36:53.931317Z"
    },
    "colab_type": "text",
    "id": "1PE-XhilRpdd"
   },
   "source": [
    "## 1.4 Fill missing values"
   ]
  },
  {
   "cell_type": "code",
   "execution_count": 19,
   "metadata": {
    "ExecuteTime": {
     "end_time": "2020-09-15T09:30:09.773387Z",
     "start_time": "2020-09-15T09:30:09.745420Z"
    },
    "colab": {},
    "colab_type": "code",
    "executionInfo": {
     "elapsed": 5548,
     "status": "ok",
     "timestamp": 1600401255893,
     "user": {
      "displayName": "김한빛",
      "photoUrl": "",
      "userId": "16905169175399423651"
     },
     "user_tz": -540
    },
    "id": "Ke79lhBmRpdd"
   },
   "outputs": [],
   "source": [
    "# education이 \"yes\"이고, 가장이라면, escolari의 년수로 칸을 채운다.\n",
    "df_train.loc[(df_train['edjefa'] == \"yes\") & (df_train['parentesco1'] == 1), \"edjefa\"] = df_train.loc[(df_train['edjefa'] == \"yes\") & (df_train['parentesco1'] ==1), \"escolari\"]\n",
    "df_train.loc[(df_train['edjefe'] == \"yes\") & (df_train['parentesco1'] == 1), \"edjefe\"] = df_train.loc[(df_train['edjefe'] == \"yes\") & (df_train['parentesco1'] ==1), \"escolari\"]\n",
    "\n",
    "df_test.loc[(df_test['edjefa'] == \"yes\") & (df_test['parentesco1'] == 1), \"edjefa\"] = df_test.loc[(df_test['edjefa'] == \"yes\") & (df_test['parentesco1'] ==1), \"escolari\"]\n",
    "df_test.loc[(df_test['edjefe'] == \"yes\") & (df_test['parentesco1'] == 1), \"edjefe\"] = df_test.loc[(df_test['edjefe'] == \"yes\") & (df_test['parentesco1'] ==1), \"escolari\"]"
   ]
  },
  {
   "cell_type": "code",
   "execution_count": 20,
   "metadata": {
    "ExecuteTime": {
     "end_time": "2020-09-15T09:30:09.790392Z",
     "start_time": "2020-09-15T09:30:09.774386Z"
    },
    "colab": {},
    "colab_type": "code",
    "executionInfo": {
     "elapsed": 5545,
     "status": "ok",
     "timestamp": 1600401255894,
     "user": {
      "displayName": "김한빛",
      "photoUrl": "",
      "userId": "16905169175399423651"
     },
     "user_tz": -540
    },
    "id": "RFS8HsgzRpdg"
   },
   "outputs": [],
   "source": [
    "# 가정의 가장이라면(edjefa, edjefe) 교육 년수는 4년으로 채운다.\n",
    "df_train.loc[df_train['edjefa'] == \"yes\", \"edjefa\"] = 4\n",
    "df_train.loc[df_train['edjefe'] == \"yes\", \"edjefe\"] = 4\n",
    "\n",
    "df_test.loc[df_test['edjefa'] == \"yes\", \"edjefa\"] = 4\n",
    "df_test.loc[df_test['edjefe'] == \"yes\", \"edjefe\"] = 4"
   ]
  },
  {
   "cell_type": "code",
   "execution_count": 21,
   "metadata": {
    "ExecuteTime": {
     "end_time": "2020-09-15T09:30:09.808384Z",
     "start_time": "2020-09-15T09:30:09.792385Z"
    },
    "colab": {},
    "colab_type": "code",
    "executionInfo": {
     "elapsed": 5541,
     "status": "ok",
     "timestamp": 1600401255895,
     "user": {
      "displayName": "김한빛",
      "photoUrl": "",
      "userId": "16905169175399423651"
     },
     "user_tz": -540
    },
    "id": "6GDb19cFRpdi"
   },
   "outputs": [],
   "source": [
    "# 가정의 가장(head of household)가 여성(edjefa)/남성(edjefe)로 구분되어 있는데, 둘중에 큰 값을 하나의 컬럼으로 합친다.\n",
    "df_train['edjef'] = np.max(df_train[['edjefa','edjefe']], axis=1)\n",
    "df_test['edjef'] = np.max(df_test[['edjefa','edjefe']], axis=1)"
   ]
  },
  {
   "cell_type": "code",
   "execution_count": 22,
   "metadata": {
    "ExecuteTime": {
     "end_time": "2020-09-15T09:30:09.830387Z",
     "start_time": "2020-09-15T09:30:09.810386Z"
    },
    "colab": {},
    "colab_type": "code",
    "executionInfo": {
     "elapsed": 5537,
     "status": "ok",
     "timestamp": 1600401255896,
     "user": {
      "displayName": "김한빛",
      "photoUrl": "",
      "userId": "16905169175399423651"
     },
     "user_tz": -540
    },
    "id": "jKmk9oKhRpdk"
   },
   "outputs": [],
   "source": [
    "# 데이터 불일치를 수정한다.\n",
    "# 예를 들어 일부행은 화장실을 갖고 있다고 하거나, 가지고 있지 않다고 한다. \n",
    "# 우리는 만약 물이 없다면 그들은 물을 마시지 않는다고 가정한다.\n",
    "df_train.loc[(df_train.v14a == 1) & (df_train.sanitario1 == 1) & (df_train.abastaguano == 0), 'v14a' ] = 0\n",
    "df_train.loc[(df_train.v14a == 1) & (df_train.sanitario1 == 1) & (df_train.abastaguano == 0), 'sanitario1' ] = 0\n",
    "\n",
    "df_test.loc[(df_test.v14a == 1) & (df_test.sanitario1 == 1) & (df_test.abastaguano == 0), 'v14a' ] = 0\n",
    "df_test.loc[(df_test.v14a == 1) & (df_test.sanitario1 == 1) & (df_test.abastaguano == 0), 'sanitario1' ] = 0"
   ]
  },
  {
   "cell_type": "code",
   "execution_count": 23,
   "metadata": {
    "ExecuteTime": {
     "end_time": "2020-09-15T09:30:09.840425Z",
     "start_time": "2020-09-15T09:30:09.832387Z"
    },
    "colab": {},
    "colab_type": "code",
    "executionInfo": {
     "elapsed": 5534,
     "status": "ok",
     "timestamp": 1600401255896,
     "user": {
      "displayName": "김한빛",
      "photoUrl": "",
      "userId": "16905169175399423651"
     },
     "user_tz": -540
    },
    "id": "gTVzPE1iRpdm"
   },
   "outputs": [],
   "source": [
    "# rez_esc : 학창시절 몇년 뒤는 0으로 채운다.\n",
    "# SQBmeaned : 가쟝의 평균 교육 년수가 없으면 0으로 채운다.\n",
    "# meaneduc : 평균 교육 년수가 없다면 0으로 채운다.\n",
    "df_train['rez_esc'].fillna(0, inplace=True)\n",
    "df_test['rez_esc'].fillna(0, inplace=True)\n",
    "\n",
    "df_train['SQBmeaned'].fillna(0, inplace=True)\n",
    "df_test['SQBmeaned'].fillna(0, inplace=True)\n",
    "\n",
    "df_train['meaneduc'].fillna(0, inplace=True)\n",
    "df_test['meaneduc'].fillna(0, inplace=True)"
   ]
  },
  {
   "cell_type": "code",
   "execution_count": 24,
   "metadata": {
    "ExecuteTime": {
     "end_time": "2020-09-15T09:30:09.850427Z",
     "start_time": "2020-09-15T09:30:09.841420Z"
    },
    "colab": {
     "base_uri": "https://localhost:8080/",
     "height": 0
    },
    "colab_type": "code",
    "executionInfo": {
     "elapsed": 5530,
     "status": "ok",
     "timestamp": 1600401255897,
     "user": {
      "displayName": "김한빛",
      "photoUrl": "",
      "userId": "16905169175399423651"
     },
     "user_tz": -540
    },
    "id": "v7Y3wmAgRpdo",
    "outputId": "f1640482-ab7f-4de3-cda7-a7c2181f8d7c"
   },
   "outputs": [
    {
     "data": {
      "text/plain": [
       "0    7342\n",
       "1    2215\n",
       "Name: v18q, dtype: int64"
      ]
     },
     "execution_count": 24,
     "metadata": {
      "tags": []
     },
     "output_type": "execute_result"
    }
   ],
   "source": [
    "df_train['v18q'].value_counts()"
   ]
  },
  {
   "cell_type": "code",
   "execution_count": 25,
   "metadata": {
    "ExecuteTime": {
     "end_time": "2020-09-15T09:30:09.862390Z",
     "start_time": "2020-09-15T09:30:09.852387Z"
    },
    "colab": {
     "base_uri": "https://localhost:8080/",
     "height": 0
    },
    "colab_type": "code",
    "executionInfo": {
     "elapsed": 5526,
     "status": "ok",
     "timestamp": 1600401255897,
     "user": {
      "displayName": "김한빛",
      "photoUrl": "",
      "userId": "16905169175399423651"
     },
     "user_tz": -540
    },
    "id": "Y0SB9mEiRpdq",
    "outputId": "08ad60e3-b9f4-4cce-c09e-f22195f8fc44"
   },
   "outputs": [
    {
     "data": {
      "text/plain": [
       "1.0    1586\n",
       "2.0     444\n",
       "3.0     129\n",
       "4.0      37\n",
       "5.0      13\n",
       "6.0       6\n",
       "Name: v18q1, dtype: int64"
      ]
     },
     "execution_count": 25,
     "metadata": {
      "tags": []
     },
     "output_type": "execute_result"
    }
   ],
   "source": [
    "# 가구에 하나라도 있는 경우 가구당 태블릿 수 체크\n",
    "df_train.loc[df_train['v18q'] == 1, 'v18q1'].value_counts()"
   ]
  },
  {
   "cell_type": "code",
   "execution_count": 26,
   "metadata": {
    "ExecuteTime": {
     "end_time": "2020-09-15T09:30:09.874421Z",
     "start_time": "2020-09-15T09:30:09.865387Z"
    },
    "colab": {
     "base_uri": "https://localhost:8080/",
     "height": 0
    },
    "colab_type": "code",
    "executionInfo": {
     "elapsed": 5523,
     "status": "ok",
     "timestamp": 1600401255898,
     "user": {
      "displayName": "김한빛",
      "photoUrl": "",
      "userId": "16905169175399423651"
     },
     "user_tz": -540
    },
    "id": "e8jTBLuyRpds",
    "outputId": "3aea92eb-aa16-4471-cdd7-004535b6868b"
   },
   "outputs": [
    {
     "data": {
      "text/plain": [
       "Series([], Name: v18q1, dtype: int64)"
      ]
     },
     "execution_count": 26,
     "metadata": {
      "tags": []
     },
     "output_type": "execute_result"
    }
   ],
   "source": [
    "# 가구에 하나라도 없는 경우 가구당 태블릿 수 체크\n",
    "df_train.loc[df_train['v18q'] == 0, 'v18q1'].value_counts()"
   ]
  },
  {
   "cell_type": "code",
   "execution_count": 27,
   "metadata": {
    "ExecuteTime": {
     "end_time": "2020-09-15T09:30:09.886387Z",
     "start_time": "2020-09-15T09:30:09.880394Z"
    },
    "colab": {},
    "colab_type": "code",
    "executionInfo": {
     "elapsed": 5520,
     "status": "ok",
     "timestamp": 1600401255898,
     "user": {
      "displayName": "김한빛",
      "photoUrl": "",
      "userId": "16905169175399423651"
     },
     "user_tz": -540
    },
    "id": "7Q2ezehgRpdu"
   },
   "outputs": [],
   "source": [
    "df_train['v18q1'].fillna(0, inplace=True)\n",
    "df_test['v18q1'].fillna(0, inplace=True)"
   ]
  },
  {
   "cell_type": "code",
   "execution_count": 28,
   "metadata": {
    "ExecuteTime": {
     "end_time": "2020-09-15T09:30:09.899385Z",
     "start_time": "2020-09-15T09:30:09.890385Z"
    },
    "colab": {
     "base_uri": "https://localhost:8080/",
     "height": 0
    },
    "colab_type": "code",
    "executionInfo": {
     "elapsed": 5517,
     "status": "ok",
     "timestamp": 1600401255899,
     "user": {
      "displayName": "김한빛",
      "photoUrl": "",
      "userId": "16905169175399423651"
     },
     "user_tz": -540
    },
    "id": "LmLkCxffRpdw",
    "outputId": "62a53c40-33b7-49f6-eea0-70c40c8200bb"
   },
   "outputs": [
    {
     "data": {
      "text/plain": [
       "0    7821\n",
       "1    1736\n",
       "Name: tipovivi3, dtype: int64"
      ]
     },
     "execution_count": 28,
     "metadata": {
      "tags": []
     },
     "output_type": "execute_result"
    }
   ],
   "source": [
    "df_train['tipovivi3'].value_counts()"
   ]
  },
  {
   "cell_type": "code",
   "execution_count": 29,
   "metadata": {
    "ExecuteTime": {
     "end_time": "2020-09-15T09:30:10.731817Z",
     "start_time": "2020-09-15T09:30:09.901424Z"
    },
    "colab": {
     "base_uri": "https://localhost:8080/",
     "height": 0
    },
    "colab_type": "code",
    "executionInfo": {
     "elapsed": 6333,
     "status": "ok",
     "timestamp": 1600401256720,
     "user": {
      "displayName": "김한빛",
      "photoUrl": "",
      "userId": "16905169175399423651"
     },
     "user_tz": -540
    },
    "id": "fVWXdwvLRpdx",
    "outputId": "7f6dca80-5929-479f-dfbd-ce99a1d1977f"
   },
   "outputs": [
    {
     "data": {
      "image/png": "[encoded data removed]",
      "text/plain": [
       "<Figure size 576x396 with 1 Axes>"
      ]
     },
     "metadata": {
      "tags": []
     },
     "output_type": "display_data"
    }
   ],
   "source": [
    "sns.kdeplot(df_train.loc[df_train['tipovivi3'] ==1,'v2a1'], label='Monthly rent payment of household(rented=1)')\n",
    "sns.kdeplot(df_train.loc[df_train['tipovivi3'] ==0,'v2a1'], label='Monthly rent payment of household(rented=0)')\n",
    "plt.xscale('log')\n",
    "plt.show()"
   ]
  },
  {
   "cell_type": "code",
   "execution_count": 30,
   "metadata": {
    "ExecuteTime": {
     "end_time": "2020-09-15T09:30:10.741815Z",
     "start_time": "2020-09-15T09:30:10.734864Z"
    },
    "colab": {},
    "colab_type": "code",
    "executionInfo": {
     "elapsed": 6330,
     "status": "ok",
     "timestamp": 1600401256721,
     "user": {
      "displayName": "김한빛",
      "photoUrl": "",
      "userId": "16905169175399423651"
     },
     "user_tz": -540
    },
    "id": "E10dMJDQRpdz"
   },
   "outputs": [],
   "source": [
    "df_train['v2a1'].fillna(0, inplace=True)\n",
    "df_test['v2a1'].fillna(0, inplace=True)"
   ]
  },
  {
   "cell_type": "code",
   "execution_count": 31,
   "metadata": {
    "ExecuteTime": {
     "end_time": "2020-09-15T09:30:10.795850Z",
     "start_time": "2020-09-15T09:30:10.743814Z"
    },
    "colab": {
     "base_uri": "https://localhost:8080/",
     "height": 0
    },
    "colab_type": "code",
    "executionInfo": {
     "elapsed": 6326,
     "status": "ok",
     "timestamp": 1600401256722,
     "user": {
      "displayName": "김한빛",
      "photoUrl": "",
      "userId": "16905169175399423651"
     },
     "user_tz": -540
    },
    "id": "ZXtO5wdMRpd1",
    "outputId": "08efb16f-b6ac-49b5-ff54-62b3eaed2a01"
   },
   "outputs": [
    {
     "data": {
      "text/html": [
       "<div>\n",
       "<style scoped>\n",
       "    .dataframe tbody tr th:only-of-type {\n",
       "        vertical-align: middle;\n",
       "    }\n",
       "\n",
       "    .dataframe tbody tr th {\n",
       "        vertical-align: top;\n",
       "    }\n",
       "\n",
       "    .dataframe thead th {\n",
       "        text-align: right;\n",
       "    }\n",
       "</style>\n",
       "<table border=\"1\" class=\"dataframe\">\n",
       "  <thead>\n",
       "    <tr style=\"text-align: right;\">\n",
       "      <th></th>\n",
       "      <th>Total</th>\n",
       "      <th>Percent</th>\n",
       "    </tr>\n",
       "  </thead>\n",
       "  <tbody>\n",
       "    <tr>\n",
       "      <th>edjef</th>\n",
       "      <td>9557</td>\n",
       "      <td>100.0</td>\n",
       "    </tr>\n",
       "    <tr>\n",
       "      <th>Target</th>\n",
       "      <td>0</td>\n",
       "      <td>0.0</td>\n",
       "    </tr>\n",
       "    <tr>\n",
       "      <th>sanitario3</th>\n",
       "      <td>0</td>\n",
       "      <td>0.0</td>\n",
       "    </tr>\n",
       "    <tr>\n",
       "      <th>sanitario2</th>\n",
       "      <td>0</td>\n",
       "      <td>0.0</td>\n",
       "    </tr>\n",
       "    <tr>\n",
       "      <th>sanitario1</th>\n",
       "      <td>0</td>\n",
       "      <td>0.0</td>\n",
       "    </tr>\n",
       "    <tr>\n",
       "      <th>coopele</th>\n",
       "      <td>0</td>\n",
       "      <td>0.0</td>\n",
       "    </tr>\n",
       "    <tr>\n",
       "      <th>noelec</th>\n",
       "      <td>0</td>\n",
       "      <td>0.0</td>\n",
       "    </tr>\n",
       "    <tr>\n",
       "      <th>planpri</th>\n",
       "      <td>0</td>\n",
       "      <td>0.0</td>\n",
       "    </tr>\n",
       "    <tr>\n",
       "      <th>public</th>\n",
       "      <td>0</td>\n",
       "      <td>0.0</td>\n",
       "    </tr>\n",
       "    <tr>\n",
       "      <th>abastaguano</th>\n",
       "      <td>0</td>\n",
       "      <td>0.0</td>\n",
       "    </tr>\n",
       "    <tr>\n",
       "      <th>abastaguafuera</th>\n",
       "      <td>0</td>\n",
       "      <td>0.0</td>\n",
       "    </tr>\n",
       "    <tr>\n",
       "      <th>abastaguadentro</th>\n",
       "      <td>0</td>\n",
       "      <td>0.0</td>\n",
       "    </tr>\n",
       "    <tr>\n",
       "      <th>cielorazo</th>\n",
       "      <td>0</td>\n",
       "      <td>0.0</td>\n",
       "    </tr>\n",
       "    <tr>\n",
       "      <th>techootro</th>\n",
       "      <td>0</td>\n",
       "      <td>0.0</td>\n",
       "    </tr>\n",
       "    <tr>\n",
       "      <th>techocane</th>\n",
       "      <td>0</td>\n",
       "      <td>0.0</td>\n",
       "    </tr>\n",
       "    <tr>\n",
       "      <th>techoentrepiso</th>\n",
       "      <td>0</td>\n",
       "      <td>0.0</td>\n",
       "    </tr>\n",
       "    <tr>\n",
       "      <th>techozinc</th>\n",
       "      <td>0</td>\n",
       "      <td>0.0</td>\n",
       "    </tr>\n",
       "    <tr>\n",
       "      <th>sanitario5</th>\n",
       "      <td>0</td>\n",
       "      <td>0.0</td>\n",
       "    </tr>\n",
       "    <tr>\n",
       "      <th>sanitario6</th>\n",
       "      <td>0</td>\n",
       "      <td>0.0</td>\n",
       "    </tr>\n",
       "    <tr>\n",
       "      <th>energcocinar1</th>\n",
       "      <td>0</td>\n",
       "      <td>0.0</td>\n",
       "    </tr>\n",
       "  </tbody>\n",
       "</table>\n",
       "</div>"
      ],
      "text/plain": [
       "                 Total  Percent\n",
       "edjef             9557    100.0\n",
       "Target               0      0.0\n",
       "sanitario3           0      0.0\n",
       "sanitario2           0      0.0\n",
       "sanitario1           0      0.0\n",
       "coopele              0      0.0\n",
       "noelec               0      0.0\n",
       "planpri              0      0.0\n",
       "public               0      0.0\n",
       "abastaguano          0      0.0\n",
       "abastaguafuera       0      0.0\n",
       "abastaguadentro      0      0.0\n",
       "cielorazo            0      0.0\n",
       "techootro            0      0.0\n",
       "techocane            0      0.0\n",
       "techoentrepiso       0      0.0\n",
       "techozinc            0      0.0\n",
       "sanitario5           0      0.0\n",
       "sanitario6           0      0.0\n",
       "energcocinar1        0      0.0"
      ]
     },
     "execution_count": 31,
     "metadata": {
      "tags": []
     },
     "output_type": "execute_result"
    }
   ],
   "source": [
    "total = df_train.isnull().sum().sort_values(ascending=False)\n",
    "percent = 100 * (df_train.isnull().sum() / df_train.isnull().count()).sort_values(ascending=False)\n",
    "missing_df = pd.concat([total, percent], axis=1, keys=['Total', 'Percent'])\n",
    "\n",
    "missing_df.head(20)"
   ]
  },
  {
   "cell_type": "code",
   "execution_count": 32,
   "metadata": {
    "ExecuteTime": {
     "end_time": "2020-09-15T09:30:10.887855Z",
     "start_time": "2020-09-15T09:30:10.798815Z"
    },
    "colab": {
     "base_uri": "https://localhost:8080/",
     "height": 0
    },
    "colab_type": "code",
    "executionInfo": {
     "elapsed": 6321,
     "status": "ok",
     "timestamp": 1600401256722,
     "user": {
      "displayName": "김한빛",
      "photoUrl": "",
      "userId": "16905169175399423651"
     },
     "user_tz": -540
    },
    "id": "fnqmh7pKRpd3",
    "outputId": "0cab97c2-341c-49ce-edab-796f053d552a"
   },
   "outputs": [
    {
     "data": {
      "text/html": [
       "<div>\n",
       "<style scoped>\n",
       "    .dataframe tbody tr th:only-of-type {\n",
       "        vertical-align: middle;\n",
       "    }\n",
       "\n",
       "    .dataframe tbody tr th {\n",
       "        vertical-align: top;\n",
       "    }\n",
       "\n",
       "    .dataframe thead th {\n",
       "        text-align: right;\n",
       "    }\n",
       "</style>\n",
       "<table border=\"1\" class=\"dataframe\">\n",
       "  <thead>\n",
       "    <tr style=\"text-align: right;\">\n",
       "      <th></th>\n",
       "      <th>Total</th>\n",
       "      <th>Percent</th>\n",
       "    </tr>\n",
       "  </thead>\n",
       "  <tbody>\n",
       "    <tr>\n",
       "      <th>edjef</th>\n",
       "      <td>23856</td>\n",
       "      <td>100.0</td>\n",
       "    </tr>\n",
       "    <tr>\n",
       "      <th>abastaguano</th>\n",
       "      <td>0</td>\n",
       "      <td>0.0</td>\n",
       "    </tr>\n",
       "    <tr>\n",
       "      <th>sanitario2</th>\n",
       "      <td>0</td>\n",
       "      <td>0.0</td>\n",
       "    </tr>\n",
       "    <tr>\n",
       "      <th>sanitario1</th>\n",
       "      <td>0</td>\n",
       "      <td>0.0</td>\n",
       "    </tr>\n",
       "    <tr>\n",
       "      <th>coopele</th>\n",
       "      <td>0</td>\n",
       "      <td>0.0</td>\n",
       "    </tr>\n",
       "    <tr>\n",
       "      <th>noelec</th>\n",
       "      <td>0</td>\n",
       "      <td>0.0</td>\n",
       "    </tr>\n",
       "    <tr>\n",
       "      <th>planpri</th>\n",
       "      <td>0</td>\n",
       "      <td>0.0</td>\n",
       "    </tr>\n",
       "    <tr>\n",
       "      <th>public</th>\n",
       "      <td>0</td>\n",
       "      <td>0.0</td>\n",
       "    </tr>\n",
       "    <tr>\n",
       "      <th>abastaguafuera</th>\n",
       "      <td>0</td>\n",
       "      <td>0.0</td>\n",
       "    </tr>\n",
       "    <tr>\n",
       "      <th>sanitario5</th>\n",
       "      <td>0</td>\n",
       "      <td>0.0</td>\n",
       "    </tr>\n",
       "    <tr>\n",
       "      <th>abastaguadentro</th>\n",
       "      <td>0</td>\n",
       "      <td>0.0</td>\n",
       "    </tr>\n",
       "    <tr>\n",
       "      <th>cielorazo</th>\n",
       "      <td>0</td>\n",
       "      <td>0.0</td>\n",
       "    </tr>\n",
       "    <tr>\n",
       "      <th>techootro</th>\n",
       "      <td>0</td>\n",
       "      <td>0.0</td>\n",
       "    </tr>\n",
       "    <tr>\n",
       "      <th>techocane</th>\n",
       "      <td>0</td>\n",
       "      <td>0.0</td>\n",
       "    </tr>\n",
       "    <tr>\n",
       "      <th>techoentrepiso</th>\n",
       "      <td>0</td>\n",
       "      <td>0.0</td>\n",
       "    </tr>\n",
       "    <tr>\n",
       "      <th>techozinc</th>\n",
       "      <td>0</td>\n",
       "      <td>0.0</td>\n",
       "    </tr>\n",
       "    <tr>\n",
       "      <th>sanitario3</th>\n",
       "      <td>0</td>\n",
       "      <td>0.0</td>\n",
       "    </tr>\n",
       "    <tr>\n",
       "      <th>sanitario6</th>\n",
       "      <td>0</td>\n",
       "      <td>0.0</td>\n",
       "    </tr>\n",
       "    <tr>\n",
       "      <th>pisonotiene</th>\n",
       "      <td>0</td>\n",
       "      <td>0.0</td>\n",
       "    </tr>\n",
       "    <tr>\n",
       "      <th>elimbasu5</th>\n",
       "      <td>0</td>\n",
       "      <td>0.0</td>\n",
       "    </tr>\n",
       "  </tbody>\n",
       "</table>\n",
       "</div>"
      ],
      "text/plain": [
       "                 Total  Percent\n",
       "edjef            23856    100.0\n",
       "abastaguano          0      0.0\n",
       "sanitario2           0      0.0\n",
       "sanitario1           0      0.0\n",
       "coopele              0      0.0\n",
       "noelec               0      0.0\n",
       "planpri              0      0.0\n",
       "public               0      0.0\n",
       "abastaguafuera       0      0.0\n",
       "sanitario5           0      0.0\n",
       "abastaguadentro      0      0.0\n",
       "cielorazo            0      0.0\n",
       "techootro            0      0.0\n",
       "techocane            0      0.0\n",
       "techoentrepiso       0      0.0\n",
       "techozinc            0      0.0\n",
       "sanitario3           0      0.0\n",
       "sanitario6           0      0.0\n",
       "pisonotiene          0      0.0\n",
       "elimbasu5            0      0.0"
      ]
     },
     "execution_count": 32,
     "metadata": {
      "tags": []
     },
     "output_type": "execute_result"
    }
   ],
   "source": [
    "total = df_test.isnull().sum().sort_values(ascending=False)\n",
    "percent = 100 * (df_test.isnull().sum() / df_test.isnull().count()).sort_values(ascending=False)\n",
    "missing_df = pd.concat([total, percent], axis=1, keys=['Total', 'Percent'])\n",
    "\n",
    "missing_df.head(20)"
   ]
  },
  {
   "cell_type": "markdown",
   "metadata": {
    "colab_type": "text",
    "id": "18u4d7TJRpd5"
   },
   "source": [
    "이제 결측치(NaN values)는 없다."
   ]
  },
  {
   "cell_type": "markdown",
   "metadata": {
    "colab_type": "text",
    "id": "Q3_VUOwMRpd6"
   },
   "source": [
    "# 2. Feature Engineering\n",
    "## 2.1 Object features"
   ]
  },
  {
   "cell_type": "code",
   "execution_count": 33,
   "metadata": {
    "ExecuteTime": {
     "end_time": "2020-09-15T09:30:10.901816Z",
     "start_time": "2020-09-15T09:30:10.889816Z"
    },
    "colab": {
     "base_uri": "https://localhost:8080/",
     "height": 35
    },
    "colab_type": "code",
    "executionInfo": {
     "elapsed": 6317,
     "status": "ok",
     "timestamp": 1600401256722,
     "user": {
      "displayName": "김한빛",
      "photoUrl": "",
      "userId": "16905169175399423651"
     },
     "user_tz": -540
    },
    "id": "pW9s1ZJ2Rpd6",
    "outputId": "d00be34c-96af-4e78-f4f1-c5c5e9ec77cd"
   },
   "outputs": [
    {
     "data": {
      "text/plain": [
       "['Id', 'idhogar', 'dependency', 'edjefe', 'edjefa']"
      ]
     },
     "execution_count": 33,
     "metadata": {
      "tags": []
     },
     "output_type": "execute_result"
    }
   ],
   "source": [
    "features_object = [col for col in df_train.columns if df_train[col].dtype == 'object']\n",
    "features_object"
   ]
  },
  {
   "cell_type": "markdown",
   "metadata": {
    "ExecuteTime": {
     "end_time": "2020-09-09T15:15:57.145800Z",
     "start_time": "2020-09-09T15:15:57.141785Z"
    },
    "colab_type": "text",
    "id": "PkzKRin-Rpd8"
   },
   "source": [
    "### dependency\n"
   ]
  },
  {
   "cell_type": "code",
   "execution_count": 34,
   "metadata": {
    "ExecuteTime": {
     "end_time": "2020-09-15T09:30:10.911849Z",
     "start_time": "2020-09-15T09:30:10.904814Z"
    },
    "colab": {},
    "colab_type": "code",
    "executionInfo": {
     "elapsed": 6313,
     "status": "ok",
     "timestamp": 1600401256723,
     "user": {
      "displayName": "김한빛",
      "photoUrl": "",
      "userId": "16905169175399423651"
     },
     "user_tz": -540
    },
    "id": "DObE8Ut3Rpd8"
   },
   "outputs": [],
   "source": [
    "df_train['dependency'] = np.sqrt(df_train['SQBdependency'])\n",
    "df_test['dependency'] = np.sqrt(df_test['SQBdependency'])"
   ]
  },
  {
   "cell_type": "markdown",
   "metadata": {
    "ExecuteTime": {
     "end_time": "2020-09-09T15:18:01.606844Z",
     "start_time": "2020-09-09T15:18:01.600867Z"
    },
    "colab_type": "text",
    "id": "TeHl8KpIRpd-"
   },
   "source": [
    "### edjefe\n",
    "- 교육연수가 있다는 가정하에 남자 가장의 교육 연수를 뜻한다. \n",
    "- yes ->1 , no ->0으로 대체한다."
   ]
  },
  {
   "cell_type": "code",
   "execution_count": 35,
   "metadata": {
    "ExecuteTime": {
     "end_time": "2020-09-15T09:30:10.935818Z",
     "start_time": "2020-09-15T09:30:10.915814Z"
    },
    "colab": {},
    "colab_type": "code",
    "executionInfo": {
     "elapsed": 6308,
     "status": "ok",
     "timestamp": 1600401256723,
     "user": {
      "displayName": "김한빛",
      "photoUrl": "",
      "userId": "16905169175399423651"
     },
     "user_tz": -540
    },
    "id": "Qo2Z6GZxRpd-"
   },
   "outputs": [],
   "source": [
    "def replace_edjefe(x):\n",
    "    if x == 'yes':\n",
    "        return 1\n",
    "    elif x == 'no':\n",
    "        return 0\n",
    "    else:\n",
    "        return x\n",
    "    \n",
    "df_train['edjefe'] = df_train['edjefe'].apply(replace_edjefe).astype(float)\n",
    "df_test['edjefe'] = df_test['edjefe'].apply(replace_edjefe).astype(float)"
   ]
  },
  {
   "cell_type": "markdown",
   "metadata": {
    "colab_type": "text",
    "id": "KvjPTAByRpeA"
   },
   "source": [
    "### edjefa\n",
    "- 교육연수가 있다는 가정하에 여자 가장의 교육연수를 의미한다. \n",
    "- yes->1, no->0으로 대체한다."
   ]
  },
  {
   "cell_type": "code",
   "execution_count": 36,
   "metadata": {
    "ExecuteTime": {
     "end_time": "2020-09-15T09:30:10.958850Z",
     "start_time": "2020-09-15T09:30:10.937816Z"
    },
    "colab": {},
    "colab_type": "code",
    "executionInfo": {
     "elapsed": 6304,
     "status": "ok",
     "timestamp": 1600401256724,
     "user": {
      "displayName": "김한빛",
      "photoUrl": "",
      "userId": "16905169175399423651"
     },
     "user_tz": -540
    },
    "id": "No4BNan2RpeA"
   },
   "outputs": [],
   "source": [
    "def replace_edjefa(x):\n",
    "    if x == 'yes':\n",
    "        return 1\n",
    "    elif x == 'no':\n",
    "        return 0\n",
    "    else:\n",
    "        return x\n",
    "\n",
    "df_train['edjefa'] = df_train['edjefa'].apply(replace_edjefa).astype(float)\n",
    "df_test['edjefa'] = df_test['edjefa'].apply(replace_edjefa).astype(float)"
   ]
  },
  {
   "cell_type": "code",
   "execution_count": 37,
   "metadata": {
    "ExecuteTime": {
     "end_time": "2020-09-15T09:30:10.976817Z",
     "start_time": "2020-09-15T09:30:10.961815Z"
    },
    "colab": {},
    "colab_type": "code",
    "executionInfo": {
     "elapsed": 6300,
     "status": "ok",
     "timestamp": 1600401256724,
     "user": {
      "displayName": "김한빛",
      "photoUrl": "",
      "userId": "16905169175399423651"
     },
     "user_tz": -540
    },
    "id": "0Sjj6D-gRpeD"
   },
   "outputs": [],
   "source": [
    "# 여자나 남자 중에 가장의 교육연수가 가장 큰 값으로 변수를 생성한다.\n",
    "df_train['edjef'] = np.max(df_train[['edjefa','edjefe']], axis=1)\n",
    "df_test['edjef'] = np.max(df_test[['edjefa','edjefe']], axis=1)"
   ]
  },
  {
   "cell_type": "markdown",
   "metadata": {
    "colab_type": "text",
    "id": "7FHmB0EtRpeF"
   },
   "source": [
    "### roof and electricity"
   ]
  },
  {
   "cell_type": "code",
   "execution_count": 38,
   "metadata": {
    "ExecuteTime": {
     "end_time": "2020-09-15T09:30:12.853860Z",
     "start_time": "2020-09-15T09:30:10.978819Z"
    },
    "colab": {},
    "colab_type": "code",
    "executionInfo": {
     "elapsed": 7470,
     "status": "ok",
     "timestamp": 1600401257898,
     "user": {
      "displayName": "김한빛",
      "photoUrl": "",
      "userId": "16905169175399423651"
     },
     "user_tz": -540
    },
    "id": "kswro2ZkRpeG"
   },
   "outputs": [],
   "source": [
    "# 초기화\n",
    "df_train['roof_waste_material'] = np.nan\n",
    "df_test['roof_waste_material'] = np.nan\n",
    "df_train['electricity_other'] = np.nan\n",
    "df_test['electricity_other'] = np.nan\n",
    "\n",
    "def fill_roof_exception(x):\n",
    "    if (x['techozinc'] == 0) and (x['techoentrepiso'] == 0) and (x['techocane'] == 0) and (x['techootro'] == 0) :\n",
    "        return 1\n",
    "    else:\n",
    "        return 0\n",
    "    \n",
    "def fill_no_electricity(x):\n",
    "    if (x['public'] == 0) and (x['planpri'] == 0) and (x['noelec'] == 0) and (x['coopele'] == 0) :\n",
    "        return 1\n",
    "    else:\n",
    "        return 0\n",
    "    \n",
    "df_train['roof_waste_material'] = df_train.apply(lambda x : fill_roof_exception(x), axis=1)\n",
    "df_test['roof_waste_material'] = df_test.apply(lambda x : fill_roof_exception(x), axis=1)\n",
    "df_train['electricity_other'] = df_train.apply(lambda x : fill_no_electricity(x), axis=1)\n",
    "df_test['electricity_other'] = df_test.apply(lambda x : fill_no_electricity(x), axis=1)"
   ]
  },
  {
   "cell_type": "markdown",
   "metadata": {
    "colab_type": "text",
    "id": "PMJxFUl-RpeH"
   },
   "source": [
    "## 카테고리 변수 추출"
   ]
  },
  {
   "cell_type": "code",
   "execution_count": 39,
   "metadata": {
    "ExecuteTime": {
     "end_time": "2020-09-15T09:30:13.007461Z",
     "start_time": "2020-09-15T09:30:12.856866Z"
    },
    "colab": {
     "base_uri": "https://localhost:8080/",
     "height": 0
    },
    "colab_type": "code",
    "executionInfo": {
     "elapsed": 7467,
     "status": "ok",
     "timestamp": 1600401257900,
     "user": {
      "displayName": "김한빛",
      "photoUrl": "",
      "userId": "16905169175399423651"
     },
     "user_tz": -540
    },
    "id": "RVIEkff6RpeI",
    "outputId": "4e87fb4d-d4ed-42ca-fbde-38fd8fb6cd61"
   },
   "outputs": [
    {
     "data": {
      "text/plain": [
       "103"
      ]
     },
     "execution_count": 39,
     "metadata": {
      "tags": []
     },
     "output_type": "execute_result"
    }
   ],
   "source": [
    "binary_cat_features = [col for col in df_train.columns if df_train[col].value_counts().shape[0] == 2]\n",
    "len(binary_cat_features) # 이진 카테고리 변수 추출 "
   ]
  },
  {
   "cell_type": "markdown",
   "metadata": {
    "colab_type": "text",
    "id": "pbKtfSVCRpeK"
   },
   "source": [
    "## 2.3 연속형 변수를 사용하여 새로운 변수 생성"
   ]
  },
  {
   "cell_type": "markdown",
   "metadata": {
    "colab_type": "text",
    "id": "G6aBktMMRpeK"
   },
   "source": [
    "### 연속형 변수 컬럼 추출"
   ]
  },
  {
   "cell_type": "code",
   "execution_count": 40,
   "metadata": {
    "ExecuteTime": {
     "end_time": "2020-09-15T09:30:13.013426Z",
     "start_time": "2020-09-15T09:30:13.009472Z"
    },
    "colab": {},
    "colab_type": "code",
    "executionInfo": {
     "elapsed": 7464,
     "status": "ok",
     "timestamp": 1600401257901,
     "user": {
      "displayName": "김한빛",
      "photoUrl": "",
      "userId": "16905169175399423651"
     },
     "user_tz": -540
    },
    "id": "qHqll3yhRpeL"
   },
   "outputs": [],
   "source": [
    "continuous_features = [col for col in df_train.columns if col not in binary_cat_features] # unique한 value가 2개일 경우(이진 값)\n",
    "continuous_features = [col for col in continuous_features if col not in features_object]\n",
    "continuous_features = [col for col in continuous_features if col not in ['Id', 'Target','idhogar']]"
   ]
  },
  {
   "cell_type": "code",
   "execution_count": 41,
   "metadata": {
    "ExecuteTime": {
     "end_time": "2020-09-15T09:30:13.044426Z",
     "start_time": "2020-09-15T09:30:13.016426Z"
    },
    "colab": {
     "base_uri": "https://localhost:8080/",
     "height": 0
    },
    "colab_type": "code",
    "executionInfo": {
     "elapsed": 7459,
     "status": "ok",
     "timestamp": 1600401257901,
     "user": {
      "displayName": "김한빛",
      "photoUrl": "",
      "userId": "16905169175399423651"
     },
     "user_tz": -540
    },
    "id": "bfUo626yRpeM",
    "outputId": "63f2f942-520f-4279-e86f-560eb957f52c"
   },
   "outputs": [
    {
     "name": "stdout",
     "output_type": "stream",
     "text": [
      "Threr are 37 continuous features\n",
      "v2a1: ['월세납부']\n",
      "rooms: ['집 안의 모든 방의 수']\n",
      "v18q1: ['가구 소유의 태블릿 수']\n",
      "r4h1: ['12세 미만의 남성']\n",
      "r4h2: ['남성 12세 이상']\n",
      "r4h3: ['가구원수합계']\n",
      "r4m1: ['12세 이하 여성']\n",
      "r4m2: ['12세 이상 여성']\n",
      "r4m3: ['가구원 총여성']\n",
      "r4t1: ['12세 이하인 사람']\n",
      "r4t2: ['12세 이상']\n",
      "r4t3: ['가구원 합계']\n",
      "tamhog: ['가구원수']\n",
      "tamviv: ['가구원수']\n",
      "escolari: ['다년간의 교육']\n",
      "rez_esc: ['학창시절 몇년 뒤']\n",
      "hhsize: ['가구 크기']\n",
      "elimbasu5: ['=1 주로 강, 하천 또는 바다에 투척하여 쓰레기를 처리하는 경우']\n",
      "hogar_nin: ['0~19세인 가구원 수 ']\n",
      "hogar_adul: ['어른인 가구원수']\n",
      "hogar_mayor: ['65세 이상인 가구원수 ']\n",
      "hogar_total: ['가구원 총 인원수']\n",
      "meaneduc: ['평균 성인 교육년(18+)']\n",
      "bedrooms: ['침실 수']\n",
      "overcrowding: ['# 객실당 인원수']\n",
      "qmobilephone: ['휴대전화 번호']\n",
      "age: ['연령']\n",
      "SQBescolari: ['에스코라리 제곱']\n",
      "SQBage: ['나이 제곱']\n",
      "SQBhogar_total: ['hogar_total 제곱']\n",
      "SQBedjefe: ['에드제프 제곱']\n",
      "SQBhogar_nin: ['hogar_nin 제곱']\n",
      "SQBovercrowding: ['과밀 제곱']\n",
      "SQBdependency: ['종속성 제곱']\n",
      "SQBmeaned: ['평균 제곱']\n",
      "agesq: ['나이 제곱']\n",
      "edjef: []\n"
     ]
    }
   ],
   "source": [
    "print('Threr are {} continuous features'.format(len(continuous_features)))\n",
    "for col in continuous_features:\n",
    "    print('{}: {}'.format(col, description_ko.loc[description_ko['varname'] == col, 'description'].values))"
   ]
  },
  {
   "cell_type": "markdown",
   "metadata": {
    "colab_type": "text",
    "id": "0j_UlYJrRpeO"
   },
   "source": [
    "- hhsize : household size\n",
    "- tamhog : size of the household\n",
    "\n",
    "두변수의 의미가 같으므로, tamhog는 삭제한다."
   ]
  },
  {
   "cell_type": "code",
   "execution_count": 42,
   "metadata": {
    "ExecuteTime": {
     "end_time": "2020-09-15T09:30:13.135432Z",
     "start_time": "2020-09-15T09:30:13.046428Z"
    },
    "colab": {},
    "colab_type": "code",
    "executionInfo": {
     "elapsed": 7456,
     "status": "ok",
     "timestamp": 1600401257902,
     "user": {
      "displayName": "김한빛",
      "photoUrl": "",
      "userId": "16905169175399423651"
     },
     "user_tz": -540
    },
    "id": "iXT9zc2kRpeO"
   },
   "outputs": [],
   "source": [
    "df_train.drop('tamhog', axis=1, inplace=True)\n",
    "df_test.drop('tamhog', axis=1, inplace=True)"
   ]
  },
  {
   "cell_type": "markdown",
   "metadata": {
    "ExecuteTime": {
     "end_time": "2020-09-11T03:31:02.422532Z",
     "start_time": "2020-09-11T03:31:02.420600Z"
    },
    "colab_type": "text",
    "id": "IlU2Fo5URpeQ"
   },
   "source": [
    "### 새로운 변수 생성"
   ]
  },
  {
   "cell_type": "markdown",
   "metadata": {
    "colab_type": "text",
    "id": "4hawf8Y_RpeS"
   },
   "source": [
    "- Squared features\n",
    "    - 많은 squared features 가 있다. 사실은 lightgbm과 같은 트리 모델에서는 그들이 필요 없다. 하지만 커널에서는 우리는 classfier로써 임배딩되어 있는 features 필터와 set entity로써는 lightgbm으로 사용할 수 있다. 그러니 지금은 그냥 두자.\n",
    "    \n",
    "- Family features\n",
    "    - hogar_nin, hogar_adul, hogar_mayor, hogar_total, r4h1, r4h2, r4h3, r4m1, r4m2, r4m3, r4t1, r4t2, r4t3, tmbhog, tamvid, rez_esc, escolari\n",
    "    - Family size features(추출 및 비율구하기)"
   ]
  },
  {
   "cell_type": "code",
   "execution_count": 43,
   "metadata": {
    "ExecuteTime": {
     "end_time": "2020-09-15T09:30:13.170428Z",
     "start_time": "2020-09-15T09:30:13.138428Z"
    },
    "colab": {},
    "colab_type": "code",
    "executionInfo": {
     "elapsed": 7453,
     "status": "ok",
     "timestamp": 1600401257902,
     "user": {
      "displayName": "김한빛",
      "photoUrl": "",
      "userId": "16905169175399423651"
     },
     "user_tz": -540
    },
    "id": "kZWKQMfDRpeT"
   },
   "outputs": [],
   "source": [
    "df_train['adult']= df_train['hogar_adul'] - df_train['hogar_mayor']# 65이하 성인 명수\n",
    "df_train['dependency_count'] = df_train['hogar_nin'] + df_train['hogar_mayor']# 65이상 노인과 0~19살 어린이,청소년\n",
    "df_train['dependency'] = df_train['dependency_count'] / df_train['adult']# 의존률 노약자/성인\n",
    "df_train['child_percent'] = df_train['hogar_nin'] / df_train['hogar_total']# 어린이 비율\n",
    "df_train['elder_percent'] = df_train['hogar_mayor'] / df_train['hogar_total']# 노인 비율\n",
    "df_train['adult_percent'] = df_train['hogar_adul'] / df_train['hogar_total'] # 성인 비율 \n",
    "df_train['males_younger_12_years_percent'] = df_train['r4h1'] / df_train['hogar_total'] # 12세 이하 남자 비율 \n",
    "df_train['males_older_12_years_percent'] = df_train['r4h2'] / df_train['hogar_total'] # 12세 이상 남자 비율 \n",
    "df_train['males_percent'] = df_train['r4h3'] / df_train['hogar_total'] # 총 가구원수의 남자 비율 \n",
    "df_train['females_younger_12_years_percent'] = df_train['r4m1'] / df_train['hogar_total'] # 12세 이하 여자 비율 \n",
    "df_train['females_older_12_years_percent'] = df_train['r4m2'] / df_train['hogar_total'] # 12세 이상 여자 비율 \n",
    "df_train['females_percent'] = df_train['r4m3'] / df_train['hogar_total'] # 총 가구원수의 여자 비율 \n",
    "df_train['persons_younger_12_years_percent'] = df_train['r4t1'] / df_train['hogar_total'] # 12세 이하 가구원수 비율 \n",
    "df_train['persons_older_12_years_percent'] = df_train['r4t2'] / df_train['hogar_total'] # 12세 이상 가구원수 비율 \n",
    "df_train['persons_percent'] = df_train['r4t3'] / df_train['hogar_total'] # 총 성인의 가구원수 비율 "
   ]
  },
  {
   "cell_type": "code",
   "execution_count": 44,
   "metadata": {
    "ExecuteTime": {
     "end_time": "2020-09-15T09:30:13.206463Z",
     "start_time": "2020-09-15T09:30:13.172426Z"
    },
    "colab": {},
    "colab_type": "code",
    "executionInfo": {
     "elapsed": 7851,
     "status": "ok",
     "timestamp": 1600401258304,
     "user": {
      "displayName": "김한빛",
      "photoUrl": "",
      "userId": "16905169175399423651"
     },
     "user_tz": -540
    },
    "id": "hqtL-oYhRpeU"
   },
   "outputs": [],
   "source": [
    "# 남자, 여자 , 총인원의 가구원수의 비율 \n",
    "df_test['adult']= df_test['hogar_adul'] - df_test['hogar_mayor'] # 65이하 성인 명수\n",
    "df_test['dependency_count'] = df_test['hogar_nin'] + df_test['hogar_mayor'] # 65이상 노인과 0~19살 어린이,청소년\n",
    "df_test['dependency'] = df_test['dependency_count'] / df_test['adult'] # 의존률 노약자/성인\n",
    "df_test['child_percent'] = df_test['hogar_nin'] / df_test['hogar_total'] # 어린이 비율\n",
    "df_test['elder_percent'] = df_test['hogar_mayor'] / df_test['hogar_total'] # 노인 비율\n",
    "df_test['adult_percent'] = df_test['hogar_adul'] / df_test['hogar_total'] # 성인 비율 \n",
    "df_test['males_younger_12_years_percent'] = df_test['r4h1'] / df_test['hogar_total'] # 12세 이하 남자 비율 \n",
    "df_test['males_older_12_years_percent'] = df_test['r4h2'] / df_test['hogar_total'] # 12세 이상 남자 비율 \n",
    "df_test['males_percent'] = df_test['r4h3'] / df_test['hogar_total']# 총 가구원수의 남자 비율 \n",
    "df_test['females_younger_12_years_percent'] = df_test['r4m1'] / df_test['hogar_total']# 12세 이하 여자 비율 \n",
    "df_test['females_older_12_years_percent'] = df_test['r4m2'] / df_test['hogar_total']# 12세 이상 여자 비율 \n",
    "df_test['females_percent'] = df_test['r4m3'] / df_test['hogar_total']# 총 가구원수의 여자 비율 \n",
    "df_test['persons_younger_12_years_percent'] = df_test['r4t1'] / df_test['hogar_total'] # 12세 이하 가구원수 비율 \n",
    "df_test['persons_older_12_years_percent'] = df_test['r4t2'] / df_test['hogar_total']# 12세 이상 가구원수 비율\n",
    "df_test['persons_percent'] = df_test['r4t3'] / df_test['hogar_total'] # 총 성인의 가구원수 비율 "
   ]
  },
  {
   "cell_type": "code",
   "execution_count": 45,
   "metadata": {
    "ExecuteTime": {
     "end_time": "2020-09-15T09:30:13.229463Z",
     "start_time": "2020-09-15T09:30:13.209425Z"
    },
    "colab": {},
    "colab_type": "code",
    "executionInfo": {
     "elapsed": 7847,
     "status": "ok",
     "timestamp": 1600401258304,
     "user": {
      "displayName": "김한빛",
      "photoUrl": "",
      "userId": "16905169175399423651"
     },
     "user_tz": -540
    },
    "id": "mCfYRjBqRpeW"
   },
   "outputs": [],
   "source": [
    "# 남자, 여자 , 총인원의 가구원수의 비율 \n",
    "df_train['males_younger_12_years_in_householde_size'] = df_train['r4h1'] / df_train['hhsize']\n",
    "df_train['males_older_12_years_in_householde_size'] = df_train['r4h2'] / df_train['hhsize']\n",
    "df_train['males_in_householde_size'] = df_train['r4h3'] / df_train['hhsize']\n",
    "df_train['females_younger_12_years_in_householde_size'] = df_train['r4m1'] / df_train['hhsize']\n",
    "df_train['females_older_12_years_in_householde_size'] = df_train['r4m2'] / df_train['hhsize']\n",
    "df_train['females_in_householde_size'] = df_train['r4m3'] / df_train['hogar_total']\n",
    "df_train['persons_younger_12_years_in_householde_size'] = df_train['r4t1'] / df_train['hhsize']\n",
    "df_train['persons_older_12_years_in_householde_size'] = df_train['r4t2'] / df_train['hhsize']\n",
    "df_train['persons_in_householde_size'] = df_train['r4t3'] / df_train['hhsize']"
   ]
  },
  {
   "cell_type": "code",
   "execution_count": 46,
   "metadata": {
    "ExecuteTime": {
     "end_time": "2020-09-15T09:30:13.253462Z",
     "start_time": "2020-09-15T09:30:13.233426Z"
    },
    "colab": {},
    "colab_type": "code",
    "executionInfo": {
     "elapsed": 7844,
     "status": "ok",
     "timestamp": 1600401258305,
     "user": {
      "displayName": "김한빛",
      "photoUrl": "",
      "userId": "16905169175399423651"
     },
     "user_tz": -540
    },
    "id": "rCYWHNuFRpeY"
   },
   "outputs": [],
   "source": [
    "# 남자, 여자 , 총인원의 가구원수의 비율 \n",
    "df_test['males_younger_12_years_in_householde_size'] = df_test['r4h1'] / df_test['hhsize']\n",
    "df_test['males_older_12_years_in_householde_size'] = df_test['r4h2'] / df_test['hhsize']\n",
    "df_test['males_in_householde_size'] = df_test['r4h3'] / df_test['hhsize']\n",
    "df_test['females_younger_12_years_in_householde_size'] = df_test['r4m1'] / df_test['hhsize']\n",
    "df_test['females_older_12_years_in_householde_size'] = df_test['r4m2'] / df_test['hhsize']\n",
    "df_test['females_in_householde_size'] = df_test['r4m3'] / df_test['hogar_total']\n",
    "df_test['persons_younger_12_years_in_householde_size'] = df_test['r4t1'] / df_test['hhsize']\n",
    "df_test['persons_older_12_years_in_householde_size'] = df_test['r4t2'] / df_test['hhsize']\n",
    "df_test['persons_in_householde_size'] = df_test['r4t3'] / df_test['hhsize']"
   ]
  },
  {
   "cell_type": "code",
   "execution_count": 47,
   "metadata": {
    "ExecuteTime": {
     "end_time": "2020-09-15T09:30:13.265427Z",
     "start_time": "2020-09-15T09:30:13.256428Z"
    },
    "colab": {},
    "colab_type": "code",
    "executionInfo": {
     "elapsed": 7841,
     "status": "ok",
     "timestamp": 1600401258305,
     "user": {
      "displayName": "김한빛",
      "photoUrl": "",
      "userId": "16905169175399423651"
     },
     "user_tz": -540
    },
    "id": "wElHp89kRpeb"
   },
   "outputs": [],
   "source": [
    " # 침실 평균 최대 수용인원 \n",
    "df_train['overcrowding_room_and_bedroom'] = (df_train['hacdor'] + df_train['hacapo'])/2\n",
    "df_test['overcrowding_room_and_bedroom'] = (df_test['hacdor'] + df_test['hacapo'])/2"
   ]
  },
  {
   "cell_type": "code",
   "execution_count": 48,
   "metadata": {
    "ExecuteTime": {
     "end_time": "2020-09-15T09:30:13.277428Z",
     "start_time": "2020-09-15T09:30:13.267426Z"
    },
    "colab": {},
    "colab_type": "code",
    "executionInfo": {
     "elapsed": 7838,
     "status": "ok",
     "timestamp": 1600401258306,
     "user": {
      "displayName": "김한빛",
      "photoUrl": "",
      "userId": "16905169175399423651"
     },
     "user_tz": -540
    },
    "id": "d0ffdaXJRped"
   },
   "outputs": [],
   "source": [
    "# 나이대별 교육 연수\n",
    "df_train['escolari_age'] = df_train['escolari'] / df_train['age']\n",
    "df_test['escolari_age'] = df_test['escolari'] / df_test['age']\n",
    "\n",
    "df_train['age_12_19'] = df_train['hogar_nin'] - df_train['r4t1']\n",
    "df_test['age_12_19'] = df_test['hogar_nin'] - df_test['r4t1']\n",
    "\n"
   ]
  },
  {
   "cell_type": "code",
   "execution_count": 49,
   "metadata": {
    "ExecuteTime": {
     "end_time": "2020-09-15T09:30:13.302427Z",
     "start_time": "2020-09-15T09:30:13.279426Z"
    },
    "colab": {},
    "colab_type": "code",
    "executionInfo": {
     "elapsed": 7833,
     "status": "ok",
     "timestamp": 1600401258306,
     "user": {
      "displayName": "김한빛",
      "photoUrl": "",
      "userId": "16905169175399423651"
     },
     "user_tz": -540
    },
    "id": "-wJqHuaZRpeg"
   },
   "outputs": [],
   "source": [
    "# 실제 가구원수의 생활 방식 비율 \n",
    "df_train['phones-per-capita'] = df_train['qmobilephone'] / df_train['tamviv']\n",
    "df_train['tablets-per-capita'] = df_train['v18q1'] / df_train['tamviv']\n",
    "df_train['rooms-per-capita'] = df_train['rooms'] / df_train['tamviv']\n",
    "df_train['rent-per-capita'] = df_train['v2a1'] / df_train['tamviv']\n",
    "\n",
    "df_test['phones-per-capita'] = df_test['qmobilephone'] / df_test['tamviv']\n",
    "df_test['tablets-per-capita'] = df_test['v18q1'] / df_test['tamviv']\n",
    "df_test['rooms-per-capita'] = df_test['rooms'] / df_test['tamviv']\n",
    "df_test['rent-per-capita'] = df_test['v2a1'] / df_test['tamviv']"
   ]
  },
  {
   "cell_type": "markdown",
   "metadata": {
    "colab_type": "text",
    "id": "82toJSiTRpeh"
   },
   "source": [
    "- 우리는 \"Total persons in the household\"와 \"# of total individuals in the household\"가 같지 않음을 확인할 수 있다.\n",
    "- 조금 이상하긴 하지만 지금은 그냥 둔다"
   ]
  },
  {
   "cell_type": "code",
   "execution_count": 50,
   "metadata": {
    "ExecuteTime": {
     "end_time": "2020-09-15T09:30:13.316427Z",
     "start_time": "2020-09-15T09:30:13.306429Z"
    },
    "colab": {
     "base_uri": "https://localhost:8080/",
     "height": 0
    },
    "colab_type": "code",
    "executionInfo": {
     "elapsed": 7829,
     "status": "ok",
     "timestamp": 1600401258307,
     "user": {
      "displayName": "김한빛",
      "photoUrl": "",
      "userId": "16905169175399423651"
     },
     "user_tz": -540
    },
    "id": "bteXgYjjRpei",
    "outputId": "5eb3dee8-99a9-42de-dc5c-6a06d09579d0"
   },
   "outputs": [
    {
     "data": {
      "text/plain": [
       "9509"
      ]
     },
     "execution_count": 50,
     "metadata": {
      "tags": []
     },
     "output_type": "execute_result"
    }
   ],
   "source": [
    "(df_train['hogar_total'] == df_train['r4t3']).sum()"
   ]
  },
  {
   "cell_type": "markdown",
   "metadata": {
    "ExecuteTime": {
     "end_time": "2020-09-11T03:30:25.402020Z",
     "start_time": "2020-09-11T03:30:25.398789Z"
    },
    "colab_type": "text",
    "id": "Mt3yEaMcRpel"
   },
   "source": [
    "### 가족 변수의 대출 비율\n",
    "Rent per family features"
   ]
  },
  {
   "cell_type": "code",
   "execution_count": 51,
   "metadata": {
    "ExecuteTime": {
     "end_time": "2020-09-15T09:30:13.358462Z",
     "start_time": "2020-09-15T09:30:13.319426Z"
    },
    "colab": {},
    "colab_type": "code",
    "executionInfo": {
     "elapsed": 7824,
     "status": "ok",
     "timestamp": 1600401258307,
     "user": {
      "displayName": "김한빛",
      "photoUrl": "",
      "userId": "16905169175399423651"
     },
     "user_tz": -540
    },
    "id": "k0O038gORpel"
   },
   "outputs": [],
   "source": [
    "family_size_features= ['adult', 'hogar_adul', 'hogar_mayor', 'hogar_nin', 'hogar_total', 'r4h1', \n",
    "                        'r4h2', 'r4h3', 'r4m1', 'r4m2', 'r4m3', 'r4t1', 'r4t2', 'r4t3', 'hhsize']\n",
    "new_feats = []\n",
    "for col in family_size_features:\n",
    "    new_col_name = 'new_{}_per_{}'.format('v2a1', col)\n",
    "    new_feats.append(new_col_name)\n",
    "    df_train[new_col_name] = df_train['v2a1'] / df_train[col]\n",
    "    df_test[new_col_name] = df_test['v2a1'] / df_test[col]"
   ]
  },
  {
   "cell_type": "markdown",
   "metadata": {
    "colab_type": "text",
    "id": "I-wXygIDRpen"
   },
   "source": [
    "- Ratio 변수는 값이 무한으로 갈수 있다. 그런 값들은 0으로 처리한다."
   ]
  },
  {
   "cell_type": "code",
   "execution_count": 52,
   "metadata": {
    "ExecuteTime": {
     "end_time": "2020-09-15T09:30:13.390428Z",
     "start_time": "2020-09-15T09:30:13.360462Z"
    },
    "colab": {},
    "colab_type": "code",
    "executionInfo": {
     "elapsed": 7820,
     "status": "ok",
     "timestamp": 1600401258308,
     "user": {
      "displayName": "김한빛",
      "photoUrl": "",
      "userId": "16905169175399423651"
     },
     "user_tz": -540
    },
    "id": "Q4MQKg-3Rpeo"
   },
   "outputs": [],
   "source": [
    "for col in new_feats:\n",
    "    df_train[col].replace([np.inf], np.nan, inplace=True)\n",
    "    df_train[col].fillna(0, inplace=True)\n",
    "    \n",
    "    df_test[col].replace([np.inf], np.nan, inplace=True)\n",
    "    df_test[col].fillna(0, inplace=True)"
   ]
  },
  {
   "cell_type": "markdown",
   "metadata": {
    "colab_type": "text",
    "id": "F2bjky4mRpeq"
   },
   "source": [
    "### 가족 변수의 방 비율 \n",
    "Room per family features"
   ]
  },
  {
   "cell_type": "code",
   "execution_count": 53,
   "metadata": {
    "ExecuteTime": {
     "end_time": "2020-09-15T09:30:13.456461Z",
     "start_time": "2020-09-15T09:30:13.392429Z"
    },
    "colab": {},
    "colab_type": "code",
    "executionInfo": {
     "elapsed": 7814,
     "status": "ok",
     "timestamp": 1600401258308,
     "user": {
      "displayName": "김한빛",
      "photoUrl": "",
      "userId": "16905169175399423651"
     },
     "user_tz": -540
    },
    "id": "jCoqL7XSRpeq"
   },
   "outputs": [],
   "source": [
    "new_feats = []\n",
    "for col in family_size_features:\n",
    "    new_col_name = 'new_{}_per_{}'.format('rooms', col)\n",
    "    new_feats.append(new_col_name)\n",
    "    df_train[new_col_name] = df_train['rooms'] / df_train[col]\n",
    "    df_test[new_col_name] = df_test['rooms'] / df_test[col]\n",
    "    \n",
    "for col in new_feats:\n",
    "    df_train[col].replace([np.inf], np.nan, inplace=True)\n",
    "    df_train[col].fillna(0, inplace=True)\n",
    "    \n",
    "    df_test[col].replace([np.inf], np.nan, inplace=True)\n",
    "    df_test[col].fillna(0, inplace=True)"
   ]
  },
  {
   "cell_type": "markdown",
   "metadata": {
    "colab_type": "text",
    "id": "A86fazRYRpes"
   },
   "source": [
    "### 가족 변수의 침대 비율 \n",
    "BedRoom per family features"
   ]
  },
  {
   "cell_type": "code",
   "execution_count": 54,
   "metadata": {
    "ExecuteTime": {
     "end_time": "2020-09-15T09:30:13.529426Z",
     "start_time": "2020-09-15T09:30:13.458426Z"
    },
    "colab": {},
    "colab_type": "code",
    "executionInfo": {
     "elapsed": 7808,
     "status": "ok",
     "timestamp": 1600401258308,
     "user": {
      "displayName": "김한빛",
      "photoUrl": "",
      "userId": "16905169175399423651"
     },
     "user_tz": -540
    },
    "id": "3vqF4g3ERpes"
   },
   "outputs": [],
   "source": [
    "new_feats = []\n",
    "for col in family_size_features:\n",
    "    new_col_name = 'new_{}_per_{}'.format('bedrooms', col)\n",
    "    new_feats.append(new_col_name)\n",
    "    df_train[new_col_name] = df_train['bedrooms'] / df_train[col]\n",
    "    df_test[new_col_name] = df_test['bedrooms'] / df_test[col]\n",
    "    \n",
    "for col in new_feats:\n",
    "    df_train[col].replace([np.inf], np.nan, inplace=True)\n",
    "    df_train[col].fillna(0, inplace=True)\n",
    "    \n",
    "    df_test[col].replace([np.inf], np.nan, inplace=True)\n",
    "    df_test[col].fillna(0, inplace=True)"
   ]
  },
  {
   "cell_type": "code",
   "execution_count": 55,
   "metadata": {
    "ExecuteTime": {
     "end_time": "2020-09-15T09:30:13.538426Z",
     "start_time": "2020-09-15T09:30:13.533427Z"
    },
    "colab": {
     "base_uri": "https://localhost:8080/",
     "height": 0
    },
    "colab_type": "code",
    "executionInfo": {
     "elapsed": 7781,
     "status": "ok",
     "timestamp": 1600401258309,
     "user": {
      "displayName": "김한빛",
      "photoUrl": "",
      "userId": "16905169175399423651"
     },
     "user_tz": -540
    },
    "id": "ug1oa7LORpew",
    "outputId": "77be80e8-eeb0-4782-a1a7-d40ed1f4d39f"
   },
   "outputs": [
    {
     "name": "stdout",
     "output_type": "stream",
     "text": [
      "(9557, 220) (23856, 219)\n"
     ]
    }
   ],
   "source": [
    "# feature 갯수 확인\n",
    "print(df_train.shape, df_test.shape)"
   ]
  },
  {
   "cell_type": "markdown",
   "metadata": {
    "ExecuteTime": {
     "end_time": "2020-09-12T14:18:49.957216Z",
     "start_time": "2020-09-12T14:18:49.954646Z"
    },
    "colab_type": "text",
    "id": "1GiYQjS6Rpey"
   },
   "source": [
    "### 가족 변수의 태블릿 보유 비율\n",
    "Tabulet per family features"
   ]
  },
  {
   "cell_type": "code",
   "execution_count": 56,
   "metadata": {
    "ExecuteTime": {
     "end_time": "2020-09-15T09:30:13.603462Z",
     "start_time": "2020-09-15T09:30:13.541425Z"
    },
    "colab": {},
    "colab_type": "code",
    "executionInfo": {
     "elapsed": 7775,
     "status": "ok",
     "timestamp": 1600401258309,
     "user": {
      "displayName": "김한빛",
      "photoUrl": "",
      "userId": "16905169175399423651"
     },
     "user_tz": -540
    },
    "id": "MD66vuWiRpey"
   },
   "outputs": [],
   "source": [
    "new_feats = []\n",
    "for col in family_size_features:\n",
    "    new_col_name = 'new_{}_per_{}'.format('v18q1', col)\n",
    "    new_feats.append(new_col_name)\n",
    "    df_train[new_col_name] = df_train['v18q1'] / df_train[col]\n",
    "    df_test[new_col_name] = df_test['v18q1'] / df_test[col]\n",
    "    \n",
    "for col in new_feats:\n",
    "    df_train[col].replace([np.inf], np.nan, inplace=True)\n",
    "    df_train[col].fillna(0, inplace=True)\n",
    "    \n",
    "    df_test[col].replace([np.inf], np.nan, inplace=True)\n",
    "    df_test[col].fillna(0, inplace=True)"
   ]
  },
  {
   "cell_type": "markdown",
   "metadata": {
    "ExecuteTime": {
     "end_time": "2020-09-12T14:18:49.957216Z",
     "start_time": "2020-09-12T14:18:49.954646Z"
    },
    "colab_type": "text",
    "id": "-Pm57tMLRpe2"
   },
   "source": [
    "### 가족 변수의 핸드폰 보유 비율\n",
    "phone per family features"
   ]
  },
  {
   "cell_type": "code",
   "execution_count": 57,
   "metadata": {
    "ExecuteTime": {
     "end_time": "2020-09-15T09:30:13.758426Z",
     "start_time": "2020-09-15T09:30:13.605464Z"
    },
    "colab": {},
    "colab_type": "code",
    "executionInfo": {
     "elapsed": 7772,
     "status": "ok",
     "timestamp": 1600401258310,
     "user": {
      "displayName": "김한빛",
      "photoUrl": "",
      "userId": "16905169175399423651"
     },
     "user_tz": -540
    },
    "id": "JBJmkGjrRpe2"
   },
   "outputs": [],
   "source": [
    "new_feats = []\n",
    "for col in family_size_features:\n",
    "    new_col_name = 'new_{}_per_{}'.format('qmobilephone', col)\n",
    "    new_feats.append(new_col_name)\n",
    "    df_train[new_col_name] = df_train['qmobilephone'] / df_train[col]\n",
    "    df_test[new_col_name] = df_test['qmobilephone'] / df_test[col]\n",
    "    \n",
    "for col in new_feats:\n",
    "    df_train[col].replace([np.inf], np.nan, inplace=True)\n",
    "    df_train[col].fillna(0, inplace=True)\n",
    "    \n",
    "    df_test[col].replace([np.inf], np.nan, inplace=True)\n",
    "    df_test[col].fillna(0, inplace=True)"
   ]
  },
  {
   "cell_type": "markdown",
   "metadata": {
    "ExecuteTime": {
     "end_time": "2020-09-12T14:18:49.957216Z",
     "start_time": "2020-09-12T14:18:49.954646Z"
    },
    "colab_type": "text",
    "id": "uBbKA7VERpe4"
   },
   "source": [
    "### 가족 변수의 학창 시절의 몇년뒤 비율\n",
    "rez_esc(Years behind in school:학창 시절의 몇년 뒤) per family features"
   ]
  },
  {
   "cell_type": "code",
   "execution_count": 58,
   "metadata": {
    "ExecuteTime": {
     "end_time": "2020-09-15T09:30:13.818463Z",
     "start_time": "2020-09-15T09:30:13.760426Z"
    },
    "colab": {},
    "colab_type": "code",
    "executionInfo": {
     "elapsed": 8004,
     "status": "ok",
     "timestamp": 1600401258547,
     "user": {
      "displayName": "김한빛",
      "photoUrl": "",
      "userId": "16905169175399423651"
     },
     "user_tz": -540
    },
    "id": "3fzZdd3DRpe4"
   },
   "outputs": [],
   "source": [
    "new_feats = []\n",
    "for col in family_size_features:\n",
    "    new_col_name = 'new_{}_per_{}'.format('rez_esc', col)\n",
    "    new_feats.append(new_col_name)\n",
    "    df_train[new_col_name] = df_train['rez_esc'] / df_train[col]\n",
    "    df_test[new_col_name] = df_test['rez_esc'] / df_test[col]\n",
    "    \n",
    "for col in new_feats:\n",
    "    df_train[col].replace([np.inf], np.nan, inplace=True)\n",
    "    df_train[col].fillna(0, inplace=True)\n",
    "    \n",
    "    df_test[col].replace([np.inf], np.nan, inplace=True)\n",
    "    df_test[col].fillna(0, inplace=True)"
   ]
  },
  {
   "cell_type": "code",
   "execution_count": 59,
   "metadata": {
    "ExecuteTime": {
     "end_time": "2020-09-15T09:30:13.832427Z",
     "start_time": "2020-09-15T09:30:13.820426Z"
    },
    "colab": {},
    "colab_type": "code",
    "executionInfo": {
     "elapsed": 8000,
     "status": "ok",
     "timestamp": 1600401258548,
     "user": {
      "displayName": "김한빛",
      "photoUrl": "",
      "userId": "16905169175399423651"
     },
     "user_tz": -540
    },
    "id": "L7UGVQcMRpe6"
   },
   "outputs": [],
   "source": [
    "df_train['rez_esc_age'] = df_train['rez_esc'] / df_train['age']\n",
    "df_train['rez_esc_escolari'] = df_train['rez_esc'] / df_train['escolari']\n",
    "\n",
    "df_test['rez_esc_age'] = df_test['rez_esc'] / df_test['age']\n",
    "df_test['rez_esc_escolari'] = df_test['rez_esc'] / df_test['escolari']"
   ]
  },
  {
   "cell_type": "markdown",
   "metadata": {
    "colab_type": "text",
    "id": "J1j7Kr-pRpe8"
   },
   "source": [
    "### Rich features\n",
    "- 필자는 phone이나 tabulet 많으면 부자라고 판단하고, 부자 관련 변수를 생성함"
   ]
  },
  {
   "cell_type": "code",
   "execution_count": 60,
   "metadata": {
    "ExecuteTime": {
     "end_time": "2020-09-15T09:30:13.841427Z",
     "start_time": "2020-09-15T09:30:13.834429Z"
    },
    "colab": {},
    "colab_type": "code",
    "executionInfo": {
     "elapsed": 7995,
     "status": "ok",
     "timestamp": 1600401258548,
     "user": {
      "displayName": "김한빛",
      "photoUrl": "",
      "userId": "16905169175399423651"
     },
     "user_tz": -540
    },
    "id": "m_osNNqCRpe8"
   },
   "outputs": [],
   "source": [
    "df_train['tabulet_x_qmobilephone'] = df_train['v18q1'] * df_train['qmobilephone']\n",
    "df_test['tabulet_x_qmobilephone'] = df_test['v18q1'] * df_test['qmobilephone']"
   ]
  },
  {
   "cell_type": "markdown",
   "metadata": {
    "colab_type": "text",
    "id": "g2OU9Od3Rpe_"
   },
   "source": [
    "- wall(벽), roof(지붕), floor(바닥)도 중요한 키요소이다.\n",
    "- 이제 변수들의 값을 곱해보자. 왜냐하면 그 변수들은 이진 카테고리 변수이기 때문이다. 그래서 각각의 변수들의 곱으로 새로운 카테고리 변수를 생성한다.\n",
    "    - \"epared1\",\" =1 if walls are bad\"\n",
    "    - \"epared2\",\" =1 if walls are regular\"\n",
    "    - \"epared3\",\" =1 if walls are good\"\n",
    "    - \"etecho1\",\" =1 if roof are bad\"\n",
    "    - \"etecho2\",\" =1 if roof are regular\"\n",
    "    - \"etecho3\",\" =1 if roof are good\"\n",
    "    - \"eviv1\",\" =1 if floor are bad\"\n",
    "    - \"eviv2\",\" =1 if floor are regular\"\n",
    "    - \"eviv3\",\" =1 if floor are good\""
   ]
  },
  {
   "cell_type": "code",
   "execution_count": 61,
   "metadata": {
    "ExecuteTime": {
     "end_time": "2020-09-15T09:30:13.902460Z",
     "start_time": "2020-09-15T09:30:13.844427Z"
    },
    "colab": {},
    "colab_type": "code",
    "executionInfo": {
     "elapsed": 7991,
     "status": "ok",
     "timestamp": 1600401258549,
     "user": {
      "displayName": "김한빛",
      "photoUrl": "",
      "userId": "16905169175399423651"
     },
     "user_tz": -540
    },
    "id": "cGajyQFjRpe_"
   },
   "outputs": [],
   "source": [
    "# wall and roof\n",
    "for col1 in ['epared1','epared2','epared3']:\n",
    "    for col2 in ['etecho1','etecho2','etecho3']:\n",
    "        new_col_name = 'new_{}_x_{}'.format(col1, col2)\n",
    "        df_train[new_col_name] = df_train[col1] * df_train[col2]\n",
    "        df_test[new_col_name] = df_test[col1] * df_test[col2]\n",
    "        \n",
    "# wall and floor\n",
    "for col1 in ['epared1','epared2','epared3']:\n",
    "    for col2 in ['eviv1','eviv2','eviv3']:\n",
    "        new_col_name = 'new_{}_x_{}'.format(col1, col2)\n",
    "        df_train[new_col_name] = df_train[col1] * df_train[col2]\n",
    "        df_test[new_col_name] = df_test[col1] * df_test[col2]\n",
    "        \n",
    "        \n",
    "# roof and floor\n",
    "for col1 in ['etecho1','etecho2','etecho3']:\n",
    "    for col2 in ['eviv1','eviv2','eviv3']:\n",
    "        new_col_name = 'new_{}_x_{}'.format(col1, col2)\n",
    "        df_train[new_col_name] = df_train[col1] * df_train[col2]\n",
    "        df_test[new_col_name] = df_test[col1] * df_test[col2]"
   ]
  },
  {
   "cell_type": "code",
   "execution_count": 62,
   "metadata": {
    "ExecuteTime": {
     "end_time": "2020-09-15T09:30:14.013461Z",
     "start_time": "2020-09-15T09:30:13.904461Z"
    },
    "colab": {},
    "colab_type": "code",
    "executionInfo": {
     "elapsed": 7985,
     "status": "ok",
     "timestamp": 1600401258549,
     "user": {
      "displayName": "김한빛",
      "photoUrl": "",
      "userId": "16905169175399423651"
     },
     "user_tz": -540
    },
    "id": "IwXDHsFqRpfB"
   },
   "outputs": [],
   "source": [
    "# 3개 변수 합치기\n",
    "for col1 in ['epared1','epared2','epared3']:\n",
    "    for col2 in ['etecho1','etecho2','etecho3']:\n",
    "        for col3 in ['eviv1','eviv2','eviv3']:\n",
    "            new_col_name = 'new_{}_x_{}_x_{}'.format(col1, col2, col3)\n",
    "            df_train[new_col_name] = df_train[col1] * df_train[col2] * df_train[col3]\n",
    "#             df_test[new_col_name] = df_test[col1] * df_test[col2] * df_test[col3]\n",
    "            df_test[new_col_name] = df_test[col1] * df_test[col2] * df_train[col3]"
   ]
  },
  {
   "cell_type": "code",
   "execution_count": 63,
   "metadata": {
    "ExecuteTime": {
     "end_time": "2020-09-15T09:30:14.026474Z",
     "start_time": "2020-09-15T09:30:14.021460Z"
    },
    "colab": {
     "base_uri": "https://localhost:8080/",
     "height": 0
    },
    "colab_type": "code",
    "executionInfo": {
     "elapsed": 7979,
     "status": "ok",
     "timestamp": 1600401258550,
     "user": {
      "displayName": "김한빛",
      "photoUrl": "",
      "userId": "16905169175399423651"
     },
     "user_tz": -540
    },
    "id": "maJraEUARpfC",
    "outputId": "8fda19e4-a746-4650-a064-792bc8ae52b0"
   },
   "outputs": [
    {
     "name": "stdout",
     "output_type": "stream",
     "text": [
      "(9557, 322) (23856, 321)\n"
     ]
    }
   ],
   "source": [
    "print(df_train.shape, df_test.shape)"
   ]
  },
  {
   "cell_type": "markdown",
   "metadata": {
    "colab_type": "text",
    "id": "aigEXtybRpfE"
   },
   "source": [
    "- electricity와 energy 변수는 energy 변수로 합친다."
   ]
  },
  {
   "cell_type": "code",
   "execution_count": 64,
   "metadata": {
    "ExecuteTime": {
     "end_time": "2020-09-15T09:30:14.071464Z",
     "start_time": "2020-09-15T09:30:14.030426Z"
    },
    "colab": {},
    "colab_type": "code",
    "executionInfo": {
     "elapsed": 7974,
     "status": "ok",
     "timestamp": 1600401258550,
     "user": {
      "displayName": "김한빛",
      "photoUrl": "",
      "userId": "16905169175399423651"
     },
     "user_tz": -540
    },
    "id": "7AF6qml3RpfE"
   },
   "outputs": [],
   "source": [
    "for col1 in ['public', 'planpri', 'noelec', 'coopele']:\n",
    "    for col2 in ['energcocinar1', 'energcocinar2', 'energcocinar3', 'energcocinar4']:\n",
    "        new_col_name = 'new_{}_x_{}'.format(col1, col2)\n",
    "        df_train[new_col_name] = df_train[col1] * df_train[col2]\n",
    "        df_test[new_col_name] = df_test[col1] * df_test[col2]"
   ]
  },
  {
   "cell_type": "markdown",
   "metadata": {
    "colab_type": "text",
    "id": "T4lmTKeFRpfG"
   },
   "source": [
    "- 화장실과 쓰레기 처리변수는 other_infra 변수로 처리한다."
   ]
  },
  {
   "cell_type": "code",
   "execution_count": 65,
   "metadata": {
    "ExecuteTime": {
     "end_time": "2020-09-15T09:30:14.262429Z",
     "start_time": "2020-09-15T09:30:14.073461Z"
    },
    "colab": {},
    "colab_type": "code",
    "executionInfo": {
     "elapsed": 8294,
     "status": "ok",
     "timestamp": 1600401258874,
     "user": {
      "displayName": "김한빛",
      "photoUrl": "",
      "userId": "16905169175399423651"
     },
     "user_tz": -540
    },
    "id": "Mrr9wGYxRpfG"
   },
   "outputs": [],
   "source": [
    "for col1 in ['sanitario1', 'sanitario2', 'sanitario3','sanitario5','sanitario6']:\n",
    "    for col2 in ['elimbasu1', 'elimbasu2', 'elimbasu3', 'elimbasu4', 'elimbasu5', 'elimbasu6']:\n",
    "        new_col_name = 'new_{}_x_{}'.format(col1, col2)\n",
    "        df_train[new_col_name] = df_train[col1] * df_train[col2]\n",
    "        df_test[new_col_name] = df_test[col1] * df_test[col2]"
   ]
  },
  {
   "cell_type": "markdown",
   "metadata": {
    "colab_type": "text",
    "id": "AbHdjVCbRpfI"
   },
   "source": [
    "- 화장실과 물 공급은 water 변수로 처리한다."
   ]
  },
  {
   "cell_type": "code",
   "execution_count": 66,
   "metadata": {
    "ExecuteTime": {
     "end_time": "2020-09-15T09:30:14.302428Z",
     "start_time": "2020-09-15T09:30:14.265427Z"
    },
    "colab": {},
    "colab_type": "code",
    "executionInfo": {
     "elapsed": 8289,
     "status": "ok",
     "timestamp": 1600401258874,
     "user": {
      "displayName": "김한빛",
      "photoUrl": "",
      "userId": "16905169175399423651"
     },
     "user_tz": -540
    },
    "id": "Y9ZSXxQzRpfI"
   },
   "outputs": [],
   "source": [
    "for col1 in ['abastaguadentro', 'abastaguafuera', 'abastaguano']:\n",
    "    for col2 in ['sanitario1', 'sanitario2', 'sanitario3','sanitario5','sanitario6']:\n",
    "        new_col_name = 'new_{}_x_{}'.format(col1, col2)\n",
    "        df_train[new_col_name] = df_train[col1] * df_train[col2]\n",
    "        df_test[new_col_name] = df_test[col1] * df_test[col2]      "
   ]
  },
  {
   "cell_type": "code",
   "execution_count": 67,
   "metadata": {
    "ExecuteTime": {
     "end_time": "2020-09-15T09:30:14.310461Z",
     "start_time": "2020-09-15T09:30:14.304431Z"
    },
    "colab": {
     "base_uri": "https://localhost:8080/",
     "height": 0
    },
    "colab_type": "code",
    "executionInfo": {
     "elapsed": 8285,
     "status": "ok",
     "timestamp": 1600401258875,
     "user": {
      "displayName": "김한빛",
      "photoUrl": "",
      "userId": "16905169175399423651"
     },
     "user_tz": -540
    },
    "id": "Seat3w7tRpfK",
    "outputId": "1ca11e73-ae96-4d4b-87d8-836d117d1d1f"
   },
   "outputs": [
    {
     "name": "stdout",
     "output_type": "stream",
     "text": [
      "(9557, 383) (23856, 382)\n"
     ]
    }
   ],
   "source": [
    "print(df_train.shape, df_test.shape)"
   ]
  },
  {
   "cell_type": "markdown",
   "metadata": {
    "colab_type": "text",
    "id": "f9nHwg2fRpfM"
   },
   "source": [
    "- 교육과 지역을 education_zone 변수로 처리한다."
   ]
  },
  {
   "cell_type": "code",
   "execution_count": 68,
   "metadata": {
    "ExecuteTime": {
     "end_time": "2020-09-15T09:30:14.356462Z",
     "start_time": "2020-09-15T09:30:14.313427Z"
    },
    "colab": {},
    "colab_type": "code",
    "executionInfo": {
     "elapsed": 8280,
     "status": "ok",
     "timestamp": 1600401258875,
     "user": {
      "displayName": "김한빛",
      "photoUrl": "",
      "userId": "16905169175399423651"
     },
     "user_tz": -540
    },
    "id": "280_V_FFRpfM"
   },
   "outputs": [],
   "source": [
    "for col1 in ['area1', 'area2']:\n",
    "    for col2 in ['instlevel1', 'instlevel2', 'instlevel3', 'instlevel4', 'instlevel5', 'instlevel6',\n",
    "                'instlevel7','instlevel8','instlevel9']:\n",
    "        new_col_name = 'new_{}_x_{}'.format(col1, col2)\n",
    "        df_train[new_col_name] = df_train[col1] * df_train[col2]\n",
    "        df_test[new_col_name] = df_test[col1] * df_test[col2]   "
   ]
  },
  {
   "cell_type": "markdown",
   "metadata": {
    "ExecuteTime": {
     "end_time": "2020-09-12T15:48:24.882965Z",
     "start_time": "2020-09-12T15:48:24.877954Z"
    },
    "colab_type": "text",
    "id": "HWDnWE-PRpfO"
   },
   "source": [
    "- 종교와 교육을 합친다."
   ]
  },
  {
   "cell_type": "code",
   "execution_count": 69,
   "metadata": {
    "ExecuteTime": {
     "end_time": "2020-09-15T09:30:14.590473Z",
     "start_time": "2020-09-15T09:30:14.358426Z"
    },
    "colab": {},
    "colab_type": "code",
    "executionInfo": {
     "elapsed": 8277,
     "status": "ok",
     "timestamp": 1600401258876,
     "user": {
      "displayName": "김한빛",
      "photoUrl": "",
      "userId": "16905169175399423651"
     },
     "user_tz": -540
    },
    "id": "B1moiBSQRpfO"
   },
   "outputs": [],
   "source": [
    "for col1 in ['lugar1', 'lugar2', 'lugar3', 'lugar4','lugar5', 'lugar6']:\n",
    "    for col2 in ['instlevel1', 'instlevel2', 'instlevel3', 'instlevel4', 'instlevel5', 'instlevel6',\n",
    "                'instlevel7','instlevel8','instlevel9']:\n",
    "        new_col_name = 'new_{}_x_{}'.format(col1, col2)\n",
    "        df_train[new_col_name] = df_train[col1] * df_train[col2]\n",
    "        df_test[new_col_name] = df_test[col1] * df_test[col2]   "
   ]
  },
  {
   "cell_type": "code",
   "execution_count": 70,
   "metadata": {
    "ExecuteTime": {
     "end_time": "2020-09-15T09:30:14.598427Z",
     "start_time": "2020-09-15T09:30:14.592464Z"
    },
    "colab": {
     "base_uri": "https://localhost:8080/",
     "height": 0
    },
    "colab_type": "code",
    "executionInfo": {
     "elapsed": 8273,
     "status": "ok",
     "timestamp": 1600401258877,
     "user": {
      "displayName": "김한빛",
      "photoUrl": "",
      "userId": "16905169175399423651"
     },
     "user_tz": -540
    },
    "id": "Oh_qNitYRpfP",
    "outputId": "cf1567c3-a380-4b9e-8c83-f0b3f94d1383"
   },
   "outputs": [
    {
     "name": "stdout",
     "output_type": "stream",
     "text": [
      "(9557, 455) (23856, 454)\n"
     ]
    }
   ],
   "source": [
    "print(df_train.shape, df_test.shape)"
   ]
  },
  {
   "cell_type": "markdown",
   "metadata": {
    "colab_type": "text",
    "id": "R6UpUIgaRpfQ"
   },
   "source": [
    "- television / mobilephone / computer / tabulet / refrigerator 모두 곱한 값을 electronics 변수로 처리한다.\n",
    "- television / mobilephone / computer / tabulet / refrigerator 모두 더한 값을 no_appliances 변수로 처리한다."
   ]
  },
  {
   "cell_type": "code",
   "execution_count": 71,
   "metadata": {
    "ExecuteTime": {
     "end_time": "2020-09-15T09:30:14.626430Z",
     "start_time": "2020-09-15T09:30:14.601429Z"
    },
    "colab": {},
    "colab_type": "code",
    "executionInfo": {
     "elapsed": 8270,
     "status": "ok",
     "timestamp": 1600401258878,
     "user": {
      "displayName": "김한빛",
      "photoUrl": "",
      "userId": "16905169175399423651"
     },
     "user_tz": -540
    },
    "id": "349zrInlRpfQ"
   },
   "outputs": [],
   "source": [
    "df_train['electronics'] = df_train['computer'] * df_train['mobilephone'] * df_train['television'] * df_train['v18q'] * df_train['refrig']\n",
    "df_train['no_appliances'] = df_train['refrig'] + df_train['computer'] + df_train['television'] + df_train['refrig']\n",
    "\n",
    "df_test['electronics'] = df_test['computer'] * df_test['mobilephone'] * df_test['television'] * df_test['v18q'] * df_test['refrig']\n",
    "df_test['no_appliances'] = df_test['refrig'] + df_test['computer'] + df_test['television'] + df_test['refrig']"
   ]
  },
  {
   "cell_type": "markdown",
   "metadata": {
    "colab_type": "text",
    "id": "YQOMAlN5RpfS"
   },
   "source": [
    "- roof, floor, wall의 재료 변수를 합친다."
   ]
  },
  {
   "cell_type": "code",
   "execution_count": 72,
   "metadata": {
    "ExecuteTime": {
     "end_time": "2020-09-15T09:30:15.945426Z",
     "start_time": "2020-09-15T09:30:14.628428Z"
    },
    "colab": {},
    "colab_type": "code",
    "executionInfo": {
     "elapsed": 8980,
     "status": "ok",
     "timestamp": 1600401259594,
     "user": {
      "displayName": "김한빛",
      "photoUrl": "",
      "userId": "16905169175399423651"
     },
     "user_tz": -540
    },
    "id": "y4GW3rBFRpfS"
   },
   "outputs": [],
   "source": [
    "for col1 in ['paredblolad', 'paredzocalo', 'paredpreb', 'pareddes','paredmad','paredzinc','paredfibras','paredother']:\n",
    "    for col2 in ['pisomoscer','pisocemento','pisoother','pisonatur','pisonotiene','pisomadera']:\n",
    "        new_col_name = 'new_{}_x_{}'.format(col1, col2)\n",
    "        df_train[new_col_name] = df_train[col1] * df_train[col2]\n",
    "        df_test[new_col_name] = df_test[col1] * df_test[col2]   \n",
    "        \n",
    "for col1 in ['pisomoscer','pisocemento','pisoother','pisonatur','pisonotiene','pisomadera']:\n",
    "    for col2 in ['techozinc','techoentrepiso','techocane','techootro']:\n",
    "        new_col_name = 'new_{}_x_{}'.format(col1, col2)\n",
    "        df_train[new_col_name] = df_train[col1] * df_train[col2]\n",
    "        df_test[new_col_name] = df_test[col1] * df_test[col2]   \n",
    "        \n",
    "for col1 in ['paredblolad', 'paredzocalo', 'paredpreb', 'pareddes','paredmad','paredzinc','paredfibras','paredother']:\n",
    "    for col2 in ['techozinc','techoentrepiso','techocane','techootro']:\n",
    "        new_col_name = 'new_{}_x_{}'.format(col1, col2)\n",
    "        df_train[new_col_name] = df_train[col1] * df_train[col2]\n",
    "        df_test[new_col_name] = df_test[col1] * df_test[col2]   \n",
    "        \n",
    "for col1 in ['paredblolad', 'paredzocalo', 'paredpreb', 'pareddes','paredmad','paredzinc','paredfibras','paredother']:\n",
    "    for col2 in ['pisomoscer','pisocemento','pisoother','pisonatur','pisonotiene','pisomadera']:\n",
    "        for col3 in ['techozinc','techoentrepiso','techocane','techootro']:\n",
    "            new_col_name = 'new_{}_x_{}_x_{}'.format(col1, col2, col3)\n",
    "            df_train[new_col_name] = df_train[col1] * df_train[col2] * df_train[col3]\n",
    "            df_test[new_col_name] = df_test[col1] * df_test[col2] * df_test[col3]  "
   ]
  },
  {
   "cell_type": "code",
   "execution_count": 73,
   "metadata": {
    "ExecuteTime": {
     "end_time": "2020-09-15T09:30:15.953526Z",
     "start_time": "2020-09-15T09:30:15.948427Z"
    },
    "colab": {
     "base_uri": "https://localhost:8080/",
     "height": 0
    },
    "colab_type": "code",
    "executionInfo": {
     "elapsed": 8976,
     "status": "ok",
     "timestamp": 1600401259595,
     "user": {
      "displayName": "김한빛",
      "photoUrl": "",
      "userId": "16905169175399423651"
     },
     "user_tz": -540
    },
    "id": "PbyO0r-RRpfT",
    "outputId": "db8bd913-8135-4c13-8040-6998966314ec"
   },
   "outputs": [
    {
     "name": "stdout",
     "output_type": "stream",
     "text": [
      "(9557, 753) (23856, 752)\n"
     ]
    }
   ],
   "source": [
    "print(df_train.shape, df_test.shape)"
   ]
  },
  {
   "cell_type": "markdown",
   "metadata": {
    "ExecuteTime": {
     "end_time": "2020-09-12T16:02:26.885197Z",
     "start_time": "2020-09-12T16:02:26.879201Z"
    },
    "colab_type": "text",
    "id": "DJQ0Ny_eRpfW"
   },
   "source": [
    "오직 한개의값만 있는 변수는 지우기"
   ]
  },
  {
   "cell_type": "code",
   "execution_count": 74,
   "metadata": {
    "ExecuteTime": {
     "end_time": "2020-09-15T09:30:17.943054Z",
     "start_time": "2020-09-15T09:30:15.956432Z"
    },
    "colab": {
     "base_uri": "https://localhost:8080/",
     "height": 0
    },
    "colab_type": "code",
    "executionInfo": {
     "elapsed": 9927,
     "status": "ok",
     "timestamp": 1600401260550,
     "user": {
      "displayName": "김한빛",
      "photoUrl": "",
      "userId": "16905169175399423651"
     },
     "user_tz": -540
    },
    "id": "75KRf8q3RpfW",
    "outputId": "a08e6e84-d9b5-4f50-c85d-0eb124dc80c7"
   },
   "outputs": [
    {
     "name": "stdout",
     "output_type": "stream",
     "text": [
      "elimbasu5\n",
      "new_planpri_x_energcocinar1\n",
      "new_planpri_x_energcocinar2\n",
      "new_planpri_x_energcocinar3\n",
      "new_planpri_x_energcocinar4\n",
      "new_noelec_x_energcocinar2\n",
      "new_sanitario1_x_elimbasu4\n",
      "new_sanitario1_x_elimbasu5\n",
      "new_sanitario1_x_elimbasu6\n",
      "new_sanitario2_x_elimbasu4\n",
      "new_sanitario2_x_elimbasu5\n",
      "new_sanitario2_x_elimbasu6\n",
      "new_sanitario3_x_elimbasu5\n",
      "new_sanitario5_x_elimbasu4\n",
      "new_sanitario5_x_elimbasu5\n",
      "new_sanitario5_x_elimbasu6\n",
      "new_sanitario6_x_elimbasu2\n",
      "new_sanitario6_x_elimbasu4\n",
      "new_sanitario6_x_elimbasu5\n",
      "new_sanitario6_x_elimbasu6\n",
      "new_abastaguafuera_x_sanitario6\n",
      "new_abastaguano_x_sanitario2\n",
      "new_abastaguano_x_sanitario6\n",
      "new_paredblolad_x_pisonatur\n",
      "new_paredblolad_x_pisonotiene\n",
      "new_paredzocalo_x_pisoother\n",
      "new_paredzocalo_x_pisonatur\n",
      "new_paredpreb_x_pisonatur\n",
      "new_pareddes_x_pisoother\n",
      "new_pareddes_x_pisonatur\n",
      "new_paredmad_x_pisoother\n",
      "new_paredmad_x_pisonatur\n",
      "new_paredzinc_x_pisoother\n",
      "new_paredzinc_x_pisonatur\n",
      "new_paredfibras_x_pisoother\n",
      "new_paredfibras_x_pisonatur\n",
      "new_paredfibras_x_pisonotiene\n",
      "new_paredfibras_x_pisomadera\n",
      "new_paredother_x_pisoother\n",
      "new_paredother_x_pisonatur\n",
      "new_paredother_x_pisonotiene\n",
      "new_paredother_x_pisomadera\n",
      "new_pisocemento_x_techocane\n",
      "new_pisocemento_x_techootro\n",
      "new_pisoother_x_techoentrepiso\n",
      "new_pisoother_x_techocane\n",
      "new_pisoother_x_techootro\n",
      "new_pisonatur_x_techozinc\n",
      "new_pisonatur_x_techoentrepiso\n",
      "new_pisonatur_x_techocane\n",
      "new_pisonatur_x_techootro\n",
      "new_pisonotiene_x_techoentrepiso\n",
      "new_pisonotiene_x_techocane\n",
      "new_pisonotiene_x_techootro\n",
      "new_pisomadera_x_techocane\n",
      "new_pisomadera_x_techootro\n",
      "new_paredzocalo_x_techoentrepiso\n",
      "new_paredzocalo_x_techocane\n",
      "new_paredzocalo_x_techootro\n",
      "new_paredpreb_x_techootro\n",
      "new_pareddes_x_techoentrepiso\n",
      "new_pareddes_x_techocane\n",
      "new_pareddes_x_techootro\n",
      "new_paredmad_x_techocane\n",
      "new_paredmad_x_techootro\n",
      "new_paredzinc_x_techoentrepiso\n",
      "new_paredzinc_x_techocane\n",
      "new_paredzinc_x_techootro\n",
      "new_paredfibras_x_techoentrepiso\n",
      "new_paredfibras_x_techootro\n",
      "new_paredother_x_techoentrepiso\n",
      "new_paredother_x_techocane\n",
      "new_paredother_x_techootro\n",
      "new_paredblolad_x_pisocemento_x_techocane\n",
      "new_paredblolad_x_pisocemento_x_techootro\n",
      "new_paredblolad_x_pisoother_x_techoentrepiso\n",
      "new_paredblolad_x_pisoother_x_techocane\n",
      "new_paredblolad_x_pisoother_x_techootro\n",
      "new_paredblolad_x_pisonatur_x_techozinc\n",
      "new_paredblolad_x_pisonatur_x_techoentrepiso\n",
      "new_paredblolad_x_pisonatur_x_techocane\n",
      "new_paredblolad_x_pisonatur_x_techootro\n",
      "new_paredblolad_x_pisonotiene_x_techozinc\n",
      "new_paredblolad_x_pisonotiene_x_techoentrepiso\n",
      "new_paredblolad_x_pisonotiene_x_techocane\n",
      "new_paredblolad_x_pisonotiene_x_techootro\n",
      "new_paredblolad_x_pisomadera_x_techocane\n",
      "new_paredblolad_x_pisomadera_x_techootro\n",
      "new_paredzocalo_x_pisomoscer_x_techoentrepiso\n",
      "new_paredzocalo_x_pisomoscer_x_techocane\n",
      "new_paredzocalo_x_pisomoscer_x_techootro\n",
      "new_paredzocalo_x_pisocemento_x_techoentrepiso\n",
      "new_paredzocalo_x_pisocemento_x_techocane\n",
      "new_paredzocalo_x_pisocemento_x_techootro\n",
      "new_paredzocalo_x_pisoother_x_techozinc\n",
      "new_paredzocalo_x_pisoother_x_techoentrepiso\n",
      "new_paredzocalo_x_pisoother_x_techocane\n",
      "new_paredzocalo_x_pisoother_x_techootro\n",
      "new_paredzocalo_x_pisonatur_x_techozinc\n",
      "new_paredzocalo_x_pisonatur_x_techoentrepiso\n",
      "new_paredzocalo_x_pisonatur_x_techocane\n",
      "new_paredzocalo_x_pisonatur_x_techootro\n",
      "new_paredzocalo_x_pisonotiene_x_techoentrepiso\n",
      "new_paredzocalo_x_pisonotiene_x_techocane\n",
      "new_paredzocalo_x_pisonotiene_x_techootro\n",
      "new_paredzocalo_x_pisomadera_x_techoentrepiso\n",
      "new_paredzocalo_x_pisomadera_x_techocane\n",
      "new_paredzocalo_x_pisomadera_x_techootro\n",
      "new_paredpreb_x_pisomoscer_x_techootro\n",
      "new_paredpreb_x_pisocemento_x_techoentrepiso\n",
      "new_paredpreb_x_pisocemento_x_techocane\n",
      "new_paredpreb_x_pisocemento_x_techootro\n",
      "new_paredpreb_x_pisoother_x_techoentrepiso\n",
      "new_paredpreb_x_pisoother_x_techocane\n",
      "new_paredpreb_x_pisoother_x_techootro\n",
      "new_paredpreb_x_pisonatur_x_techozinc\n",
      "new_paredpreb_x_pisonatur_x_techoentrepiso\n",
      "new_paredpreb_x_pisonatur_x_techocane\n",
      "new_paredpreb_x_pisonatur_x_techootro\n",
      "new_paredpreb_x_pisonotiene_x_techoentrepiso\n",
      "new_paredpreb_x_pisonotiene_x_techocane\n",
      "new_paredpreb_x_pisonotiene_x_techootro\n",
      "new_paredpreb_x_pisomadera_x_techoentrepiso\n",
      "new_paredpreb_x_pisomadera_x_techocane\n",
      "new_paredpreb_x_pisomadera_x_techootro\n",
      "new_pareddes_x_pisomoscer_x_techozinc\n",
      "new_pareddes_x_pisomoscer_x_techoentrepiso\n",
      "new_pareddes_x_pisomoscer_x_techocane\n",
      "new_pareddes_x_pisomoscer_x_techootro\n",
      "new_pareddes_x_pisocemento_x_techoentrepiso\n",
      "new_pareddes_x_pisocemento_x_techocane\n",
      "new_pareddes_x_pisocemento_x_techootro\n",
      "new_pareddes_x_pisoother_x_techozinc\n",
      "new_pareddes_x_pisoother_x_techoentrepiso\n",
      "new_pareddes_x_pisoother_x_techocane\n",
      "new_pareddes_x_pisoother_x_techootro\n",
      "new_pareddes_x_pisonatur_x_techozinc\n",
      "new_pareddes_x_pisonatur_x_techoentrepiso\n",
      "new_pareddes_x_pisonatur_x_techocane\n",
      "new_pareddes_x_pisonatur_x_techootro\n",
      "new_pareddes_x_pisonotiene_x_techoentrepiso\n",
      "new_pareddes_x_pisonotiene_x_techocane\n",
      "new_pareddes_x_pisonotiene_x_techootro\n",
      "new_pareddes_x_pisomadera_x_techozinc\n",
      "new_pareddes_x_pisomadera_x_techoentrepiso\n",
      "new_pareddes_x_pisomadera_x_techocane\n",
      "new_pareddes_x_pisomadera_x_techootro\n",
      "new_paredmad_x_pisomoscer_x_techocane\n",
      "new_paredmad_x_pisomoscer_x_techootro\n",
      "new_paredmad_x_pisocemento_x_techocane\n",
      "new_paredmad_x_pisocemento_x_techootro\n",
      "new_paredmad_x_pisoother_x_techozinc\n",
      "new_paredmad_x_pisoother_x_techoentrepiso\n",
      "new_paredmad_x_pisoother_x_techocane\n",
      "new_paredmad_x_pisoother_x_techootro\n",
      "new_paredmad_x_pisonatur_x_techozinc\n",
      "new_paredmad_x_pisonatur_x_techoentrepiso\n",
      "new_paredmad_x_pisonatur_x_techocane\n",
      "new_paredmad_x_pisonatur_x_techootro\n",
      "new_paredmad_x_pisonotiene_x_techoentrepiso\n",
      "new_paredmad_x_pisonotiene_x_techocane\n",
      "new_paredmad_x_pisonotiene_x_techootro\n",
      "new_paredmad_x_pisomadera_x_techocane\n",
      "new_paredmad_x_pisomadera_x_techootro\n",
      "new_paredzinc_x_pisomoscer_x_techoentrepiso\n",
      "new_paredzinc_x_pisomoscer_x_techocane\n",
      "new_paredzinc_x_pisomoscer_x_techootro\n",
      "new_paredzinc_x_pisocemento_x_techoentrepiso\n",
      "new_paredzinc_x_pisocemento_x_techocane\n",
      "new_paredzinc_x_pisocemento_x_techootro\n",
      "new_paredzinc_x_pisoother_x_techozinc\n",
      "new_paredzinc_x_pisoother_x_techoentrepiso\n",
      "new_paredzinc_x_pisoother_x_techocane\n",
      "new_paredzinc_x_pisoother_x_techootro\n",
      "new_paredzinc_x_pisonatur_x_techozinc\n",
      "new_paredzinc_x_pisonatur_x_techoentrepiso\n",
      "new_paredzinc_x_pisonatur_x_techocane\n",
      "new_paredzinc_x_pisonatur_x_techootro\n",
      "new_paredzinc_x_pisonotiene_x_techoentrepiso\n",
      "new_paredzinc_x_pisonotiene_x_techocane\n",
      "new_paredzinc_x_pisonotiene_x_techootro\n",
      "new_paredzinc_x_pisomadera_x_techoentrepiso\n",
      "new_paredzinc_x_pisomadera_x_techocane\n",
      "new_paredzinc_x_pisomadera_x_techootro\n",
      "new_paredfibras_x_pisomoscer_x_techoentrepiso\n",
      "new_paredfibras_x_pisomoscer_x_techocane\n",
      "new_paredfibras_x_pisomoscer_x_techootro\n",
      "new_paredfibras_x_pisocemento_x_techoentrepiso\n",
      "new_paredfibras_x_pisocemento_x_techocane\n",
      "new_paredfibras_x_pisocemento_x_techootro\n",
      "new_paredfibras_x_pisoother_x_techozinc\n",
      "new_paredfibras_x_pisoother_x_techoentrepiso\n",
      "new_paredfibras_x_pisoother_x_techocane\n",
      "new_paredfibras_x_pisoother_x_techootro\n",
      "new_paredfibras_x_pisonatur_x_techozinc\n",
      "new_paredfibras_x_pisonatur_x_techoentrepiso\n",
      "new_paredfibras_x_pisonatur_x_techocane\n",
      "new_paredfibras_x_pisonatur_x_techootro\n",
      "new_paredfibras_x_pisonotiene_x_techozinc\n",
      "new_paredfibras_x_pisonotiene_x_techoentrepiso\n",
      "new_paredfibras_x_pisonotiene_x_techocane\n",
      "new_paredfibras_x_pisonotiene_x_techootro\n",
      "new_paredfibras_x_pisomadera_x_techozinc\n",
      "new_paredfibras_x_pisomadera_x_techoentrepiso\n",
      "new_paredfibras_x_pisomadera_x_techocane\n",
      "new_paredfibras_x_pisomadera_x_techootro\n",
      "new_paredother_x_pisomoscer_x_techoentrepiso\n",
      "new_paredother_x_pisomoscer_x_techocane\n",
      "new_paredother_x_pisomoscer_x_techootro\n",
      "new_paredother_x_pisocemento_x_techoentrepiso\n",
      "new_paredother_x_pisocemento_x_techocane\n",
      "new_paredother_x_pisocemento_x_techootro\n",
      "new_paredother_x_pisoother_x_techozinc\n",
      "new_paredother_x_pisoother_x_techoentrepiso\n",
      "new_paredother_x_pisoother_x_techocane\n",
      "new_paredother_x_pisoother_x_techootro\n",
      "new_paredother_x_pisonatur_x_techozinc\n",
      "new_paredother_x_pisonatur_x_techoentrepiso\n",
      "new_paredother_x_pisonatur_x_techocane\n",
      "new_paredother_x_pisonatur_x_techootro\n",
      "new_paredother_x_pisonotiene_x_techozinc\n",
      "new_paredother_x_pisonotiene_x_techoentrepiso\n",
      "new_paredother_x_pisonotiene_x_techocane\n",
      "new_paredother_x_pisonotiene_x_techootro\n",
      "new_paredother_x_pisomadera_x_techozinc\n",
      "new_paredother_x_pisomadera_x_techoentrepiso\n",
      "new_paredother_x_pisomadera_x_techocane\n",
      "new_paredother_x_pisomadera_x_techootro\n"
     ]
    }
   ],
   "source": [
    "col_with_only_one_value=[]\n",
    "for col in df_train.columns:\n",
    "    if col == 'Target':\n",
    "        continue\n",
    "    if df_train[col].value_counts().shape[0] == 1 or df_test[col].value_counts().shape[0] == 1 :\n",
    "        print(col)\n",
    "        col_with_only_one_value.append(col)"
   ]
  },
  {
   "cell_type": "code",
   "execution_count": 75,
   "metadata": {
    "ExecuteTime": {
     "end_time": "2020-09-15T09:30:18.454965Z",
     "start_time": "2020-09-15T09:30:17.947048Z"
    },
    "colab": {},
    "colab_type": "code",
    "executionInfo": {
     "elapsed": 9923,
     "status": "ok",
     "timestamp": 1600401260551,
     "user": {
      "displayName": "김한빛",
      "photoUrl": "",
      "userId": "16905169175399423651"
     },
     "user_tz": -540
    },
    "id": "cuTrR5q7RpfX"
   },
   "outputs": [],
   "source": [
    "df_train.drop(col_with_only_one_value, axis=1, inplace=True)\n",
    "df_test.drop(col_with_only_one_value, axis=1, inplace=True)"
   ]
  },
  {
   "cell_type": "markdown",
   "metadata": {
    "colab_type": "text",
    "id": "hMN6WUItRpfY"
   },
   "source": [
    "train과 test 데이터의 변수가 개수가 같은지 체크한다."
   ]
  },
  {
   "cell_type": "code",
   "execution_count": 76,
   "metadata": {
    "ExecuteTime": {
     "end_time": "2020-09-15T09:30:18.470968Z",
     "start_time": "2020-09-15T09:30:18.458964Z"
    },
    "colab": {},
    "colab_type": "code",
    "executionInfo": {
     "elapsed": 9918,
     "status": "ok",
     "timestamp": 1600401260551,
     "user": {
      "displayName": "김한빛",
      "photoUrl": "",
      "userId": "16905169175399423651"
     },
     "user_tz": -540
    },
    "id": "W-cNOaxuRpfZ"
   },
   "outputs": [],
   "source": [
    "col_train = np.array(sorted([col for col in df_train.columns if col != 'Target']))\n",
    "col_test = np.array(sorted(df_test.columns))"
   ]
  },
  {
   "cell_type": "code",
   "execution_count": 77,
   "metadata": {
    "ExecuteTime": {
     "end_time": "2020-09-15T09:30:18.487964Z",
     "start_time": "2020-09-15T09:30:18.474964Z"
    },
    "colab": {
     "base_uri": "https://localhost:8080/",
     "height": 0
    },
    "colab_type": "code",
    "executionInfo": {
     "elapsed": 9915,
     "status": "ok",
     "timestamp": 1600401260552,
     "user": {
      "displayName": "김한빛",
      "photoUrl": "",
      "userId": "16905169175399423651"
     },
     "user_tz": -540
    },
    "id": "YsRM5uRuRpfa",
    "outputId": "18a3d39e-b3a6-490b-97a5-9e7872392ad1"
   },
   "outputs": [
    {
     "data": {
      "text/plain": [
       "True"
      ]
     },
     "execution_count": 77,
     "metadata": {
      "tags": []
     },
     "output_type": "execute_result"
    }
   ],
   "source": [
    "(col_train == col_test).sum() == len(col_train)"
   ]
  },
  {
   "cell_type": "markdown",
   "metadata": {
    "colab_type": "text",
    "id": "6RuY5zLvRpfb"
   },
   "source": [
    "## 2.4 집합 변수\n",
    "aggregation features"
   ]
  },
  {
   "cell_type": "code",
   "execution_count": 78,
   "metadata": {
    "ExecuteTime": {
     "end_time": "2020-09-15T09:30:18.499965Z",
     "start_time": "2020-09-15T09:30:18.492965Z"
    },
    "colab": {},
    "colab_type": "code",
    "executionInfo": {
     "elapsed": 9911,
     "status": "ok",
     "timestamp": 1600401260553,
     "user": {
      "displayName": "김한빛",
      "photoUrl": "",
      "userId": "16905169175399423651"
     },
     "user_tz": -540
    },
    "id": "S3khlxFnRpfb"
   },
   "outputs": [],
   "source": [
    "def max_min(x):\n",
    "    return x.max() - x.min()"
   ]
  },
  {
   "cell_type": "code",
   "execution_count": 79,
   "metadata": {
    "ExecuteTime": {
     "end_time": "2020-09-15T09:30:47.115869Z",
     "start_time": "2020-09-15T09:30:18.505965Z"
    },
    "colab": {
     "base_uri": "https://localhost:8080/",
     "height": 0
    },
    "colab_type": "code",
    "executionInfo": {
     "elapsed": 19199,
     "status": "ok",
     "timestamp": 1600401269845,
     "user": {
      "displayName": "김한빛",
      "photoUrl": "",
      "userId": "16905169175399423651"
     },
     "user_tz": -540
    },
    "id": "fJG26n5JRpfc",
    "outputId": "d3b1b3f6-93d4-4523-8a66-91980b7e76c7"
   },
   "outputs": [
    {
     "name": "stderr",
     "output_type": "stream",
     "text": [
      "100%|██████████| 15/15 [00:09<00:00,  1.63it/s]"
     ]
    },
    {
     "name": "stdout",
     "output_type": "stream",
     "text": [
      "new aggregate train set has 2988 rows, and 105 features\n",
      "new aggregate test set has 7352 rows, and 105 features\n"
     ]
    },
    {
     "name": "stderr",
     "output_type": "stream",
     "text": [
      "\n"
     ]
    }
   ],
   "source": [
    "agg_train = pd.DataFrame()\n",
    "agg_test = pd.DataFrame()\n",
    "\n",
    "for item in tqdm(family_size_features):\n",
    "    for i, function in enumerate(['mean','std','min','max','sum','count', max_min]):\n",
    "        group_train = df_train[item].groupby(df_train['idhogar']).agg(function)\n",
    "        group_test = df_test[item].groupby(df_test['idhogar']).agg(function)\n",
    "        if i == 6:\n",
    "            new_col = item + '_new_' + 'max_min'\n",
    "        else:\n",
    "            new_col = item + '_new_' + function\n",
    "            \n",
    "        agg_train[new_col] = group_train\n",
    "        agg_test[new_col] = group_test\n",
    "        \n",
    "print('new aggregate train set has {} rows, and {} features'.format(agg_train.shape[0], agg_train.shape[1]))\n",
    "print('new aggregate test set has {} rows, and {} features'.format(agg_test.shape[0], agg_test.shape[1]))"
   ]
  },
  {
   "cell_type": "code",
   "execution_count": 80,
   "metadata": {
    "ExecuteTime": {
     "end_time": "2020-09-15T09:30:47.123390Z",
     "start_time": "2020-09-15T09:30:47.117870Z"
    },
    "colab": {},
    "colab_type": "code",
    "executionInfo": {
     "elapsed": 19181,
     "status": "ok",
     "timestamp": 1600401269846,
     "user": {
      "displayName": "김한빛",
      "photoUrl": "",
      "userId": "16905169175399423651"
     },
     "user_tz": -540
    },
    "id": "tzYbhIZRRpfd"
   },
   "outputs": [],
   "source": [
    "# 집합 변수 리스트 선언\n",
    "aggr_list = ['rez_esc', 'dis', 'male', 'female', \n",
    "              'estadocivil1', 'estadocivil2', 'estadocivil3', 'estadocivil4', 'estadocivil5', 'estadocivil6', 'estadocivil7', \n",
    "              'parentesco2', 'parentesco3', 'parentesco4', 'parentesco5', 'parentesco6', 'parentesco7', 'parentesco8', 'parentesco9', \n",
    "             'parentesco10', 'parentesco11', 'parentesco12',\n",
    "              'instlevel1', 'instlevel2', 'instlevel3', 'instlevel4', 'instlevel5', 'instlevel6', 'instlevel7', 'instlevel8', 'instlevel9',\n",
    "             'epared1', 'epared2', 'epared3', 'etecho1', 'etecho2', 'etecho3', 'eviv1', 'eviv2', 'eviv3', 'refrig', 'television', 'mobilephone',\n",
    "             'area1', 'area2', 'v18q', 'edjef']"
   ]
  },
  {
   "cell_type": "code",
   "execution_count": 81,
   "metadata": {
    "ExecuteTime": {
     "end_time": "2020-09-15T09:30:49.233089Z",
     "start_time": "2020-09-15T09:30:47.125870Z"
    },
    "colab": {
     "base_uri": "https://localhost:8080/",
     "height": 0
    },
    "colab_type": "code",
    "executionInfo": {
     "elapsed": 20283,
     "status": "ok",
     "timestamp": 1600401270954,
     "user": {
      "displayName": "김한빛",
      "photoUrl": "",
      "userId": "16905169175399423651"
     },
     "user_tz": -540
    },
    "id": "d-exXQ6qRpff",
    "outputId": "42e8f1a1-e5cf-4145-9fa5-a44de8444ebf"
   },
   "outputs": [
    {
     "name": "stderr",
     "output_type": "stream",
     "text": [
      "100%|██████████| 47/47 [00:01<00:00, 40.94it/s]"
     ]
    },
    {
     "name": "stdout",
     "output_type": "stream",
     "text": [
      "new aggregate train set has 2988 rows, and 199 features\n",
      "new aggregate test set has 7352 rows, and 199 features\n"
     ]
    },
    {
     "name": "stderr",
     "output_type": "stream",
     "text": [
      "\n"
     ]
    }
   ],
   "source": [
    "for item in tqdm(aggr_list):\n",
    "    for function in ['count','sum']:\n",
    "        group_train = df_train[item].groupby(df_train['idhogar']).agg(function)\n",
    "        group_test = df_test[item].groupby(df_test['idhogar']).agg(function)\n",
    "        new_col = item + '_new1_' + function\n",
    "        agg_train[new_col] = group_train\n",
    "        agg_test[new_col] = group_test\n",
    "print('new aggregate train set has {} rows, and {} features'.format(agg_train.shape[0], agg_train.shape[1]))\n",
    "print('new aggregate test set has {} rows, and {} features'.format(agg_test.shape[0], agg_test.shape[1]))\n",
    "    "
   ]
  },
  {
   "cell_type": "code",
   "execution_count": 82,
   "metadata": {
    "ExecuteTime": {
     "end_time": "2020-09-15T09:31:10.524475Z",
     "start_time": "2020-09-15T09:30:49.236123Z"
    },
    "colab": {
     "base_uri": "https://localhost:8080/",
     "height": 0
    },
    "colab_type": "code",
    "executionInfo": {
     "elapsed": 26133,
     "status": "ok",
     "timestamp": 1600401276808,
     "user": {
      "displayName": "김한빛",
      "photoUrl": "",
      "userId": "16905169175399423651"
     },
     "user_tz": -540
    },
    "id": "WG7nSiwfRpfg",
    "outputId": "217e6b62-aa5d-44f1-9996-73eb3a279a7d"
   },
   "outputs": [
    {
     "name": "stderr",
     "output_type": "stream",
     "text": [
      "100%|██████████| 9/9 [00:05<00:00,  1.56it/s]"
     ]
    },
    {
     "name": "stdout",
     "output_type": "stream",
     "text": [
      "new aggregate train set has 2988 rows, and 208 features\n",
      "new aggregate test set has 7352 rows, and 208 features\n"
     ]
    },
    {
     "name": "stderr",
     "output_type": "stream",
     "text": [
      "\n"
     ]
    }
   ],
   "source": [
    "aggr_list = ['escolari', 'age', 'escolari_age', 'dependency', 'bedrooms', 'overcrowding', 'rooms', 'qmobilephone', 'v18q1']\n",
    "\n",
    "for item in tqdm(aggr_list):\n",
    "    for function in ['mean','std','min','max','sum','count', max_min]:\n",
    "        group_train = df_train[item].groupby(df_train['idhogar']).agg(function)\n",
    "        group_test = df_test[item].groupby(df_test['idhogar']).agg(function)\n",
    "        if i == 6:\n",
    "            new_col = item + '_new2_' + 'max_min'\n",
    "        else:\n",
    "            new_col = item + '_new2_' + function            \n",
    "        agg_train[new_col] = group_train\n",
    "        agg_test[new_col] = group_test\n",
    "        \n",
    "print('new aggregate train set has {} rows, and {} features'.format(agg_train.shape[0], agg_train.shape[1]))\n",
    "print('new aggregate test set has {} rows, and {} features'.format(agg_test.shape[0], agg_test.shape[1]))"
   ]
  },
  {
   "cell_type": "code",
   "execution_count": 83,
   "metadata": {
    "ExecuteTime": {
     "end_time": "2020-09-15T09:31:13.934380Z",
     "start_time": "2020-09-15T09:31:10.527450Z"
    },
    "colab": {
     "base_uri": "https://localhost:8080/",
     "height": 0
    },
    "colab_type": "code",
    "executionInfo": {
     "elapsed": 26702,
     "status": "ok",
     "timestamp": 1600401277381,
     "user": {
      "displayName": "김한빛",
      "photoUrl": "",
      "userId": "16905169175399423651"
     },
     "user_tz": -540
    },
    "id": "VUIlAsV5Rpfh",
    "outputId": "d15f313a-1c19-4ec3-9313-22f13099499e"
   },
   "outputs": [
    {
     "name": "stdout",
     "output_type": "stream",
     "text": [
      "train shape: (9557, 733) test shape: (23856, 732)\n"
     ]
    }
   ],
   "source": [
    "agg_test = agg_test.reset_index()\n",
    "agg_train = agg_train.reset_index()\n",
    "\n",
    "train_agg = pd.merge(df_train, agg_train, on='idhogar')\n",
    "test = pd.merge(df_test, agg_test, on='idhogar')\n",
    "\n",
    "#fill all na as 0\n",
    "train_agg.fillna(value=0, inplace=True)\n",
    "test.fillna(value=0, inplace=True)\n",
    "\n",
    "print('train shape:', train_agg.shape, 'test shape:', test.shape)"
   ]
  },
  {
   "cell_type": "code",
   "execution_count": 84,
   "metadata": {
    "ExecuteTime": {
     "end_time": "2020-09-15T09:31:13.943376Z",
     "start_time": "2020-09-15T09:31:13.937378Z"
    },
    "colab": {},
    "colab_type": "code",
    "executionInfo": {
     "elapsed": 26698,
     "status": "ok",
     "timestamp": 1600401277382,
     "user": {
      "displayName": "김한빛",
      "photoUrl": "",
      "userId": "16905169175399423651"
     },
     "user_tz": -540
    },
    "id": "HeNFi4CoRpfi"
   },
   "outputs": [],
   "source": [
    "aggr_list = ['rez_esc', 'dis', 'male', 'female', \n",
    "                  'estadocivil1', 'estadocivil2', 'estadocivil3', 'estadocivil4', 'estadocivil5', 'estadocivil6', 'estadocivil7', \n",
    "                  'parentesco2', 'parentesco3', 'parentesco4', 'parentesco5', 'parentesco6', 'parentesco7', 'parentesco8', 'parentesco9', 'parentesco10', \n",
    "                  'parentesco11', 'parentesco12',\n",
    "                  'instlevel1', 'instlevel2', 'instlevel3', 'instlevel4', 'instlevel5', 'instlevel6', 'instlevel7', 'instlevel8', 'instlevel9',\n",
    "                 'epared1', 'epared2', 'epared3', 'etecho1', 'etecho2', 'etecho3', 'eviv1', 'eviv2', 'eviv3', 'refrig', 'television', 'mobilephone',\n",
    "            'area1', 'area2', 'v18q', 'edjef']"
   ]
  },
  {
   "cell_type": "code",
   "execution_count": 85,
   "metadata": {
    "ExecuteTime": {
     "end_time": "2020-09-15T09:31:16.678731Z",
     "start_time": "2020-09-15T09:31:13.946376Z"
    },
    "colab": {
     "base_uri": "https://localhost:8080/",
     "height": 0
    },
    "colab_type": "code",
    "executionInfo": {
     "elapsed": 28131,
     "status": "ok",
     "timestamp": 1600401278819,
     "user": {
      "displayName": "김한빛",
      "photoUrl": "",
      "userId": "16905169175399423651"
     },
     "user_tz": -540
    },
    "id": "6Ge6kyGjRpfk",
    "outputId": "47c19bac-4302-424a-d85b-81babe3e9006"
   },
   "outputs": [
    {
     "name": "stdout",
     "output_type": "stream",
     "text": [
      "train shape: (9557, 1015) test shape: (23856, 1014)\n"
     ]
    }
   ],
   "source": [
    "for lugar in ['lugar1', 'lugar2', 'lugar3', 'lugar4', 'lugar5','lugar6']:\n",
    "    group_train = df_train[[lugar, 'idhogar'] + aggr_list].groupby([lugar,'idhogar']).sum().reset_index()\n",
    "    group_train.columns = [lugar, 'idhogar'] + ['new3_{}_idhogar_{}'.format(lugar,col) for col in group_train][2:]\n",
    "\n",
    "    group_test = df_test[[lugar, 'idhogar'] + aggr_list].groupby([lugar,'idhogar']).sum().reset_index()\n",
    "    group_test.columns = [lugar, 'idhogar'] + ['new3_{}_idhogar_{}'.format(lugar,col) for col in group_test][2:]\n",
    "    \n",
    "    train_agg = pd.merge(train_agg, group_train, on =[lugar, 'idhogar'])\n",
    "    test = pd.merge(test, group_test, on = [lugar, 'idhogar'])\n",
    "\n",
    "print('train shape:', train_agg.shape, 'test shape:', test.shape)\n"
   ]
  },
  {
   "cell_type": "code",
   "execution_count": 86,
   "metadata": {
    "ExecuteTime": {
     "end_time": "2020-09-15T09:31:19.901632Z",
     "start_time": "2020-09-15T09:31:16.681729Z"
    },
    "colab": {
     "base_uri": "https://localhost:8080/",
     "height": 0
    },
    "colab_type": "code",
    "executionInfo": {
     "elapsed": 28883,
     "status": "ok",
     "timestamp": 1600401279580,
     "user": {
      "displayName": "김한빛",
      "photoUrl": "",
      "userId": "16905169175399423651"
     },
     "user_tz": -540
    },
    "id": "o7TXa0lcRpfl",
    "outputId": "157f54d5-3d8b-4d8f-8a13-a5a0d9979ecb"
   },
   "outputs": [
    {
     "name": "stdout",
     "output_type": "stream",
     "text": [
      "train shape: (9557, 1297) test shape: (23856, 1296)\n"
     ]
    }
   ],
   "source": [
    "aggr_list = ['rez_esc', 'dis', 'male', 'female', \n",
    "                  'estadocivil1', 'estadocivil2', 'estadocivil3', 'estadocivil4', 'estadocivil5', 'estadocivil6', 'estadocivil7', \n",
    "                  'parentesco2', 'parentesco3', 'parentesco4', 'parentesco5', 'parentesco6', 'parentesco7', 'parentesco8', 'parentesco9', 'parentesco10', \n",
    "                  'parentesco11', 'parentesco12',\n",
    "                  'instlevel1', 'instlevel2', 'instlevel3', 'instlevel4', 'instlevel5', 'instlevel6', 'instlevel7', 'instlevel8', 'instlevel9',\n",
    "                 'epared1', 'epared2', 'epared3', 'etecho1', 'etecho2', 'etecho3', 'eviv1', 'eviv2', 'eviv3', 'refrig', 'television', 'mobilephone',\n",
    "            'area1', 'area2', 'v18q', 'edjef']\n",
    "\n",
    "for lugar in ['lugar1', 'lugar2', 'lugar3', 'lugar4', 'lugar5','lugar6']:\n",
    "    group_train = df_train[[lugar, 'idhogar'] + aggr_list].groupby([lugar,'idhogar']).sum().reset_index()\n",
    "    group_train.columns = [lugar, 'idhogar'] + ['new4_{}_idhogar_{}'.format(lugar,col) for col in group_train][2:]\n",
    "\n",
    "    group_test = df_test[[lugar, 'idhogar'] + aggr_list].groupby([lugar,'idhogar']).sum().reset_index()\n",
    "    group_test.columns = [lugar, 'idhogar'] + ['new4_{}_idhogar_{}'.format(lugar,col) for col in group_test][2:]\n",
    "    \n",
    "    train_agg = pd.merge(train_agg, group_train, on =[lugar, 'idhogar'])\n",
    "    test = pd.merge(test, group_test, on = [lugar, 'idhogar'])\n",
    "\n",
    "print('train shape:', train_agg.shape, 'test shape:', test.shape)"
   ]
  },
  {
   "cell_type": "code",
   "execution_count": 87,
   "metadata": {
    "ExecuteTime": {
     "end_time": "2020-09-15T09:39:03.700374Z",
     "start_time": "2020-09-15T09:31:19.903591Z"
    },
    "colab": {
     "base_uri": "https://localhost:8080/",
     "height": 0
    },
    "colab_type": "code",
    "executionInfo": {
     "elapsed": 182480,
     "status": "ok",
     "timestamp": 1600401433180,
     "user": {
      "displayName": "김한빛",
      "photoUrl": "",
      "userId": "16905169175399423651"
     },
     "user_tz": -540
    },
    "id": "ftB5BduZRpfn",
    "outputId": "4bb5d1df-b934-4df2-de06-d70d5d0de84d"
   },
   "outputs": [
    {
     "name": "stderr",
     "output_type": "stream",
     "text": [
      "100%|██████████| 7/7 [02:33<00:00, 21.93s/it]"
     ]
    },
    {
     "name": "stdout",
     "output_type": "stream",
     "text": [
      "train shape: (9557, 3271) test shape: (23856, 3270)\n"
     ]
    },
    {
     "name": "stderr",
     "output_type": "stream",
     "text": [
      "\n"
     ]
    }
   ],
   "source": [
    "cols_nums = ['age', 'meaneduc', 'dependency', \n",
    "             'hogar_nin', 'hogar_adul', 'hogar_mayor', 'hogar_total',\n",
    "             'bedrooms', 'overcrowding']\n",
    "\n",
    "for function in tqdm(['mean','std','min','max','sum','count', max_min]):\n",
    "    for lugar in ['lugar1', 'lugar2', 'lugar3', 'lugar4', 'lugar5','lugar6']:\n",
    "        group_train = df_train[[lugar, 'idhogar'] + aggr_list].groupby([lugar,'idhogar']).agg(function).reset_index()\n",
    "        group_train.columns = [lugar, 'idhogar'] + ['new5_{}_idhogar_{}_{}'.format(lugar, col, function) for col in group_train][2:]        \n",
    "\n",
    "        group_test = df_test[[lugar, 'idhogar'] + aggr_list].groupby([lugar,'idhogar']).agg(function).reset_index()\n",
    "        group_test.columns = [lugar, 'idhogar'] + ['new5_{}_idhogar_{}_{}'.format(lugar, col, function) for col in group_test][2:]        \n",
    "\n",
    "        train_agg = pd.merge(train_agg, group_train, on =[lugar, 'idhogar'])\n",
    "        test = pd.merge(test, group_test, on = [lugar, 'idhogar'])\n",
    "\n",
    "print('train shape:', train_agg.shape, 'test shape:', test.shape)"
   ]
  },
  {
   "cell_type": "markdown",
   "metadata": {
    "ExecuteTime": {
     "start_time": "2020-09-13T13:57:18.734Z"
    },
    "colab_type": "text",
    "id": "bYwzLyckRpfp"
   },
   "source": [
    "- 데이터 설명에 따르면 점수 매기는 것은 household만 사용된다.\n",
    "- 모든 가구원은 test + sample submission 에는 포함되지만, 가구원수만 점수에 매겨진다. "
   ]
  },
  {
   "cell_type": "code",
   "execution_count": 88,
   "metadata": {
    "ExecuteTime": {
     "end_time": "2020-09-15T09:39:04.485613Z",
     "start_time": "2020-09-15T09:39:03.702370Z"
    },
    "colab": {},
    "colab_type": "code",
    "executionInfo": {
     "elapsed": 182825,
     "status": "ok",
     "timestamp": 1600401433530,
     "user": {
      "displayName": "김한빛",
      "photoUrl": "",
      "userId": "16905169175399423651"
     },
     "user_tz": -540
    },
    "id": "Q_H4Bu65Rpfp"
   },
   "outputs": [],
   "source": [
    "train = train_agg.query('parentesco1==1')"
   ]
  },
  {
   "cell_type": "code",
   "execution_count": 89,
   "metadata": {
    "ExecuteTime": {
     "end_time": "2020-09-15T09:39:04.498888Z",
     "start_time": "2020-09-15T09:39:04.487575Z"
    },
    "colab": {},
    "colab_type": "code",
    "executionInfo": {
     "elapsed": 182821,
     "status": "ok",
     "timestamp": 1600401433531,
     "user": {
      "displayName": "김한빛",
      "photoUrl": "",
      "userId": "16905169175399423651"
     },
     "user_tz": -540
    },
    "id": "W5Ws-nu4Rpfr"
   },
   "outputs": [],
   "source": [
    "train['dependency'].replace(np.inf, 0, inplace=True)\n",
    "test['dependency'].replace(np.inf, 0, inplace=True)"
   ]
  },
  {
   "cell_type": "code",
   "execution_count": 90,
   "metadata": {
    "ExecuteTime": {
     "end_time": "2020-09-15T09:40:57.083991Z",
     "start_time": "2020-09-15T09:39:04.501893Z"
    },
    "colab": {},
    "colab_type": "code",
    "executionInfo": {
     "elapsed": 223035,
     "status": "ok",
     "timestamp": 1600401473749,
     "user": {
      "displayName": "김한빛",
      "photoUrl": "",
      "userId": "16905169175399423651"
     },
     "user_tz": -540
    },
    "id": "kCcIq-ilRpfs"
   },
   "outputs": [],
   "source": [
    "submission = test[['Id']]\n",
    "\n",
    "# 필요없는 변수는 차원을 감소 시키기위해 삭제한다.\n",
    "train.drop(columns=['idhogar','Id', 'agesq', 'hogar_adul', 'SQBescolari', 'SQBage', \n",
    "                    'SQBhogar_total', 'SQBedjefe', 'SQBhogar_nin', 'SQBovercrowding', 'SQBdependency', 'SQBmeaned'], inplace=True )\n",
    "\n",
    "test.drop(columns=['idhogar','Id', 'agesq', 'hogar_adul', 'SQBescolari', 'SQBage', \n",
    "                    'SQBhogar_total', 'SQBedjefe', 'SQBhogar_nin', 'SQBovercrowding', 'SQBdependency', 'SQBmeaned'], inplace=True )\n",
    "\n",
    "correlation = train.corr()\n",
    "correlation = correlation['Target'].sort_values(ascending=False)"
   ]
  },
  {
   "cell_type": "code",
   "execution_count": 91,
   "metadata": {
    "ExecuteTime": {
     "end_time": "2020-09-15T09:40:57.089917Z",
     "start_time": "2020-09-15T09:40:57.085958Z"
    },
    "colab": {
     "base_uri": "https://localhost:8080/",
     "height": 0
    },
    "colab_type": "code",
    "executionInfo": {
     "elapsed": 223036,
     "status": "ok",
     "timestamp": 1600401473752,
     "user": {
      "displayName": "김한빛",
      "photoUrl": "",
      "userId": "16905169175399423651"
     },
     "user_tz": -540
    },
    "id": "PQPHuWAWRpfw",
    "outputId": "aa4311c0-d36b-4fce-eedc-5edfb8cdbb7b"
   },
   "outputs": [
    {
     "name": "stdout",
     "output_type": "stream",
     "text": [
      "final_data size (2973, 3259) (23856, 3258)\n"
     ]
    }
   ],
   "source": [
    "print('final_data size', train.shape, test.shape)"
   ]
  },
  {
   "cell_type": "code",
   "execution_count": 92,
   "metadata": {
    "ExecuteTime": {
     "end_time": "2020-09-15T09:40:57.109941Z",
     "start_time": "2020-09-15T09:40:57.091917Z"
    },
    "colab": {
     "base_uri": "https://localhost:8080/",
     "height": 0
    },
    "colab_type": "code",
    "executionInfo": {
     "elapsed": 223032,
     "status": "ok",
     "timestamp": 1600401473753,
     "user": {
      "displayName": "김한빛",
      "photoUrl": "",
      "userId": "16905169175399423651"
     },
     "user_tz": -540
    },
    "id": "s1gLK2HKRpfx",
    "outputId": "300306e8-be92-4273-f350-0218b476d525"
   },
   "outputs": [
    {
     "name": "stdout",
     "output_type": "stream",
     "text": [
      "The most 20 positive feature: \n",
      " Target                            1.000000\n",
      "new5_lugar3_idhogar_edjef_max     0.334254\n",
      "new5_lugar4_idhogar_edjef_max     0.334254\n",
      "new5_lugar6_idhogar_edjef_max     0.334254\n",
      "new5_lugar2_idhogar_edjef_max     0.334254\n",
      "new5_lugar1_idhogar_edjef_max     0.334254\n",
      "new5_lugar5_idhogar_edjef_max     0.334254\n",
      "new5_lugar6_idhogar_edjef_mean    0.333873\n",
      "new5_lugar5_idhogar_edjef_mean    0.333873\n",
      "new5_lugar2_idhogar_edjef_mean    0.333873\n",
      "new5_lugar4_idhogar_edjef_mean    0.333873\n",
      "new5_lugar1_idhogar_edjef_mean    0.333873\n",
      "new5_lugar3_idhogar_edjef_mean    0.333873\n",
      "edjef                             0.333791\n",
      "new5_lugar5_idhogar_edjef_min     0.333791\n",
      "new5_lugar3_idhogar_edjef_min     0.333791\n",
      "new5_lugar1_idhogar_edjef_min     0.333791\n",
      "new5_lugar4_idhogar_edjef_min     0.333791\n",
      "new5_lugar2_idhogar_edjef_min     0.333791\n",
      "new5_lugar6_idhogar_edjef_min     0.333791\n",
      "Name: Target, dtype: float64\n"
     ]
    }
   ],
   "source": [
    "print(f'The most 20 positive feature: \\n {correlation.head(20)}')\n"
   ]
  },
  {
   "cell_type": "code",
   "execution_count": 93,
   "metadata": {
    "ExecuteTime": {
     "end_time": "2020-09-15T09:40:57.119947Z",
     "start_time": "2020-09-15T09:40:57.111941Z"
    },
    "colab": {
     "base_uri": "https://localhost:8080/",
     "height": 0
    },
    "colab_type": "code",
    "executionInfo": {
     "elapsed": 223029,
     "status": "ok",
     "timestamp": 1600401473754,
     "user": {
      "displayName": "김한빛",
      "photoUrl": "",
      "userId": "16905169175399423651"
     },
     "user_tz": -540
    },
    "id": "jvR7NqZTRpfy",
    "outputId": "92fc4876-07fe-4260-b5d4-5f7a130c3276"
   },
   "outputs": [
    {
     "name": "stdout",
     "output_type": "stream",
     "text": [
      "The most 20 negaitive feature: \n",
      " new5_lugar5_idhogar_television_<function max_min at 0x7f61ca6fc0d0>    NaN\n",
      "new5_lugar5_idhogar_mobilephone_<function max_min at 0x7f61ca6fc0d0>   NaN\n",
      "new5_lugar5_idhogar_area1_<function max_min at 0x7f61ca6fc0d0>         NaN\n",
      "new5_lugar5_idhogar_area2_<function max_min at 0x7f61ca6fc0d0>         NaN\n",
      "new5_lugar5_idhogar_v18q_<function max_min at 0x7f61ca6fc0d0>          NaN\n",
      "new5_lugar6_idhogar_epared1_<function max_min at 0x7f61ca6fc0d0>       NaN\n",
      "new5_lugar6_idhogar_epared2_<function max_min at 0x7f61ca6fc0d0>       NaN\n",
      "new5_lugar6_idhogar_epared3_<function max_min at 0x7f61ca6fc0d0>       NaN\n",
      "new5_lugar6_idhogar_etecho1_<function max_min at 0x7f61ca6fc0d0>       NaN\n",
      "new5_lugar6_idhogar_etecho2_<function max_min at 0x7f61ca6fc0d0>       NaN\n",
      "new5_lugar6_idhogar_etecho3_<function max_min at 0x7f61ca6fc0d0>       NaN\n",
      "new5_lugar6_idhogar_eviv1_<function max_min at 0x7f61ca6fc0d0>         NaN\n",
      "new5_lugar6_idhogar_eviv2_<function max_min at 0x7f61ca6fc0d0>         NaN\n",
      "new5_lugar6_idhogar_eviv3_<function max_min at 0x7f61ca6fc0d0>         NaN\n",
      "new5_lugar6_idhogar_refrig_<function max_min at 0x7f61ca6fc0d0>        NaN\n",
      "new5_lugar6_idhogar_television_<function max_min at 0x7f61ca6fc0d0>    NaN\n",
      "new5_lugar6_idhogar_mobilephone_<function max_min at 0x7f61ca6fc0d0>   NaN\n",
      "new5_lugar6_idhogar_area1_<function max_min at 0x7f61ca6fc0d0>         NaN\n",
      "new5_lugar6_idhogar_area2_<function max_min at 0x7f61ca6fc0d0>         NaN\n",
      "new5_lugar6_idhogar_v18q_<function max_min at 0x7f61ca6fc0d0>          NaN\n",
      "Name: Target, dtype: float64\n"
     ]
    }
   ],
   "source": [
    "print(f'The most 20 negaitive feature: \\n {correlation.tail(20)}')"
   ]
  },
  {
   "cell_type": "markdown",
   "metadata": {
    "colab_type": "text",
    "id": "EUIOsKLzRpfz"
   },
   "source": [
    "# 3. Feature Selection Using Shap\n"
   ]
  },
  {
   "cell_type": "code",
   "execution_count": 94,
   "metadata": {
    "ExecuteTime": {
     "end_time": "2020-09-15T09:40:59.794833Z",
     "start_time": "2020-09-15T09:40:57.122945Z"
    },
    "colab": {},
    "colab_type": "code",
    "executionInfo": {
     "elapsed": 225077,
     "status": "ok",
     "timestamp": 1600401475805,
     "user": {
      "displayName": "김한빛",
      "photoUrl": "",
      "userId": "16905169175399423651"
     },
     "user_tz": -540
    },
    "id": "-aXpqUtGRpfz"
   },
   "outputs": [],
   "source": [
    "# 중복되는 열이 있으므로, 중복되는 열을 삭제하고 binary category 변수를 생성한다.\n",
    "# train = train.T.drop_duplicates().T\n",
    "binary_cat_features = [col for col in train.columns if train[col].value_counts().shape[0] == 2]\n",
    "object_features = ['edjefe', 'edjefa']\n",
    "\n",
    "categorical_feats = binary_cat_features + object_features"
   ]
  },
  {
   "cell_type": "code",
   "execution_count": 95,
   "metadata": {
    "ExecuteTime": {
     "end_time": "2020-09-15T09:40:59.802799Z",
     "start_time": "2020-09-15T09:40:59.796790Z"
    },
    "colab": {},
    "colab_type": "code",
    "executionInfo": {
     "elapsed": 225077,
     "status": "ok",
     "timestamp": 1600401475808,
     "user": {
      "displayName": "김한빛",
      "photoUrl": "",
      "userId": "16905169175399423651"
     },
     "user_tz": -540
    },
    "id": "tYxpXstYRpf1"
   },
   "outputs": [],
   "source": [
    "def evaluate_macroF1_lgb(truth, predictions):  \n",
    "    # this follows the discussion in https://github.com/Microsoft/LightGBM/issues/1483\n",
    "    pred_labels = predictions.reshape(len(np.unique(truth)),-1).argmax(axis=0)\n",
    "    f1 = f1_score(truth, pred_labels, average='macro')\n",
    "    return ('macroF1', f1, True) "
   ]
  },
  {
   "cell_type": "code",
   "execution_count": 96,
   "metadata": {
    "ExecuteTime": {
     "end_time": "2020-09-15T09:40:59.875793Z",
     "start_time": "2020-09-15T09:40:59.805830Z"
    },
    "colab": {},
    "colab_type": "code",
    "executionInfo": {
     "elapsed": 225075,
     "status": "ok",
     "timestamp": 1600401475809,
     "user": {
      "displayName": "김한빛",
      "photoUrl": "",
      "userId": "16905169175399423651"
     },
     "user_tz": -540
    },
    "id": "ibPKzLt4Rpf2"
   },
   "outputs": [],
   "source": [
    "y = train['Target']\n",
    "train.drop(columns=['Target'], inplace=True)"
   ]
  },
  {
   "cell_type": "code",
   "execution_count": 97,
   "metadata": {
    "ExecuteTime": {
     "end_time": "2020-09-15T09:40:59.885793Z",
     "start_time": "2020-09-15T09:40:59.878793Z"
    },
    "colab": {},
    "colab_type": "code",
    "executionInfo": {
     "elapsed": 225072,
     "status": "ok",
     "timestamp": 1600401475810,
     "user": {
      "displayName": "김한빛",
      "photoUrl": "",
      "userId": "16905169175399423651"
     },
     "user_tz": -540
    },
    "id": "9NRMHd-ZRpf2"
   },
   "outputs": [],
   "source": [
    "def print_execution_time(start):\n",
    "    end = time.time()\n",
    "    hours, rem = divmod(end-start, 3600)\n",
    "    minutes, seconds = divmod(rem, 60)\n",
    "    print('*'*20, \"Execution ended in {:0>2}h {:0>2}m {:05.2f}s\".format(int(hours),int(minutes),seconds), '*'*20)"
   ]
  },
  {
   "cell_type": "code",
   "execution_count": 98,
   "metadata": {
    "ExecuteTime": {
     "end_time": "2020-09-15T09:40:59.894793Z",
     "start_time": "2020-09-15T09:40:59.888793Z"
    },
    "colab": {},
    "colab_type": "code",
    "executionInfo": {
     "elapsed": 225066,
     "status": "ok",
     "timestamp": 1600401475810,
     "user": {
      "displayName": "김한빛",
      "photoUrl": "",
      "userId": "16905169175399423651"
     },
     "user_tz": -540
    },
    "id": "hwB73W9-Rpf3"
   },
   "outputs": [],
   "source": [
    "# LGBMClassifier https://lightgbm.readthedocs.io/en/latest/Parameters-Tuning.html\n",
    "# def extract_good_features_using_shap_LGB(params, SEED):\n",
    "#     clf = lgb.LGBMClassifier(objective='multiclass',\n",
    "#                             random_state=1989,\n",
    "#                             max_depth=params['max_depth'],#max_depth:트리의 최대 깊이\n",
    "#                             learning_rate=params['learning_rate'],#learning_rate : 학습률\n",
    "#                             silent=True,\n",
    "#                             metric='multi_logloss',\n",
    "#                             n_jobs=-1, n_estimators =10000,#n_estimators : 반복하려는 트리의 개수\n",
    "#                             class_weight = 'balanced',\n",
    "#                             colsample_bytree=params['colsample_bytree'],\n",
    "#                             min_split_gain=params['min_split_gain'],\n",
    "#                             bagging_freq=params['bagging_freq'],\n",
    "#                             min_child_weight=params['min_child_weight'],#min_child_samples : 리프 노드가 되기 위한 최소한의 샘플 데이터 수\n",
    "#                              num_leaves=params['num_leaves'],#num_leaves:하나의 트리가 가질수 있는 최대의 리프 개수\n",
    "#                              subsample=params['subsample'],\n",
    "#                              reg_alpha=params['reg_alpha'],#reg_alpha:L2regularization\n",
    "#                              reg_lambda=params['reg_lambda'],#reg_lambda:L1regularization\n",
    "#                              num_class=len(np.unique(y)),\n",
    "#                              bagging_seed=SEED,\n",
    "#                              seed=SEED                             \n",
    "#                             )\n",
    "#     kfold = 5\n",
    "#     kf = StratifiedKFold(n_splits=kfold, shuffle=True)\n",
    "#     feat_importance_df = pd.DataFrame()\n",
    "    \n",
    "#     for i, (train_index, test_index) in enumerate(kf.split(train, y)): # y : Target \n",
    "#         print('='*30,'{} of {} folds'.format(i+1, kfold), '='*30)\n",
    "#         start = time.time()\n",
    "#         X_train, X_val = train.iloc[train_index], train_iloc[test_index]\n",
    "#         y_train, y_val = y.iloc[train_index], y.iloc[testst_index]\n",
    "#         clf.fit(X_train, y_train, eval_set=[(X_train, y_train), (X_val, y_val)], eval_metric=evaluate_macroF1_lgb,\n",
    "#                categorical_feature=categorical_feats, early_stopping_rounds=500, verbose=500)\n",
    "#         shap_values=shap.TreeExplainer(clf.booster_).shap_values(X_train)\n",
    "#         fold_importance_df = pd.DataFrame()\n",
    "#         fold_importance_df['feature'] = X_train.columns\n",
    "#         fold_importance_df['shap_values'] = abs(np.array(shap_values)[:,:].mean(1).mean(0))\n",
    "#         fold_importance_df['feat_imp'] = clf.feature_importances_\n",
    "#         feat_importance_df = pd.concat([feat_importance_df, fold_importance_df])\n",
    "#         print_execution_time(start)\n",
    "        \n",
    "#     feat_importance_df_shap = feat_importance_df.groupby('feature').mean().sort_values('shap_values', ascendig=False).reset_index()\n",
    "    \n",
    "#     return feat_importance_df_shap"
   ]
  },
  {
   "cell_type": "code",
   "execution_count": 99,
   "metadata": {
    "ExecuteTime": {
     "end_time": "2020-09-15T09:40:59.912792Z",
     "start_time": "2020-09-15T09:40:59.897792Z"
    },
    "colab": {},
    "colab_type": "code",
    "executionInfo": {
     "elapsed": 225063,
     "status": "ok",
     "timestamp": 1600401475811,
     "user": {
      "displayName": "김한빛",
      "photoUrl": "",
      "userId": "16905169175399423651"
     },
     "user_tz": -540
    },
    "id": "harq8VGyRpf6"
   },
   "outputs": [],
   "source": [
    "def extract_good_features_using_shap_LGB(params, SEED):\n",
    "    clf = lgb.LGBMClassifier(objective='multiclass',\n",
    "                             random_state=1989,\n",
    "                             max_depth=params['max_depth'], \n",
    "                             learning_rate=params['learning_rate'],  \n",
    "                             silent=True, \n",
    "                             metric='multi_logloss',\n",
    "                             n_jobs=-1, n_estimators=10000, \n",
    "                             class_weight='balanced',\n",
    "                             colsample_bytree = params['colsample_bytree'], \n",
    "                             min_split_gain= params['min_split_gain'], \n",
    "                             bagging_freq = params['bagging_freq'],\n",
    "                             min_child_weight=params['min_child_weight'],\n",
    "                             num_leaves = params['num_leaves'], \n",
    "                             subsample = params['subsample'],\n",
    "                             reg_alpha= params['reg_alpha'],\n",
    "                             reg_lambda= params['reg_lambda'],\n",
    "                             num_class=len(np.unique(y)),\n",
    "                             bagging_seed=SEED,\n",
    "                             seed=SEED,\n",
    "                            )\n",
    "\n",
    "    kfold = 5\n",
    "    kf = StratifiedKFold(n_splits=kfold, shuffle=True)\n",
    "    feat_importance_df  = pd.DataFrame()\n",
    "\n",
    "    for i, (train_index, test_index) in enumerate(kf.split(train, y)):\n",
    "        print('='*30, '{} of {} folds'.format(i+1, kfold), '='*30)\n",
    "        start = time.time()\n",
    "        X_train, X_val = train.iloc[train_index], train.iloc[test_index]\n",
    "        y_train, y_val = y.iloc[train_index], y.iloc[test_index]\n",
    "        clf.fit(X_train, y_train, eval_set=[(X_train, y_train), (X_val, y_val)], eval_metric=evaluate_macroF1_lgb, categorical_feature=categorical_feats,\n",
    "                early_stopping_rounds=500, verbose=500)\n",
    "        shap_values = shap.TreeExplainer(clf.booster_).shap_values(X_train)\n",
    "        fold_importance_df  = pd.DataFrame()\n",
    "        fold_importance_df['feature'] = X_train.columns\n",
    "        fold_importance_df['shap_values'] = abs(np.array(shap_values)[:, :].mean(1).mean(0))\n",
    "        fold_importance_df['feat_imp'] = clf.feature_importances_\n",
    "        feat_importance_df = pd.concat([feat_importance_df, fold_importance_df])\n",
    "        print_execution_time(start)\n",
    "\n",
    "    feat_importance_df_shap = feat_importance_df.groupby('feature').mean().sort_values('shap_values', ascending=False).reset_index()\n",
    "#     feat_importance_df_shap['shap_cumsum'] = feat_importance_df_shap['shap_values'].cumsum() / feat_importance_df_shap['shap_values'].sum()\n",
    "#     good_features = feat_importance_df_shap.loc[feat_importance_df_shap['shap_cumsum'] < 0.999].feature\n",
    "    return feat_importance_df_shap"
   ]
  },
  {
   "cell_type": "code",
   "execution_count": 100,
   "metadata": {
    "ExecuteTime": {
     "end_time": "2020-09-15T14:42:28.762778Z",
     "start_time": "2020-09-15T13:32:45.923929Z"
    },
    "colab": {
     "base_uri": "https://localhost:8080/",
     "height": 1000
    },
    "colab_type": "code",
    "executionInfo": {
     "elapsed": 15072940,
     "status": "ok",
     "timestamp": 1600416323692,
     "user": {
      "displayName": "김한빛",
      "photoUrl": "",
      "userId": "16905169175399423651"
     },
     "user_tz": -540
    },
    "id": "m1zSEQLkRpf7",
    "outputId": "82cec1e6-377e-4a47-aad4-33b789f33367"
   },
   "outputs": [
    {
     "name": "stdout",
     "output_type": "stream",
     "text": [
      "######################################## 1 of 50 iterations ########################################\n",
      "============================== 1 of 5 folds ==============================\n",
      "Training until validation scores don't improve for 500 rounds.\n",
      "[500]\ttraining's multi_logloss: 1.00485\ttraining's macroF1: 0.557042\tvalid_1's multi_logloss: 1.04836\tvalid_1's macroF1: 0.377357\n",
      "Early stopping, best iteration is:\n",
      "[49]\ttraining's multi_logloss: 1.30129\ttraining's macroF1: 0.487104\tvalid_1's multi_logloss: 1.27716\tvalid_1's macroF1: 0.387977\n",
      "******************** Execution ended in 00h 00m 20.92s ********************\n",
      "============================== 2 of 5 folds ==============================\n",
      "Training until validation scores don't improve for 500 rounds.\n",
      "[500]\ttraining's multi_logloss: 1.00997\ttraining's macroF1: 0.560006\tvalid_1's multi_logloss: 1.08823\tvalid_1's macroF1: 0.38931\n",
      "[1000]\ttraining's multi_logloss: 0.895372\ttraining's macroF1: 0.618211\tvalid_1's multi_logloss: 1.07981\tvalid_1's macroF1: 0.397377\n",
      "[1500]\ttraining's multi_logloss: 0.818834\ttraining's macroF1: 0.662662\tvalid_1's multi_logloss: 1.07889\tvalid_1's macroF1: 0.390747\n",
      "Early stopping, best iteration is:\n",
      "[1032]\ttraining's multi_logloss: 0.889825\ttraining's macroF1: 0.620445\tvalid_1's multi_logloss: 1.07929\tvalid_1's macroF1: 0.401916\n",
      "******************** Execution ended in 00h 00m 57.44s ********************\n",
      "============================== 3 of 5 folds ==============================\n",
      "Training until validation scores don't improve for 500 rounds.\n",
      "[500]\ttraining's multi_logloss: 1.01797\ttraining's macroF1: 0.555856\tvalid_1's multi_logloss: 1.01584\tvalid_1's macroF1: 0.454784\n",
      "[1000]\ttraining's multi_logloss: 0.903931\ttraining's macroF1: 0.605618\tvalid_1's multi_logloss: 0.986396\tvalid_1's macroF1: 0.459385\n",
      "Early stopping, best iteration is:\n",
      "[701]\ttraining's multi_logloss: 0.964902\ttraining's macroF1: 0.578769\tvalid_1's multi_logloss: 0.996749\tvalid_1's macroF1: 0.471793\n",
      "******************** Execution ended in 00h 00m 46.32s ********************\n",
      "============================== 4 of 5 folds ==============================\n",
      "Training until validation scores don't improve for 500 rounds.\n",
      "[500]\ttraining's multi_logloss: 1.02129\ttraining's macroF1: 0.561591\tvalid_1's multi_logloss: 1.0278\tvalid_1's macroF1: 0.422317\n",
      "Early stopping, best iteration is:\n",
      "[388]\ttraining's multi_logloss: 1.06019\ttraining's macroF1: 0.550715\tvalid_1's multi_logloss: 1.04633\tvalid_1's macroF1: 0.436703\n",
      "******************** Execution ended in 00h 00m 34.18s ********************\n",
      "============================== 5 of 5 folds ==============================\n",
      "Training until validation scores don't improve for 500 rounds.\n",
      "[500]\ttraining's multi_logloss: 1.01423\ttraining's macroF1: 0.56672\tvalid_1's multi_logloss: 1.07017\tvalid_1's macroF1: 0.411672\n",
      "Early stopping, best iteration is:\n",
      "[462]\ttraining's multi_logloss: 1.02643\ttraining's macroF1: 0.56065\tvalid_1's multi_logloss: 1.07366\tvalid_1's macroF1: 0.416939\n",
      "******************** Execution ended in 00h 00m 37.52s ********************\n",
      "######################################## 2 of 50 iterations ########################################\n",
      "============================== 1 of 5 folds ==============================\n",
      "Training until validation scores don't improve for 500 rounds.\n",
      "[500]\ttraining's multi_logloss: 1.15349\ttraining's macroF1: 0.494975\tvalid_1's multi_logloss: 1.12155\tvalid_1's macroF1: 0.367781\n",
      "[1000]\ttraining's multi_logloss: 1.06031\ttraining's macroF1: 0.530256\tvalid_1's multi_logloss: 1.0632\tvalid_1's macroF1: 0.374037\n",
      "Early stopping, best iteration is:\n",
      "[562]\ttraining's multi_logloss: 1.13825\ttraining's macroF1: 0.5007\tvalid_1's multi_logloss: 1.1094\tvalid_1's macroF1: 0.381025\n",
      "******************** Execution ended in 00h 01m 06.75s ********************\n",
      "============================== 2 of 5 folds ==============================\n",
      "Training until validation scores don't improve for 500 rounds.\n",
      "[500]\ttraining's multi_logloss: 1.15701\ttraining's macroF1: 0.492258\tvalid_1's multi_logloss: 1.13662\tvalid_1's macroF1: 0.417573\n",
      "[1000]\ttraining's multi_logloss: 1.06583\ttraining's macroF1: 0.52717\tvalid_1's multi_logloss: 1.08027\tvalid_1's macroF1: 0.420325\n",
      "Early stopping, best iteration is:\n",
      "[782]\ttraining's multi_logloss: 1.09846\ttraining's macroF1: 0.51704\tvalid_1's multi_logloss: 1.09675\tvalid_1's macroF1: 0.432322\n",
      "******************** Execution ended in 00h 01m 20.97s ********************\n",
      "============================== 3 of 5 folds ==============================\n",
      "Training until validation scores don't improve for 500 rounds.\n",
      "[500]\ttraining's multi_logloss: 1.15252\ttraining's macroF1: 0.495734\tvalid_1's multi_logloss: 1.14348\tvalid_1's macroF1: 0.40653\n",
      "[1000]\ttraining's multi_logloss: 1.05594\ttraining's macroF1: 0.523409\tvalid_1's multi_logloss: 1.09\tvalid_1's macroF1: 0.390093\n",
      "Early stopping, best iteration is:\n",
      "[722]\ttraining's multi_logloss: 1.10135\ttraining's macroF1: 0.516633\tvalid_1's multi_logloss: 1.1108\tvalid_1's macroF1: 0.414585\n",
      "******************** Execution ended in 00h 01m 15.52s ********************\n",
      "============================== 4 of 5 folds ==============================\n",
      "Training until validation scores don't improve for 500 rounds.\n",
      "[500]\ttraining's multi_logloss: 1.15287\ttraining's macroF1: 0.494296\tvalid_1's multi_logloss: 1.13193\tvalid_1's macroF1: 0.384456\n",
      "[1000]\ttraining's multi_logloss: 1.05863\ttraining's macroF1: 0.530018\tvalid_1's multi_logloss: 1.07259\tvalid_1's macroF1: 0.390425\n",
      "[1500]\ttraining's multi_logloss: 1.00248\ttraining's macroF1: 0.557114\tvalid_1's multi_logloss: 1.05278\tvalid_1's macroF1: 0.385397\n",
      "Early stopping, best iteration is:\n",
      "[1167]\ttraining's multi_logloss: 1.03744\ttraining's macroF1: 0.540135\tvalid_1's multi_logloss: 1.06327\tvalid_1's macroF1: 0.39476\n",
      "******************** Execution ended in 00h 01m 43.83s ********************\n",
      "============================== 5 of 5 folds ==============================\n",
      "Training until validation scores don't improve for 500 rounds.\n",
      "[500]\ttraining's multi_logloss: 1.162\ttraining's macroF1: 0.494477\tvalid_1's multi_logloss: 1.1371\tvalid_1's macroF1: 0.421501\n",
      "[1000]\ttraining's multi_logloss: 1.06962\ttraining's macroF1: 0.518801\tvalid_1's multi_logloss: 1.07597\tvalid_1's macroF1: 0.424294\n",
      "Early stopping, best iteration is:\n",
      "[606]\ttraining's multi_logloss: 1.137\ttraining's macroF1: 0.502814\tvalid_1's multi_logloss: 1.11745\tvalid_1's macroF1: 0.431822\n",
      "******************** Execution ended in 00h 01m 13.06s ********************\n",
      "######################################## 3 of 50 iterations ########################################\n",
      "============================== 1 of 5 folds ==============================\n",
      "Training until validation scores don't improve for 500 rounds.\n",
      "[500]\ttraining's multi_logloss: 0.809865\ttraining's macroF1: 0.70056\tvalid_1's multi_logloss: 0.995402\tvalid_1's macroF1: 0.444196\n",
      "Early stopping, best iteration is:\n",
      "[490]\ttraining's multi_logloss: 0.81464\ttraining's macroF1: 0.696039\tvalid_1's multi_logloss: 0.995938\tvalid_1's macroF1: 0.451588\n",
      "******************** Execution ended in 00h 01m 05.31s ********************\n",
      "============================== 2 of 5 folds ==============================\n",
      "Training until validation scores don't improve for 500 rounds.\n",
      "[500]\ttraining's multi_logloss: 0.825917\ttraining's macroF1: 0.681596\tvalid_1's multi_logloss: 1.02221\tvalid_1's macroF1: 0.442533\n",
      "Early stopping, best iteration is:\n",
      "[310]\ttraining's multi_logloss: 0.929943\ttraining's macroF1: 0.635213\tvalid_1's multi_logloss: 1.04201\tvalid_1's macroF1: 0.454028\n",
      "******************** Execution ended in 00h 00m 53.24s ********************\n",
      "============================== 3 of 5 folds ==============================\n",
      "Training until validation scores don't improve for 500 rounds.\n",
      "[500]\ttraining's multi_logloss: 0.827298\ttraining's macroF1: 0.669178\tvalid_1's multi_logloss: 0.968586\tvalid_1's macroF1: 0.441924\n",
      "Early stopping, best iteration is:\n",
      "[344]\ttraining's multi_logloss: 0.910514\ttraining's macroF1: 0.634273\tvalid_1's multi_logloss: 0.98736\tvalid_1's macroF1: 0.45069\n",
      "******************** Execution ended in 00h 00m 56.89s ********************\n",
      "============================== 4 of 5 folds ==============================\n",
      "Training until validation scores don't improve for 500 rounds.\n",
      "[500]\ttraining's multi_logloss: 0.820977\ttraining's macroF1: 0.671463\tvalid_1's multi_logloss: 1.03319\tvalid_1's macroF1: 0.380203\n",
      "Early stopping, best iteration is:\n",
      "[3]\ttraining's multi_logloss: 1.37461\ttraining's macroF1: 0.495498\tvalid_1's multi_logloss: 1.37252\tvalid_1's macroF1: 0.394692\n",
      "******************** Execution ended in 00h 00m 33.10s ********************\n",
      "============================== 5 of 5 folds ==============================\n",
      "Training until validation scores don't improve for 500 rounds.\n",
      "[500]\ttraining's multi_logloss: 0.814642\ttraining's macroF1: 0.685804\tvalid_1's multi_logloss: 1.06496\tvalid_1's macroF1: 0.421855\n",
      "[1000]\ttraining's multi_logloss: 0.647217\ttraining's macroF1: 0.759141\tvalid_1's multi_logloss: 1.06244\tvalid_1's macroF1: 0.414225\n",
      "Early stopping, best iteration is:\n",
      "[521]\ttraining's multi_logloss: 0.805173\ttraining's macroF1: 0.693018\tvalid_1's multi_logloss: 1.06418\tvalid_1's macroF1: 0.422102\n",
      "******************** Execution ended in 00h 01m 10.16s ********************\n",
      "######################################## 4 of 50 iterations ########################################\n",
      "============================== 1 of 5 folds ==============================\n",
      "Training until validation scores don't improve for 500 rounds.\n",
      "[500]\ttraining's multi_logloss: 1.01083\ttraining's macroF1: 0.537277\tvalid_1's multi_logloss: 1.05847\tvalid_1's macroF1: 0.40936\n",
      "Early stopping, best iteration is:\n",
      "[379]\ttraining's multi_logloss: 1.04687\ttraining's macroF1: 0.523113\tvalid_1's multi_logloss: 1.0641\tvalid_1's macroF1: 0.428405\n",
      "******************** Execution ended in 00h 00m 44.50s ********************\n",
      "============================== 2 of 5 folds ==============================\n",
      "Training until validation scores don't improve for 500 rounds.\n",
      "[500]\ttraining's multi_logloss: 1.01284\ttraining's macroF1: 0.543027\tvalid_1's multi_logloss: 1.02977\tvalid_1's macroF1: 0.423176\n",
      "[1000]\ttraining's multi_logloss: 0.913201\ttraining's macroF1: 0.596816\tvalid_1's multi_logloss: 1.01665\tvalid_1's macroF1: 0.426669\n",
      "[1500]\ttraining's multi_logloss: 0.845772\ttraining's macroF1: 0.628095\tvalid_1's multi_logloss: 1.01106\tvalid_1's macroF1: 0.427882\n",
      "Early stopping, best iteration is:\n",
      "[1252]\ttraining's multi_logloss: 0.876021\ttraining's macroF1: 0.615787\tvalid_1's multi_logloss: 1.01373\tvalid_1's macroF1: 0.434092\n",
      "******************** Execution ended in 00h 01m 22.45s ********************\n",
      "============================== 3 of 5 folds ==============================\n",
      "Training until validation scores don't improve for 500 rounds.\n",
      "[500]\ttraining's multi_logloss: 1.01234\ttraining's macroF1: 0.548258\tvalid_1's multi_logloss: 1.08506\tvalid_1's macroF1: 0.369514\n",
      "[1000]\ttraining's multi_logloss: 0.911285\ttraining's macroF1: 0.607829\tvalid_1's multi_logloss: 1.07324\tvalid_1's macroF1: 0.382539\n",
      "Early stopping, best iteration is:\n",
      "[859]\ttraining's multi_logloss: 0.933664\ttraining's macroF1: 0.590257\tvalid_1's multi_logloss: 1.07817\tvalid_1's macroF1: 0.38561\n",
      "******************** Execution ended in 00h 01m 04.50s ********************\n",
      "============================== 4 of 5 folds ==============================\n",
      "Training until validation scores don't improve for 500 rounds.\n",
      "[500]\ttraining's multi_logloss: 1.01314\ttraining's macroF1: 0.539969\tvalid_1's multi_logloss: 1.07433\tvalid_1's macroF1: 0.399989\n",
      "[1000]\ttraining's multi_logloss: 0.912796\ttraining's macroF1: 0.59641\tvalid_1's multi_logloss: 1.06692\tvalid_1's macroF1: 0.40821\n",
      "Early stopping, best iteration is:\n",
      "[675]\ttraining's multi_logloss: 0.971183\ttraining's macroF1: 0.565023\tvalid_1's multi_logloss: 1.07018\tvalid_1's macroF1: 0.413991\n",
      "******************** Execution ended in 00h 00m 56.07s ********************\n",
      "============================== 5 of 5 folds ==============================\n",
      "Training until validation scores don't improve for 500 rounds.\n",
      "[500]\ttraining's multi_logloss: 1.00459\ttraining's macroF1: 0.544863\tvalid_1's multi_logloss: 1.04974\tvalid_1's macroF1: 0.401321\n",
      "Early stopping, best iteration is:\n",
      "[177]\ttraining's multi_logloss: 1.1427\ttraining's macroF1: 0.493032\tvalid_1's multi_logloss: 1.10439\tvalid_1's macroF1: 0.420533\n",
      "******************** Execution ended in 00h 00m 33.07s ********************\n",
      "######################################## 5 of 50 iterations ########################################\n",
      "============================== 1 of 5 folds ==============================\n",
      "Training until validation scores don't improve for 500 rounds.\n",
      "[500]\ttraining's multi_logloss: 0.992275\ttraining's macroF1: 0.554661\tvalid_1's multi_logloss: 1.04224\tvalid_1's macroF1: 0.350008\n",
      "Early stopping, best iteration is:\n",
      "[42]\ttraining's multi_logloss: 1.28725\ttraining's macroF1: 0.456181\tvalid_1's multi_logloss: 1.25924\tvalid_1's macroF1: 0.369595\n",
      "******************** Execution ended in 00h 00m 36.03s ********************\n",
      "============================== 2 of 5 folds ==============================\n",
      "Training until validation scores don't improve for 500 rounds.\n",
      "[500]\ttraining's multi_logloss: 0.998066\ttraining's macroF1: 0.554626\tvalid_1's multi_logloss: 1.07297\tvalid_1's macroF1: 0.394617\n",
      "Early stopping, best iteration is:\n",
      "[177]\ttraining's multi_logloss: 1.12975\ttraining's macroF1: 0.496828\tvalid_1's multi_logloss: 1.12768\tvalid_1's macroF1: 0.411119\n",
      "******************** Execution ended in 00h 00m 40.77s ********************\n",
      "============================== 3 of 5 folds ==============================\n",
      "Training until validation scores don't improve for 500 rounds.\n",
      "[500]\ttraining's multi_logloss: 0.991497\ttraining's macroF1: 0.547388\tvalid_1's multi_logloss: 1.05748\tvalid_1's macroF1: 0.413745\n",
      "[1000]\ttraining's multi_logloss: 0.888162\ttraining's macroF1: 0.598206\tvalid_1's multi_logloss: 1.05411\tvalid_1's macroF1: 0.420612\n",
      "Early stopping, best iteration is:\n",
      "[947]\ttraining's multi_logloss: 0.896833\ttraining's macroF1: 0.590849\tvalid_1's multi_logloss: 1.05515\tvalid_1's macroF1: 0.423638\n",
      "******************** Execution ended in 00h 01m 25.98s ********************\n",
      "============================== 4 of 5 folds ==============================\n",
      "Training until validation scores don't improve for 500 rounds.\n",
      "[500]\ttraining's multi_logloss: 1.00452\ttraining's macroF1: 0.542783\tvalid_1's multi_logloss: 1.05158\tvalid_1's macroF1: 0.414599\n",
      "Early stopping, best iteration is:\n",
      "[372]\ttraining's multi_logloss: 1.04301\ttraining's macroF1: 0.52251\tvalid_1's multi_logloss: 1.06469\tvalid_1's macroF1: 0.423675\n",
      "******************** Execution ended in 00h 00m 52.88s ********************\n",
      "============================== 5 of 5 folds ==============================\n",
      "Training until validation scores don't improve for 500 rounds.\n",
      "[500]\ttraining's multi_logloss: 1.00984\ttraining's macroF1: 0.544674\tvalid_1's multi_logloss: 1.07357\tvalid_1's macroF1: 0.410082\n",
      "Early stopping, best iteration is:\n",
      "[316]\ttraining's multi_logloss: 1.06984\ttraining's macroF1: 0.515931\tvalid_1's multi_logloss: 1.08716\tvalid_1's macroF1: 0.424683\n",
      "******************** Execution ended in 00h 00m 49.64s ********************\n",
      "######################################## 6 of 50 iterations ########################################\n",
      "============================== 1 of 5 folds ==============================\n",
      "Training until validation scores don't improve for 500 rounds.\n",
      "[500]\ttraining's multi_logloss: 1.14213\ttraining's macroF1: 0.475743\tvalid_1's multi_logloss: 1.07646\tvalid_1's macroF1: 0.428338\n",
      "[1000]\ttraining's multi_logloss: 1.08016\ttraining's macroF1: 0.502444\tvalid_1's multi_logloss: 1.0567\tvalid_1's macroF1: 0.421571\n",
      "Early stopping, best iteration is:\n",
      "[693]\ttraining's multi_logloss: 1.11319\ttraining's macroF1: 0.490205\tvalid_1's multi_logloss: 1.06397\tvalid_1's macroF1: 0.436966\n",
      "******************** Execution ended in 00h 00m 42.05s ********************\n",
      "============================== 2 of 5 folds ==============================\n",
      "Training until validation scores don't improve for 500 rounds.\n",
      "[500]\ttraining's multi_logloss: 1.13654\ttraining's macroF1: 0.476825\tvalid_1's multi_logloss: 1.10079\tvalid_1's macroF1: 0.38883\n",
      "Early stopping, best iteration is:\n",
      "[138]\ttraining's multi_logloss: 1.25913\ttraining's macroF1: 0.449623\tvalid_1's multi_logloss: 1.21325\tvalid_1's macroF1: 0.400343\n",
      "******************** Execution ended in 00h 00m 22.95s ********************\n",
      "============================== 3 of 5 folds ==============================\n",
      "Training until validation scores don't improve for 500 rounds.\n",
      "[500]\ttraining's multi_logloss: 1.12307\ttraining's macroF1: 0.486005\tvalid_1's multi_logloss: 1.10988\tvalid_1's macroF1: 0.397362\n",
      "Early stopping, best iteration is:\n",
      "[257]\ttraining's multi_logloss: 1.18855\ttraining's macroF1: 0.473953\tvalid_1's multi_logloss: 1.15157\tvalid_1's macroF1: 0.416235\n",
      "******************** Execution ended in 00h 00m 27.46s ********************\n",
      "============================== 4 of 5 folds ==============================\n",
      "Training until validation scores don't improve for 500 rounds.\n",
      "[500]\ttraining's multi_logloss: 1.12768\ttraining's macroF1: 0.488627\tvalid_1's multi_logloss: 1.12428\tvalid_1's macroF1: 0.393269\n",
      "[1000]\ttraining's multi_logloss: 1.06535\ttraining's macroF1: 0.499936\tvalid_1's multi_logloss: 1.11425\tvalid_1's macroF1: 0.389314\n",
      "Early stopping, best iteration is:\n",
      "[606]\ttraining's multi_logloss: 1.11056\ttraining's macroF1: 0.496642\tvalid_1's multi_logloss: 1.11785\tvalid_1's macroF1: 0.394677\n",
      "******************** Execution ended in 00h 00m 39.21s ********************\n",
      "============================== 5 of 5 folds ==============================\n",
      "Training until validation scores don't improve for 500 rounds.\n",
      "[500]\ttraining's multi_logloss: 1.13176\ttraining's macroF1: 0.472903\tvalid_1's multi_logloss: 1.07774\tvalid_1's macroF1: 0.372848\n",
      "[1000]\ttraining's multi_logloss: 1.07215\ttraining's macroF1: 0.502397\tvalid_1's multi_logloss: 1.05157\tvalid_1's macroF1: 0.392767\n",
      "[1500]\ttraining's multi_logloss: 1.03591\ttraining's macroF1: 0.521544\tvalid_1's multi_logloss: 1.04452\tvalid_1's macroF1: 0.399919\n",
      "Early stopping, best iteration is:\n",
      "[1367]\ttraining's multi_logloss: 1.04458\ttraining's macroF1: 0.517019\tvalid_1's multi_logloss: 1.04357\tvalid_1's macroF1: 0.409965\n",
      "******************** Execution ended in 00h 01m 04.88s ********************\n",
      "######################################## 7 of 50 iterations ########################################\n",
      "============================== 1 of 5 folds ==============================\n",
      "Training until validation scores don't improve for 500 rounds.\n",
      "[500]\ttraining's multi_logloss: 1.05164\ttraining's macroF1: 0.550302\tvalid_1's multi_logloss: 1.06148\tvalid_1's macroF1: 0.383299\n",
      "[1000]\ttraining's multi_logloss: 0.930645\ttraining's macroF1: 0.601107\tvalid_1's multi_logloss: 1.00967\tvalid_1's macroF1: 0.406095\n",
      "[1500]\ttraining's multi_logloss: 0.8504\ttraining's macroF1: 0.643756\tvalid_1's multi_logloss: 0.993597\tvalid_1's macroF1: 0.400182\n",
      "Early stopping, best iteration is:\n",
      "[1138]\ttraining's multi_logloss: 0.905869\ttraining's macroF1: 0.610902\tvalid_1's multi_logloss: 1.00348\tvalid_1's macroF1: 0.41111\n",
      "******************** Execution ended in 00h 01m 56.51s ********************\n",
      "============================== 2 of 5 folds ==============================\n",
      "Training until validation scores don't improve for 500 rounds.\n",
      "[500]\ttraining's multi_logloss: 1.0452\ttraining's macroF1: 0.577034\tvalid_1's multi_logloss: 1.07369\tvalid_1's macroF1: 0.406377\n",
      "Early stopping, best iteration is:\n",
      "[7]\ttraining's multi_logloss: 1.37621\ttraining's macroF1: 0.477851\tvalid_1's multi_logloss: 1.37415\tvalid_1's macroF1: 0.424352\n",
      "******************** Execution ended in 00h 00m 36.99s ********************\n",
      "============================== 3 of 5 folds ==============================\n",
      "Training until validation scores don't improve for 500 rounds.\n",
      "[500]\ttraining's multi_logloss: 1.04699\ttraining's macroF1: 0.580629\tvalid_1's multi_logloss: 1.06364\tvalid_1's macroF1: 0.403479\n",
      "[1000]\ttraining's multi_logloss: 0.9211\ttraining's macroF1: 0.614351\tvalid_1's multi_logloss: 1.01444\tvalid_1's macroF1: 0.416426\n",
      "[1500]\ttraining's multi_logloss: 0.838359\ttraining's macroF1: 0.646375\tvalid_1's multi_logloss: 0.998619\tvalid_1's macroF1: 0.417353\n",
      "Early stopping, best iteration is:\n",
      "[1171]\ttraining's multi_logloss: 0.889932\ttraining's macroF1: 0.628065\tvalid_1's multi_logloss: 1.00701\tvalid_1's macroF1: 0.424089\n",
      "******************** Execution ended in 00h 02m 03.77s ********************\n",
      "============================== 4 of 5 folds ==============================\n",
      "Training until validation scores don't improve for 500 rounds.\n",
      "[500]\ttraining's multi_logloss: 1.04777\ttraining's macroF1: 0.566903\tvalid_1's multi_logloss: 1.10848\tvalid_1's macroF1: 0.421771\n",
      "[1000]\ttraining's multi_logloss: 0.92302\ttraining's macroF1: 0.607525\tvalid_1's multi_logloss: 1.07036\tvalid_1's macroF1: 0.403037\n",
      "Early stopping, best iteration is:\n",
      "[623]\ttraining's multi_logloss: 1.00933\ttraining's macroF1: 0.57663\tvalid_1's multi_logloss: 1.09255\tvalid_1's macroF1: 0.424716\n",
      "******************** Execution ended in 00h 01m 20.67s ********************\n",
      "============================== 5 of 5 folds ==============================\n",
      "Training until validation scores don't improve for 500 rounds.\n",
      "[500]\ttraining's multi_logloss: 1.04324\ttraining's macroF1: 0.569833\tvalid_1's multi_logloss: 1.08703\tvalid_1's macroF1: 0.394684\n",
      "Early stopping, best iteration is:\n",
      "[1]\ttraining's multi_logloss: 1.38485\ttraining's macroF1: 0.44307\tvalid_1's multi_logloss: 1.38456\tvalid_1's macroF1: 0.424377\n",
      "******************** Execution ended in 00h 00m 36.32s ********************\n",
      "######################################## 8 of 50 iterations ########################################\n",
      "============================== 1 of 5 folds ==============================\n",
      "Training until validation scores don't improve for 500 rounds.\n",
      "[500]\ttraining's multi_logloss: 1.16149\ttraining's macroF1: 0.543075\tvalid_1's multi_logloss: 1.17371\tvalid_1's macroF1: 0.387537\n",
      "[1000]\ttraining's multi_logloss: 1.04611\ttraining's macroF1: 0.574457\tvalid_1's multi_logloss: 1.10192\tvalid_1's macroF1: 0.386237\n",
      "Early stopping, best iteration is:\n",
      "[573]\ttraining's multi_logloss: 1.14036\ttraining's macroF1: 0.548412\tvalid_1's multi_logloss: 1.15857\tvalid_1's macroF1: 0.400353\n",
      "******************** Execution ended in 00h 01m 35.76s ********************\n",
      "============================== 2 of 5 folds ==============================\n",
      "Training until validation scores don't improve for 500 rounds.\n",
      "[500]\ttraining's multi_logloss: 1.16426\ttraining's macroF1: 0.534868\tvalid_1's multi_logloss: 1.17475\tvalid_1's macroF1: 0.398161\n",
      "[1000]\ttraining's multi_logloss: 1.04831\ttraining's macroF1: 0.567904\tvalid_1's multi_logloss: 1.10382\tvalid_1's macroF1: 0.416745\n",
      "[1500]\ttraining's multi_logloss: 0.974683\ttraining's macroF1: 0.595193\tvalid_1's multi_logloss: 1.07643\tvalid_1's macroF1: 0.412397\n",
      "[2000]\ttraining's multi_logloss: 0.920059\ttraining's macroF1: 0.61623\tvalid_1's multi_logloss: 1.06484\tvalid_1's macroF1: 0.417813\n",
      "Early stopping, best iteration is:\n",
      "[1752]\ttraining's multi_logloss: 0.94565\ttraining's macroF1: 0.606602\tvalid_1's multi_logloss: 1.06978\tvalid_1's macroF1: 0.425967\n",
      "******************** Execution ended in 00h 03m 17.94s ********************\n",
      "============================== 3 of 5 folds ==============================\n",
      "Training until validation scores don't improve for 500 rounds.\n",
      "[500]\ttraining's multi_logloss: 1.16205\ttraining's macroF1: 0.528716\tvalid_1's multi_logloss: 1.14379\tvalid_1's macroF1: 0.402361\n",
      "Early stopping, best iteration is:\n",
      "[1]\ttraining's multi_logloss: 1.3856\ttraining's macroF1: 0.449768\tvalid_1's multi_logloss: 1.38543\tvalid_1's macroF1: 0.416367\n",
      "******************** Execution ended in 00h 00m 46.12s ********************\n",
      "============================== 4 of 5 folds ==============================\n",
      "Training until validation scores don't improve for 500 rounds.\n",
      "[500]\ttraining's multi_logloss: 1.15768\ttraining's macroF1: 0.532378\tvalid_1's multi_logloss: 1.16844\tvalid_1's macroF1: 0.398\n",
      "[1000]\ttraining's multi_logloss: 1.03994\ttraining's macroF1: 0.570291\tvalid_1's multi_logloss: 1.09988\tvalid_1's macroF1: 0.399108\n",
      "Early stopping, best iteration is:\n",
      "[679]\ttraining's multi_logloss: 1.10844\ttraining's macroF1: 0.546831\tvalid_1's multi_logloss: 1.13583\tvalid_1's macroF1: 0.414\n",
      "******************** Execution ended in 00h 01m 47.68s ********************\n",
      "============================== 5 of 5 folds ==============================\n",
      "Training until validation scores don't improve for 500 rounds.\n",
      "[500]\ttraining's multi_logloss: 1.16801\ttraining's macroF1: 0.536208\tvalid_1's multi_logloss: 1.15321\tvalid_1's macroF1: 0.459141\n",
      "[1000]\ttraining's multi_logloss: 1.05757\ttraining's macroF1: 0.564505\tvalid_1's multi_logloss: 1.0696\tvalid_1's macroF1: 0.458623\n",
      "[1500]\ttraining's multi_logloss: 0.984854\ttraining's macroF1: 0.591915\tvalid_1's multi_logloss: 1.03504\tvalid_1's macroF1: 0.472119\n",
      "[2000]\ttraining's multi_logloss: 0.93066\ttraining's macroF1: 0.610184\tvalid_1's multi_logloss: 1.01801\tvalid_1's macroF1: 0.462045\n",
      "Early stopping, best iteration is:\n",
      "[1510]\ttraining's multi_logloss: 0.983687\ttraining's macroF1: 0.5917\tvalid_1's multi_logloss: 1.03466\tvalid_1's macroF1: 0.477436\n",
      "******************** Execution ended in 00h 02m 56.35s ********************\n",
      "######################################## 9 of 50 iterations ########################################\n",
      "============================== 1 of 5 folds ==============================\n",
      "Training until validation scores don't improve for 500 rounds.\n",
      "[500]\ttraining's multi_logloss: 0.960583\ttraining's macroF1: 0.579914\tvalid_1's multi_logloss: 1.03474\tvalid_1's macroF1: 0.39926\n",
      "Early stopping, best iteration is:\n",
      "[408]\ttraining's multi_logloss: 0.994213\ttraining's macroF1: 0.568429\tvalid_1's multi_logloss: 1.04096\tvalid_1's macroF1: 0.40628\n",
      "******************** Execution ended in 00h 00m 48.61s ********************\n",
      "============================== 2 of 5 folds ==============================\n",
      "Training until validation scores don't improve for 500 rounds.\n",
      "[500]\ttraining's multi_logloss: 0.970497\ttraining's macroF1: 0.583039\tvalid_1's multi_logloss: 1.06043\tvalid_1's macroF1: 0.417215\n",
      "Early stopping, best iteration is:\n",
      "[167]\ttraining's multi_logloss: 1.14265\ttraining's macroF1: 0.524687\tvalid_1's multi_logloss: 1.13427\tvalid_1's macroF1: 0.429021\n",
      "******************** Execution ended in 00h 00m 34.70s ********************\n",
      "============================== 3 of 5 folds ==============================\n",
      "Training until validation scores don't improve for 500 rounds.\n",
      "[500]\ttraining's multi_logloss: 0.968217\ttraining's macroF1: 0.586098\tvalid_1's multi_logloss: 1.04779\tvalid_1's macroF1: 0.409036\n",
      "Early stopping, best iteration is:\n",
      "[217]\ttraining's multi_logloss: 1.10033\ttraining's macroF1: 0.537756\tvalid_1's multi_logloss: 1.10205\tvalid_1's macroF1: 0.429907\n",
      "******************** Execution ended in 00h 00m 38.41s ********************\n",
      "============================== 4 of 5 folds ==============================\n",
      "Training until validation scores don't improve for 500 rounds.\n",
      "[500]\ttraining's multi_logloss: 0.970681\ttraining's macroF1: 0.593783\tvalid_1's multi_logloss: 1.0127\tvalid_1's macroF1: 0.432998\n",
      "Early stopping, best iteration is:\n",
      "[300]\ttraining's multi_logloss: 1.05387\ttraining's macroF1: 0.561329\tvalid_1's multi_logloss: 1.03988\tvalid_1's macroF1: 0.447737\n",
      "******************** Execution ended in 00h 00m 42.99s ********************\n",
      "============================== 5 of 5 folds ==============================\n",
      "Training until validation scores don't improve for 500 rounds.\n",
      "[500]\ttraining's multi_logloss: 0.979745\ttraining's macroF1: 0.572951\tvalid_1's multi_logloss: 1.019\tvalid_1's macroF1: 0.423471\n",
      "[1000]\ttraining's multi_logloss: 0.854143\ttraining's macroF1: 0.645413\tvalid_1's multi_logloss: 0.988961\tvalid_1's macroF1: 0.449642\n",
      "[1500]\ttraining's multi_logloss: 0.770033\ttraining's macroF1: 0.694107\tvalid_1's multi_logloss: 0.981734\tvalid_1's macroF1: 0.4499\n",
      "[2000]\ttraining's multi_logloss: 0.706969\ttraining's macroF1: 0.728366\tvalid_1's multi_logloss: 0.978016\tvalid_1's macroF1: 0.459857\n",
      "Early stopping, best iteration is:\n",
      "[1715]\ttraining's multi_logloss: 0.74066\ttraining's macroF1: 0.709213\tvalid_1's multi_logloss: 0.978958\tvalid_1's macroF1: 0.469395\n",
      "******************** Execution ended in 00h 01m 52.54s ********************\n",
      "######################################## 10 of 50 iterations ########################################\n",
      "============================== 1 of 5 folds ==============================\n",
      "Training until validation scores don't improve for 500 rounds.\n",
      "[500]\ttraining's multi_logloss: 1.05739\ttraining's macroF1: 0.530952\tvalid_1's multi_logloss: 1.07139\tvalid_1's macroF1: 0.391319\n",
      "Early stopping, best iteration is:\n",
      "[333]\ttraining's multi_logloss: 1.11348\ttraining's macroF1: 0.51335\tvalid_1's multi_logloss: 1.09858\tvalid_1's macroF1: 0.412825\n",
      "******************** Execution ended in 00h 00m 52.83s ********************\n",
      "============================== 2 of 5 folds ==============================\n",
      "Training until validation scores don't improve for 500 rounds.\n",
      "[500]\ttraining's multi_logloss: 1.06447\ttraining's macroF1: 0.52675\tvalid_1's multi_logloss: 1.05993\tvalid_1's macroF1: 0.414848\n",
      "[1000]\ttraining's multi_logloss: 0.96818\ttraining's macroF1: 0.561465\tvalid_1's multi_logloss: 1.02944\tvalid_1's macroF1: 0.418391\n",
      "Early stopping, best iteration is:\n",
      "[713]\ttraining's multi_logloss: 1.01657\ttraining's macroF1: 0.544651\tvalid_1's multi_logloss: 1.0394\tvalid_1's macroF1: 0.426892\n",
      "******************** Execution ended in 00h 01m 18.15s ********************\n",
      "============================== 3 of 5 folds ==============================\n",
      "Training until validation scores don't improve for 500 rounds.\n",
      "[500]\ttraining's multi_logloss: 1.04849\ttraining's macroF1: 0.543154\tvalid_1's multi_logloss: 1.08344\tvalid_1's macroF1: 0.376857\n",
      "Early stopping, best iteration is:\n",
      "[335]\ttraining's multi_logloss: 1.10386\ttraining's macroF1: 0.523546\tvalid_1's multi_logloss: 1.10624\tvalid_1's macroF1: 0.392807\n",
      "******************** Execution ended in 00h 00m 52.42s ********************\n",
      "============================== 4 of 5 folds ==============================\n",
      "Training until validation scores don't improve for 500 rounds.\n",
      "[500]\ttraining's multi_logloss: 1.04849\ttraining's macroF1: 0.536687\tvalid_1's multi_logloss: 1.08009\tvalid_1's macroF1: 0.41184\n",
      "[1000]\ttraining's multi_logloss: 0.947811\ttraining's macroF1: 0.58389\tvalid_1's multi_logloss: 1.06999\tvalid_1's macroF1: 0.411491\n",
      "Early stopping, best iteration is:\n",
      "[692]\ttraining's multi_logloss: 1.0028\ttraining's macroF1: 0.55583\tvalid_1's multi_logloss: 1.07183\tvalid_1's macroF1: 0.425535\n",
      "******************** Execution ended in 00h 01m 13.43s ********************\n",
      "============================== 5 of 5 folds ==============================\n",
      "Training until validation scores don't improve for 500 rounds.\n",
      "[500]\ttraining's multi_logloss: 1.04776\ttraining's macroF1: 0.525231\tvalid_1's multi_logloss: 1.05478\tvalid_1's macroF1: 0.394999\n",
      "[1000]\ttraining's multi_logloss: 0.953525\ttraining's macroF1: 0.570049\tvalid_1's multi_logloss: 1.03083\tvalid_1's macroF1: 0.387886\n",
      "Early stopping, best iteration is:\n",
      "[600]\ttraining's multi_logloss: 1.02328\ttraining's macroF1: 0.536102\tvalid_1's multi_logloss: 1.0459\tvalid_1's macroF1: 0.406943\n",
      "******************** Execution ended in 00h 01m 09.34s ********************\n",
      "######################################## 11 of 50 iterations ########################################\n",
      "============================== 1 of 5 folds ==============================\n",
      "Training until validation scores don't improve for 500 rounds.\n",
      "[500]\ttraining's multi_logloss: 0.979067\ttraining's macroF1: 0.580296\tvalid_1's multi_logloss: 1.03406\tvalid_1's macroF1: 0.41965\n",
      "[1000]\ttraining's multi_logloss: 0.85012\ttraining's macroF1: 0.644015\tvalid_1's multi_logloss: 1.00996\tvalid_1's macroF1: 0.42395\n",
      "Early stopping, best iteration is:\n",
      "[550]\ttraining's multi_logloss: 0.962447\ttraining's macroF1: 0.589368\tvalid_1's multi_logloss: 1.02926\tvalid_1's macroF1: 0.432322\n",
      "******************** Execution ended in 00h 00m 55.44s ********************\n",
      "============================== 2 of 5 folds ==============================\n",
      "Training until validation scores don't improve for 500 rounds.\n",
      "[500]\ttraining's multi_logloss: 0.975745\ttraining's macroF1: 0.581412\tvalid_1's multi_logloss: 1.01378\tvalid_1's macroF1: 0.414806\n",
      "Early stopping, best iteration is:\n",
      "[414]\ttraining's multi_logloss: 1.00842\ttraining's macroF1: 0.567243\tvalid_1's multi_logloss: 1.02664\tvalid_1's macroF1: 0.422131\n",
      "******************** Execution ended in 00h 00m 48.16s ********************\n",
      "============================== 3 of 5 folds ==============================\n",
      "Training until validation scores don't improve for 500 rounds.\n",
      "[500]\ttraining's multi_logloss: 0.976941\ttraining's macroF1: 0.591674\tvalid_1's multi_logloss: 1.05171\tvalid_1's macroF1: 0.420491\n",
      "Early stopping, best iteration is:\n",
      "[154]\ttraining's multi_logloss: 1.16688\ttraining's macroF1: 0.531293\tvalid_1's multi_logloss: 1.15214\tvalid_1's macroF1: 0.441034\n",
      "******************** Execution ended in 00h 00m 33.84s ********************\n",
      "============================== 4 of 5 folds ==============================\n",
      "Training until validation scores don't improve for 500 rounds.\n",
      "[500]\ttraining's multi_logloss: 0.971184\ttraining's macroF1: 0.583924\tvalid_1's multi_logloss: 1.03994\tvalid_1's macroF1: 0.402042\n",
      "Early stopping, best iteration is:\n",
      "[361]\ttraining's multi_logloss: 1.02742\ttraining's macroF1: 0.568314\tvalid_1's multi_logloss: 1.05436\tvalid_1's macroF1: 0.411159\n",
      "******************** Execution ended in 00h 00m 45.24s ********************\n",
      "============================== 5 of 5 folds ==============================\n",
      "Training until validation scores don't improve for 500 rounds.\n",
      "[500]\ttraining's multi_logloss: 0.980007\ttraining's macroF1: 0.592463\tvalid_1's multi_logloss: 1.08213\tvalid_1's macroF1: 0.418053\n",
      "[1000]\ttraining's multi_logloss: 0.851693\ttraining's macroF1: 0.660205\tvalid_1's multi_logloss: 1.06363\tvalid_1's macroF1: 0.428683\n",
      "Early stopping, best iteration is:\n",
      "[848]\ttraining's multi_logloss: 0.884041\ttraining's macroF1: 0.637129\tvalid_1's multi_logloss: 1.06712\tvalid_1's macroF1: 0.429805\n",
      "******************** Execution ended in 00h 01m 10.30s ********************\n",
      "######################################## 12 of 50 iterations ########################################\n",
      "============================== 1 of 5 folds ==============================\n",
      "Training until validation scores don't improve for 500 rounds.\n",
      "[500]\ttraining's multi_logloss: 1.29246\ttraining's macroF1: 0.475911\tvalid_1's multi_logloss: 1.27084\tvalid_1's macroF1: 0.348424\n",
      "Early stopping, best iteration is:\n",
      "[80]\ttraining's multi_logloss: 1.36876\ttraining's macroF1: 0.450804\tvalid_1's multi_logloss: 1.36327\tvalid_1's macroF1: 0.354663\n",
      "******************** Execution ended in 00h 00m 39.81s ********************\n",
      "============================== 2 of 5 folds ==============================\n",
      "Training until validation scores don't improve for 500 rounds.\n",
      "[500]\ttraining's multi_logloss: 1.29905\ttraining's macroF1: 0.465427\tvalid_1's multi_logloss: 1.28232\tvalid_1's macroF1: 0.37384\n",
      "Early stopping, best iteration is:\n",
      "[158]\ttraining's multi_logloss: 1.35494\ttraining's macroF1: 0.456206\tvalid_1's multi_logloss: 1.34719\tvalid_1's macroF1: 0.384269\n",
      "******************** Execution ended in 00h 00m 45.47s ********************\n",
      "============================== 3 of 5 folds ==============================\n",
      "Training until validation scores don't improve for 500 rounds.\n",
      "[500]\ttraining's multi_logloss: 1.30009\ttraining's macroF1: 0.460667\tvalid_1's multi_logloss: 1.27615\tvalid_1's macroF1: 0.395346\n",
      "Early stopping, best iteration is:\n",
      "[7]\ttraining's multi_logloss: 1.3848\ttraining's macroF1: 0.432936\tvalid_1's multi_logloss: 1.38439\tvalid_1's macroF1: 0.417813\n",
      "******************** Execution ended in 00h 00m 36.17s ********************\n",
      "============================== 4 of 5 folds ==============================\n",
      "Training until validation scores don't improve for 500 rounds.\n",
      "[500]\ttraining's multi_logloss: 1.29841\ttraining's macroF1: 0.483632\tvalid_1's multi_logloss: 1.27353\tvalid_1's macroF1: 0.410683\n",
      "Early stopping, best iteration is:\n",
      "[7]\ttraining's multi_logloss: 1.38483\ttraining's macroF1: 0.451192\tvalid_1's multi_logloss: 1.38425\tvalid_1's macroF1: 0.42068\n",
      "******************** Execution ended in 00h 00m 39.64s ********************\n",
      "============================== 5 of 5 folds ==============================\n",
      "Training until validation scores don't improve for 500 rounds.\n",
      "[500]\ttraining's multi_logloss: 1.29901\ttraining's macroF1: 0.481841\tvalid_1's multi_logloss: 1.28631\tvalid_1's macroF1: 0.408987\n",
      "[1000]\ttraining's multi_logloss: 1.23559\ttraining's macroF1: 0.497927\tvalid_1's multi_logloss: 1.22382\tvalid_1's macroF1: 0.418935\n",
      "[1500]\ttraining's multi_logloss: 1.18594\ttraining's macroF1: 0.5059\tvalid_1's multi_logloss: 1.18069\tvalid_1's macroF1: 0.416248\n",
      "Early stopping, best iteration is:\n",
      "[1151]\ttraining's multi_logloss: 1.2195\ttraining's macroF1: 0.499133\tvalid_1's multi_logloss: 1.20936\tvalid_1's macroF1: 0.424885\n",
      "******************** Execution ended in 00h 01m 58.60s ********************\n",
      "######################################## 13 of 50 iterations ########################################\n",
      "============================== 1 of 5 folds ==============================\n",
      "Training until validation scores don't improve for 500 rounds.\n",
      "[500]\ttraining's multi_logloss: 0.796053\ttraining's macroF1: 0.6769\tvalid_1's multi_logloss: 1.06737\tvalid_1's macroF1: 0.366604\n",
      "[1000]\ttraining's multi_logloss: 0.639473\ttraining's macroF1: 0.749079\tvalid_1's multi_logloss: 1.06012\tvalid_1's macroF1: 0.374075\n",
      "Early stopping, best iteration is:\n",
      "[621]\ttraining's multi_logloss: 0.748547\ttraining's macroF1: 0.697439\tvalid_1's multi_logloss: 1.06386\tvalid_1's macroF1: 0.384188\n",
      "******************** Execution ended in 00h 01m 02.29s ********************\n",
      "============================== 2 of 5 folds ==============================\n",
      "Training until validation scores don't improve for 500 rounds.\n",
      "[500]\ttraining's multi_logloss: 0.810608\ttraining's macroF1: 0.688407\tvalid_1's multi_logloss: 1.00303\tvalid_1's macroF1: 0.410421\n",
      "Early stopping, best iteration is:\n",
      "[36]\ttraining's multi_logloss: 1.26059\ttraining's macroF1: 0.529108\tvalid_1's multi_logloss: 1.23036\tvalid_1's macroF1: 0.444541\n",
      "******************** Execution ended in 00h 00m 29.62s ********************\n",
      "============================== 3 of 5 folds ==============================\n",
      "Training until validation scores don't improve for 500 rounds.\n",
      "[500]\ttraining's multi_logloss: 0.81863\ttraining's macroF1: 0.668042\tvalid_1's multi_logloss: 0.984283\tvalid_1's macroF1: 0.426227\n",
      "[1000]\ttraining's multi_logloss: 0.659517\ttraining's macroF1: 0.741733\tvalid_1's multi_logloss: 0.961818\tvalid_1's macroF1: 0.431293\n",
      "[1500]\ttraining's multi_logloss: 0.56535\ttraining's macroF1: 0.785813\tvalid_1's multi_logloss: 0.951673\tvalid_1's macroF1: 0.42772\n",
      "[2000]\ttraining's multi_logloss: 0.501424\ttraining's macroF1: 0.805714\tvalid_1's multi_logloss: 0.948709\tvalid_1's macroF1: 0.421404\n",
      "Early stopping, best iteration is:\n",
      "[1522]\ttraining's multi_logloss: 0.56183\ttraining's macroF1: 0.787145\tvalid_1's multi_logloss: 0.952727\tvalid_1's macroF1: 0.438539\n",
      "******************** Execution ended in 00h 01m 46.77s ********************\n",
      "============================== 4 of 5 folds ==============================\n",
      "Training until validation scores don't improve for 500 rounds.\n",
      "[500]\ttraining's multi_logloss: 0.814833\ttraining's macroF1: 0.68109\tvalid_1's multi_logloss: 0.989224\tvalid_1's macroF1: 0.423091\n",
      "Early stopping, best iteration is:\n",
      "[67]\ttraining's multi_logloss: 1.18275\ttraining's macroF1: 0.543441\tvalid_1's multi_logloss: 1.16114\tvalid_1's macroF1: 0.448106\n",
      "******************** Execution ended in 00h 00m 32.09s ********************\n",
      "============================== 5 of 5 folds ==============================\n",
      "Training until validation scores don't improve for 500 rounds.\n",
      "[500]\ttraining's multi_logloss: 0.795034\ttraining's macroF1: 0.683981\tvalid_1's multi_logloss: 1.04802\tvalid_1's macroF1: 0.415655\n",
      "Early stopping, best iteration is:\n",
      "[285]\ttraining's multi_logloss: 0.913446\ttraining's macroF1: 0.634247\tvalid_1's multi_logloss: 1.05315\tvalid_1's macroF1: 0.427517\n",
      "******************** Execution ended in 00h 00m 45.17s ********************\n",
      "######################################## 14 of 50 iterations ########################################\n",
      "============================== 1 of 5 folds ==============================\n",
      "Training until validation scores don't improve for 500 rounds.\n",
      "[500]\ttraining's multi_logloss: 1.11515\ttraining's macroF1: 0.502067\tvalid_1's multi_logloss: 1.13088\tvalid_1's macroF1: 0.382403\n",
      "[1000]\ttraining's multi_logloss: 1.02928\ttraining's macroF1: 0.533553\tvalid_1's multi_logloss: 1.10583\tvalid_1's macroF1: 0.386869\n",
      "[1500]\ttraining's multi_logloss: 0.976349\ttraining's macroF1: 0.554248\tvalid_1's multi_logloss: 1.1039\tvalid_1's macroF1: 0.390098\n",
      "Early stopping, best iteration is:\n",
      "[1439]\ttraining's multi_logloss: 0.981934\ttraining's macroF1: 0.553774\tvalid_1's multi_logloss: 1.10414\tvalid_1's macroF1: 0.392735\n",
      "******************** Execution ended in 00h 01m 37.46s ********************\n",
      "============================== 2 of 5 folds ==============================\n",
      "Training until validation scores don't improve for 500 rounds.\n",
      "[500]\ttraining's multi_logloss: 1.12244\ttraining's macroF1: 0.502836\tvalid_1's multi_logloss: 1.09195\tvalid_1's macroF1: 0.401618\n",
      "Early stopping, best iteration is:\n",
      "[173]\ttraining's multi_logloss: 1.24366\ttraining's macroF1: 0.47021\tvalid_1's multi_logloss: 1.19787\tvalid_1's macroF1: 0.416747\n",
      "******************** Execution ended in 00h 00m 33.20s ********************\n",
      "============================== 3 of 5 folds ==============================\n",
      "Training until validation scores don't improve for 500 rounds.\n",
      "[500]\ttraining's multi_logloss: 1.1167\ttraining's macroF1: 0.494135\tvalid_1's multi_logloss: 1.05546\tvalid_1's macroF1: 0.404235\n",
      "[1000]\ttraining's multi_logloss: 1.03462\ttraining's macroF1: 0.538682\tvalid_1's multi_logloss: 1.01899\tvalid_1's macroF1: 0.410165\n",
      "Early stopping, best iteration is:\n",
      "[623]\ttraining's multi_logloss: 1.09099\ttraining's macroF1: 0.507756\tvalid_1's multi_logloss: 1.04091\tvalid_1's macroF1: 0.415521\n",
      "******************** Execution ended in 00h 00m 58.58s ********************\n",
      "============================== 4 of 5 folds ==============================\n",
      "Training until validation scores don't improve for 500 rounds.\n",
      "[500]\ttraining's multi_logloss: 1.1164\ttraining's macroF1: 0.511266\tvalid_1's multi_logloss: 1.13824\tvalid_1's macroF1: 0.382079\n",
      "Early stopping, best iteration is:\n",
      "[53]\ttraining's multi_logloss: 1.32614\ttraining's macroF1: 0.456518\tvalid_1's multi_logloss: 1.3151\tvalid_1's macroF1: 0.385225\n",
      "******************** Execution ended in 00h 00m 27.48s ********************\n",
      "============================== 5 of 5 folds ==============================\n",
      "Training until validation scores don't improve for 500 rounds.\n",
      "[500]\ttraining's multi_logloss: 1.11219\ttraining's macroF1: 0.491069\tvalid_1's multi_logloss: 1.07265\tvalid_1's macroF1: 0.385793\n",
      "[1000]\ttraining's multi_logloss: 1.02932\ttraining's macroF1: 0.527314\tvalid_1's multi_logloss: 1.03614\tvalid_1's macroF1: 0.390766\n",
      "[1500]\ttraining's multi_logloss: 0.978791\ttraining's macroF1: 0.549414\tvalid_1's multi_logloss: 1.02757\tvalid_1's macroF1: 0.399675\n",
      "[2000]\ttraining's multi_logloss: 0.939191\ttraining's macroF1: 0.576691\tvalid_1's multi_logloss: 1.02427\tvalid_1's macroF1: 0.390172\n",
      "Early stopping, best iteration is:\n",
      "[1765]\ttraining's multi_logloss: 0.956839\ttraining's macroF1: 0.563314\tvalid_1's multi_logloss: 1.02566\tvalid_1's macroF1: 0.404754\n",
      "******************** Execution ended in 00h 01m 48.52s ********************\n",
      "######################################## 15 of 50 iterations ########################################\n",
      "============================== 1 of 5 folds ==============================\n",
      "Training until validation scores don't improve for 500 rounds.\n",
      "[500]\ttraining's multi_logloss: 0.719719\ttraining's macroF1: 0.718996\tvalid_1's multi_logloss: 1.04115\tvalid_1's macroF1: 0.38858\n",
      "Early stopping, best iteration is:\n",
      "[103]\ttraining's multi_logloss: 1.07686\ttraining's macroF1: 0.580143\tvalid_1's multi_logloss: 1.13666\tvalid_1's macroF1: 0.403155\n",
      "******************** Execution ended in 00h 00m 51.63s ********************\n",
      "============================== 2 of 5 folds ==============================\n",
      "Training until validation scores don't improve for 500 rounds.\n",
      "[500]\ttraining's multi_logloss: 0.723133\ttraining's macroF1: 0.729887\tvalid_1's multi_logloss: 0.987832\tvalid_1's macroF1: 0.415537\n",
      "Early stopping, best iteration is:\n",
      "[326]\ttraining's multi_logloss: 0.831968\ttraining's macroF1: 0.684592\tvalid_1's multi_logloss: 0.998096\tvalid_1's macroF1: 0.432349\n",
      "******************** Execution ended in 00h 01m 10.56s ********************\n",
      "============================== 3 of 5 folds ==============================\n",
      "Training until validation scores don't improve for 500 rounds.\n",
      "[500]\ttraining's multi_logloss: 0.718914\ttraining's macroF1: 0.723201\tvalid_1's multi_logloss: 0.970824\tvalid_1's macroF1: 0.399813\n",
      "Early stopping, best iteration is:\n",
      "[157]\ttraining's multi_logloss: 0.985924\ttraining's macroF1: 0.629349\tvalid_1's multi_logloss: 1.03996\tvalid_1's macroF1: 0.41978\n",
      "******************** Execution ended in 00h 00m 55.50s ********************\n",
      "============================== 4 of 5 folds ==============================\n",
      "Training until validation scores don't improve for 500 rounds.\n",
      "[500]\ttraining's multi_logloss: 0.710193\ttraining's macroF1: 0.733349\tvalid_1's multi_logloss: 1.05624\tvalid_1's macroF1: 0.416228\n",
      "[1000]\ttraining's multi_logloss: 0.52302\ttraining's macroF1: 0.814478\tvalid_1's multi_logloss: 1.04124\tvalid_1's macroF1: 0.397145\n",
      "Early stopping, best iteration is:\n",
      "[504]\ttraining's multi_logloss: 0.708226\ttraining's macroF1: 0.735863\tvalid_1's multi_logloss: 1.05606\tvalid_1's macroF1: 0.417131\n",
      "******************** Execution ended in 00h 01m 24.97s ********************\n",
      "============================== 5 of 5 folds ==============================\n",
      "Training until validation scores don't improve for 500 rounds.\n",
      "[500]\ttraining's multi_logloss: 0.720316\ttraining's macroF1: 0.720217\tvalid_1's multi_logloss: 0.998861\tvalid_1's macroF1: 0.437373\n",
      "[1000]\ttraining's multi_logloss: 0.53047\ttraining's macroF1: 0.800926\tvalid_1's multi_logloss: 0.97258\tvalid_1's macroF1: 0.45171\n",
      "[1500]\ttraining's multi_logloss: 0.423284\ttraining's macroF1: 0.852537\tvalid_1's multi_logloss: 0.96553\tvalid_1's macroF1: 0.454637\n",
      "Early stopping, best iteration is:\n",
      "[1278]\ttraining's multi_logloss: 0.464182\ttraining's macroF1: 0.835227\tvalid_1's multi_logloss: 0.968516\tvalid_1's macroF1: 0.461752\n",
      "******************** Execution ended in 00h 02m 27.49s ********************\n",
      "######################################## 16 of 50 iterations ########################################\n",
      "============================== 1 of 5 folds ==============================\n",
      "Training until validation scores don't improve for 500 rounds.\n",
      "[500]\ttraining's multi_logloss: 0.991341\ttraining's macroF1: 0.548778\tvalid_1's multi_logloss: 1.07581\tvalid_1's macroF1: 0.366344\n",
      "Early stopping, best iteration is:\n",
      "[361]\ttraining's multi_logloss: 1.03856\ttraining's macroF1: 0.533282\tvalid_1's multi_logloss: 1.08662\tvalid_1's macroF1: 0.379251\n",
      "******************** Execution ended in 00h 00m 41.76s ********************\n",
      "============================== 2 of 5 folds ==============================\n",
      "Training until validation scores don't improve for 500 rounds.\n",
      "[500]\ttraining's multi_logloss: 1.01557\ttraining's macroF1: 0.546137\tvalid_1's multi_logloss: 1.04278\tvalid_1's macroF1: 0.393345\n",
      "Early stopping, best iteration is:\n",
      "[213]\ttraining's multi_logloss: 1.13356\ttraining's macroF1: 0.510934\tvalid_1's multi_logloss: 1.1085\tvalid_1's macroF1: 0.420432\n",
      "******************** Execution ended in 00h 00m 37.91s ********************\n",
      "============================== 3 of 5 folds ==============================\n",
      "Training until validation scores don't improve for 500 rounds.\n",
      "[500]\ttraining's multi_logloss: 1.00182\ttraining's macroF1: 0.570637\tvalid_1's multi_logloss: 1.05628\tvalid_1's macroF1: 0.410853\n",
      "Early stopping, best iteration is:\n",
      "[395]\ttraining's multi_logloss: 1.03678\ttraining's macroF1: 0.552593\tvalid_1's multi_logloss: 1.06752\tvalid_1's macroF1: 0.415816\n",
      "******************** Execution ended in 00h 00m 44.91s ********************\n",
      "============================== 4 of 5 folds ==============================\n",
      "Training until validation scores don't improve for 500 rounds.\n",
      "[500]\ttraining's multi_logloss: 1.01552\ttraining's macroF1: 0.556334\tvalid_1's multi_logloss: 1.05619\tvalid_1's macroF1: 0.405569\n",
      "Early stopping, best iteration is:\n",
      "[153]\ttraining's multi_logloss: 1.18173\ttraining's macroF1: 0.506857\tvalid_1's multi_logloss: 1.15633\tvalid_1's macroF1: 0.410264\n",
      "******************** Execution ended in 00h 00m 32.93s ********************\n",
      "============================== 5 of 5 folds ==============================\n",
      "Training until validation scores don't improve for 500 rounds.\n",
      "[500]\ttraining's multi_logloss: 1.01017\ttraining's macroF1: 0.547826\tvalid_1's multi_logloss: 1.05511\tvalid_1's macroF1: 0.406426\n",
      "[1000]\ttraining's multi_logloss: 0.899636\ttraining's macroF1: 0.599848\tvalid_1's multi_logloss: 1.04141\tvalid_1's macroF1: 0.431214\n",
      "[1500]\ttraining's multi_logloss: 0.826699\ttraining's macroF1: 0.639014\tvalid_1's multi_logloss: 1.03901\tvalid_1's macroF1: 0.431922\n",
      "[2000]\ttraining's multi_logloss: 0.77062\ttraining's macroF1: 0.672196\tvalid_1's multi_logloss: 1.03768\tvalid_1's macroF1: 0.434137\n",
      "[2500]\ttraining's multi_logloss: 0.725227\ttraining's macroF1: 0.699865\tvalid_1's multi_logloss: 1.038\tvalid_1's macroF1: 0.441531\n",
      "Early stopping, best iteration is:\n",
      "[2107]\ttraining's multi_logloss: 0.760165\ttraining's macroF1: 0.680114\tvalid_1's multi_logloss: 1.03825\tvalid_1's macroF1: 0.44639\n",
      "******************** Execution ended in 00h 02m 06.20s ********************\n",
      "######################################## 17 of 50 iterations ########################################\n",
      "============================== 1 of 5 folds ==============================\n",
      "Training until validation scores don't improve for 500 rounds.\n",
      "[500]\ttraining's multi_logloss: 1.16144\ttraining's macroF1: 0.485398\tvalid_1's multi_logloss: 1.10625\tvalid_1's macroF1: 0.412715\n",
      "Early stopping, best iteration is:\n",
      "[430]\ttraining's multi_logloss: 1.17939\ttraining's macroF1: 0.477711\tvalid_1's multi_logloss: 1.12221\tvalid_1's macroF1: 0.428811\n",
      "******************** Execution ended in 00h 00m 45.84s ********************\n",
      "============================== 2 of 5 folds ==============================\n",
      "Training until validation scores don't improve for 500 rounds.\n",
      "[500]\ttraining's multi_logloss: 1.15249\ttraining's macroF1: 0.485752\tvalid_1's multi_logloss: 1.12388\tvalid_1's macroF1: 0.417605\n",
      "[1000]\ttraining's multi_logloss: 1.06534\ttraining's macroF1: 0.513267\tvalid_1's multi_logloss: 1.07632\tvalid_1's macroF1: 0.414977\n",
      "Early stopping, best iteration is:\n",
      "[630]\ttraining's multi_logloss: 1.1237\ttraining's macroF1: 0.495489\tvalid_1's multi_logloss: 1.10269\tvalid_1's macroF1: 0.42889\n",
      "******************** Execution ended in 00h 00m 54.39s ********************\n",
      "============================== 3 of 5 folds ==============================\n",
      "Training until validation scores don't improve for 500 rounds.\n",
      "[500]\ttraining's multi_logloss: 1.15398\ttraining's macroF1: 0.483677\tvalid_1's multi_logloss: 1.09515\tvalid_1's macroF1: 0.405397\n",
      "[1000]\ttraining's multi_logloss: 1.06827\ttraining's macroF1: 0.519403\tvalid_1's multi_logloss: 1.03886\tvalid_1's macroF1: 0.425609\n",
      "[1500]\ttraining's multi_logloss: 1.01702\ttraining's macroF1: 0.544883\tvalid_1's multi_logloss: 1.02252\tvalid_1's macroF1: 0.413679\n",
      "Early stopping, best iteration is:\n",
      "[1199]\ttraining's multi_logloss: 1.04571\ttraining's macroF1: 0.53007\tvalid_1's multi_logloss: 1.03036\tvalid_1's macroF1: 0.428099\n",
      "******************** Execution ended in 00h 01m 21.86s ********************\n",
      "============================== 4 of 5 folds ==============================\n",
      "Training until validation scores don't improve for 500 rounds.\n",
      "[500]\ttraining's multi_logloss: 1.14959\ttraining's macroF1: 0.487923\tvalid_1's multi_logloss: 1.12724\tvalid_1's macroF1: 0.371036\n",
      "Early stopping, best iteration is:\n",
      "[472]\ttraining's multi_logloss: 1.15639\ttraining's macroF1: 0.486354\tvalid_1's multi_logloss: 1.13165\tvalid_1's macroF1: 0.375175\n",
      "******************** Execution ended in 00h 00m 48.98s ********************\n",
      "============================== 5 of 5 folds ==============================\n",
      "Training until validation scores don't improve for 500 rounds.\n",
      "[500]\ttraining's multi_logloss: 1.15383\ttraining's macroF1: 0.496044\tvalid_1's multi_logloss: 1.15408\tvalid_1's macroF1: 0.381772\n",
      "[1000]\ttraining's multi_logloss: 1.07192\ttraining's macroF1: 0.519119\tvalid_1's multi_logloss: 1.11394\tvalid_1's macroF1: 0.402939\n",
      "[1500]\ttraining's multi_logloss: 1.02229\ttraining's macroF1: 0.539649\tvalid_1's multi_logloss: 1.10419\tvalid_1's macroF1: 0.406172\n",
      "Early stopping, best iteration is:\n",
      "[1422]\ttraining's multi_logloss: 1.02903\ttraining's macroF1: 0.533826\tvalid_1's multi_logloss: 1.10546\tvalid_1's macroF1: 0.410275\n",
      "******************** Execution ended in 00h 01m 33.57s ********************\n",
      "######################################## 18 of 50 iterations ########################################\n",
      "============================== 1 of 5 folds ==============================\n",
      "Training until validation scores don't improve for 500 rounds.\n",
      "[500]\ttraining's multi_logloss: 1.10311\ttraining's macroF1: 0.560559\tvalid_1's multi_logloss: 1.0851\tvalid_1's macroF1: 0.415552\n",
      "Early stopping, best iteration is:\n",
      "[168]\ttraining's multi_logloss: 1.25194\ttraining's macroF1: 0.527789\tvalid_1's multi_logloss: 1.22333\tvalid_1's macroF1: 0.434388\n",
      "******************** Execution ended in 00h 00m 46.63s ********************\n",
      "============================== 2 of 5 folds ==============================\n",
      "Training until validation scores don't improve for 500 rounds.\n",
      "[500]\ttraining's multi_logloss: 1.09991\ttraining's macroF1: 0.560437\tvalid_1's multi_logloss: 1.09192\tvalid_1's macroF1: 0.42913\n",
      "Early stopping, best iteration is:\n",
      "[21]\ttraining's multi_logloss: 1.36434\ttraining's macroF1: 0.494973\tvalid_1's multi_logloss: 1.3571\tvalid_1's macroF1: 0.450147\n",
      "******************** Execution ended in 00h 00m 40.47s ********************\n",
      "============================== 3 of 5 folds ==============================\n",
      "Training until validation scores don't improve for 500 rounds.\n",
      "[500]\ttraining's multi_logloss: 1.10035\ttraining's macroF1: 0.555457\tvalid_1's multi_logloss: 1.08409\tvalid_1's macroF1: 0.447443\n",
      "Early stopping, best iteration is:\n",
      "[325]\ttraining's multi_logloss: 1.16711\ttraining's macroF1: 0.535076\tvalid_1's multi_logloss: 1.14041\tvalid_1's macroF1: 0.449101\n",
      "******************** Execution ended in 00h 00m 56.82s ********************\n",
      "============================== 4 of 5 folds ==============================\n",
      "Training until validation scores don't improve for 500 rounds.\n",
      "[500]\ttraining's multi_logloss: 1.07951\ttraining's macroF1: 0.556213\tvalid_1's multi_logloss: 1.12567\tvalid_1's macroF1: 0.389544\n",
      "Early stopping, best iteration is:\n",
      "[16]\ttraining's multi_logloss: 1.36801\ttraining's macroF1: 0.486192\tvalid_1's multi_logloss: 1.36709\tvalid_1's macroF1: 0.397304\n",
      "******************** Execution ended in 00h 00m 35.74s ********************\n",
      "============================== 5 of 5 folds ==============================\n",
      "Training until validation scores don't improve for 500 rounds.\n",
      "[500]\ttraining's multi_logloss: 1.08637\ttraining's macroF1: 0.563228\tvalid_1's multi_logloss: 1.13928\tvalid_1's macroF1: 0.377075\n",
      "Early stopping, best iteration is:\n",
      "[18]\ttraining's multi_logloss: 1.36655\ttraining's macroF1: 0.489961\tvalid_1's multi_logloss: 1.36515\tvalid_1's macroF1: 0.392596\n",
      "******************** Execution ended in 00h 00m 35.37s ********************\n",
      "######################################## 19 of 50 iterations ########################################\n",
      "============================== 1 of 5 folds ==============================\n",
      "Training until validation scores don't improve for 500 rounds.\n",
      "[500]\ttraining's multi_logloss: 1.16096\ttraining's macroF1: 0.528093\tvalid_1's multi_logloss: 1.12317\tvalid_1's macroF1: 0.422496\n",
      "Early stopping, best iteration is:\n",
      "[455]\ttraining's multi_logloss: 1.17441\ttraining's macroF1: 0.525833\tvalid_1's multi_logloss: 1.13537\tvalid_1's macroF1: 0.430164\n",
      "******************** Execution ended in 00h 01m 16.98s ********************\n",
      "============================== 2 of 5 folds ==============================\n",
      "Training until validation scores don't improve for 500 rounds.\n",
      "[500]\ttraining's multi_logloss: 1.1651\ttraining's macroF1: 0.520922\tvalid_1's multi_logloss: 1.14566\tvalid_1's macroF1: 0.395906\n",
      "Early stopping, best iteration is:\n",
      "[332]\ttraining's multi_logloss: 1.21984\ttraining's macroF1: 0.498022\tvalid_1's multi_logloss: 1.19586\tvalid_1's macroF1: 0.409149\n",
      "******************** Execution ended in 00h 01m 06.14s ********************\n",
      "============================== 3 of 5 folds ==============================\n",
      "Training until validation scores don't improve for 500 rounds.\n",
      "[500]\ttraining's multi_logloss: 1.15709\ttraining's macroF1: 0.520787\tvalid_1's multi_logloss: 1.14558\tvalid_1's macroF1: 0.391539\n",
      "Early stopping, best iteration is:\n",
      "[2]\ttraining's multi_logloss: 1.38474\ttraining's macroF1: 0.445344\tvalid_1's multi_logloss: 1.38438\tvalid_1's macroF1: 0.417154\n",
      "******************** Execution ended in 00h 00m 39.71s ********************\n",
      "============================== 4 of 5 folds ==============================\n",
      "Training until validation scores don't improve for 500 rounds.\n",
      "[500]\ttraining's multi_logloss: 1.1501\ttraining's macroF1: 0.507617\tvalid_1's multi_logloss: 1.17402\tvalid_1's macroF1: 0.363787\n",
      "Early stopping, best iteration is:\n",
      "[3]\ttraining's multi_logloss: 1.38396\ttraining's macroF1: 0.442248\tvalid_1's multi_logloss: 1.38362\tvalid_1's macroF1: 0.376224\n",
      "******************** Execution ended in 00h 00m 41.43s ********************\n",
      "============================== 5 of 5 folds ==============================\n",
      "Training until validation scores don't improve for 500 rounds.\n",
      "[500]\ttraining's multi_logloss: 1.15215\ttraining's macroF1: 0.525629\tvalid_1's multi_logloss: 1.17457\tvalid_1's macroF1: 0.361562\n",
      "[1000]\ttraining's multi_logloss: 1.03978\ttraining's macroF1: 0.558132\tvalid_1's multi_logloss: 1.11233\tvalid_1's macroF1: 0.379311\n",
      "Early stopping, best iteration is:\n",
      "[905]\ttraining's multi_logloss: 1.05657\ttraining's macroF1: 0.54828\tvalid_1's multi_logloss: 1.11952\tvalid_1's macroF1: 0.383473\n",
      "******************** Execution ended in 00h 01m 53.64s ********************\n",
      "######################################## 20 of 50 iterations ########################################\n",
      "============================== 1 of 5 folds ==============================\n",
      "Training until validation scores don't improve for 500 rounds.\n",
      "[500]\ttraining's multi_logloss: 1.04039\ttraining's macroF1: 0.527414\tvalid_1's multi_logloss: 1.0534\tvalid_1's macroF1: 0.42005\n",
      "[1000]\ttraining's multi_logloss: 0.945869\ttraining's macroF1: 0.580036\tvalid_1's multi_logloss: 1.03864\tvalid_1's macroF1: 0.406612\n",
      "Early stopping, best iteration is:\n",
      "[628]\ttraining's multi_logloss: 1.01068\ttraining's macroF1: 0.545473\tvalid_1's multi_logloss: 1.04708\tvalid_1's macroF1: 0.42716\n",
      "******************** Execution ended in 00h 00m 54.36s ********************\n",
      "============================== 2 of 5 folds ==============================\n",
      "Training until validation scores don't improve for 500 rounds.\n",
      "[500]\ttraining's multi_logloss: 1.03631\ttraining's macroF1: 0.51629\tvalid_1's multi_logloss: 1.06409\tvalid_1's macroF1: 0.407714\n",
      "Early stopping, best iteration is:\n",
      "[259]\ttraining's multi_logloss: 1.11757\ttraining's macroF1: 0.492983\tvalid_1's multi_logloss: 1.09678\tvalid_1's macroF1: 0.429086\n",
      "******************** Execution ended in 00h 00m 37.09s ********************\n",
      "============================== 3 of 5 folds ==============================\n",
      "Training until validation scores don't improve for 500 rounds.\n",
      "[500]\ttraining's multi_logloss: 1.0356\ttraining's macroF1: 0.54323\tvalid_1's multi_logloss: 1.0763\tvalid_1's macroF1: 0.399144\n",
      "Early stopping, best iteration is:\n",
      "[309]\ttraining's multi_logloss: 1.09434\ttraining's macroF1: 0.513538\tvalid_1's multi_logloss: 1.09515\tvalid_1's macroF1: 0.41528\n",
      "******************** Execution ended in 00h 00m 43.94s ********************\n",
      "============================== 4 of 5 folds ==============================\n",
      "Training until validation scores don't improve for 500 rounds.\n",
      "[500]\ttraining's multi_logloss: 1.02369\ttraining's macroF1: 0.548811\tvalid_1's multi_logloss: 1.11332\tvalid_1's macroF1: 0.387036\n",
      "[1000]\ttraining's multi_logloss: 0.92829\ttraining's macroF1: 0.587162\tvalid_1's multi_logloss: 1.11578\tvalid_1's macroF1: 0.395637\n",
      "Early stopping, best iteration is:\n",
      "[544]\ttraining's multi_logloss: 1.01359\ttraining's macroF1: 0.554965\tvalid_1's multi_logloss: 1.11091\tvalid_1's macroF1: 0.381769\n",
      "******************** Execution ended in 00h 00m 50.26s ********************\n",
      "============================== 5 of 5 folds ==============================\n",
      "Training until validation scores don't improve for 500 rounds.\n",
      "[500]\ttraining's multi_logloss: 1.03283\ttraining's macroF1: 0.522996\tvalid_1's multi_logloss: 1.03461\tvalid_1's macroF1: 0.420961\n",
      "[1000]\ttraining's multi_logloss: 0.940988\ttraining's macroF1: 0.560025\tvalid_1's multi_logloss: 1.01778\tvalid_1's macroF1: 0.41203\n",
      "Early stopping, best iteration is:\n",
      "[605]\ttraining's multi_logloss: 1.00911\ttraining's macroF1: 0.534159\tvalid_1's multi_logloss: 1.02658\tvalid_1's macroF1: 0.436975\n",
      "******************** Execution ended in 00h 00m 52.41s ********************\n",
      "######################################## 21 of 50 iterations ########################################\n",
      "============================== 1 of 5 folds ==============================\n",
      "Training until validation scores don't improve for 500 rounds.\n",
      "[500]\ttraining's multi_logloss: 0.8295\ttraining's macroF1: 0.716314\tvalid_1's multi_logloss: 1.01155\tvalid_1's macroF1: 0.422958\n",
      "Early stopping, best iteration is:\n",
      "[13]\ttraining's multi_logloss: 1.34781\ttraining's macroF1: 0.525285\tvalid_1's multi_logloss: 1.3452\tvalid_1's macroF1: 0.435518\n",
      "******************** Execution ended in 00h 00m 29.77s ********************\n",
      "============================== 2 of 5 folds ==============================\n",
      "Training until validation scores don't improve for 500 rounds.\n",
      "[500]\ttraining's multi_logloss: 0.821289\ttraining's macroF1: 0.696045\tvalid_1's multi_logloss: 0.983\tvalid_1's macroF1: 0.39235\n",
      "Early stopping, best iteration is:\n",
      "[12]\ttraining's multi_logloss: 1.35023\ttraining's macroF1: 0.506874\tvalid_1's multi_logloss: 1.34009\tvalid_1's macroF1: 0.429818\n",
      "******************** Execution ended in 00h 00m 30.32s ********************\n",
      "============================== 3 of 5 folds ==============================\n",
      "Training until validation scores don't improve for 500 rounds.\n",
      "[500]\ttraining's multi_logloss: 0.80744\ttraining's macroF1: 0.697536\tvalid_1's multi_logloss: 1.00423\tvalid_1's macroF1: 0.383837\n",
      "Early stopping, best iteration is:\n",
      "[9]\ttraining's multi_logloss: 1.35814\ttraining's macroF1: 0.523172\tvalid_1's multi_logloss: 1.35401\tvalid_1's macroF1: 0.402235\n",
      "******************** Execution ended in 00h 00m 29.81s ********************\n",
      "============================== 4 of 5 folds ==============================\n",
      "Training until validation scores don't improve for 500 rounds.\n",
      "[500]\ttraining's multi_logloss: 0.823709\ttraining's macroF1: 0.68925\tvalid_1's multi_logloss: 1.02915\tvalid_1's macroF1: 0.400118\n",
      "Early stopping, best iteration is:\n",
      "[386]\ttraining's multi_logloss: 0.885753\ttraining's macroF1: 0.66877\tvalid_1's multi_logloss: 1.04237\tvalid_1's macroF1: 0.417867\n",
      "******************** Execution ended in 00h 00m 55.31s ********************\n",
      "============================== 5 of 5 folds ==============================\n",
      "Training until validation scores don't improve for 500 rounds.\n",
      "[500]\ttraining's multi_logloss: 0.828871\ttraining's macroF1: 0.697904\tvalid_1's multi_logloss: 1.01026\tvalid_1's macroF1: 0.448786\n",
      "[1000]\ttraining's multi_logloss: 0.647254\ttraining's macroF1: 0.765756\tvalid_1's multi_logloss: 0.985841\tvalid_1's macroF1: 0.442639\n",
      "Early stopping, best iteration is:\n",
      "[503]\ttraining's multi_logloss: 0.827499\ttraining's macroF1: 0.699775\tvalid_1's multi_logloss: 1.0104\tvalid_1's macroF1: 0.452063\n",
      "******************** Execution ended in 00h 01m 02.04s ********************\n",
      "######################################## 22 of 50 iterations ########################################\n",
      "============================== 1 of 5 folds ==============================\n",
      "Training until validation scores don't improve for 500 rounds.\n",
      "[500]\ttraining's multi_logloss: 0.853062\ttraining's macroF1: 0.67499\tvalid_1's multi_logloss: 1.03501\tvalid_1's macroF1: 0.422689\n",
      "[1000]\ttraining's multi_logloss: 0.673052\ttraining's macroF1: 0.752262\tvalid_1's multi_logloss: 1.00532\tvalid_1's macroF1: 0.418821\n",
      "Early stopping, best iteration is:\n",
      "[501]\ttraining's multi_logloss: 0.852552\ttraining's macroF1: 0.674994\tvalid_1's multi_logloss: 1.03481\tvalid_1's macroF1: 0.42654\n",
      "******************** Execution ended in 00h 01m 27.92s ********************\n",
      "============================== 2 of 5 folds ==============================\n",
      "Training until validation scores don't improve for 500 rounds.\n",
      "[500]\ttraining's multi_logloss: 0.854253\ttraining's macroF1: 0.697153\tvalid_1's multi_logloss: 1.02194\tvalid_1's macroF1: 0.414942\n",
      "[1000]\ttraining's multi_logloss: 0.672828\ttraining's macroF1: 0.766584\tvalid_1's multi_logloss: 0.999475\tvalid_1's macroF1: 0.432806\n",
      "Early stopping, best iteration is:\n",
      "[886]\ttraining's multi_logloss: 0.704918\ttraining's macroF1: 0.758429\tvalid_1's multi_logloss: 1.0024\tvalid_1's macroF1: 0.436967\n",
      "******************** Execution ended in 00h 02m 01.38s ********************\n",
      "============================== 3 of 5 folds ==============================\n",
      "Training until validation scores don't improve for 500 rounds.\n",
      "[500]\ttraining's multi_logloss: 0.853408\ttraining's macroF1: 0.686406\tvalid_1's multi_logloss: 0.997469\tvalid_1's macroF1: 0.40929\n",
      "[1000]\ttraining's multi_logloss: 0.674496\ttraining's macroF1: 0.759269\tvalid_1's multi_logloss: 0.965511\tvalid_1's macroF1: 0.424854\n",
      "Early stopping, best iteration is:\n",
      "[860]\ttraining's multi_logloss: 0.713759\ttraining's macroF1: 0.745124\tvalid_1's multi_logloss: 0.970084\tvalid_1's macroF1: 0.434274\n",
      "******************** Execution ended in 00h 02m 02.50s ********************\n",
      "============================== 4 of 5 folds ==============================\n",
      "Training until validation scores don't improve for 500 rounds.\n",
      "[500]\ttraining's multi_logloss: 0.855503\ttraining's macroF1: 0.682209\tvalid_1's multi_logloss: 1.00245\tvalid_1's macroF1: 0.408855\n",
      "Early stopping, best iteration is:\n",
      "[221]\ttraining's multi_logloss: 1.04339\ttraining's macroF1: 0.618299\tvalid_1's multi_logloss: 1.07951\tvalid_1's macroF1: 0.420676\n",
      "******************** Execution ended in 00h 01m 01.94s ********************\n",
      "============================== 5 of 5 folds ==============================\n",
      "Training until validation scores don't improve for 500 rounds.\n",
      "[500]\ttraining's multi_logloss: 0.851665\ttraining's macroF1: 0.679089\tvalid_1's multi_logloss: 1.0501\tvalid_1's macroF1: 0.390139\n",
      "Early stopping, best iteration is:\n",
      "[8]\ttraining's multi_logloss: 1.36429\ttraining's macroF1: 0.499563\tvalid_1's multi_logloss: 1.36444\tvalid_1's macroF1: 0.39964\n",
      "******************** Execution ended in 00h 00m 43.59s ********************\n",
      "######################################## 23 of 50 iterations ########################################\n",
      "============================== 1 of 5 folds ==============================\n",
      "Training until validation scores don't improve for 500 rounds.\n",
      "[500]\ttraining's multi_logloss: 1.07651\ttraining's macroF1: 0.576284\tvalid_1's multi_logloss: 1.09385\tvalid_1's macroF1: 0.406565\n",
      "Early stopping, best iteration is:\n",
      "[452]\ttraining's multi_logloss: 1.09473\ttraining's macroF1: 0.57358\tvalid_1's multi_logloss: 1.10612\tvalid_1's macroF1: 0.414289\n",
      "******************** Execution ended in 00h 01m 11.73s ********************\n",
      "============================== 2 of 5 folds ==============================\n",
      "Training until validation scores don't improve for 500 rounds.\n",
      "[500]\ttraining's multi_logloss: 1.07664\ttraining's macroF1: 0.562097\tvalid_1's multi_logloss: 1.10442\tvalid_1's macroF1: 0.380507\n",
      "Early stopping, best iteration is:\n",
      "[5]\ttraining's multi_logloss: 1.38067\ttraining's macroF1: 0.468954\tvalid_1's multi_logloss: 1.3799\tvalid_1's macroF1: 0.392206\n",
      "******************** Execution ended in 00h 00m 37.61s ********************\n",
      "============================== 3 of 5 folds ==============================\n",
      "Training until validation scores don't improve for 500 rounds.\n",
      "[500]\ttraining's multi_logloss: 1.07919\ttraining's macroF1: 0.56974\tvalid_1's multi_logloss: 1.10431\tvalid_1's macroF1: 0.403978\n",
      "Early stopping, best iteration is:\n",
      "[314]\ttraining's multi_logloss: 1.15861\ttraining's macroF1: 0.556978\tvalid_1's multi_logloss: 1.15816\tvalid_1's macroF1: 0.417018\n",
      "******************** Execution ended in 00h 01m 03.50s ********************\n",
      "============================== 4 of 5 folds ==============================\n",
      "Training until validation scores don't improve for 500 rounds.\n",
      "[500]\ttraining's multi_logloss: 1.08752\ttraining's macroF1: 0.570788\tvalid_1's multi_logloss: 1.09413\tvalid_1's macroF1: 0.419409\n",
      "[1000]\ttraining's multi_logloss: 0.955432\ttraining's macroF1: 0.613257\tvalid_1's multi_logloss: 1.02056\tvalid_1's macroF1: 0.435846\n",
      "[1500]\ttraining's multi_logloss: 0.869719\ttraining's macroF1: 0.654768\tvalid_1's multi_logloss: 0.995543\tvalid_1's macroF1: 0.438266\n",
      "[2000]\ttraining's multi_logloss: 0.803634\ttraining's macroF1: 0.691102\tvalid_1's multi_logloss: 0.983469\tvalid_1's macroF1: 0.453552\n",
      "[2500]\ttraining's multi_logloss: 0.750031\ttraining's macroF1: 0.716025\tvalid_1's multi_logloss: 0.975284\tvalid_1's macroF1: 0.4533\n",
      "Early stopping, best iteration is:\n",
      "[2137]\ttraining's multi_logloss: 0.787831\ttraining's macroF1: 0.698501\tvalid_1's multi_logloss: 0.980244\tvalid_1's macroF1: 0.458939\n",
      "******************** Execution ended in 00h 03m 11.28s ********************\n",
      "============================== 5 of 5 folds ==============================\n",
      "Training until validation scores don't improve for 500 rounds.\n",
      "[500]\ttraining's multi_logloss: 1.07572\ttraining's macroF1: 0.56772\tvalid_1's multi_logloss: 1.10394\tvalid_1's macroF1: 0.401905\n",
      "Early stopping, best iteration is:\n",
      "[496]\ttraining's multi_logloss: 1.07714\ttraining's macroF1: 0.567087\tvalid_1's multi_logloss: 1.10453\tvalid_1's macroF1: 0.409293\n",
      "******************** Execution ended in 00h 01m 14.87s ********************\n",
      "######################################## 24 of 50 iterations ########################################\n",
      "============================== 1 of 5 folds ==============================\n",
      "Training until validation scores don't improve for 500 rounds.\n",
      "[500]\ttraining's multi_logloss: 1.36872\ttraining's macroF1: 0.476035\tvalid_1's multi_logloss: 1.36434\tvalid_1's macroF1: 0.371415\n",
      "Early stopping, best iteration is:\n",
      "[4]\ttraining's multi_logloss: 1.38615\ttraining's macroF1: 0.45417\tvalid_1's multi_logloss: 1.38612\tvalid_1's macroF1: 0.377204\n",
      "******************** Execution ended in 00h 00m 35.62s ********************\n",
      "============================== 2 of 5 folds ==============================\n",
      "Training until validation scores don't improve for 500 rounds.\n",
      "[500]\ttraining's multi_logloss: 1.36778\ttraining's macroF1: 0.475893\tvalid_1's multi_logloss: 1.36227\tvalid_1's macroF1: 0.380175\n",
      "Early stopping, best iteration is:\n",
      "[44]\ttraining's multi_logloss: 1.38461\ttraining's macroF1: 0.476616\tvalid_1's multi_logloss: 1.3841\tvalid_1's macroF1: 0.410753\n",
      "******************** Execution ended in 00h 00m 35.43s ********************\n",
      "============================== 3 of 5 folds ==============================\n",
      "Training until validation scores don't improve for 500 rounds.\n",
      "[500]\ttraining's multi_logloss: 1.36791\ttraining's macroF1: 0.493256\tvalid_1's multi_logloss: 1.36258\tvalid_1's macroF1: 0.371391\n",
      "Early stopping, best iteration is:\n",
      "[2]\ttraining's multi_logloss: 1.38622\ttraining's macroF1: 0.446181\tvalid_1's multi_logloss: 1.38619\tvalid_1's macroF1: 0.394467\n",
      "******************** Execution ended in 00h 00m 32.39s ********************\n",
      "============================== 4 of 5 folds ==============================\n",
      "Training until validation scores don't improve for 500 rounds.\n",
      "[500]\ttraining's multi_logloss: 1.36786\ttraining's macroF1: 0.470686\tvalid_1's multi_logloss: 1.36366\tvalid_1's macroF1: 0.394163\n",
      "Early stopping, best iteration is:\n",
      "[14]\ttraining's multi_logloss: 1.38577\ttraining's macroF1: 0.482172\tvalid_1's multi_logloss: 1.38564\tvalid_1's macroF1: 0.377765\n",
      "******************** Execution ended in 00h 00m 31.95s ********************\n",
      "============================== 5 of 5 folds ==============================\n",
      "Training until validation scores don't improve for 500 rounds.\n",
      "[500]\ttraining's multi_logloss: 1.3677\ttraining's macroF1: 0.462665\tvalid_1's multi_logloss: 1.36474\tvalid_1's macroF1: 0.396157\n",
      "Early stopping, best iteration is:\n",
      "[58]\ttraining's multi_logloss: 1.38406\ttraining's macroF1: 0.472283\tvalid_1's multi_logloss: 1.38367\tvalid_1's macroF1: 0.397819\n",
      "******************** Execution ended in 00h 00m 34.09s ********************\n",
      "######################################## 25 of 50 iterations ########################################\n",
      "============================== 1 of 5 folds ==============================\n",
      "Training until validation scores don't improve for 500 rounds.\n",
      "[500]\ttraining's multi_logloss: 1.11832\ttraining's macroF1: 0.488679\tvalid_1's multi_logloss: 1.06334\tvalid_1's macroF1: 0.406784\n",
      "[1000]\ttraining's multi_logloss: 1.05304\ttraining's macroF1: 0.524668\tvalid_1's multi_logloss: 1.043\tvalid_1's macroF1: 0.415379\n",
      "[1500]\ttraining's multi_logloss: 1.01016\ttraining's macroF1: 0.536585\tvalid_1's multi_logloss: 1.0435\tvalid_1's macroF1: 0.406986\n",
      "Early stopping, best iteration is:\n",
      "[1120]\ttraining's multi_logloss: 1.04213\ttraining's macroF1: 0.526782\tvalid_1's multi_logloss: 1.03906\tvalid_1's macroF1: 0.413274\n",
      "******************** Execution ended in 00h 01m 01.05s ********************\n",
      "============================== 2 of 5 folds ==============================\n",
      "Training until validation scores don't improve for 500 rounds.\n",
      "[500]\ttraining's multi_logloss: 1.11296\ttraining's macroF1: 0.492108\tvalid_1's multi_logloss: 1.05919\tvalid_1's macroF1: 0.393494\n",
      "Early stopping, best iteration is:\n",
      "[30]\ttraining's multi_logloss: 1.34225\ttraining's macroF1: 0.442494\tvalid_1's multi_logloss: 1.32048\tvalid_1's macroF1: 0.418895\n",
      "******************** Execution ended in 00h 00m 20.37s ********************\n",
      "============================== 3 of 5 folds ==============================\n",
      "Training until validation scores don't improve for 500 rounds.\n",
      "[500]\ttraining's multi_logloss: 1.10973\ttraining's macroF1: 0.492034\tvalid_1's multi_logloss: 1.10373\tvalid_1's macroF1: 0.391655\n",
      "Early stopping, best iteration is:\n",
      "[156]\ttraining's multi_logloss: 1.22373\ttraining's macroF1: 0.448961\tvalid_1's multi_logloss: 1.1895\tvalid_1's macroF1: 0.404394\n",
      "******************** Execution ended in 00h 00m 25.40s ********************\n",
      "============================== 4 of 5 folds ==============================\n",
      "Training until validation scores don't improve for 500 rounds.\n",
      "[500]\ttraining's multi_logloss: 1.1092\ttraining's macroF1: 0.488976\tvalid_1's multi_logloss: 1.09781\tvalid_1's macroF1: 0.425358\n",
      "[1000]\ttraining's multi_logloss: 1.04403\ttraining's macroF1: 0.516806\tvalid_1's multi_logloss: 1.08192\tvalid_1's macroF1: 0.413425\n",
      "Early stopping, best iteration is:\n",
      "[517]\ttraining's multi_logloss: 1.10579\ttraining's macroF1: 0.488927\tvalid_1's multi_logloss: 1.09574\tvalid_1's macroF1: 0.429606\n",
      "******************** Execution ended in 00h 00m 38.88s ********************\n",
      "============================== 5 of 5 folds ==============================\n",
      "Training until validation scores don't improve for 500 rounds.\n",
      "[500]\ttraining's multi_logloss: 1.1075\ttraining's macroF1: 0.499065\tvalid_1's multi_logloss: 1.09136\tvalid_1's macroF1: 0.383037\n",
      "Early stopping, best iteration is:\n",
      "[148]\ttraining's multi_logloss: 1.22991\ttraining's macroF1: 0.468456\tvalid_1's multi_logloss: 1.18295\tvalid_1's macroF1: 0.398795\n",
      "******************** Execution ended in 00h 00m 25.06s ********************\n",
      "######################################## 26 of 50 iterations ########################################\n",
      "============================== 1 of 5 folds ==============================\n",
      "Training until validation scores don't improve for 500 rounds.\n",
      "[500]\ttraining's multi_logloss: 0.898636\ttraining's macroF1: 0.602686\tvalid_1's multi_logloss: 1.01344\tvalid_1's macroF1: 0.416381\n",
      "[1000]\ttraining's multi_logloss: 0.754101\ttraining's macroF1: 0.678634\tvalid_1's multi_logloss: 1.00585\tvalid_1's macroF1: 0.42001\n",
      "Early stopping, best iteration is:\n",
      "[964]\ttraining's multi_logloss: 0.761773\ttraining's macroF1: 0.673882\tvalid_1's multi_logloss: 1.00345\tvalid_1's macroF1: 0.421104\n",
      "******************** Execution ended in 00h 01m 49.52s ********************\n",
      "============================== 2 of 5 folds ==============================\n",
      "Training until validation scores don't improve for 500 rounds.\n",
      "[500]\ttraining's multi_logloss: 0.907838\ttraining's macroF1: 0.619255\tvalid_1's multi_logloss: 1.04572\tvalid_1's macroF1: 0.403503\n",
      "[1000]\ttraining's multi_logloss: 0.765939\ttraining's macroF1: 0.680588\tvalid_1's multi_logloss: 1.03142\tvalid_1's macroF1: 0.415198\n",
      "[1500]\ttraining's multi_logloss: 0.674712\ttraining's macroF1: 0.733827\tvalid_1's multi_logloss: 1.01706\tvalid_1's macroF1: 0.427487\n",
      "[2000]\ttraining's multi_logloss: 0.610025\ttraining's macroF1: 0.766093\tvalid_1's multi_logloss: 1.01442\tvalid_1's macroF1: 0.425556\n",
      "[2500]\ttraining's multi_logloss: 0.559445\ttraining's macroF1: 0.791199\tvalid_1's multi_logloss: 1.01278\tvalid_1's macroF1: 0.433576\n",
      "Early stopping, best iteration is:\n",
      "[2064]\ttraining's multi_logloss: 0.602841\ttraining's macroF1: 0.770507\tvalid_1's multi_logloss: 1.01589\tvalid_1's macroF1: 0.438177\n",
      "******************** Execution ended in 00h 03m 09.63s ********************\n",
      "============================== 3 of 5 folds ==============================\n",
      "Training until validation scores don't improve for 500 rounds.\n",
      "[500]\ttraining's multi_logloss: 0.895739\ttraining's macroF1: 0.626521\tvalid_1's multi_logloss: 1.08062\tvalid_1's macroF1: 0.385384\n",
      "Early stopping, best iteration is:\n",
      "[26]\ttraining's multi_logloss: 1.31069\ttraining's macroF1: 0.480752\tvalid_1's multi_logloss: 1.3042\tvalid_1's macroF1: 0.420754\n",
      "******************** Execution ended in 00h 00m 41.80s ********************\n",
      "============================== 4 of 5 folds ==============================\n",
      "Training until validation scores don't improve for 500 rounds.\n",
      "[500]\ttraining's multi_logloss: 0.922218\ttraining's macroF1: 0.615951\tvalid_1's multi_logloss: 0.956162\tvalid_1's macroF1: 0.486686\n",
      "Early stopping, best iteration is:\n",
      "[431]\ttraining's multi_logloss: 0.950119\ttraining's macroF1: 0.596526\tvalid_1's multi_logloss: 0.963887\tvalid_1's macroF1: 0.492032\n",
      "******************** Execution ended in 00h 01m 11.48s ********************\n",
      "============================== 5 of 5 folds ==============================\n",
      "Training until validation scores don't improve for 500 rounds.\n",
      "[500]\ttraining's multi_logloss: 0.90137\ttraining's macroF1: 0.618391\tvalid_1's multi_logloss: 1.07553\tvalid_1's macroF1: 0.389735\n",
      "Early stopping, best iteration is:\n",
      "[407]\ttraining's multi_logloss: 0.940399\ttraining's macroF1: 0.602883\tvalid_1's multi_logloss: 1.0817\tvalid_1's macroF1: 0.405909\n",
      "******************** Execution ended in 00h 01m 09.97s ********************\n",
      "######################################## 27 of 50 iterations ########################################\n",
      "============================== 1 of 5 folds ==============================\n",
      "Training until validation scores don't improve for 500 rounds.\n",
      "[500]\ttraining's multi_logloss: 0.964246\ttraining's macroF1: 0.584653\tvalid_1's multi_logloss: 1.02534\tvalid_1's macroF1: 0.452632\n",
      "[1000]\ttraining's multi_logloss: 0.83076\ttraining's macroF1: 0.64756\tvalid_1's multi_logloss: 1.00605\tvalid_1's macroF1: 0.463799\n",
      "Early stopping, best iteration is:\n",
      "[848]\ttraining's multi_logloss: 0.864505\ttraining's macroF1: 0.638089\tvalid_1's multi_logloss: 1.01154\tvalid_1's macroF1: 0.467193\n",
      "******************** Execution ended in 00h 01m 15.27s ********************\n",
      "============================== 2 of 5 folds ==============================\n",
      "Training until validation scores don't improve for 500 rounds.\n",
      "[500]\ttraining's multi_logloss: 0.953429\ttraining's macroF1: 0.587224\tvalid_1's multi_logloss: 1.03686\tvalid_1's macroF1: 0.400687\n",
      "Early stopping, best iteration is:\n",
      "[45]\ttraining's multi_logloss: 1.29274\ttraining's macroF1: 0.495714\tvalid_1's multi_logloss: 1.27677\tvalid_1's macroF1: 0.408356\n",
      "******************** Execution ended in 00h 00m 31.04s ********************\n",
      "============================== 3 of 5 folds ==============================\n",
      "Training until validation scores don't improve for 500 rounds.\n",
      "[500]\ttraining's multi_logloss: 0.949186\ttraining's macroF1: 0.595898\tvalid_1's multi_logloss: 1.0566\tvalid_1's macroF1: 0.368725\n",
      "Early stopping, best iteration is:\n",
      "[14]\ttraining's multi_logloss: 1.35418\ttraining's macroF1: 0.464546\tvalid_1's multi_logloss: 1.34839\tvalid_1's macroF1: 0.380296\n",
      "******************** Execution ended in 00h 00m 28.75s ********************\n",
      "============================== 4 of 5 folds ==============================\n",
      "Training until validation scores don't improve for 500 rounds.\n",
      "[500]\ttraining's multi_logloss: 0.959856\ttraining's macroF1: 0.591938\tvalid_1's multi_logloss: 1.02286\tvalid_1's macroF1: 0.436531\n",
      "[1000]\ttraining's multi_logloss: 0.825508\ttraining's macroF1: 0.665823\tvalid_1's multi_logloss: 1.01105\tvalid_1's macroF1: 0.448329\n",
      "[1500]\ttraining's multi_logloss: 0.737028\ttraining's macroF1: 0.710174\tvalid_1's multi_logloss: 1.00841\tvalid_1's macroF1: 0.448708\n",
      "[2000]\ttraining's multi_logloss: 0.671124\ttraining's macroF1: 0.741354\tvalid_1's multi_logloss: 1.00777\tvalid_1's macroF1: 0.464259\n",
      "Early stopping, best iteration is:\n",
      "[1839]\ttraining's multi_logloss: 0.690865\ttraining's macroF1: 0.730756\tvalid_1's multi_logloss: 1.00276\tvalid_1's macroF1: 0.456267\n",
      "******************** Execution ended in 00h 02m 09.13s ********************\n",
      "============================== 5 of 5 folds ==============================\n",
      "Training until validation scores don't improve for 500 rounds.\n",
      "[500]\ttraining's multi_logloss: 0.962607\ttraining's macroF1: 0.596246\tvalid_1's multi_logloss: 1.02851\tvalid_1's macroF1: 0.429108\n",
      "[1000]\ttraining's multi_logloss: 0.82895\ttraining's macroF1: 0.66177\tvalid_1's multi_logloss: 1.00816\tvalid_1's macroF1: 0.422174\n",
      "Early stopping, best iteration is:\n",
      "[613]\ttraining's multi_logloss: 0.924642\ttraining's macroF1: 0.610231\tvalid_1's multi_logloss: 1.01979\tvalid_1's macroF1: 0.437229\n",
      "******************** Execution ended in 00h 01m 02.93s ********************\n",
      "######################################## 28 of 50 iterations ########################################\n",
      "============================== 1 of 5 folds ==============================\n",
      "Training until validation scores don't improve for 500 rounds.\n",
      "[500]\ttraining's multi_logloss: 1.1064\ttraining's macroF1: 0.621124\tvalid_1's multi_logloss: 1.1217\tvalid_1's macroF1: 0.386253\n",
      "Early stopping, best iteration is:\n",
      "[20]\ttraining's multi_logloss: 1.36984\ttraining's macroF1: 0.525691\tvalid_1's multi_logloss: 1.36778\tvalid_1's macroF1: 0.412845\n",
      "******************** Execution ended in 00h 00m 48.20s ********************\n",
      "============================== 2 of 5 folds ==============================\n",
      "Training until validation scores don't improve for 500 rounds.\n",
      "[500]\ttraining's multi_logloss: 1.10942\ttraining's macroF1: 0.61295\tvalid_1's multi_logloss: 1.1186\tvalid_1's macroF1: 0.404855\n",
      "[1000]\ttraining's multi_logloss: 0.958931\ttraining's macroF1: 0.659805\tvalid_1's multi_logloss: 1.0312\tvalid_1's macroF1: 0.409979\n",
      "Early stopping, best iteration is:\n",
      "[576]\ttraining's multi_logloss: 1.0818\ttraining's macroF1: 0.620317\tvalid_1's multi_logloss: 1.10014\tvalid_1's macroF1: 0.417177\n",
      "******************** Execution ended in 00h 01m 50.96s ********************\n",
      "============================== 3 of 5 folds ==============================\n",
      "Training until validation scores don't improve for 500 rounds.\n",
      "[500]\ttraining's multi_logloss: 1.1085\ttraining's macroF1: 0.611803\tvalid_1's multi_logloss: 1.13382\tvalid_1's macroF1: 0.426722\n",
      "Early stopping, best iteration is:\n",
      "[58]\ttraining's multi_logloss: 1.34197\ttraining's macroF1: 0.559251\tvalid_1's multi_logloss: 1.33674\tvalid_1's macroF1: 0.434148\n",
      "******************** Execution ended in 00h 00m 52.16s ********************\n",
      "============================== 4 of 5 folds ==============================\n",
      "Training until validation scores don't improve for 500 rounds.\n",
      "[500]\ttraining's multi_logloss: 1.10688\ttraining's macroF1: 0.623805\tvalid_1's multi_logloss: 1.15181\tvalid_1's macroF1: 0.419124\n",
      "[1000]\ttraining's multi_logloss: 0.955646\ttraining's macroF1: 0.678811\tvalid_1's multi_logloss: 1.07043\tvalid_1's macroF1: 0.421485\n",
      "Early stopping, best iteration is:\n",
      "[691]\ttraining's multi_logloss: 1.04024\ttraining's macroF1: 0.641187\tvalid_1's multi_logloss: 1.11263\tvalid_1's macroF1: 0.428778\n",
      "******************** Execution ended in 00h 02m 01.56s ********************\n",
      "============================== 5 of 5 folds ==============================\n",
      "Training until validation scores don't improve for 500 rounds.\n",
      "[500]\ttraining's multi_logloss: 1.10045\ttraining's macroF1: 0.612875\tvalid_1's multi_logloss: 1.15994\tvalid_1's macroF1: 0.368683\n",
      "[1000]\ttraining's multi_logloss: 0.945354\ttraining's macroF1: 0.655267\tvalid_1's multi_logloss: 1.09103\tvalid_1's macroF1: 0.366159\n",
      "Early stopping, best iteration is:\n",
      "[526]\ttraining's multi_logloss: 1.0904\ttraining's macroF1: 0.618306\tvalid_1's multi_logloss: 1.15403\tvalid_1's macroF1: 0.377613\n",
      "******************** Execution ended in 00h 01m 42.45s ********************\n",
      "######################################## 29 of 50 iterations ########################################\n",
      "============================== 1 of 5 folds ==============================\n",
      "Training until validation scores don't improve for 500 rounds.\n",
      "[500]\ttraining's multi_logloss: 1.03807\ttraining's macroF1: 0.525745\tvalid_1's multi_logloss: 1.09533\tvalid_1's macroF1: 0.36886\n",
      "Early stopping, best iteration is:\n",
      "[21]\ttraining's multi_logloss: 1.34868\ttraining's macroF1: 0.464098\tvalid_1's multi_logloss: 1.34108\tvalid_1's macroF1: 0.380429\n",
      "******************** Execution ended in 00h 00m 26.17s ********************\n",
      "============================== 2 of 5 folds ==============================\n",
      "Training until validation scores don't improve for 500 rounds.\n",
      "[500]\ttraining's multi_logloss: 1.05208\ttraining's macroF1: 0.54688\tvalid_1's multi_logloss: 1.08021\tvalid_1's macroF1: 0.404179\n",
      "Early stopping, best iteration is:\n",
      "[38]\ttraining's multi_logloss: 1.32729\ttraining's macroF1: 0.466128\tvalid_1's multi_logloss: 1.30951\tvalid_1's macroF1: 0.428354\n",
      "******************** Execution ended in 00h 00m 26.05s ********************\n",
      "============================== 3 of 5 folds ==============================\n",
      "Training until validation scores don't improve for 500 rounds.\n",
      "[500]\ttraining's multi_logloss: 1.06078\ttraining's macroF1: 0.536397\tvalid_1's multi_logloss: 1.06636\tvalid_1's macroF1: 0.422467\n",
      "[1000]\ttraining's multi_logloss: 0.96103\ttraining's macroF1: 0.575414\tvalid_1's multi_logloss: 1.03914\tvalid_1's macroF1: 0.430793\n",
      "Early stopping, best iteration is:\n",
      "[735]\ttraining's multi_logloss: 1.00676\ttraining's macroF1: 0.555576\tvalid_1's multi_logloss: 1.0481\tvalid_1's macroF1: 0.44291\n",
      "******************** Execution ended in 00h 00m 58.41s ********************\n",
      "============================== 4 of 5 folds ==============================\n",
      "Training until validation scores don't improve for 500 rounds.\n",
      "[500]\ttraining's multi_logloss: 1.05332\ttraining's macroF1: 0.5335\tvalid_1's multi_logloss: 1.02225\tvalid_1's macroF1: 0.413933\n",
      "Early stopping, best iteration is:\n",
      "[400]\ttraining's multi_logloss: 1.08394\ttraining's macroF1: 0.526896\tvalid_1's multi_logloss: 1.03935\tvalid_1's macroF1: 0.423188\n",
      "******************** Execution ended in 00h 00m 43.51s ********************\n",
      "============================== 5 of 5 folds ==============================\n",
      "Training until validation scores don't improve for 500 rounds.\n",
      "[500]\ttraining's multi_logloss: 1.04599\ttraining's macroF1: 0.543112\tvalid_1's multi_logloss: 1.07255\tvalid_1's macroF1: 0.406737\n",
      "[1000]\ttraining's multi_logloss: 0.942729\ttraining's macroF1: 0.582952\tvalid_1's multi_logloss: 1.05751\tvalid_1's macroF1: 0.394757\n",
      "Early stopping, best iteration is:\n",
      "[712]\ttraining's multi_logloss: 0.994178\ttraining's macroF1: 0.561105\tvalid_1's multi_logloss: 1.06215\tvalid_1's macroF1: 0.414359\n",
      "******************** Execution ended in 00h 00m 58.65s ********************\n",
      "######################################## 30 of 50 iterations ########################################\n",
      "============================== 1 of 5 folds ==============================\n",
      "Training until validation scores don't improve for 500 rounds.\n",
      "[500]\ttraining's multi_logloss: 0.645191\ttraining's macroF1: 0.782338\tvalid_1's multi_logloss: 0.971783\tvalid_1's macroF1: 0.401896\n",
      "Early stopping, best iteration is:\n",
      "[231]\ttraining's multi_logloss: 0.866802\ttraining's macroF1: 0.72021\tvalid_1's multi_logloss: 1.02972\tvalid_1's macroF1: 0.424846\n",
      "******************** Execution ended in 00h 01m 13.83s ********************\n",
      "============================== 2 of 5 folds ==============================\n",
      "Training until validation scores don't improve for 500 rounds.\n",
      "[500]\ttraining's multi_logloss: 0.63992\ttraining's macroF1: 0.779209\tvalid_1's multi_logloss: 0.972584\tvalid_1's macroF1: 0.416659\n",
      "Early stopping, best iteration is:\n",
      "[30]\ttraining's multi_logloss: 1.26468\ttraining's macroF1: 0.592983\tvalid_1's multi_logloss: 1.26968\tvalid_1's macroF1: 0.448569\n",
      "******************** Execution ended in 00h 00m 49.72s ********************\n",
      "============================== 3 of 5 folds ==============================\n",
      "Training until validation scores don't improve for 500 rounds.\n",
      "[500]\ttraining's multi_logloss: 0.644894\ttraining's macroF1: 0.774475\tvalid_1's multi_logloss: 1.00835\tvalid_1's macroF1: 0.41355\n",
      "Early stopping, best iteration is:\n",
      "[57]\ttraining's multi_logloss: 1.17835\ttraining's macroF1: 0.628495\tvalid_1's multi_logloss: 1.21817\tvalid_1's macroF1: 0.435933\n",
      "******************** Execution ended in 00h 00m 51.30s ********************\n",
      "============================== 4 of 5 folds ==============================\n",
      "Training until validation scores don't improve for 500 rounds.\n",
      "[500]\ttraining's multi_logloss: 0.639858\ttraining's macroF1: 0.7926\tvalid_1's multi_logloss: 0.997143\tvalid_1's macroF1: 0.420676\n",
      "[1000]\ttraining's multi_logloss: 0.447524\ttraining's macroF1: 0.85148\tvalid_1's multi_logloss: 0.982106\tvalid_1's macroF1: 0.42299\n",
      "[1500]\ttraining's multi_logloss: 0.357004\ttraining's macroF1: 0.886419\tvalid_1's multi_logloss: 0.978627\tvalid_1's macroF1: 0.429918\n",
      "Early stopping, best iteration is:\n",
      "[1392]\ttraining's multi_logloss: 0.372025\ttraining's macroF1: 0.880198\tvalid_1's multi_logloss: 0.979598\tvalid_1's macroF1: 0.432092\n",
      "******************** Execution ended in 00h 02m 54.87s ********************\n",
      "============================== 5 of 5 folds ==============================\n",
      "Training until validation scores don't improve for 500 rounds.\n",
      "[500]\ttraining's multi_logloss: 0.64265\ttraining's macroF1: 0.774327\tvalid_1's multi_logloss: 1.00109\tvalid_1's macroF1: 0.384584\n",
      "Early stopping, best iteration is:\n",
      "[20]\ttraining's multi_logloss: 1.3018\ttraining's macroF1: 0.595838\tvalid_1's multi_logloss: 1.30393\tvalid_1's macroF1: 0.402713\n",
      "******************** Execution ended in 00h 00m 49.37s ********************\n",
      "######################################## 31 of 50 iterations ########################################\n",
      "============================== 1 of 5 folds ==============================\n",
      "Training until validation scores don't improve for 500 rounds.\n",
      "[500]\ttraining's multi_logloss: 0.904224\ttraining's macroF1: 0.611103\tvalid_1's multi_logloss: 1.06779\tvalid_1's macroF1: 0.385332\n",
      "Early stopping, best iteration is:\n",
      "[192]\ttraining's multi_logloss: 1.05865\ttraining's macroF1: 0.545753\tvalid_1's multi_logloss: 1.08913\tvalid_1's macroF1: 0.401227\n",
      "******************** Execution ended in 00h 00m 42.10s ********************\n",
      "============================== 2 of 5 folds ==============================\n",
      "Training until validation scores don't improve for 500 rounds.\n",
      "[500]\ttraining's multi_logloss: 0.909831\ttraining's macroF1: 0.609324\tvalid_1's multi_logloss: 1.05674\tvalid_1's macroF1: 0.402736\n",
      "Early stopping, best iteration is:\n",
      "[353]\ttraining's multi_logloss: 0.966867\ttraining's macroF1: 0.578357\tvalid_1's multi_logloss: 1.06388\tvalid_1's macroF1: 0.413389\n",
      "******************** Execution ended in 00h 00m 52.05s ********************\n",
      "============================== 3 of 5 folds ==============================\n",
      "Training until validation scores don't improve for 500 rounds.\n",
      "[500]\ttraining's multi_logloss: 0.908514\ttraining's macroF1: 0.605167\tvalid_1's multi_logloss: 1.05894\tvalid_1's macroF1: 0.397606\n",
      "Early stopping, best iteration is:\n",
      "[334]\ttraining's multi_logloss: 0.97626\ttraining's macroF1: 0.578249\tvalid_1's multi_logloss: 1.06431\tvalid_1's macroF1: 0.413256\n",
      "******************** Execution ended in 00h 00m 51.43s ********************\n",
      "============================== 4 of 5 folds ==============================\n",
      "Training until validation scores don't improve for 500 rounds.\n",
      "[500]\ttraining's multi_logloss: 0.916911\ttraining's macroF1: 0.606472\tvalid_1's multi_logloss: 1.00978\tvalid_1's macroF1: 0.444424\n",
      "[1000]\ttraining's multi_logloss: 0.788544\ttraining's macroF1: 0.670914\tvalid_1's multi_logloss: 0.992011\tvalid_1's macroF1: 0.439945\n",
      "Early stopping, best iteration is:\n",
      "[579]\ttraining's multi_logloss: 0.891163\ttraining's macroF1: 0.620844\tvalid_1's multi_logloss: 1.00626\tvalid_1's macroF1: 0.446838\n",
      "******************** Execution ended in 00h 01m 05.15s ********************\n",
      "============================== 5 of 5 folds ==============================\n",
      "Training until validation scores don't improve for 500 rounds.\n",
      "[500]\ttraining's multi_logloss: 0.909625\ttraining's macroF1: 0.602566\tvalid_1's multi_logloss: 1.0206\tvalid_1's macroF1: 0.42355\n",
      "Early stopping, best iteration is:\n",
      "[192]\ttraining's multi_logloss: 1.0617\ttraining's macroF1: 0.541712\tvalid_1's multi_logloss: 1.06113\tvalid_1's macroF1: 0.446153\n",
      "******************** Execution ended in 00h 00m 41.95s ********************\n",
      "######################################## 32 of 50 iterations ########################################\n",
      "============================== 1 of 5 folds ==============================\n",
      "Training until validation scores don't improve for 500 rounds.\n",
      "[500]\ttraining's multi_logloss: 1.05833\ttraining's macroF1: 0.550869\tvalid_1's multi_logloss: 1.06454\tvalid_1's macroF1: 0.370216\n",
      "Early stopping, best iteration is:\n",
      "[343]\ttraining's multi_logloss: 1.11429\ttraining's macroF1: 0.522876\tvalid_1's multi_logloss: 1.09302\tvalid_1's macroF1: 0.383378\n",
      "******************** Execution ended in 00h 00m 39.39s ********************\n",
      "============================== 2 of 5 folds ==============================\n",
      "Training until validation scores don't improve for 500 rounds.\n",
      "[500]\ttraining's multi_logloss: 1.06549\ttraining's macroF1: 0.534841\tvalid_1's multi_logloss: 1.0534\tvalid_1's macroF1: 0.384535\n",
      "[1000]\ttraining's multi_logloss: 0.962423\ttraining's macroF1: 0.580359\tvalid_1's multi_logloss: 1.02345\tvalid_1's macroF1: 0.399813\n",
      "[1500]\ttraining's multi_logloss: 0.895626\ttraining's macroF1: 0.615252\tvalid_1's multi_logloss: 1.01704\tvalid_1's macroF1: 0.406948\n",
      "[2000]\ttraining's multi_logloss: 0.84534\ttraining's macroF1: 0.639609\tvalid_1's multi_logloss: 1.01367\tvalid_1's macroF1: 0.412471\n",
      "Early stopping, best iteration is:\n",
      "[1966]\ttraining's multi_logloss: 0.848541\ttraining's macroF1: 0.636192\tvalid_1's multi_logloss: 1.01381\tvalid_1's macroF1: 0.420376\n",
      "******************** Execution ended in 00h 01m 37.62s ********************\n",
      "============================== 3 of 5 folds ==============================\n",
      "Training until validation scores don't improve for 500 rounds.\n",
      "[500]\ttraining's multi_logloss: 1.06965\ttraining's macroF1: 0.540439\tvalid_1's multi_logloss: 1.06914\tvalid_1's macroF1: 0.41693\n",
      "Early stopping, best iteration is:\n",
      "[417]\ttraining's multi_logloss: 1.09667\ttraining's macroF1: 0.531259\tvalid_1's multi_logloss: 1.08425\tvalid_1's macroF1: 0.431676\n",
      "******************** Execution ended in 00h 00m 38.11s ********************\n",
      "============================== 4 of 5 folds ==============================\n",
      "Training until validation scores don't improve for 500 rounds.\n",
      "[500]\ttraining's multi_logloss: 1.06988\ttraining's macroF1: 0.538012\tvalid_1's multi_logloss: 1.07106\tvalid_1's macroF1: 0.372955\n",
      "Early stopping, best iteration is:\n",
      "[121]\ttraining's multi_logloss: 1.25043\ttraining's macroF1: 0.491658\tvalid_1's multi_logloss: 1.2189\tvalid_1's macroF1: 0.398413\n",
      "******************** Execution ended in 00h 00m 26.03s ********************\n",
      "============================== 5 of 5 folds ==============================\n",
      "Training until validation scores don't improve for 500 rounds.\n",
      "[500]\ttraining's multi_logloss: 1.06315\ttraining's macroF1: 0.548751\tvalid_1's multi_logloss: 1.08975\tvalid_1's macroF1: 0.395899\n",
      "[1000]\ttraining's multi_logloss: 0.961405\ttraining's macroF1: 0.576417\tvalid_1's multi_logloss: 1.06971\tvalid_1's macroF1: 0.400837\n",
      "Early stopping, best iteration is:\n",
      "[846]\ttraining's multi_logloss: 0.986443\ttraining's macroF1: 0.563439\tvalid_1's multi_logloss: 1.07041\tvalid_1's macroF1: 0.408452\n",
      "******************** Execution ended in 00h 00m 54.59s ********************\n",
      "######################################## 33 of 50 iterations ########################################\n",
      "============================== 1 of 5 folds ==============================\n",
      "Training until validation scores don't improve for 500 rounds.\n",
      "[500]\ttraining's multi_logloss: 0.869955\ttraining's macroF1: 0.660329\tvalid_1's multi_logloss: 0.994284\tvalid_1's macroF1: 0.444177\n",
      "Early stopping, best iteration is:\n",
      "[271]\ttraining's multi_logloss: 1.00289\ttraining's macroF1: 0.612345\tvalid_1's multi_logloss: 1.0425\tvalid_1's macroF1: 0.447601\n",
      "******************** Execution ended in 00h 01m 08.85s ********************\n",
      "============================== 2 of 5 folds ==============================\n",
      "Training until validation scores don't improve for 500 rounds.\n",
      "[500]\ttraining's multi_logloss: 0.864985\ttraining's macroF1: 0.659996\tvalid_1's multi_logloss: 1.01526\tvalid_1's macroF1: 0.430609\n",
      "[1000]\ttraining's multi_logloss: 0.697442\ttraining's macroF1: 0.739491\tvalid_1's multi_logloss: 0.997228\tvalid_1's macroF1: 0.434441\n",
      "Early stopping, best iteration is:\n",
      "[613]\ttraining's multi_logloss: 0.817406\ttraining's macroF1: 0.678198\tvalid_1's multi_logloss: 1.00738\tvalid_1's macroF1: 0.441088\n",
      "******************** Execution ended in 00h 01m 38.79s ********************\n",
      "============================== 3 of 5 folds ==============================\n",
      "Training until validation scores don't improve for 500 rounds.\n",
      "[500]\ttraining's multi_logloss: 0.862471\ttraining's macroF1: 0.658302\tvalid_1's multi_logloss: 1.00202\tvalid_1's macroF1: 0.411821\n",
      "Early stopping, best iteration is:\n",
      "[272]\ttraining's multi_logloss: 0.995109\ttraining's macroF1: 0.595925\tvalid_1's multi_logloss: 1.04182\tvalid_1's macroF1: 0.424301\n",
      "******************** Execution ended in 00h 01m 08.35s ********************\n",
      "============================== 4 of 5 folds ==============================\n",
      "Training until validation scores don't improve for 500 rounds.\n",
      "[500]\ttraining's multi_logloss: 0.864335\ttraining's macroF1: 0.675712\tvalid_1's multi_logloss: 1.05802\tvalid_1's macroF1: 0.405308\n",
      "Early stopping, best iteration is:\n",
      "[211]\ttraining's multi_logloss: 1.04696\ttraining's macroF1: 0.616735\tvalid_1's multi_logloss: 1.11385\tvalid_1's macroF1: 0.424722\n",
      "******************** Execution ended in 00h 01m 02.63s ********************\n",
      "============================== 5 of 5 folds ==============================\n",
      "Training until validation scores don't improve for 500 rounds.\n",
      "[500]\ttraining's multi_logloss: 0.853958\ttraining's macroF1: 0.652339\tvalid_1's multi_logloss: 1.05299\tvalid_1's macroF1: 0.383835\n",
      "[1000]\ttraining's multi_logloss: 0.690527\ttraining's macroF1: 0.72592\tvalid_1's multi_logloss: 1.03531\tvalid_1's macroF1: 0.392891\n",
      "Early stopping, best iteration is:\n",
      "[755]\ttraining's multi_logloss: 0.758989\ttraining's macroF1: 0.693673\tvalid_1's multi_logloss: 1.04183\tvalid_1's macroF1: 0.405534\n",
      "******************** Execution ended in 00h 01m 55.76s ********************\n",
      "######################################## 34 of 50 iterations ########################################\n",
      "============================== 1 of 5 folds ==============================\n",
      "Training until validation scores don't improve for 500 rounds.\n",
      "[500]\ttraining's multi_logloss: 1.08916\ttraining's macroF1: 0.50764\tvalid_1's multi_logloss: 1.10321\tvalid_1's macroF1: 0.415162\n",
      "[1000]\ttraining's multi_logloss: 1.01135\ttraining's macroF1: 0.545349\tvalid_1's multi_logloss: 1.08305\tvalid_1's macroF1: 0.421022\n",
      "Early stopping, best iteration is:\n",
      "[540]\ttraining's multi_logloss: 1.08063\ttraining's macroF1: 0.505099\tvalid_1's multi_logloss: 1.10216\tvalid_1's macroF1: 0.4334\n",
      "******************** Execution ended in 00h 00m 33.70s ********************\n",
      "============================== 2 of 5 folds ==============================\n",
      "Training until validation scores don't improve for 500 rounds.\n",
      "[500]\ttraining's multi_logloss: 1.08482\ttraining's macroF1: 0.521816\tvalid_1's multi_logloss: 1.05027\tvalid_1's macroF1: 0.396627\n",
      "[1000]\ttraining's multi_logloss: 1.00221\ttraining's macroF1: 0.545941\tvalid_1's multi_logloss: 1.03549\tvalid_1's macroF1: 0.401351\n",
      "[1500]\ttraining's multi_logloss: 0.947808\ttraining's macroF1: 0.578846\tvalid_1's multi_logloss: 1.03253\tvalid_1's macroF1: 0.399981\n",
      "Early stopping, best iteration is:\n",
      "[1377]\ttraining's multi_logloss: 0.959963\ttraining's macroF1: 0.569978\tvalid_1's multi_logloss: 1.03275\tvalid_1's macroF1: 0.413781\n",
      "******************** Execution ended in 00h 00m 59.51s ********************\n",
      "============================== 3 of 5 folds ==============================\n",
      "Training until validation scores don't improve for 500 rounds.\n",
      "[500]\ttraining's multi_logloss: 1.07866\ttraining's macroF1: 0.522615\tvalid_1's multi_logloss: 1.11704\tvalid_1's macroF1: 0.410071\n",
      "Early stopping, best iteration is:\n",
      "[378]\ttraining's multi_logloss: 1.11008\ttraining's macroF1: 0.518178\tvalid_1's multi_logloss: 1.12543\tvalid_1's macroF1: 0.414591\n",
      "******************** Execution ended in 00h 00m 28.61s ********************\n",
      "============================== 4 of 5 folds ==============================\n",
      "Training until validation scores don't improve for 500 rounds.\n",
      "[500]\ttraining's multi_logloss: 1.08065\ttraining's macroF1: 0.509672\tvalid_1's multi_logloss: 1.06682\tvalid_1's macroF1: 0.415609\n",
      "[1000]\ttraining's multi_logloss: 0.99958\ttraining's macroF1: 0.545949\tvalid_1's multi_logloss: 1.04398\tvalid_1's macroF1: 0.419905\n",
      "[1500]\ttraining's multi_logloss: 0.94819\ttraining's macroF1: 0.574207\tvalid_1's multi_logloss: 1.04215\tvalid_1's macroF1: 0.412599\n",
      "Early stopping, best iteration is:\n",
      "[1238]\ttraining's multi_logloss: 0.972718\ttraining's macroF1: 0.556604\tvalid_1's multi_logloss: 1.04332\tvalid_1's macroF1: 0.427397\n",
      "******************** Execution ended in 00h 00m 55.03s ********************\n",
      "============================== 5 of 5 folds ==============================\n",
      "Training until validation scores don't improve for 500 rounds.\n",
      "[500]\ttraining's multi_logloss: 1.0755\ttraining's macroF1: 0.505342\tvalid_1's multi_logloss: 1.02663\tvalid_1's macroF1: 0.390627\n",
      "Early stopping, best iteration is:\n",
      "[10]\ttraining's multi_logloss: 1.36838\ttraining's macroF1: 0.424073\tvalid_1's multi_logloss: 1.35602\tvalid_1's macroF1: 0.415529\n",
      "******************** Execution ended in 00h 00m 16.59s ********************\n",
      "######################################## 35 of 50 iterations ########################################\n",
      "============================== 1 of 5 folds ==============================\n",
      "Training until validation scores don't improve for 500 rounds.\n",
      "[500]\ttraining's multi_logloss: 1.12479\ttraining's macroF1: 0.566932\tvalid_1's multi_logloss: 1.10265\tvalid_1's macroF1: 0.451481\n",
      "[1000]\ttraining's multi_logloss: 1.00988\ttraining's macroF1: 0.592613\tvalid_1's multi_logloss: 1.03074\tvalid_1's macroF1: 0.431464\n",
      "Early stopping, best iteration is:\n",
      "[530]\ttraining's multi_logloss: 1.1158\ttraining's macroF1: 0.568653\tvalid_1's multi_logloss: 1.09559\tvalid_1's macroF1: 0.454459\n",
      "******************** Execution ended in 00h 00m 52.75s ********************\n",
      "============================== 2 of 5 folds ==============================\n",
      "Training until validation scores don't improve for 500 rounds.\n",
      "[500]\ttraining's multi_logloss: 1.11502\ttraining's macroF1: 0.550964\tvalid_1's multi_logloss: 1.1411\tvalid_1's macroF1: 0.37313\n",
      "Early stopping, best iteration is:\n",
      "[111]\ttraining's multi_logloss: 1.29554\ttraining's macroF1: 0.504182\tvalid_1's multi_logloss: 1.29028\tvalid_1's macroF1: 0.390227\n",
      "******************** Execution ended in 00h 00m 30.84s ********************\n",
      "============================== 3 of 5 folds ==============================\n",
      "Training until validation scores don't improve for 500 rounds.\n",
      "[500]\ttraining's multi_logloss: 1.1116\ttraining's macroF1: 0.558426\tvalid_1's multi_logloss: 1.10985\tvalid_1's macroF1: 0.412323\n",
      "[1000]\ttraining's multi_logloss: 0.99325\ttraining's macroF1: 0.60369\tvalid_1's multi_logloss: 1.05112\tvalid_1's macroF1: 0.420128\n",
      "Early stopping, best iteration is:\n",
      "[938]\ttraining's multi_logloss: 1.00475\ttraining's macroF1: 0.597078\tvalid_1's multi_logloss: 1.05506\tvalid_1's macroF1: 0.423926\n",
      "******************** Execution ended in 00h 01m 13.84s ********************\n",
      "============================== 4 of 5 folds ==============================\n",
      "Training until validation scores don't improve for 500 rounds.\n",
      "[500]\ttraining's multi_logloss: 1.12692\ttraining's macroF1: 0.555206\tvalid_1's multi_logloss: 1.11367\tvalid_1's macroF1: 0.397537\n",
      "Early stopping, best iteration is:\n",
      "[285]\ttraining's multi_logloss: 1.20772\ttraining's macroF1: 0.521734\tvalid_1's multi_logloss: 1.18411\tvalid_1's macroF1: 0.408667\n",
      "******************** Execution ended in 00h 00m 39.81s ********************\n",
      "============================== 5 of 5 folds ==============================\n",
      "Training until validation scores don't improve for 500 rounds.\n",
      "[500]\ttraining's multi_logloss: 1.11754\ttraining's macroF1: 0.551218\tvalid_1's multi_logloss: 1.10194\tvalid_1's macroF1: 0.411145\n",
      "Early stopping, best iteration is:\n",
      "[44]\ttraining's multi_logloss: 1.34662\ttraining's macroF1: 0.492833\tvalid_1's multi_logloss: 1.33712\tvalid_1's macroF1: 0.415093\n",
      "******************** Execution ended in 00h 00m 26.95s ********************\n",
      "######################################## 36 of 50 iterations ########################################\n",
      "============================== 1 of 5 folds ==============================\n",
      "Training until validation scores don't improve for 500 rounds.\n",
      "[500]\ttraining's multi_logloss: 0.594738\ttraining's macroF1: 0.802879\tvalid_1's multi_logloss: 0.955162\tvalid_1's macroF1: 0.411936\n",
      "Early stopping, best iteration is:\n",
      "[178]\ttraining's multi_logloss: 0.907338\ttraining's macroF1: 0.713464\tvalid_1's multi_logloss: 1.03527\tvalid_1's macroF1: 0.433103\n",
      "******************** Execution ended in 00h 01m 08.64s ********************\n",
      "============================== 2 of 5 folds ==============================\n",
      "Training until validation scores don't improve for 500 rounds.\n",
      "[500]\ttraining's multi_logloss: 0.591779\ttraining's macroF1: 0.80527\tvalid_1's multi_logloss: 1.03648\tvalid_1's macroF1: 0.387512\n",
      "[1000]\ttraining's multi_logloss: 0.413517\ttraining's macroF1: 0.865685\tvalid_1's multi_logloss: 1.0168\tvalid_1's macroF1: 0.377673\n",
      "Early stopping, best iteration is:\n",
      "[943]\ttraining's multi_logloss: 0.426294\ttraining's macroF1: 0.863753\tvalid_1's multi_logloss: 1.01865\tvalid_1's macroF1: 0.398903\n",
      "******************** Execution ended in 00h 02m 29.20s ********************\n",
      "============================== 3 of 5 folds ==============================\n",
      "Training until validation scores don't improve for 500 rounds.\n",
      "[500]\ttraining's multi_logloss: 0.582462\ttraining's macroF1: 0.817363\tvalid_1's multi_logloss: 0.975324\tvalid_1's macroF1: 0.382348\n",
      "[1000]\ttraining's multi_logloss: 0.406282\ttraining's macroF1: 0.866316\tvalid_1's multi_logloss: 0.972768\tvalid_1's macroF1: 0.386858\n",
      "Early stopping, best iteration is:\n",
      "[639]\ttraining's multi_logloss: 0.513666\ttraining's macroF1: 0.837524\tvalid_1's multi_logloss: 0.971406\tvalid_1's macroF1: 0.395855\n",
      "******************** Execution ended in 00h 01m 57.08s ********************\n",
      "============================== 4 of 5 folds ==============================\n",
      "Training until validation scores don't improve for 500 rounds.\n",
      "[500]\ttraining's multi_logloss: 0.604397\ttraining's macroF1: 0.800887\tvalid_1's multi_logloss: 0.953704\tvalid_1's macroF1: 0.408685\n",
      "Early stopping, best iteration is:\n",
      "[449]\ttraining's multi_logloss: 0.63664\ttraining's macroF1: 0.784531\tvalid_1's multi_logloss: 0.961957\tvalid_1's macroF1: 0.424926\n",
      "******************** Execution ended in 00h 01m 38.29s ********************\n",
      "============================== 5 of 5 folds ==============================\n",
      "Training until validation scores don't improve for 500 rounds.\n",
      "[500]\ttraining's multi_logloss: 0.59178\ttraining's macroF1: 0.803338\tvalid_1's multi_logloss: 1.01139\tvalid_1's macroF1: 0.408832\n",
      "[1000]\ttraining's multi_logloss: 0.414392\ttraining's macroF1: 0.86242\tvalid_1's multi_logloss: 0.986926\tvalid_1's macroF1: 0.438745\n",
      "[1500]\ttraining's multi_logloss: 0.339732\ttraining's macroF1: 0.886646\tvalid_1's multi_logloss: 0.979916\tvalid_1's macroF1: 0.426275\n",
      "Early stopping, best iteration is:\n",
      "[1145]\ttraining's multi_logloss: 0.387347\ttraining's macroF1: 0.869148\tvalid_1's multi_logloss: 0.984027\tvalid_1's macroF1: 0.443808\n",
      "******************** Execution ended in 00h 02m 40.09s ********************\n",
      "######################################## 37 of 50 iterations ########################################\n",
      "============================== 1 of 5 folds ==============================\n",
      "Training until validation scores don't improve for 500 rounds.\n",
      "[500]\ttraining's multi_logloss: 1.2577\ttraining's macroF1: 0.488215\tvalid_1's multi_logloss: 1.2345\tvalid_1's macroF1: 0.374227\n",
      "Early stopping, best iteration is:\n",
      "[7]\ttraining's multi_logloss: 1.38388\ttraining's macroF1: 0.447279\tvalid_1's multi_logloss: 1.38309\tvalid_1's macroF1: 0.388279\n",
      "******************** Execution ended in 00h 00m 35.23s ********************\n",
      "============================== 2 of 5 folds ==============================\n",
      "Training until validation scores don't improve for 500 rounds.\n",
      "[500]\ttraining's multi_logloss: 1.25996\ttraining's macroF1: 0.480892\tvalid_1's multi_logloss: 1.24163\tvalid_1's macroF1: 0.390542\n",
      "Early stopping, best iteration is:\n",
      "[51]\ttraining's multi_logloss: 1.36978\ttraining's macroF1: 0.462242\tvalid_1's multi_logloss: 1.36549\tvalid_1's macroF1: 0.410506\n",
      "******************** Execution ended in 00h 00m 40.25s ********************\n",
      "============================== 3 of 5 folds ==============================\n",
      "Training until validation scores don't improve for 500 rounds.\n",
      "[500]\ttraining's multi_logloss: 1.25776\ttraining's macroF1: 0.491685\tvalid_1's multi_logloss: 1.23015\tvalid_1's macroF1: 0.391796\n",
      "[1000]\ttraining's multi_logloss: 1.1749\ttraining's macroF1: 0.514329\tvalid_1's multi_logloss: 1.15178\tvalid_1's macroF1: 0.390986\n",
      "Early stopping, best iteration is:\n",
      "[751]\ttraining's multi_logloss: 1.21168\ttraining's macroF1: 0.50341\tvalid_1's multi_logloss: 1.18475\tvalid_1's macroF1: 0.402807\n",
      "******************** Execution ended in 00h 01m 35.28s ********************\n",
      "============================== 4 of 5 folds ==============================\n",
      "Training until validation scores don't improve for 500 rounds.\n",
      "[500]\ttraining's multi_logloss: 1.26241\ttraining's macroF1: 0.494631\tvalid_1's multi_logloss: 1.23409\tvalid_1's macroF1: 0.412751\n",
      "Early stopping, best iteration is:\n",
      "[402]\ttraining's multi_logloss: 1.28258\ttraining's macroF1: 0.484972\tvalid_1's multi_logloss: 1.25643\tvalid_1's macroF1: 0.428322\n",
      "******************** Execution ended in 00h 01m 05.95s ********************\n",
      "============================== 5 of 5 folds ==============================\n",
      "Training until validation scores don't improve for 500 rounds.\n",
      "[500]\ttraining's multi_logloss: 1.2558\ttraining's macroF1: 0.517966\tvalid_1's multi_logloss: 1.24026\tvalid_1's macroF1: 0.379645\n",
      "Early stopping, best iteration is:\n",
      "[16]\ttraining's multi_logloss: 1.38082\ttraining's macroF1: 0.470095\tvalid_1's multi_logloss: 1.37941\tvalid_1's macroF1: 0.3966\n",
      "******************** Execution ended in 00h 00m 37.38s ********************\n",
      "######################################## 38 of 50 iterations ########################################\n",
      "============================== 1 of 5 folds ==============================\n",
      "Training until validation scores don't improve for 500 rounds.\n",
      "[500]\ttraining's multi_logloss: 1.14074\ttraining's macroF1: 0.516031\tvalid_1's multi_logloss: 1.12059\tvalid_1's macroF1: 0.392192\n",
      "[1000]\ttraining's multi_logloss: 1.03391\ttraining's macroF1: 0.548701\tvalid_1's multi_logloss: 1.05962\tvalid_1's macroF1: 0.402237\n",
      "Early stopping, best iteration is:\n",
      "[978]\ttraining's multi_logloss: 1.0376\ttraining's macroF1: 0.544943\tvalid_1's multi_logloss: 1.06128\tvalid_1's macroF1: 0.409218\n",
      "******************** Execution ended in 00h 01m 27.50s ********************\n",
      "============================== 2 of 5 folds ==============================\n",
      "Training until validation scores don't improve for 500 rounds.\n",
      "[500]\ttraining's multi_logloss: 1.13431\ttraining's macroF1: 0.533157\tvalid_1's multi_logloss: 1.13219\tvalid_1's macroF1: 0.383539\n",
      "[1000]\ttraining's multi_logloss: 1.02554\ttraining's macroF1: 0.564812\tvalid_1's multi_logloss: 1.07394\tvalid_1's macroF1: 0.395119\n",
      "[1500]\ttraining's multi_logloss: 0.958499\ttraining's macroF1: 0.587929\tvalid_1's multi_logloss: 1.06045\tvalid_1's macroF1: 0.398654\n",
      "Early stopping, best iteration is:\n",
      "[1293]\ttraining's multi_logloss: 0.983309\ttraining's macroF1: 0.579312\tvalid_1's multi_logloss: 1.06314\tvalid_1's macroF1: 0.404405\n",
      "******************** Execution ended in 00h 01m 43.33s ********************\n",
      "============================== 3 of 5 folds ==============================\n",
      "Training until validation scores don't improve for 500 rounds.\n",
      "[500]\ttraining's multi_logloss: 1.14383\ttraining's macroF1: 0.52709\tvalid_1's multi_logloss: 1.12558\tvalid_1's macroF1: 0.404605\n",
      "Early stopping, best iteration is:\n",
      "[390]\ttraining's multi_logloss: 1.17823\ttraining's macroF1: 0.518382\tvalid_1's multi_logloss: 1.15295\tvalid_1's macroF1: 0.414989\n",
      "******************** Execution ended in 00h 00m 49.31s ********************\n",
      "============================== 4 of 5 folds ==============================\n",
      "Training until validation scores don't improve for 500 rounds.\n",
      "[500]\ttraining's multi_logloss: 1.14268\ttraining's macroF1: 0.531082\tvalid_1's multi_logloss: 1.10133\tvalid_1's macroF1: 0.398754\n",
      "Early stopping, best iteration is:\n",
      "[27]\ttraining's multi_logloss: 1.36433\ttraining's macroF1: 0.45498\tvalid_1's multi_logloss: 1.35415\tvalid_1's macroF1: 0.426706\n",
      "******************** Execution ended in 00h 00m 29.24s ********************\n",
      "============================== 5 of 5 folds ==============================\n",
      "Training until validation scores don't improve for 500 rounds.\n",
      "[500]\ttraining's multi_logloss: 1.14384\ttraining's macroF1: 0.533249\tvalid_1's multi_logloss: 1.12562\tvalid_1's macroF1: 0.414502\n",
      "[1000]\ttraining's multi_logloss: 1.03884\ttraining's macroF1: 0.564221\tvalid_1's multi_logloss: 1.06224\tvalid_1's macroF1: 0.407688\n",
      "Early stopping, best iteration is:\n",
      "[527]\ttraining's multi_logloss: 1.13625\ttraining's macroF1: 0.535358\tvalid_1's multi_logloss: 1.12004\tvalid_1's macroF1: 0.416617\n",
      "******************** Execution ended in 00h 00m 57.38s ********************\n",
      "######################################## 39 of 50 iterations ########################################\n",
      "============================== 1 of 5 folds ==============================\n",
      "Training until validation scores don't improve for 500 rounds.\n",
      "[500]\ttraining's multi_logloss: 1.11294\ttraining's macroF1: 0.484685\tvalid_1's multi_logloss: 1.08443\tvalid_1's macroF1: 0.412734\n",
      "Early stopping, best iteration is:\n",
      "[260]\ttraining's multi_logloss: 1.17315\ttraining's macroF1: 0.475675\tvalid_1's multi_logloss: 1.12432\tvalid_1's macroF1: 0.427565\n",
      "******************** Execution ended in 00h 00m 21.88s ********************\n",
      "============================== 2 of 5 folds ==============================\n",
      "Training until validation scores don't improve for 500 rounds.\n",
      "[500]\ttraining's multi_logloss: 1.10516\ttraining's macroF1: 0.484149\tvalid_1's multi_logloss: 1.06738\tvalid_1's macroF1: 0.389824\n",
      "Early stopping, best iteration is:\n",
      "[441]\ttraining's multi_logloss: 1.11608\ttraining's macroF1: 0.485254\tvalid_1's multi_logloss: 1.07286\tvalid_1's macroF1: 0.39981\n",
      "******************** Execution ended in 00h 00m 26.72s ********************\n",
      "============================== 3 of 5 folds ==============================\n",
      "Training until validation scores don't improve for 500 rounds.\n",
      "[500]\ttraining's multi_logloss: 1.1143\ttraining's macroF1: 0.481821\tvalid_1's multi_logloss: 1.07888\tvalid_1's macroF1: 0.401004\n",
      "Early stopping, best iteration is:\n",
      "[335]\ttraining's multi_logloss: 1.15022\ttraining's macroF1: 0.475125\tvalid_1's multi_logloss: 1.09236\tvalid_1's macroF1: 0.419557\n",
      "******************** Execution ended in 00h 00m 24.04s ********************\n",
      "============================== 4 of 5 folds ==============================\n",
      "Training until validation scores don't improve for 500 rounds.\n",
      "[500]\ttraining's multi_logloss: 1.10833\ttraining's macroF1: 0.483019\tvalid_1's multi_logloss: 1.09362\tvalid_1's macroF1: 0.394489\n",
      "[1000]\ttraining's multi_logloss: 1.04626\ttraining's macroF1: 0.517864\tvalid_1's multi_logloss: 1.08117\tvalid_1's macroF1: 0.402033\n",
      "Early stopping, best iteration is:\n",
      "[992]\ttraining's multi_logloss: 1.04705\ttraining's macroF1: 0.514815\tvalid_1's multi_logloss: 1.08122\tvalid_1's macroF1: 0.405579\n",
      "******************** Execution ended in 00h 00m 42.15s ********************\n",
      "============================== 5 of 5 folds ==============================\n",
      "Training until validation scores don't improve for 500 rounds.\n",
      "[500]\ttraining's multi_logloss: 1.113\ttraining's macroF1: 0.482034\tvalid_1's multi_logloss: 1.1112\tvalid_1's macroF1: 0.393716\n",
      "Early stopping, best iteration is:\n",
      "[10]\ttraining's multi_logloss: 1.37023\ttraining's macroF1: 0.412393\tvalid_1's multi_logloss: 1.36237\tvalid_1's macroF1: 0.402828\n",
      "******************** Execution ended in 00h 00m 15.02s ********************\n",
      "######################################## 40 of 50 iterations ########################################\n",
      "============================== 1 of 5 folds ==============================\n",
      "Training until validation scores don't improve for 500 rounds.\n",
      "[500]\ttraining's multi_logloss: 1.04014\ttraining's macroF1: 0.520467\tvalid_1's multi_logloss: 1.02889\tvalid_1's macroF1: 0.426815\n",
      "Early stopping, best iteration is:\n",
      "[373]\ttraining's multi_logloss: 1.07351\ttraining's macroF1: 0.506163\tvalid_1's multi_logloss: 1.0348\tvalid_1's macroF1: 0.43991\n",
      "******************** Execution ended in 00h 00m 39.45s ********************\n",
      "============================== 2 of 5 folds ==============================\n",
      "Training until validation scores don't improve for 500 rounds.\n",
      "[500]\ttraining's multi_logloss: 1.03129\ttraining's macroF1: 0.535138\tvalid_1's multi_logloss: 1.05016\tvalid_1's macroF1: 0.416594\n",
      "[1000]\ttraining's multi_logloss: 0.946173\ttraining's macroF1: 0.576429\tvalid_1's multi_logloss: 1.04836\tvalid_1's macroF1: 0.425101\n",
      "Early stopping, best iteration is:\n",
      "[890]\ttraining's multi_logloss: 0.961534\ttraining's macroF1: 0.56605\tvalid_1's multi_logloss: 1.05001\tvalid_1's macroF1: 0.433966\n",
      "******************** Execution ended in 00h 00m 57.00s ********************\n",
      "============================== 3 of 5 folds ==============================\n",
      "Training until validation scores don't improve for 500 rounds.\n",
      "[500]\ttraining's multi_logloss: 1.02408\ttraining's macroF1: 0.532041\tvalid_1's multi_logloss: 1.1079\tvalid_1's macroF1: 0.38635\n",
      "Early stopping, best iteration is:\n",
      "[259]\ttraining's multi_logloss: 1.09935\ttraining's macroF1: 0.4964\tvalid_1's multi_logloss: 1.12086\tvalid_1's macroF1: 0.397631\n",
      "******************** Execution ended in 00h 00m 31.36s ********************\n",
      "============================== 4 of 5 folds ==============================\n",
      "Training until validation scores don't improve for 500 rounds.\n",
      "[500]\ttraining's multi_logloss: 1.02369\ttraining's macroF1: 0.532613\tvalid_1's multi_logloss: 1.05888\tvalid_1's macroF1: 0.39882\n",
      "Early stopping, best iteration is:\n",
      "[5]\ttraining's multi_logloss: 1.37137\ttraining's macroF1: 0.416943\tvalid_1's multi_logloss: 1.36531\tvalid_1's macroF1: 0.410584\n",
      "******************** Execution ended in 00h 00m 21.11s ********************\n",
      "============================== 5 of 5 folds ==============================\n",
      "Training until validation scores don't improve for 500 rounds.\n",
      "[500]\ttraining's multi_logloss: 1.02547\ttraining's macroF1: 0.533093\tvalid_1's multi_logloss: 1.08358\tvalid_1's macroF1: 0.388974\n",
      "Early stopping, best iteration is:\n",
      "[104]\ttraining's multi_logloss: 1.19854\ttraining's macroF1: 0.473315\tvalid_1's multi_logloss: 1.16579\tvalid_1's macroF1: 0.405119\n",
      "******************** Execution ended in 00h 00m 25.32s ********************\n",
      "######################################## 41 of 50 iterations ########################################\n",
      "============================== 1 of 5 folds ==============================\n",
      "Training until validation scores don't improve for 500 rounds.\n",
      "[500]\ttraining's multi_logloss: 1.23509\ttraining's macroF1: 0.503037\tvalid_1's multi_logloss: 1.20367\tvalid_1's macroF1: 0.392491\n",
      "Early stopping, best iteration is:\n",
      "[54]\ttraining's multi_logloss: 1.36366\ttraining's macroF1: 0.470994\tvalid_1's multi_logloss: 1.3557\tvalid_1's macroF1: 0.414576\n",
      "******************** Execution ended in 00h 00m 25.78s ********************\n",
      "============================== 2 of 5 folds ==============================\n",
      "Training until validation scores don't improve for 500 rounds.\n",
      "[500]\ttraining's multi_logloss: 1.23808\ttraining's macroF1: 0.47522\tvalid_1's multi_logloss: 1.19177\tvalid_1's macroF1: 0.390301\n",
      "Early stopping, best iteration is:\n",
      "[23]\ttraining's multi_logloss: 1.37648\ttraining's macroF1: 0.448003\tvalid_1's multi_logloss: 1.37203\tvalid_1's macroF1: 0.396884\n",
      "******************** Execution ended in 00h 00m 23.78s ********************\n",
      "============================== 3 of 5 folds ==============================\n",
      "Training until validation scores don't improve for 500 rounds.\n",
      "[500]\ttraining's multi_logloss: 1.2318\ttraining's macroF1: 0.499995\tvalid_1's multi_logloss: 1.20854\tvalid_1's macroF1: 0.363396\n",
      "Early stopping, best iteration is:\n",
      "[1]\ttraining's multi_logloss: 1.38584\ttraining's macroF1: 0.417351\tvalid_1's multi_logloss: 1.38565\tvalid_1's macroF1: 0.382147\n",
      "******************** Execution ended in 00h 00m 22.49s ********************\n",
      "============================== 4 of 5 folds ==============================\n",
      "Training until validation scores don't improve for 500 rounds.\n",
      "[500]\ttraining's multi_logloss: 1.23005\ttraining's macroF1: 0.482272\tvalid_1's multi_logloss: 1.2131\tvalid_1's macroF1: 0.368922\n",
      "Early stopping, best iteration is:\n",
      "[165]\ttraining's multi_logloss: 1.32168\ttraining's macroF1: 0.465481\tvalid_1's multi_logloss: 1.3094\tvalid_1's macroF1: 0.389235\n",
      "******************** Execution ended in 00h 00m 29.59s ********************\n",
      "============================== 5 of 5 folds ==============================\n",
      "Training until validation scores don't improve for 500 rounds.\n",
      "[500]\ttraining's multi_logloss: 1.23676\ttraining's macroF1: 0.497106\tvalid_1's multi_logloss: 1.18902\tvalid_1's macroF1: 0.401446\n",
      "Early stopping, best iteration is:\n",
      "[165]\ttraining's multi_logloss: 1.32543\ttraining's macroF1: 0.473608\tvalid_1's multi_logloss: 1.29781\tvalid_1's macroF1: 0.428447\n",
      "******************** Execution ended in 00h 00m 29.77s ********************\n",
      "######################################## 42 of 50 iterations ########################################\n",
      "============================== 1 of 5 folds ==============================\n",
      "Training until validation scores don't improve for 500 rounds.\n",
      "[500]\ttraining's multi_logloss: 0.889546\ttraining's macroF1: 0.652826\tvalid_1's multi_logloss: 1.0798\tvalid_1's macroF1: 0.383314\n",
      "Early stopping, best iteration is:\n",
      "[32]\ttraining's multi_logloss: 1.3063\ttraining's macroF1: 0.531342\tvalid_1's multi_logloss: 1.309\tvalid_1's macroF1: 0.385634\n",
      "******************** Execution ended in 00h 00m 42.10s ********************\n",
      "============================== 2 of 5 folds ==============================\n",
      "Training until validation scores don't improve for 500 rounds.\n",
      "[500]\ttraining's multi_logloss: 0.896787\ttraining's macroF1: 0.647364\tvalid_1's multi_logloss: 1.01983\tvalid_1's macroF1: 0.438611\n",
      "[1000]\ttraining's multi_logloss: 0.741668\ttraining's macroF1: 0.71529\tvalid_1's multi_logloss: 0.992336\tvalid_1's macroF1: 0.444097\n",
      "Early stopping, best iteration is:\n",
      "[780]\ttraining's multi_logloss: 0.801303\ttraining's macroF1: 0.681928\tvalid_1's multi_logloss: 1.00041\tvalid_1's macroF1: 0.457308\n",
      "******************** Execution ended in 00h 01m 40.72s ********************\n",
      "============================== 3 of 5 folds ==============================\n",
      "Training until validation scores don't improve for 500 rounds.\n",
      "[500]\ttraining's multi_logloss: 0.907669\ttraining's macroF1: 0.629332\tvalid_1's multi_logloss: 0.974822\tvalid_1's macroF1: 0.448167\n",
      "[1000]\ttraining's multi_logloss: 0.746819\ttraining's macroF1: 0.697101\tvalid_1's multi_logloss: 0.942006\tvalid_1's macroF1: 0.450647\n",
      "[1500]\ttraining's multi_logloss: 0.638433\ttraining's macroF1: 0.752848\tvalid_1's multi_logloss: 0.930953\tvalid_1's macroF1: 0.467112\n",
      "[2000]\ttraining's multi_logloss: 0.560742\ttraining's macroF1: 0.789906\tvalid_1's multi_logloss: 0.923515\tvalid_1's macroF1: 0.472055\n",
      "[2500]\ttraining's multi_logloss: 0.501909\ttraining's macroF1: 0.815554\tvalid_1's multi_logloss: 0.920454\tvalid_1's macroF1: 0.483169\n",
      "Early stopping, best iteration is:\n",
      "[2249]\ttraining's multi_logloss: 0.529697\ttraining's macroF1: 0.801963\tvalid_1's multi_logloss: 0.922251\tvalid_1's macroF1: 0.486116\n",
      "******************** Execution ended in 00h 03m 27.72s ********************\n",
      "============================== 4 of 5 folds ==============================\n",
      "Training until validation scores don't improve for 500 rounds.\n",
      "[500]\ttraining's multi_logloss: 0.898249\ttraining's macroF1: 0.649344\tvalid_1's multi_logloss: 1.04874\tvalid_1's macroF1: 0.422564\n",
      "Early stopping, best iteration is:\n",
      "[397]\ttraining's multi_logloss: 0.944895\ttraining's macroF1: 0.631595\tvalid_1's multi_logloss: 1.06135\tvalid_1's macroF1: 0.437156\n",
      "******************** Execution ended in 00h 01m 13.37s ********************\n",
      "============================== 5 of 5 folds ==============================\n",
      "Training until validation scores don't improve for 500 rounds.\n",
      "[500]\ttraining's multi_logloss: 0.898129\ttraining's macroF1: 0.639093\tvalid_1's multi_logloss: 1.03037\tvalid_1's macroF1: 0.413664\n",
      "Early stopping, best iteration is:\n",
      "[121]\ttraining's multi_logloss: 1.16143\ttraining's macroF1: 0.554013\tvalid_1's multi_logloss: 1.16101\tvalid_1's macroF1: 0.427538\n",
      "******************** Execution ended in 00h 00m 51.84s ********************\n",
      "######################################## 43 of 50 iterations ########################################\n",
      "============================== 1 of 5 folds ==============================\n",
      "Training until validation scores don't improve for 500 rounds.\n",
      "[500]\ttraining's multi_logloss: 1.11196\ttraining's macroF1: 0.504259\tvalid_1's multi_logloss: 1.0803\tvalid_1's macroF1: 0.389258\n",
      "[1000]\ttraining's multi_logloss: 1.03571\ttraining's macroF1: 0.524563\tvalid_1's multi_logloss: 1.05815\tvalid_1's macroF1: 0.382977\n",
      "Early stopping, best iteration is:\n",
      "[877]\ttraining's multi_logloss: 1.04996\ttraining's macroF1: 0.519737\tvalid_1's multi_logloss: 1.0593\tvalid_1's macroF1: 0.408931\n",
      "******************** Execution ended in 00h 00m 48.36s ********************\n",
      "============================== 2 of 5 folds ==============================\n",
      "Training until validation scores don't improve for 500 rounds.\n",
      "[500]\ttraining's multi_logloss: 1.12878\ttraining's macroF1: 0.493121\tvalid_1's multi_logloss: 1.09028\tvalid_1's macroF1: 0.409471\n",
      "[1000]\ttraining's multi_logloss: 1.05606\ttraining's macroF1: 0.519611\tvalid_1's multi_logloss: 1.05386\tvalid_1's macroF1: 0.419115\n",
      "Early stopping, best iteration is:\n",
      "[979]\ttraining's multi_logloss: 1.0583\ttraining's macroF1: 0.520011\tvalid_1's multi_logloss: 1.05508\tvalid_1's macroF1: 0.420111\n",
      "******************** Execution ended in 00h 00m 51.35s ********************\n",
      "============================== 3 of 5 folds ==============================\n",
      "Training until validation scores don't improve for 500 rounds.\n",
      "[500]\ttraining's multi_logloss: 1.12305\ttraining's macroF1: 0.490997\tvalid_1's multi_logloss: 1.06293\tvalid_1's macroF1: 0.465243\n",
      "Early stopping, best iteration is:\n",
      "[384]\ttraining's multi_logloss: 1.15304\ttraining's macroF1: 0.475243\tvalid_1's multi_logloss: 1.08284\tvalid_1's macroF1: 0.467708\n",
      "******************** Execution ended in 00h 00m 31.41s ********************\n",
      "============================== 4 of 5 folds ==============================\n",
      "Training until validation scores don't improve for 500 rounds.\n",
      "[500]\ttraining's multi_logloss: 1.12727\ttraining's macroF1: 0.499517\tvalid_1's multi_logloss: 1.11572\tvalid_1's macroF1: 0.361759\n",
      "Early stopping, best iteration is:\n",
      "[60]\ttraining's multi_logloss: 1.31666\ttraining's macroF1: 0.453537\tvalid_1's multi_logloss: 1.29174\tvalid_1's macroF1: 0.380608\n",
      "******************** Execution ended in 00h 00m 20.51s ********************\n",
      "============================== 5 of 5 folds ==============================\n",
      "Training until validation scores don't improve for 500 rounds.\n",
      "[500]\ttraining's multi_logloss: 1.11776\ttraining's macroF1: 0.486488\tvalid_1's multi_logloss: 1.12242\tvalid_1's macroF1: 0.391126\n",
      "[1000]\ttraining's multi_logloss: 1.04245\ttraining's macroF1: 0.524056\tvalid_1's multi_logloss: 1.10541\tvalid_1's macroF1: 0.408292\n",
      "[1500]\ttraining's multi_logloss: 0.995414\ttraining's macroF1: 0.551524\tvalid_1's multi_logloss: 1.10192\tvalid_1's macroF1: 0.416645\n",
      "[2000]\ttraining's multi_logloss: 0.959362\ttraining's macroF1: 0.563075\tvalid_1's multi_logloss: 1.10111\tvalid_1's macroF1: 0.411329\n",
      "Early stopping, best iteration is:\n",
      "[1572]\ttraining's multi_logloss: 0.989864\ttraining's macroF1: 0.552538\tvalid_1's multi_logloss: 1.10227\tvalid_1's macroF1: 0.42512\n",
      "******************** Execution ended in 00h 01m 13.23s ********************\n",
      "######################################## 44 of 50 iterations ########################################\n",
      "============================== 1 of 5 folds ==============================\n",
      "Training until validation scores don't improve for 500 rounds.\n",
      "[500]\ttraining's multi_logloss: 0.820078\ttraining's macroF1: 0.665156\tvalid_1's multi_logloss: 1.02735\tvalid_1's macroF1: 0.414773\n",
      "Early stopping, best iteration is:\n",
      "[187]\ttraining's multi_logloss: 1.01082\ttraining's macroF1: 0.572393\tvalid_1's multi_logloss: 1.06414\tvalid_1's macroF1: 0.441662\n",
      "******************** Execution ended in 00h 00m 44.45s ********************\n",
      "============================== 2 of 5 folds ==============================\n",
      "Training until validation scores don't improve for 500 rounds.\n",
      "[500]\ttraining's multi_logloss: 0.80254\ttraining's macroF1: 0.666306\tvalid_1's multi_logloss: 1.04256\tvalid_1's macroF1: 0.388427\n",
      "[1000]\ttraining's multi_logloss: 0.647958\ttraining's macroF1: 0.742893\tvalid_1's multi_logloss: 1.03417\tvalid_1's macroF1: 0.388625\n",
      "Early stopping, best iteration is:\n",
      "[787]\ttraining's multi_logloss: 0.702192\ttraining's macroF1: 0.71535\tvalid_1's multi_logloss: 1.03752\tvalid_1's macroF1: 0.405027\n",
      "******************** Execution ended in 00h 01m 22.27s ********************\n",
      "============================== 3 of 5 folds ==============================\n",
      "Training until validation scores don't improve for 500 rounds.\n",
      "[500]\ttraining's multi_logloss: 0.808003\ttraining's macroF1: 0.678017\tvalid_1's multi_logloss: 1.01835\tvalid_1's macroF1: 0.432496\n",
      "Early stopping, best iteration is:\n",
      "[189]\ttraining's multi_logloss: 1.00249\ttraining's macroF1: 0.584859\tvalid_1's multi_logloss: 1.0591\tvalid_1's macroF1: 0.443377\n",
      "******************** Execution ended in 00h 00m 45.26s ********************\n",
      "============================== 4 of 5 folds ==============================\n",
      "Training until validation scores don't improve for 500 rounds.\n",
      "[500]\ttraining's multi_logloss: 0.822026\ttraining's macroF1: 0.664212\tvalid_1's multi_logloss: 0.983132\tvalid_1's macroF1: 0.422824\n",
      "Early stopping, best iteration is:\n",
      "[131]\ttraining's multi_logloss: 1.07427\ttraining's macroF1: 0.559816\tvalid_1's multi_logloss: 1.07254\tvalid_1's macroF1: 0.442215\n",
      "******************** Execution ended in 00h 00m 40.11s ********************\n",
      "============================== 5 of 5 folds ==============================\n",
      "Training until validation scores don't improve for 500 rounds.\n",
      "[500]\ttraining's multi_logloss: 0.797009\ttraining's macroF1: 0.667564\tvalid_1's multi_logloss: 1.03259\tvalid_1's macroF1: 0.402937\n",
      "Early stopping, best iteration is:\n",
      "[111]\ttraining's multi_logloss: 1.09313\ttraining's macroF1: 0.552966\tvalid_1's multi_logloss: 1.09779\tvalid_1's macroF1: 0.421831\n",
      "******************** Execution ended in 00h 00m 43.89s ********************\n",
      "######################################## 45 of 50 iterations ########################################\n",
      "============================== 1 of 5 folds ==============================\n",
      "Training until validation scores don't improve for 500 rounds.\n",
      "[500]\ttraining's multi_logloss: 1.13046\ttraining's macroF1: 0.542273\tvalid_1's multi_logloss: 1.14415\tvalid_1's macroF1: 0.407926\n",
      "Early stopping, best iteration is:\n",
      "[2]\ttraining's multi_logloss: 1.38451\ttraining's macroF1: 0.444451\tvalid_1's multi_logloss: 1.38406\tvalid_1's macroF1: 0.418685\n",
      "******************** Execution ended in 00h 00m 32.22s ********************\n",
      "============================== 2 of 5 folds ==============================\n",
      "Training until validation scores don't improve for 500 rounds.\n",
      "[500]\ttraining's multi_logloss: 1.1383\ttraining's macroF1: 0.530167\tvalid_1's multi_logloss: 1.11988\tvalid_1's macroF1: 0.41558\n",
      "[1000]\ttraining's multi_logloss: 1.0312\ttraining's macroF1: 0.561026\tvalid_1's multi_logloss: 1.04854\tvalid_1's macroF1: 0.416117\n",
      "Early stopping, best iteration is:\n",
      "[743]\ttraining's multi_logloss: 1.07809\ttraining's macroF1: 0.542512\tvalid_1's multi_logloss: 1.07468\tvalid_1's macroF1: 0.423817\n",
      "******************** Execution ended in 00h 01m 19.51s ********************\n",
      "============================== 3 of 5 folds ==============================\n",
      "Training until validation scores don't improve for 500 rounds.\n",
      "[500]\ttraining's multi_logloss: 1.13462\ttraining's macroF1: 0.527095\tvalid_1's multi_logloss: 1.11482\tvalid_1's macroF1: 0.389953\n",
      "Early stopping, best iteration is:\n",
      "[323]\ttraining's multi_logloss: 1.19679\ttraining's macroF1: 0.508338\tvalid_1's multi_logloss: 1.16876\tvalid_1's macroF1: 0.406442\n",
      "******************** Execution ended in 00h 00m 52.42s ********************\n",
      "============================== 4 of 5 folds ==============================\n",
      "Training until validation scores don't improve for 500 rounds.\n",
      "[500]\ttraining's multi_logloss: 1.13123\ttraining's macroF1: 0.539203\tvalid_1's multi_logloss: 1.12962\tvalid_1's macroF1: 0.377098\n",
      "[1000]\ttraining's multi_logloss: 1.02152\ttraining's macroF1: 0.572134\tvalid_1's multi_logloss: 1.0657\tvalid_1's macroF1: 0.386884\n",
      "[1500]\ttraining's multi_logloss: 0.953087\ttraining's macroF1: 0.594816\tvalid_1's multi_logloss: 1.04669\tvalid_1's macroF1: 0.392709\n",
      "Early stopping, best iteration is:\n",
      "[1469]\ttraining's multi_logloss: 0.956754\ttraining's macroF1: 0.593971\tvalid_1's multi_logloss: 1.0474\tvalid_1's macroF1: 0.399109\n",
      "******************** Execution ended in 00h 02m 02.05s ********************\n",
      "============================== 5 of 5 folds ==============================\n",
      "Training until validation scores don't improve for 500 rounds.\n",
      "[500]\ttraining's multi_logloss: 1.14035\ttraining's macroF1: 0.530468\tvalid_1's multi_logloss: 1.13482\tvalid_1's macroF1: 0.391258\n",
      "[1000]\ttraining's multi_logloss: 1.02942\ttraining's macroF1: 0.558691\tvalid_1's multi_logloss: 1.06955\tvalid_1's macroF1: 0.397508\n",
      "[1500]\ttraining's multi_logloss: 0.960629\ttraining's macroF1: 0.590336\tvalid_1's multi_logloss: 1.04884\tvalid_1's macroF1: 0.423985\n",
      "[2000]\ttraining's multi_logloss: 0.909239\ttraining's macroF1: 0.610841\tvalid_1's multi_logloss: 1.04082\tvalid_1's macroF1: 0.424011\n",
      "Early stopping, best iteration is:\n",
      "[1665]\ttraining's multi_logloss: 0.942381\ttraining's macroF1: 0.597739\tvalid_1's multi_logloss: 1.04549\tvalid_1's macroF1: 0.42744\n",
      "******************** Execution ended in 00h 02m 12.88s ********************\n",
      "######################################## 46 of 50 iterations ########################################\n",
      "============================== 1 of 5 folds ==============================\n",
      "Training until validation scores don't improve for 500 rounds.\n",
      "[500]\ttraining's multi_logloss: 1.23944\ttraining's macroF1: 0.466684\tvalid_1's multi_logloss: 1.1629\tvalid_1's macroF1: 0.438267\n",
      "Early stopping, best iteration is:\n",
      "[39]\ttraining's multi_logloss: 1.37005\ttraining's macroF1: 0.437431\tvalid_1's multi_logloss: 1.35939\tvalid_1's macroF1: 0.442367\n",
      "******************** Execution ended in 00h 00m 26.36s ********************\n",
      "============================== 2 of 5 folds ==============================\n",
      "Training until validation scores don't improve for 500 rounds.\n",
      "[500]\ttraining's multi_logloss: 1.2395\ttraining's macroF1: 0.473864\tvalid_1's multi_logloss: 1.18588\tvalid_1's macroF1: 0.419919\n",
      "Early stopping, best iteration is:\n",
      "[58]\ttraining's multi_logloss: 1.3622\ttraining's macroF1: 0.440625\tvalid_1's multi_logloss: 1.3493\tvalid_1's macroF1: 0.42835\n",
      "******************** Execution ended in 00h 00m 26.33s ********************\n",
      "============================== 3 of 5 folds ==============================\n",
      "Training until validation scores don't improve for 500 rounds.\n",
      "[500]\ttraining's multi_logloss: 1.23113\ttraining's macroF1: 0.472421\tvalid_1's multi_logloss: 1.19936\tvalid_1's macroF1: 0.379946\n",
      "Early stopping, best iteration is:\n",
      "[458]\ttraining's multi_logloss: 1.2402\ttraining's macroF1: 0.471238\tvalid_1's multi_logloss: 1.20833\tvalid_1's macroF1: 0.389444\n",
      "******************** Execution ended in 00h 00m 45.80s ********************\n",
      "============================== 4 of 5 folds ==============================\n",
      "Training until validation scores don't improve for 500 rounds.\n",
      "[500]\ttraining's multi_logloss: 1.23263\ttraining's macroF1: 0.460599\tvalid_1's multi_logloss: 1.20267\tvalid_1's macroF1: 0.369858\n",
      "Early stopping, best iteration is:\n",
      "[362]\ttraining's multi_logloss: 1.26398\ttraining's macroF1: 0.450829\tvalid_1's multi_logloss: 1.23575\tvalid_1's macroF1: 0.380211\n",
      "******************** Execution ended in 00h 00m 42.09s ********************\n",
      "============================== 5 of 5 folds ==============================\n",
      "Training until validation scores don't improve for 500 rounds.\n",
      "[500]\ttraining's multi_logloss: 1.22938\ttraining's macroF1: 0.478254\tvalid_1's multi_logloss: 1.21713\tvalid_1's macroF1: 0.387789\n",
      "Early stopping, best iteration is:\n",
      "[404]\ttraining's multi_logloss: 1.25086\ttraining's macroF1: 0.472834\tvalid_1's multi_logloss: 1.23782\tvalid_1's macroF1: 0.393494\n",
      "******************** Execution ended in 00h 00m 47.69s ********************\n",
      "######################################## 47 of 50 iterations ########################################\n",
      "============================== 1 of 5 folds ==============================\n",
      "Training until validation scores don't improve for 500 rounds.\n",
      "[500]\ttraining's multi_logloss: 1.00031\ttraining's macroF1: 0.626342\tvalid_1's multi_logloss: 1.06127\tvalid_1's macroF1: 0.409881\n",
      "Early stopping, best iteration is:\n",
      "[428]\ttraining's multi_logloss: 1.03115\ttraining's macroF1: 0.616777\tvalid_1's multi_logloss: 1.07478\tvalid_1's macroF1: 0.422387\n",
      "******************** Execution ended in 00h 00m 49.58s ********************\n",
      "============================== 2 of 5 folds ==============================\n",
      "Training until validation scores don't improve for 500 rounds.\n",
      "[500]\ttraining's multi_logloss: 1.00173\ttraining's macroF1: 0.614745\tvalid_1's multi_logloss: 1.0657\tvalid_1's macroF1: 0.419639\n",
      "[1000]\ttraining's multi_logloss: 0.855671\ttraining's macroF1: 0.659258\tvalid_1's multi_logloss: 1.0181\tvalid_1's macroF1: 0.417516\n",
      "[1500]\ttraining's multi_logloss: 0.760623\ttraining's macroF1: 0.703882\tvalid_1's multi_logloss: 1.00042\tvalid_1's macroF1: 0.428468\n",
      "[2000]\ttraining's multi_logloss: 0.689996\ttraining's macroF1: 0.737662\tvalid_1's multi_logloss: 0.991489\tvalid_1's macroF1: 0.423894\n",
      "Early stopping, best iteration is:\n",
      "[1729]\ttraining's multi_logloss: 0.725886\ttraining's macroF1: 0.721141\tvalid_1's multi_logloss: 0.995122\tvalid_1's macroF1: 0.43257\n",
      "******************** Execution ended in 00h 01m 59.01s ********************\n",
      "============================== 3 of 5 folds ==============================\n",
      "Training until validation scores don't improve for 500 rounds.\n",
      "[500]\ttraining's multi_logloss: 1.00725\ttraining's macroF1: 0.618185\tvalid_1's multi_logloss: 1.04318\tvalid_1's macroF1: 0.421554\n",
      "Early stopping, best iteration is:\n",
      "[5]\ttraining's multi_logloss: 1.37856\ttraining's macroF1: 0.484139\tvalid_1's multi_logloss: 1.37578\tvalid_1's macroF1: 0.433348\n",
      "******************** Execution ended in 00h 00m 24.84s ********************\n",
      "============================== 4 of 5 folds ==============================\n",
      "Training until validation scores don't improve for 500 rounds.\n",
      "[500]\ttraining's multi_logloss: 1.0089\ttraining's macroF1: 0.607344\tvalid_1's multi_logloss: 1.04721\tvalid_1's macroF1: 0.405481\n",
      "Early stopping, best iteration is:\n",
      "[71]\ttraining's multi_logloss: 1.2926\ttraining's macroF1: 0.53826\tvalid_1's multi_logloss: 1.27648\tvalid_1's macroF1: 0.422041\n",
      "******************** Execution ended in 00h 00m 28.76s ********************\n",
      "============================== 5 of 5 folds ==============================\n",
      "Training until validation scores don't improve for 500 rounds.\n",
      "[500]\ttraining's multi_logloss: 0.998805\ttraining's macroF1: 0.609789\tvalid_1's multi_logloss: 1.04472\tvalid_1's macroF1: 0.374976\n",
      "Early stopping, best iteration is:\n",
      "[178]\ttraining's multi_logloss: 1.18252\ttraining's macroF1: 0.566823\tvalid_1's multi_logloss: 1.17038\tvalid_1's macroF1: 0.393856\n",
      "******************** Execution ended in 00h 00m 35.03s ********************\n",
      "######################################## 48 of 50 iterations ########################################\n",
      "============================== 1 of 5 folds ==============================\n",
      "Training until validation scores don't improve for 500 rounds.\n",
      "[500]\ttraining's multi_logloss: 0.8071\ttraining's macroF1: 0.662279\tvalid_1's multi_logloss: 1.01148\tvalid_1's macroF1: 0.404122\n",
      "Early stopping, best iteration is:\n",
      "[462]\ttraining's multi_logloss: 0.824204\ttraining's macroF1: 0.656333\tvalid_1's multi_logloss: 1.01275\tvalid_1's macroF1: 0.412464\n",
      "******************** Execution ended in 00h 00m 51.20s ********************\n",
      "============================== 2 of 5 folds ==============================\n",
      "Training until validation scores don't improve for 500 rounds.\n",
      "[500]\ttraining's multi_logloss: 0.799244\ttraining's macroF1: 0.674325\tvalid_1's multi_logloss: 0.971178\tvalid_1's macroF1: 0.448099\n",
      "Early stopping, best iteration is:\n",
      "[283]\ttraining's multi_logloss: 0.918767\ttraining's macroF1: 0.622818\tvalid_1's multi_logloss: 0.989862\tvalid_1's macroF1: 0.474071\n",
      "******************** Execution ended in 00h 00m 41.54s ********************\n",
      "============================== 3 of 5 folds ==============================\n",
      "Training until validation scores don't improve for 500 rounds.\n",
      "[500]\ttraining's multi_logloss: 0.802105\ttraining's macroF1: 0.681719\tvalid_1's multi_logloss: 1.02001\tvalid_1's macroF1: 0.410017\n",
      "Early stopping, best iteration is:\n",
      "[338]\ttraining's multi_logloss: 0.883788\ttraining's macroF1: 0.643205\tvalid_1's multi_logloss: 1.02797\tvalid_1's macroF1: 0.429726\n",
      "******************** Execution ended in 00h 00m 42.93s ********************\n",
      "============================== 4 of 5 folds ==============================\n",
      "Training until validation scores don't improve for 500 rounds.\n",
      "[500]\ttraining's multi_logloss: 0.788106\ttraining's macroF1: 0.676333\tvalid_1's multi_logloss: 1.07599\tvalid_1's macroF1: 0.367092\n",
      "Early stopping, best iteration is:\n",
      "[104]\ttraining's multi_logloss: 1.08921\ttraining's macroF1: 0.559944\tvalid_1's multi_logloss: 1.13602\tvalid_1's macroF1: 0.398403\n",
      "******************** Execution ended in 00h 00m 30.57s ********************\n",
      "============================== 5 of 5 folds ==============================\n",
      "Training until validation scores don't improve for 500 rounds.\n",
      "[500]\ttraining's multi_logloss: 0.794707\ttraining's macroF1: 0.668448\tvalid_1's multi_logloss: 1.04107\tvalid_1's macroF1: 0.392949\n",
      "Early stopping, best iteration is:\n",
      "[173]\ttraining's multi_logloss: 1.00595\ttraining's macroF1: 0.572598\tvalid_1's multi_logloss: 1.07324\tvalid_1's macroF1: 0.409823\n",
      "******************** Execution ended in 00h 00m 34.36s ********************\n",
      "######################################## 49 of 50 iterations ########################################\n",
      "============================== 1 of 5 folds ==============================\n",
      "Training until validation scores don't improve for 500 rounds.\n",
      "[500]\ttraining's multi_logloss: 1.26168\ttraining's macroF1: 0.487832\tvalid_1's multi_logloss: 1.22688\tvalid_1's macroF1: 0.391319\n",
      "Early stopping, best iteration is:\n",
      "[13]\ttraining's multi_logloss: 1.38197\ttraining's macroF1: 0.433916\tvalid_1's multi_logloss: 1.38039\tvalid_1's macroF1: 0.399763\n",
      "******************** Execution ended in 00h 00m 26.78s ********************\n",
      "============================== 2 of 5 folds ==============================\n",
      "Training until validation scores don't improve for 500 rounds.\n",
      "[500]\ttraining's multi_logloss: 1.25725\ttraining's macroF1: 0.49344\tvalid_1's multi_logloss: 1.23395\tvalid_1's macroF1: 0.363941\n",
      "Early stopping, best iteration is:\n",
      "[28]\ttraining's multi_logloss: 1.37696\ttraining's macroF1: 0.46196\tvalid_1's multi_logloss: 1.3748\tvalid_1's macroF1: 0.382518\n",
      "******************** Execution ended in 00h 00m 28.31s ********************\n",
      "============================== 3 of 5 folds ==============================\n",
      "Training until validation scores don't improve for 500 rounds.\n",
      "[500]\ttraining's multi_logloss: 1.25907\ttraining's macroF1: 0.492664\tvalid_1's multi_logloss: 1.23247\tvalid_1's macroF1: 0.384621\n",
      "Early stopping, best iteration is:\n",
      "[16]\ttraining's multi_logloss: 1.38094\ttraining's macroF1: 0.462733\tvalid_1's multi_logloss: 1.37894\tvalid_1's macroF1: 0.417659\n",
      "******************** Execution ended in 00h 00m 27.27s ********************\n",
      "============================== 4 of 5 folds ==============================\n",
      "Training until validation scores don't improve for 500 rounds.\n",
      "[500]\ttraining's multi_logloss: 1.25378\ttraining's macroF1: 0.503521\tvalid_1's multi_logloss: 1.23431\tvalid_1's macroF1: 0.384534\n",
      "Early stopping, best iteration is:\n",
      "[33]\ttraining's multi_logloss: 1.37508\ttraining's macroF1: 0.445598\tvalid_1's multi_logloss: 1.37155\tvalid_1's macroF1: 0.403611\n",
      "******************** Execution ended in 00h 00m 28.30s ********************\n",
      "============================== 5 of 5 folds ==============================\n",
      "Training until validation scores don't improve for 500 rounds.\n",
      "[500]\ttraining's multi_logloss: 1.25653\ttraining's macroF1: 0.492158\tvalid_1's multi_logloss: 1.22414\tvalid_1's macroF1: 0.388131\n",
      "Early stopping, best iteration is:\n",
      "[62]\ttraining's multi_logloss: 1.36623\ttraining's macroF1: 0.462166\tvalid_1's multi_logloss: 1.35954\tvalid_1's macroF1: 0.410976\n",
      "******************** Execution ended in 00h 00m 30.75s ********************\n",
      "######################################## 50 of 50 iterations ########################################\n",
      "============================== 1 of 5 folds ==============================\n",
      "Training until validation scores don't improve for 500 rounds.\n",
      "[500]\ttraining's multi_logloss: 1.20308\ttraining's macroF1: 0.492346\tvalid_1's multi_logloss: 1.13667\tvalid_1's macroF1: 0.439857\n",
      "[1000]\ttraining's multi_logloss: 1.11532\ttraining's macroF1: 0.509183\tvalid_1's multi_logloss: 1.05185\tvalid_1's macroF1: 0.436571\n",
      "Early stopping, best iteration is:\n",
      "[542]\ttraining's multi_logloss: 1.19321\ttraining's macroF1: 0.489722\tvalid_1's multi_logloss: 1.1252\tvalid_1's macroF1: 0.452032\n",
      "******************** Execution ended in 00h 00m 58.62s ********************\n",
      "============================== 2 of 5 folds ==============================\n",
      "Training until validation scores don't improve for 500 rounds.\n",
      "[500]\ttraining's multi_logloss: 1.20211\ttraining's macroF1: 0.502901\tvalid_1's multi_logloss: 1.16359\tvalid_1's macroF1: 0.394206\n",
      "[1000]\ttraining's multi_logloss: 1.11377\ttraining's macroF1: 0.53092\tvalid_1's multi_logloss: 1.09168\tvalid_1's macroF1: 0.40153\n",
      "[1500]\ttraining's multi_logloss: 1.05951\ttraining's macroF1: 0.5409\tvalid_1's multi_logloss: 1.06526\tvalid_1's macroF1: 0.404961\n",
      "Early stopping, best iteration is:\n",
      "[1432]\ttraining's multi_logloss: 1.06584\ttraining's macroF1: 0.539975\tvalid_1's multi_logloss: 1.06719\tvalid_1's macroF1: 0.411713\n",
      "******************** Execution ended in 00h 01m 39.81s ********************\n",
      "============================== 3 of 5 folds ==============================\n",
      "Training until validation scores don't improve for 500 rounds.\n",
      "[500]\ttraining's multi_logloss: 1.19885\ttraining's macroF1: 0.489688\tvalid_1's multi_logloss: 1.14254\tvalid_1's macroF1: 0.412708\n",
      "Early stopping, best iteration is:\n",
      "[136]\ttraining's multi_logloss: 1.31544\ttraining's macroF1: 0.461815\tvalid_1's multi_logloss: 1.28364\tvalid_1's macroF1: 0.422691\n",
      "******************** Execution ended in 00h 00m 32.58s ********************\n",
      "============================== 4 of 5 folds ==============================\n",
      "Training until validation scores don't improve for 500 rounds.\n",
      "[500]\ttraining's multi_logloss: 1.19172\ttraining's macroF1: 0.497777\tvalid_1's multi_logloss: 1.17207\tvalid_1's macroF1: 0.382614\n",
      "Early stopping, best iteration is:\n",
      "[38]\ttraining's multi_logloss: 1.36292\ttraining's macroF1: 0.454936\tvalid_1's multi_logloss: 1.3571\tvalid_1's macroF1: 0.403982\n",
      "******************** Execution ended in 00h 00m 27.01s ********************\n",
      "============================== 5 of 5 folds ==============================\n",
      "Training until validation scores don't improve for 500 rounds.\n",
      "[500]\ttraining's multi_logloss: 1.18896\ttraining's macroF1: 0.498736\tvalid_1's multi_logloss: 1.18409\tvalid_1's macroF1: 0.353528\n",
      "Early stopping, best iteration is:\n",
      "[147]\ttraining's multi_logloss: 1.30661\ttraining's macroF1: 0.47536\tvalid_1's multi_logloss: 1.29646\tvalid_1's macroF1: 0.365157\n",
      "******************** Execution ended in 00h 00m 32.80s ********************\n"
     ]
    }
   ],
   "source": [
    "total_shap_df  = pd.DataFrame()\n",
    "NUM_ITERATIONS = 50\n",
    "for SEED in range(NUM_ITERATIONS):\n",
    "    print('#'*40, '{} of {} iterations'.format(SEED+1, NUM_ITERATIONS), '#' * 40)\n",
    "    params = {'max_depth': np.random.choice([5, 6, 7, 8, 10, 12, -1]),\n",
    "             'learning_rate': np.random.rand() * 0.02,\n",
    "              'colsample_bytree': np.random.rand() * (1 - 0.5) + 0.5,\n",
    "              'subsample': np.random.rand() * (1 - 0.5) + 0.5,\n",
    "              'min_split_gain': np.random.rand() * 0.2,\n",
    "              'num_leaves': np.random.choice([32, 48, 64]),\n",
    "              'reg_alpha': np.random.rand() * 2,\n",
    "              'reg_lambda': np.random.rand() *2,\n",
    "              'bagging_freq': np.random.randint(4) +1,\n",
    "              'min_child_weight': np.random.randint(100) + 20\n",
    "             }\n",
    "    temp_shap_df = extract_good_features_using_shap_LGB(params, SEED)\n",
    "    total_shap_df = pd.concat([total_shap_df, temp_shap_df])"
   ]
  },
  {
   "cell_type": "code",
   "execution_count": 101,
   "metadata": {
    "ExecuteTime": {
     "end_time": "2020-09-17T13:27:08.955432Z",
     "start_time": "2020-09-17T13:27:08.952422Z"
    },
    "colab": {},
    "colab_type": "code",
    "executionInfo": {
     "elapsed": 15072940,
     "status": "ok",
     "timestamp": 1600416323694,
     "user": {
      "displayName": "김한빛",
      "photoUrl": "",
      "userId": "16905169175399423651"
     },
     "user_tz": -540
    },
    "id": "yFD5ip8lRpf9"
   },
   "outputs": [],
   "source": [
    "shop_sorted_df = total_shap_df.groupby('feature').mean().sort_values('shap_values', ascending = False).reset_index()\n",
    "feat_imp_sorted_df = total_shap_df.groupby('feature').mean().sort_values('feat_imp', ascending=False).reset_index()\n",
    "features_top_shap = shop_sorted_df['feature'][:500] # 500개 컬럼만 추출 \n",
    "features_top_feat_imp = feat_imp_sorted_df['feature'][:500] # 500개 컬럼만 추출 \n",
    "\n",
    "top_features = pd.Series(features_top_shap.tolist() + features_top_feat_imp.tolist())\n",
    "top_features = top_features.unique() # features_top_shap과 features_top_feat_imp 겹치는 것은 삭제하고 유일한 값만 둔다."
   ]
  },
  {
   "cell_type": "markdown",
   "metadata": {
    "colab_type": "text",
    "id": "lcISuM_eRpf-"
   },
   "source": [
    "# Model Development"
   ]
  },
  {
   "cell_type": "code",
   "execution_count": 104,
   "metadata": {
    "ExecuteTime": {
     "end_time": "2020-09-17T13:27:20.719178Z",
     "start_time": "2020-09-17T13:27:20.716178Z"
    },
    "colab": {},
    "colab_type": "code",
    "executionInfo": {
     "elapsed": 642,
     "status": "ok",
     "timestamp": 1600416792156,
     "user": {
      "displayName": "김한빛",
      "photoUrl": "",
      "userId": "16905169175399423651"
     },
     "user_tz": -540
    },
    "id": "sjjqdW-7Rpf-"
   },
   "outputs": [],
   "source": [
    "new_train = train[top_features].copy()\n",
    "new_test = test[top_features].copy()"
   ]
  },
  {
   "cell_type": "code",
   "execution_count": 106,
   "metadata": {
    "colab": {
     "base_uri": "https://localhost:8080/",
     "height": 35
    },
    "colab_type": "code",
    "executionInfo": {
     "elapsed": 623,
     "status": "ok",
     "timestamp": 1600416862724,
     "user": {
      "displayName": "김한빛",
      "photoUrl": "",
      "userId": "16905169175399423651"
     },
     "user_tz": -540
    },
    "id": "aKDU-8AiRpf_",
    "outputId": "6063cf70-12f9-499d-cda6-b0fe9b4713dc"
   },
   "outputs": [
    {
     "name": "stdout",
     "output_type": "stream",
     "text": [
      "new train shape: (2973, 532) new test shape: (23856, 532)\n"
     ]
    }
   ],
   "source": [
    "print('new train shape:', new_train.shape, 'new test shape:', new_test.shape)"
   ]
  },
  {
   "cell_type": "markdown",
   "metadata": {
    "colab_type": "text",
    "id": "FiCwu9dqRpgA"
   },
   "source": [
    "## LGB를 통한 예측 및 변수 중요도 생성"
   ]
  },
  {
   "cell_type": "code",
   "execution_count": 107,
   "metadata": {
    "colab": {},
    "colab_type": "code",
    "executionInfo": {
     "elapsed": 566,
     "status": "ok",
     "timestamp": 1600416865981,
     "user": {
      "displayName": "김한빛",
      "photoUrl": "",
      "userId": "16905169175399423651"
     },
     "user_tz": -540
    },
    "id": "FPoHCmp6RpgA"
   },
   "outputs": [],
   "source": [
    "# 카테고리 변수 리스트 생성\n",
    "new_categorical_feats = [col for col in top_features if col in categorical_feats]"
   ]
  },
  {
   "cell_type": "code",
   "execution_count": 110,
   "metadata": {
    "colab": {},
    "colab_type": "code",
    "executionInfo": {
     "elapsed": 620,
     "status": "ok",
     "timestamp": 1600416963752,
     "user": {
      "displayName": "김한빛",
      "photoUrl": "",
      "userId": "16905169175399423651"
     },
     "user_tz": -540
    },
    "id": "t6HtEoCkRpgB"
   },
   "outputs": [],
   "source": [
    "# LGB : Light Gradient Boost 함수 생성 \n",
    "def LGB_OOF(params, categorical_feats, N_FOLDs, SEED=1989):\n",
    "    clf = lgb.LGBMClassifier(objective='multiclass',\n",
    "                             random_state=1989,\n",
    "                             max_depth=params['max_depth'], \n",
    "                             learning_rate=params['learning_rate'],  \n",
    "                             silent=True, \n",
    "                             metric='multi_logloss',\n",
    "                             n_jobs=-1, n_estimators=10000, \n",
    "                             class_weight='balanced',\n",
    "                             colsample_bytree = params['colsample_bytree'], \n",
    "                             min_split_gain= params['min_split_gain'], \n",
    "                             bagging_freq = params['bagging_freq'],\n",
    "                             min_child_weight=params['min_child_weight'],\n",
    "                             num_leaves = params['num_leaves'], \n",
    "                             subsample = params['subsample'],\n",
    "                             reg_alpha= params['reg_alpha'],\n",
    "                             reg_lambda= params['reg_lambda'],\n",
    "                             num_class=len(np.unique(y)),\n",
    "                             bagging_seed=SEED,\n",
    "                             seed=SEED,\n",
    "                            )\n",
    "\n",
    "    kfold = 10\n",
    "    kf = StratifiedKFold(n_splits=kfold, shuffle=True)\n",
    "    feat_importance_df  = pd.DataFrame()\n",
    "    predicts_result = []\n",
    "\n",
    "    for i, (train_index, test_index) in enumerate(kf.split(new_train, y)):\n",
    "        print('='*30, '{} of {} folds'.format(i+1, kfold), '='*30)\n",
    "        start = time.time()\n",
    "        X_train, X_val = new_train.iloc[train_index], new_train.iloc[test_index]\n",
    "        y_train, y_val = y.iloc[train_index], y.iloc[test_index]\n",
    "        clf.fit(X_train, y_train, eval_set=[(X_train, y_train), (X_val, y_val)], eval_metric=evaluate_macroF1_lgb,categorical_feature=new_categorical_feats,\n",
    "                early_stopping_rounds=500, verbose=500)\n",
    "        shap_values = shap.TreeExplainer(clf.booster_).shap_values(X_train)\n",
    "        fold_importance_df  = pd.DataFrame()\n",
    "        fold_importance_df['feature'] = X_train.columns\n",
    "        fold_importance_df['shap_values'] = abs(np.array(shap_values)[:, :].mean(1).mean(0))\n",
    "        fold_importance_df['feat_imp'] = clf.feature_importances_\n",
    "        feat_importance_df = pd.concat([feat_importance_df, fold_importance_df])\n",
    "        predicts_result.append(clf.predict(new_test))\n",
    "        print_execution_time(start)\n",
    "    return predicts_result, feat_importance_df"
   ]
  },
  {
   "cell_type": "code",
   "execution_count": 111,
   "metadata": {
    "colab": {
     "base_uri": "https://localhost:8080/",
     "height": 1000
    },
    "colab_type": "code",
    "executionInfo": {
     "elapsed": 225887,
     "status": "ok",
     "timestamp": 1600417238885,
     "user": {
      "displayName": "김한빛",
      "photoUrl": "",
      "userId": "16905169175399423651"
     },
     "user_tz": -540
    },
    "id": "Ju4suWldRpgC",
    "outputId": "310a5bea-d6d9-4ee3-8969-45cdcf4b0297"
   },
   "outputs": [
    {
     "name": "stdout",
     "output_type": "stream",
     "text": [
      "============================== 1 of 10 folds ==============================\n",
      "Training until validation scores don't improve for 500 rounds.\n",
      "[500]\ttraining's multi_logloss: 1.16249\ttraining's macroF1: 0.569094\tvalid_1's multi_logloss: 1.18146\tvalid_1's macroF1: 0.42358\n",
      "Early stopping, best iteration is:\n",
      "[164]\ttraining's multi_logloss: 1.29343\ttraining's macroF1: 0.537105\tvalid_1's multi_logloss: 1.29374\tvalid_1's macroF1: 0.439404\n",
      "******************** Execution ended in 00h 00m 19.45s ********************\n",
      "============================== 2 of 10 folds ==============================\n",
      "Training until validation scores don't improve for 500 rounds.\n",
      "[500]\ttraining's multi_logloss: 1.15839\ttraining's macroF1: 0.575707\tvalid_1's multi_logloss: 1.1554\tvalid_1's macroF1: 0.394559\n",
      "Early stopping, best iteration is:\n",
      "[148]\ttraining's multi_logloss: 1.29955\ttraining's macroF1: 0.544585\tvalid_1's multi_logloss: 1.28984\tvalid_1's macroF1: 0.399304\n",
      "******************** Execution ended in 00h 00m 18.94s ********************\n",
      "============================== 3 of 10 folds ==============================\n",
      "Training until validation scores don't improve for 500 rounds.\n",
      "[500]\ttraining's multi_logloss: 1.1647\ttraining's macroF1: 0.576162\tvalid_1's multi_logloss: 1.15358\tvalid_1's macroF1: 0.426385\n",
      "Early stopping, best iteration is:\n",
      "[29]\ttraining's multi_logloss: 1.36818\ttraining's macroF1: 0.524073\tvalid_1's multi_logloss: 1.36502\tvalid_1's macroF1: 0.448364\n",
      "******************** Execution ended in 00h 00m 13.28s ********************\n",
      "============================== 4 of 10 folds ==============================\n",
      "Training until validation scores don't improve for 500 rounds.\n",
      "[500]\ttraining's multi_logloss: 1.15892\ttraining's macroF1: 0.567091\tvalid_1's multi_logloss: 1.15141\tvalid_1's macroF1: 0.407524\n",
      "Early stopping, best iteration is:\n",
      "[32]\ttraining's multi_logloss: 1.36582\ttraining's macroF1: 0.538317\tvalid_1's multi_logloss: 1.36181\tvalid_1's macroF1: 0.416631\n",
      "******************** Execution ended in 00h 00m 13.53s ********************\n",
      "============================== 5 of 10 folds ==============================\n",
      "Training until validation scores don't improve for 500 rounds.\n",
      "[500]\ttraining's multi_logloss: 1.16022\ttraining's macroF1: 0.569641\tvalid_1's multi_logloss: 1.17066\tvalid_1's macroF1: 0.38358\n",
      "Early stopping, best iteration is:\n",
      "[4]\ttraining's multi_logloss: 1.38358\ttraining's macroF1: 0.487092\tvalid_1's multi_logloss: 1.38315\tvalid_1's macroF1: 0.409667\n",
      "******************** Execution ended in 00h 00m 12.30s ********************\n",
      "============================== 6 of 10 folds ==============================\n",
      "Training until validation scores don't improve for 500 rounds.\n",
      "[500]\ttraining's multi_logloss: 1.15697\ttraining's macroF1: 0.571246\tvalid_1's multi_logloss: 1.18832\tvalid_1's macroF1: 0.384436\n",
      "Early stopping, best iteration is:\n",
      "[118]\ttraining's multi_logloss: 1.31517\ttraining's macroF1: 0.542032\tvalid_1's multi_logloss: 1.31653\tvalid_1's macroF1: 0.405468\n",
      "******************** Execution ended in 00h 00m 17.61s ********************\n",
      "============================== 7 of 10 folds ==============================\n",
      "Training until validation scores don't improve for 500 rounds.\n",
      "[500]\ttraining's multi_logloss: 1.16527\ttraining's macroF1: 0.56447\tvalid_1's multi_logloss: 1.15593\tvalid_1's macroF1: 0.438815\n",
      "[1000]\ttraining's multi_logloss: 1.04307\ttraining's macroF1: 0.59581\tvalid_1's multi_logloss: 1.06816\tvalid_1's macroF1: 0.467058\n",
      "[1500]\ttraining's multi_logloss: 0.962391\ttraining's macroF1: 0.620582\tvalid_1's multi_logloss: 1.03027\tvalid_1's macroF1: 0.464022\n",
      "Early stopping, best iteration is:\n",
      "[1040]\ttraining's multi_logloss: 1.03559\ttraining's macroF1: 0.598135\tvalid_1's multi_logloss: 1.06401\tvalid_1's macroF1: 0.471391\n",
      "******************** Execution ended in 00h 00m 57.97s ********************\n",
      "============================== 8 of 10 folds ==============================\n",
      "Training until validation scores don't improve for 500 rounds.\n",
      "[500]\ttraining's multi_logloss: 1.16038\ttraining's macroF1: 0.563742\tvalid_1's multi_logloss: 1.16608\tvalid_1's macroF1: 0.386054\n",
      "Early stopping, best iteration is:\n",
      "[4]\ttraining's multi_logloss: 1.38361\ttraining's macroF1: 0.489458\tvalid_1's multi_logloss: 1.38324\tvalid_1's macroF1: 0.414727\n",
      "******************** Execution ended in 00h 00m 12.39s ********************\n",
      "============================== 9 of 10 folds ==============================\n",
      "Training until validation scores don't improve for 500 rounds.\n",
      "[500]\ttraining's multi_logloss: 1.15672\ttraining's macroF1: 0.564723\tvalid_1's multi_logloss: 1.16849\tvalid_1's macroF1: 0.409507\n",
      "Early stopping, best iteration is:\n",
      "[444]\ttraining's multi_logloss: 1.17521\ttraining's macroF1: 0.561\tvalid_1's multi_logloss: 1.1833\tvalid_1's macroF1: 0.418126\n",
      "******************** Execution ended in 00h 00m 32.01s ********************\n",
      "============================== 10 of 10 folds ==============================\n",
      "Training until validation scores don't improve for 500 rounds.\n",
      "[500]\ttraining's multi_logloss: 1.159\ttraining's macroF1: 0.56456\tvalid_1's multi_logloss: 1.16643\tvalid_1's macroF1: 0.38565\n",
      "Early stopping, best iteration is:\n",
      "[367]\ttraining's multi_logloss: 1.20482\ttraining's macroF1: 0.555876\tvalid_1's multi_logloss: 1.20274\tvalid_1's macroF1: 0.396325\n",
      "******************** Execution ended in 00h 00m 27.79s ********************\n"
     ]
    }
   ],
   "source": [
    "# 셋팅값 입력 \n",
    "params = {'max_depth': 6,\n",
    "         'learning_rate': 0.002,\n",
    "          'colsample_bytree': 0.8,\n",
    "          'subsample': 0.8,\n",
    "          'min_split_gain': 0.02,\n",
    "          'num_leaves': 48,\n",
    "          'reg_alpha': 0.04,\n",
    "          'reg_lambda': 0.073,\n",
    "          'bagging_freq': 2,\n",
    "          'min_child_weight': 40\n",
    "         }\n",
    "\n",
    "N_Folds = 20\n",
    "SEED = 1989\n",
    "predicts_result, feat_importance_df = LGB_OOF(params, new_categorical_feats, N_Folds, SEED=1989)"
   ]
  },
  {
   "cell_type": "code",
   "execution_count": 112,
   "metadata": {
    "colab": {
     "base_uri": "https://localhost:8080/",
     "height": 1000
    },
    "colab_type": "code",
    "executionInfo": {
     "elapsed": 2310,
     "status": "ok",
     "timestamp": 1600419659403,
     "user": {
      "displayName": "김한빛",
      "photoUrl": "",
      "userId": "16905169175399423651"
     },
     "user_tz": -540
    },
    "id": "A4TxqtyDRpgD",
    "outputId": "9c0c8d6d-07e3-45af-da0c-6b3a18605fdb"
   },
   "outputs": [
    {
     "data": {
      "image/png": "[encoded data removed]",
      "text/plain": [
       "<Figure size 1440x1440 with 2 Axes>"
      ]
     },
     "metadata": {
      "tags": []
     },
     "output_type": "display_data"
    }
   ],
   "source": [
    "# 변수중요도를 그래프로 표현 \n",
    "fig, ax = plt.subplots(1, 2, figsize=(20, 20))\n",
    "feat_importance_df_shap = feat_importance_df.groupby('feature').mean().sort_values('shap_values', ascending=False).reset_index()\n",
    "\n",
    "num_features = 50\n",
    "sns.barplot(x=feat_importance_df_shap.shap_values[:num_features], y=feat_importance_df_shap.feature[:num_features], ax=ax[0])\n",
    "ax[0].set_title('Feature importance based on shap values')\n",
    "\n",
    "feat_importance_df = feat_importance_df.groupby('feature').mean().sort_values('feat_imp', ascending=False).reset_index()\n",
    "\n",
    "num_features = 50\n",
    "sns.barplot(x=feat_importance_df.shap_values[:num_features], y=feat_importance_df.feature[:num_features], ax=ax[1])\n",
    "ax[1].set_title('Feature importance based on feature importance from lgbm')\n",
    "plt.show()"
   ]
  },
  {
   "cell_type": "code",
   "execution_count": 113,
   "metadata": {
    "colab": {},
    "colab_type": "code",
    "executionInfo": {
     "elapsed": 707,
     "status": "ok",
     "timestamp": 1600419699820,
     "user": {
      "displayName": "김한빛",
      "photoUrl": "",
      "userId": "16905169175399423651"
     },
     "user_tz": -540
    },
    "id": "4JKtbxhARpgE"
   },
   "outputs": [],
   "source": [
    "# 예측 결과 cvs 파일로 생성\n",
    "submission['Target'] = np.array(predicts_result).mean(axis=0).round().astype(int)\n",
    "submission.to_csv('submission_with_new_feature_set.csv', index=False)"
   ]
  },
  {
   "cell_type": "markdown",
   "metadata": {
    "colab_type": "text",
    "id": "uU1rS0HDRpgF"
   },
   "source": [
    "## 랜덤하게 찾기 (Randomized Search)"
   ]
  },
  {
   "cell_type": "code",
   "execution_count": 114,
   "metadata": {
    "colab": {
     "base_uri": "https://localhost:8080/",
     "height": 1000
    },
    "colab_type": "code",
    "executionInfo": {
     "elapsed": 3115732,
     "status": "ok",
     "timestamp": 1600422814856,
     "user": {
      "displayName": "김한빛",
      "photoUrl": "",
      "userId": "16905169175399423651"
     },
     "user_tz": -540
    },
    "id": "FTpNymCyRpgF",
    "outputId": "5a05ebaf-7dd2-4149-9301-2d7cbb68c50d"
   },
   "outputs": [
    {
     "name": "stdout",
     "output_type": "stream",
     "text": [
      "-------------------- For 1 of 100 iterations --------------------\n",
      "-------------------- For 2 of 100 iterations --------------------\n",
      "-------------------- For 3 of 100 iterations --------------------\n",
      "-------------------- For 4 of 100 iterations --------------------\n",
      "-------------------- For 5 of 100 iterations --------------------\n",
      "-------------------- For 6 of 100 iterations --------------------\n",
      "-------------------- For 7 of 100 iterations --------------------\n",
      "-------------------- For 8 of 100 iterations --------------------\n",
      "-------------------- For 9 of 100 iterations --------------------\n",
      "[1000]\tcv_agg's multi_logloss: 0.850644 + 0.0107643\n",
      "-------------------- For 10 of 100 iterations --------------------\n",
      "-------------------- For 11 of 100 iterations --------------------\n",
      "-------------------- For 12 of 100 iterations --------------------\n",
      "-------------------- For 13 of 100 iterations --------------------\n",
      "[1000]\tcv_agg's multi_logloss: 0.844449 + 0.0113269\n",
      "-------------------- For 14 of 100 iterations --------------------\n",
      "-------------------- For 15 of 100 iterations --------------------\n",
      "-------------------- For 16 of 100 iterations --------------------\n",
      "-------------------- For 17 of 100 iterations --------------------\n",
      "-------------------- For 18 of 100 iterations --------------------\n",
      "-------------------- For 19 of 100 iterations --------------------\n",
      "-------------------- For 20 of 100 iterations --------------------\n",
      "-------------------- For 21 of 100 iterations --------------------\n",
      "-------------------- For 22 of 100 iterations --------------------\n",
      "-------------------- For 23 of 100 iterations --------------------\n",
      "[1000]\tcv_agg's multi_logloss: 0.874355 + 0.00846433\n",
      "[2000]\tcv_agg's multi_logloss: 0.838224 + 0.0124167\n",
      "-------------------- For 24 of 100 iterations --------------------\n",
      "-------------------- For 25 of 100 iterations --------------------\n",
      "[1000]\tcv_agg's multi_logloss: 0.840324 + 0.0121589\n",
      "-------------------- For 26 of 100 iterations --------------------\n",
      "-------------------- For 27 of 100 iterations --------------------\n",
      "-------------------- For 28 of 100 iterations --------------------\n",
      "[1000]\tcv_agg's multi_logloss: 0.96267 + 0.0018782\n",
      "[2000]\tcv_agg's multi_logloss: 0.930341 + 0.00400037\n",
      "[3000]\tcv_agg's multi_logloss: 0.906175 + 0.00582314\n",
      "[4000]\tcv_agg's multi_logloss: 0.88784 + 0.00736017\n",
      "[5000]\tcv_agg's multi_logloss: 0.873672 + 0.0085177\n",
      "[6000]\tcv_agg's multi_logloss: 0.862664 + 0.00952161\n",
      "[7000]\tcv_agg's multi_logloss: 0.853967 + 0.0103318\n",
      "[8000]\tcv_agg's multi_logloss: 0.847137 + 0.0110746\n",
      "[9000]\tcv_agg's multi_logloss: 0.841789 + 0.0118185\n",
      "[10000]\tcv_agg's multi_logloss: 0.837651 + 0.0124768\n",
      "-------------------- For 29 of 100 iterations --------------------\n",
      "-------------------- For 30 of 100 iterations --------------------\n",
      "-------------------- For 31 of 100 iterations --------------------\n",
      "-------------------- For 32 of 100 iterations --------------------\n",
      "-------------------- For 33 of 100 iterations --------------------\n",
      "[1000]\tcv_agg's multi_logloss: 0.845318 + 0.0122234\n",
      "-------------------- For 34 of 100 iterations --------------------\n",
      "-------------------- For 35 of 100 iterations --------------------\n",
      "-------------------- For 36 of 100 iterations --------------------\n",
      "-------------------- For 37 of 100 iterations --------------------\n",
      "-------------------- For 38 of 100 iterations --------------------\n",
      "-------------------- For 39 of 100 iterations --------------------\n",
      "[1000]\tcv_agg's multi_logloss: 0.844441 + 0.0112841\n",
      "-------------------- For 40 of 100 iterations --------------------\n",
      "[1000]\tcv_agg's multi_logloss: 0.840559 + 0.0119178\n",
      "-------------------- For 41 of 100 iterations --------------------\n",
      "-------------------- For 42 of 100 iterations --------------------\n",
      "-------------------- For 43 of 100 iterations --------------------\n",
      "-------------------- For 44 of 100 iterations --------------------\n",
      "-------------------- For 45 of 100 iterations --------------------\n",
      "-------------------- For 46 of 100 iterations --------------------\n",
      "-------------------- For 47 of 100 iterations --------------------\n",
      "-------------------- For 48 of 100 iterations --------------------\n",
      "-------------------- For 49 of 100 iterations --------------------\n",
      "-------------------- For 50 of 100 iterations --------------------\n",
      "-------------------- For 51 of 100 iterations --------------------\n",
      "-------------------- For 52 of 100 iterations --------------------\n",
      "-------------------- For 53 of 100 iterations --------------------\n",
      "-------------------- For 54 of 100 iterations --------------------\n",
      "-------------------- For 55 of 100 iterations --------------------\n",
      "[1000]\tcv_agg's multi_logloss: 0.933994 + 0.00295004\n",
      "[2000]\tcv_agg's multi_logloss: 0.891992 + 0.00616865\n",
      "[3000]\tcv_agg's multi_logloss: 0.866375 + 0.0085591\n",
      "[4000]\tcv_agg's multi_logloss: 0.850178 + 0.0105231\n",
      "[5000]\tcv_agg's multi_logloss: 0.840013 + 0.0122332\n",
      "[6000]\tcv_agg's multi_logloss: 0.83367 + 0.0137947\n",
      "-------------------- For 56 of 100 iterations --------------------\n",
      "-------------------- For 57 of 100 iterations --------------------\n",
      "-------------------- For 58 of 100 iterations --------------------\n",
      "-------------------- For 59 of 100 iterations --------------------\n",
      "-------------------- For 60 of 100 iterations --------------------\n",
      "-------------------- For 61 of 100 iterations --------------------\n",
      "[1000]\tcv_agg's multi_logloss: 0.959375 + 0.00139668\n",
      "[2000]\tcv_agg's multi_logloss: 0.925476 + 0.00324838\n",
      "[3000]\tcv_agg's multi_logloss: 0.90067 + 0.00512656\n",
      "[4000]\tcv_agg's multi_logloss: 0.882047 + 0.00678869\n",
      "[5000]\tcv_agg's multi_logloss: 0.867985 + 0.00814784\n",
      "[6000]\tcv_agg's multi_logloss: 0.857164 + 0.0093546\n",
      "[7000]\tcv_agg's multi_logloss: 0.848876 + 0.0103916\n",
      "[8000]\tcv_agg's multi_logloss: 0.842528 + 0.0113579\n",
      "[9000]\tcv_agg's multi_logloss: 0.837696 + 0.0122748\n",
      "[10000]\tcv_agg's multi_logloss: 0.834037 + 0.0132079\n",
      "-------------------- For 62 of 100 iterations --------------------\n",
      "-------------------- For 63 of 100 iterations --------------------\n",
      "-------------------- For 64 of 100 iterations --------------------\n",
      "-------------------- For 65 of 100 iterations --------------------\n",
      "-------------------- For 66 of 100 iterations --------------------\n",
      "-------------------- For 67 of 100 iterations --------------------\n",
      "-------------------- For 68 of 100 iterations --------------------\n",
      "-------------------- For 69 of 100 iterations --------------------\n",
      "-------------------- For 70 of 100 iterations --------------------\n",
      "-------------------- For 71 of 100 iterations --------------------\n",
      "[1000]\tcv_agg's multi_logloss: 0.829763 + 0.0154857\n",
      "-------------------- For 72 of 100 iterations --------------------\n",
      "-------------------- For 73 of 100 iterations --------------------\n",
      "-------------------- For 74 of 100 iterations --------------------\n",
      "-------------------- For 75 of 100 iterations --------------------\n",
      "-------------------- For 76 of 100 iterations --------------------\n",
      "[1000]\tcv_agg's multi_logloss: 0.880608 + 0.00730383\n",
      "[2000]\tcv_agg's multi_logloss: 0.843414 + 0.0122766\n",
      "-------------------- For 77 of 100 iterations --------------------\n",
      "[1000]\tcv_agg's multi_logloss: 0.953842 + 0.00181947\n",
      "[2000]\tcv_agg's multi_logloss: 0.917862 + 0.00409414\n",
      "[3000]\tcv_agg's multi_logloss: 0.892608 + 0.0061033\n",
      "[4000]\tcv_agg's multi_logloss: 0.874444 + 0.00772182\n",
      "[5000]\tcv_agg's multi_logloss: 0.861021 + 0.00908268\n",
      "[6000]\tcv_agg's multi_logloss: 0.851073 + 0.0102535\n",
      "[7000]\tcv_agg's multi_logloss: 0.843687 + 0.011348\n",
      "[8000]\tcv_agg's multi_logloss: 0.838232 + 0.0123942\n",
      "[9000]\tcv_agg's multi_logloss: 0.83417 + 0.0133474\n",
      "[10000]\tcv_agg's multi_logloss: 0.831216 + 0.0142597\n",
      "-------------------- For 78 of 100 iterations --------------------\n",
      "[1000]\tcv_agg's multi_logloss: 0.835838 + 0.013082\n",
      "-------------------- For 79 of 100 iterations --------------------\n",
      "-------------------- For 80 of 100 iterations --------------------\n",
      "-------------------- For 81 of 100 iterations --------------------\n",
      "-------------------- For 82 of 100 iterations --------------------\n",
      "[1000]\tcv_agg's multi_logloss: 0.837136 + 0.0125166\n",
      "-------------------- For 83 of 100 iterations --------------------\n",
      "[1000]\tcv_agg's multi_logloss: 0.882841 + 0.00739006\n",
      "[2000]\tcv_agg's multi_logloss: 0.843938 + 0.0117782\n",
      "[3000]\tcv_agg's multi_logloss: 0.830597 + 0.0151525\n",
      "-------------------- For 84 of 100 iterations --------------------\n",
      "-------------------- For 85 of 100 iterations --------------------\n",
      "-------------------- For 86 of 100 iterations --------------------\n",
      "-------------------- For 87 of 100 iterations --------------------\n",
      "-------------------- For 88 of 100 iterations --------------------\n",
      "-------------------- For 89 of 100 iterations --------------------\n",
      "-------------------- For 90 of 100 iterations --------------------\n",
      "-------------------- For 91 of 100 iterations --------------------\n",
      "-------------------- For 92 of 100 iterations --------------------\n",
      "-------------------- For 93 of 100 iterations --------------------\n",
      "-------------------- For 94 of 100 iterations --------------------\n",
      "-------------------- For 95 of 100 iterations --------------------\n",
      "-------------------- For 96 of 100 iterations --------------------\n",
      "-------------------- For 97 of 100 iterations --------------------\n",
      "[1000]\tcv_agg's multi_logloss: 0.833212 + 0.0148136\n",
      "-------------------- For 98 of 100 iterations --------------------\n",
      "-------------------- For 99 of 100 iterations --------------------\n",
      "-------------------- For 100 of 100 iterations --------------------\n"
     ]
    }
   ],
   "source": [
    "optimized_param = None\n",
    "lowest_cv = 1000\n",
    "total_iteration = 100\n",
    "for i in range(total_iteration):\n",
    "    print('-'*20, 'For {} of {} iterations'.format(i+1, total_iteration), '-'*20)\n",
    "    learning_rate = np.random.rand() * 0.02\n",
    "    n_folds = 3\n",
    "\n",
    "    num_class = len(np.unique(y))\n",
    "    \n",
    "    # parameter value들을 일정 범위에 맞게 random하게 설정\n",
    "    params = {}\n",
    "    params['application'] = 'multiclass'\n",
    "    params['metric'] = 'multi_logloss'\n",
    "    params['num_class'] = num_class\n",
    "    params['class_weight'] = 'balanced'\n",
    "    params['num_leaves'] = np.random.randint(24, 48)\n",
    "    params['max_depth'] = np.random.randint(5, 8)\n",
    "    params['min_child_weight'] = np.random.randint(5, 50)\n",
    "    params['min_split_gain'] = np.random.rand() * 0.09\n",
    "    params['colsample_bytree'] = np.random.rand() * (0.9 - 0.1) + 0.1\n",
    "    params['subsample'] = np.random.rand() * (1 - 0.8) + 0.8\n",
    "    params['bagging_freq'] = np.random.randint(1, 5)\n",
    "    params['bagging_seed'] = np.random.randint(1, 5)\n",
    "    params['reg_alpha'] = np.random.rand() * 2\n",
    "    params['reg_lambda'] = np.random.rand() * 2\n",
    "    params['learning_rate'] = np.random.rand() * 0.02\n",
    "    params['seed']  =1989\n",
    "\n",
    "    d_train = lgb.Dataset(data=new_train, label=y.values-1, categorical_feature=new_categorical_feats, free_raw_data=False)\n",
    "    cv_results = lgb.cv(params=params, train_set=d_train, num_boost_round=10000, categorical_feature=new_categorical_feats,\n",
    "                        nfold=n_folds, stratified=True, shuffle=True, early_stopping_rounds=1, verbose_eval=1000)\n",
    "\n",
    "    min_cv_results = min(cv_results['multi_logloss-mean'])\n",
    "\n",
    "    # 가장 작은 평균 값의 parmas을 최적화 param으로 등록\n",
    "    if min_cv_results < lowest_cv:\n",
    "        lowest_cv = min_cv_results\n",
    "        optimized_param = params"
   ]
  },
  {
   "cell_type": "code",
   "execution_count": 115,
   "metadata": {
    "colab": {
     "base_uri": "https://localhost:8080/",
     "height": 1000
    },
    "colab_type": "code",
    "executionInfo": {
     "elapsed": 3446937,
     "status": "ok",
     "timestamp": 1600423146069,
     "user": {
      "displayName": "김한빛",
      "photoUrl": "",
      "userId": "16905169175399423651"
     },
     "user_tz": -540
    },
    "id": "yVRoiDsHRpgG",
    "outputId": "f36cb891-cf2b-45d5-a5ec-58c9df3bda45"
   },
   "outputs": [
    {
     "name": "stdout",
     "output_type": "stream",
     "text": [
      "============================== 1 of 10 folds ==============================\n",
      "Training until validation scores don't improve for 500 rounds.\n",
      "[500]\ttraining's multi_logloss: 0.643909\ttraining's macroF1: 0.767897\tvalid_1's multi_logloss: 1.01731\tvalid_1's macroF1: 0.419311\n",
      "Early stopping, best iteration is:\n",
      "[455]\ttraining's multi_logloss: 0.66926\ttraining's macroF1: 0.756981\tvalid_1's multi_logloss: 1.02123\tvalid_1's macroF1: 0.424335\n",
      "******************** Execution ended in 00h 00m 31.75s ********************\n",
      "============================== 2 of 10 folds ==============================\n",
      "Training until validation scores don't improve for 500 rounds.\n",
      "[500]\ttraining's multi_logloss: 0.642988\ttraining's macroF1: 0.772115\tvalid_1's multi_logloss: 0.973459\tvalid_1's macroF1: 0.441129\n",
      "Early stopping, best iteration is:\n",
      "[246]\ttraining's multi_logloss: 0.836124\ttraining's macroF1: 0.70146\tvalid_1's multi_logloss: 1.00646\tvalid_1's macroF1: 0.460188\n",
      "******************** Execution ended in 00h 00m 22.09s ********************\n",
      "============================== 3 of 10 folds ==============================\n",
      "Training until validation scores don't improve for 500 rounds.\n",
      "[500]\ttraining's multi_logloss: 0.646518\ttraining's macroF1: 0.764841\tvalid_1's multi_logloss: 0.90879\tvalid_1's macroF1: 0.425241\n",
      "Early stopping, best iteration is:\n",
      "[301]\ttraining's multi_logloss: 0.785451\ttraining's macroF1: 0.71514\tvalid_1's multi_logloss: 0.941626\tvalid_1's macroF1: 0.43586\n",
      "******************** Execution ended in 00h 00m 24.43s ********************\n",
      "============================== 4 of 10 folds ==============================\n",
      "Training until validation scores don't improve for 500 rounds.\n",
      "[500]\ttraining's multi_logloss: 0.642282\ttraining's macroF1: 0.776681\tvalid_1's multi_logloss: 1.00217\tvalid_1's macroF1: 0.454198\n",
      "[1000]\ttraining's multi_logloss: 0.448314\ttraining's macroF1: 0.847268\tvalid_1's multi_logloss: 0.976682\tvalid_1's macroF1: 0.466582\n",
      "Early stopping, best iteration is:\n",
      "[722]\ttraining's multi_logloss: 0.536986\ttraining's macroF1: 0.814864\tvalid_1's multi_logloss: 0.985533\tvalid_1's macroF1: 0.475647\n",
      "******************** Execution ended in 00h 00m 42.88s ********************\n",
      "============================== 5 of 10 folds ==============================\n",
      "Training until validation scores don't improve for 500 rounds.\n",
      "[500]\ttraining's multi_logloss: 0.642159\ttraining's macroF1: 0.772177\tvalid_1's multi_logloss: 0.95837\tvalid_1's macroF1: 0.421447\n",
      "Early stopping, best iteration is:\n",
      "[30]\ttraining's multi_logloss: 1.24539\ttraining's macroF1: 0.586624\tvalid_1's multi_logloss: 1.24092\tvalid_1's macroF1: 0.438978\n",
      "******************** Execution ended in 00h 00m 11.48s ********************\n",
      "============================== 6 of 10 folds ==============================\n",
      "Training until validation scores don't improve for 500 rounds.\n",
      "[500]\ttraining's multi_logloss: 0.642027\ttraining's macroF1: 0.767923\tvalid_1's multi_logloss: 1.06385\tvalid_1's macroF1: 0.415905\n",
      "Early stopping, best iteration is:\n",
      "[355]\ttraining's multi_logloss: 0.734352\ttraining's macroF1: 0.730868\tvalid_1's multi_logloss: 1.06958\tvalid_1's macroF1: 0.419991\n",
      "******************** Execution ended in 00h 00m 27.10s ********************\n",
      "============================== 7 of 10 folds ==============================\n",
      "Training until validation scores don't improve for 500 rounds.\n",
      "[500]\ttraining's multi_logloss: 0.65071\ttraining's macroF1: 0.769133\tvalid_1's multi_logloss: 0.944704\tvalid_1's macroF1: 0.407626\n",
      "[1000]\ttraining's multi_logloss: 0.454591\ttraining's macroF1: 0.841963\tvalid_1's multi_logloss: 0.921269\tvalid_1's macroF1: 0.411259\n",
      "Early stopping, best iteration is:\n",
      "[820]\ttraining's multi_logloss: 0.509099\ttraining's macroF1: 0.827846\tvalid_1's multi_logloss: 0.925363\tvalid_1's macroF1: 0.427033\n",
      "******************** Execution ended in 00h 00m 47.39s ********************\n",
      "============================== 8 of 10 folds ==============================\n",
      "Training until validation scores don't improve for 500 rounds.\n",
      "[500]\ttraining's multi_logloss: 0.641123\ttraining's macroF1: 0.773204\tvalid_1's multi_logloss: 0.970383\tvalid_1's macroF1: 0.396786\n",
      "[1000]\ttraining's multi_logloss: 0.449023\ttraining's macroF1: 0.853571\tvalid_1's multi_logloss: 0.94899\tvalid_1's macroF1: 0.398541\n",
      "Early stopping, best iteration is:\n",
      "[968]\ttraining's multi_logloss: 0.457699\ttraining's macroF1: 0.847806\tvalid_1's multi_logloss: 0.949025\tvalid_1's macroF1: 0.414443\n",
      "******************** Execution ended in 00h 00m 51.53s ********************\n",
      "============================== 9 of 10 folds ==============================\n",
      "Training until validation scores don't improve for 500 rounds.\n",
      "[500]\ttraining's multi_logloss: 0.63771\ttraining's macroF1: 0.773218\tvalid_1's multi_logloss: 0.987514\tvalid_1's macroF1: 0.439933\n",
      "Early stopping, best iteration is:\n",
      "[115]\ttraining's multi_logloss: 1.01131\ttraining's macroF1: 0.6531\tvalid_1's multi_logloss: 1.08709\tvalid_1's macroF1: 0.469625\n",
      "******************** Execution ended in 00h 00m 15.76s ********************\n",
      "============================== 10 of 10 folds ==============================\n",
      "Training until validation scores don't improve for 500 rounds.\n",
      "[500]\ttraining's multi_logloss: 0.640941\ttraining's macroF1: 0.777775\tvalid_1's multi_logloss: 1.03424\tvalid_1's macroF1: 0.404788\n",
      "[1000]\ttraining's multi_logloss: 0.445307\ttraining's macroF1: 0.848409\tvalid_1's multi_logloss: 1.0132\tvalid_1's macroF1: 0.420932\n",
      "[1500]\ttraining's multi_logloss: 0.348561\ttraining's macroF1: 0.882879\tvalid_1's multi_logloss: 1.01566\tvalid_1's macroF1: 0.411427\n",
      "Early stopping, best iteration is:\n",
      "[1068]\ttraining's multi_logloss: 0.4287\ttraining's macroF1: 0.853714\tvalid_1's multi_logloss: 1.01169\tvalid_1's macroF1: 0.42216\n",
      "******************** Execution ended in 00h 00m 56.61s ********************\n"
     ]
    }
   ],
   "source": [
    "N_Folds = 20\n",
    "SEED = 1989\n",
    "# 랜덤으로 추출한 변수를 LGB 함수에 적용\n",
    "predicts_result, feat_importance_df = LGB_OOF(optimized_param, new_categorical_feats, N_Folds, SEED=1989)"
   ]
  },
  {
   "cell_type": "code",
   "execution_count": null,
   "metadata": {},
   "outputs": [],
   "source": [
    "submission['Target'] = np.array(predicts_result).mean(axis=0).round().astype(int)\n",
    "submission.to_csv('submission_shap_randomized_search.csv', index = False)"
   ]
  }
 ],
 "metadata": {
  "accelerator": "TPU",
  "colab": {
   "name": "Costa Rican Household Proverty.ipynb",
   "provenance": [],
   "toc_visible": true
  },
  "kernelspec": {
   "display_name": "Python 3",
   "language": "python",
   "name": "python3"
  },
  "language_info": {
   "codemirror_mode": {
    "name": "ipython",
    "version": 3
   },
   "file_extension": ".py",
   "mimetype": "text/x-python",
   "name": "python",
   "nbconvert_exporter": "python",
   "pygments_lexer": "ipython3",
   "version": "3.7.9"
  },
  "toc": {
   "base_numbering": 1,
   "nav_menu": {},
   "number_sections": true,
   "sideBar": true,
   "skip_h1_title": false,
   "title_cell": "Table of Contents",
   "title_sidebar": "Contents",
   "toc_cell": false,
   "toc_position": {},
   "toc_section_display": true,
   "toc_window_display": false
  }
 },
 "nbformat": 4,
 "nbformat_minor": 1
}
