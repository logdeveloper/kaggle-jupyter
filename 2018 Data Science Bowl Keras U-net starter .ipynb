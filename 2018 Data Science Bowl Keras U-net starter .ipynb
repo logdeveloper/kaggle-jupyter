{
 "cells": [
  {
   "cell_type": "code",
   "execution_count": 1,
   "metadata": {
    "ExecuteTime": {
     "end_time": "2020-10-26T14:17:35.104090Z",
     "start_time": "2020-10-26T14:17:13.893370Z"
    }
   },
   "outputs": [
    {
     "name": "stdout",
     "output_type": "stream",
     "text": [
      "WARNING:tensorflow:From c:\\users\\hanbit\\appdata\\local\\programs\\python\\python37\\lib\\site-packages\\tensorflow\\python\\compat\\v2_compat.py:96: disable_resource_variables (from tensorflow.python.ops.variable_scope) is deprecated and will be removed in a future version.\n",
      "Instructions for updating:\n",
      "non-resource variables are not supported in the long term\n"
     ]
    }
   ],
   "source": [
    "import os\n",
    "import sys\n",
    "import random\n",
    "import warnings\n",
    "\n",
    "import numpy as np\n",
    "import pandas as pd\n",
    "\n",
    "import matplotlib.pyplot as plt\n",
    "\n",
    "from tqdm import tqdm\n",
    "from itertools import chain\n",
    "from skimage.io import imread, imshow, imread_collection, concatenate_images\n",
    "from skimage.transform import resize\n",
    "from skimage.morphology import label\n",
    "\n",
    "from keras.models import Model, load_model\n",
    "from keras.layers import Input\n",
    "from keras.layers.core import Dropout, Lambda\n",
    "from keras.layers.convolutional import Conv2D, Conv2DTranspose\n",
    "from keras.layers.pooling import MaxPooling2D\n",
    "from keras.layers import concatenate\n",
    "from keras.callbacks import EarlyStopping, ModelCheckpoint\n",
    "# from keras import backend as K\n",
    " \n",
    "# import tensorflow as tf\n",
    "# tensorflow 1.0 사용\n",
    "import tensorflow.compat.v1 as tf\n",
    "tf.disable_v2_behavior()"
   ]
  },
  {
   "cell_type": "code",
   "execution_count": 2,
   "metadata": {
    "ExecuteTime": {
     "end_time": "2020-10-26T14:17:35.121582Z",
     "start_time": "2020-10-26T14:17:35.107123Z"
    }
   },
   "outputs": [
    {
     "data": {
      "text/plain": [
       "<bound method Random.seed of <random.Random object at 0x0000023169C72908>>"
      ]
     },
     "execution_count": 2,
     "metadata": {},
     "output_type": "execute_result"
    }
   ],
   "source": [
    "# 자주사용할 파라미터를 설정한다.\n",
    "IMG_WIDTH = 128\n",
    "IMG_HEIGHT = 128\n",
    "IMG_CHANNELS = 3\n",
    "TRAIN_PATH = '../../Data-Science/data/data-science-bowl-2018/stage1_train/'\n",
    "TEST_PATH = '../../Data-Science/data/data-science-bowl-2018/stage1_test/'\n",
    "warnings.filterwarnings('ignore', category=UserWarning, module='skimage')\n",
    "seed = 42\n",
    "random.seed"
   ]
  },
  {
   "cell_type": "code",
   "execution_count": 3,
   "metadata": {
    "ExecuteTime": {
     "end_time": "2020-10-26T14:17:35.208416Z",
     "start_time": "2020-10-26T14:17:35.127534Z"
    }
   },
   "outputs": [],
   "source": [
    "# train, test id 가져오기 \n",
    "train_ids = next(os.walk(TRAIN_PATH))[1]\n",
    "test_ids = next(os.walk(TEST_PATH))[1]"
   ]
  },
  {
   "cell_type": "markdown",
   "metadata": {},
   "source": [
    "## 1. 데이터 가져오기 \n",
    "\n",
    "우선 관련된 모든 이미지와 관련된 mask를 가져오자. training과 test images를 가볍게 다루기 위해 downsample로 진행했다. 추후 에측된 마스크를 upsample하고 정확한 run 길이를 encoding을 만들기위해서는 테스트 이미지의 원래 크기를 기록해야한다. 지금은 이방법이 더 나으므로 우선 샘플을 추출하여 진행한다."
   ]
  },
  {
   "cell_type": "code",
   "execution_count": 4,
   "metadata": {
    "ExecuteTime": {
     "end_time": "2020-10-26T14:17:35.223370Z",
     "start_time": "2020-10-26T14:17:35.214737Z"
    }
   },
   "outputs": [],
   "source": [
    "# shape : len(train_ids), IMG_HEIGHT, IMG_WIDTH, IMG_CHANNELS\n",
    "X_train = np.zeros( (len(train_ids), IMG_HEIGHT, IMG_WIDTH, IMG_CHANNELS),\n",
    "                  dtype = np.uint8)\n",
    "Y_train = np.zeros( (len(train_ids), IMG_HEIGHT, IMG_WIDTH, 1),\n",
    "                  dtype = np.bool)"
   ]
  },
  {
   "cell_type": "code",
   "execution_count": 5,
   "metadata": {
    "ExecuteTime": {
     "end_time": "2020-10-26T14:17:35.237566Z",
     "start_time": "2020-10-26T14:17:35.228395Z"
    }
   },
   "outputs": [
    {
     "name": "stdout",
     "output_type": "stream",
     "text": [
      "X_train.shape :  (670, 128, 128, 3)  Y_train.shape :  (670, 128, 128, 1)\n"
     ]
    }
   ],
   "source": [
    "print('X_train.shape : ', X_train.shape, ' Y_train.shape : ',Y_train.shape)"
   ]
  },
  {
   "cell_type": "code",
   "execution_count": 6,
   "metadata": {
    "ExecuteTime": {
     "end_time": "2020-10-26T14:41:08.695434Z",
     "start_time": "2020-10-26T14:17:35.243544Z"
    }
   },
   "outputs": [
    {
     "name": "stdout",
     "output_type": "stream",
     "text": [
      "Getting and resizing train images and masks....\n"
     ]
    },
    {
     "name": "stderr",
     "output_type": "stream",
     "text": [
      "100%|████████████████████████████████████████████████████████████████████████████████| 670/670 [23:33<00:00,  2.11s/it]\n"
     ]
    }
   ],
   "source": [
    "print('Getting and resizing train images and masks....')\n",
    "sys.stdout.flush()\n",
    "for n, id_ in tqdm(enumerate(train_ids), total=len(train_ids)):\n",
    "    path = TRAIN_PATH + id_\n",
    "    img = imread(path + '/images/'+id_ + '.png')[:,:,:IMG_CHANNELS]\n",
    "    img = resize(img, (IMG_HEIGHT, IMG_WIDTH), mode='constant', preserve_range=True)\n",
    "    X_train[n] = img\n",
    "    mask = np.zeros((IMG_HEIGHT, IMG_WIDTH, 1), dtype=np.bool)\n",
    "    for mask_file in next(os.walk(path + '/masks/'))[2]:\n",
    "        mask_ = imread(path + '/masks/' + mask_file)\n",
    "        mask_ = np.expand_dims(resize(mask_, (IMG_HEIGHT, IMG_WIDTH),mode='constant',\n",
    "                                      preserve_range=True), axis=-1)\n",
    "        mask = np.maximum(mask, mask_)\n",
    "    Y_train[n] = mask\n"
   ]
  },
  {
   "cell_type": "code",
   "execution_count": 7,
   "metadata": {
    "ExecuteTime": {
     "end_time": "2020-10-26T14:41:14.806871Z",
     "start_time": "2020-10-26T14:41:08.700540Z"
    },
    "pycharm": {
     "name": "#%%\n"
    }
   },
   "outputs": [
    {
     "name": "stdout",
     "output_type": "stream",
     "text": [
      "Getting and resizing test images\n"
     ]
    },
    {
     "name": "stderr",
     "output_type": "stream",
     "text": [
      "100%|██████████████████████████████████████████████████████████████████████████████████| 65/65 [00:06<00:00, 10.68it/s]"
     ]
    },
    {
     "name": "stdout",
     "output_type": "stream",
     "text": [
      "Done\n"
     ]
    },
    {
     "name": "stderr",
     "output_type": "stream",
     "text": [
      "\n"
     ]
    }
   ],
   "source": [
    "X_test = np.zeros((len(test_ids), IMG_HEIGHT, IMG_WIDTH, IMG_CHANNELS), dtype=np.uint8)\n",
    "sizes_test = []\n",
    "print('Getting and resizing test images')\n",
    "sys.stdout.flush()\n",
    "\n",
    "for n, id_ in tqdm(enumerate(test_ids), total=len(test_ids)):\n",
    "    path = TEST_PATH + id_\n",
    "    img = imread(path + '/images/'+id_ + '.png')[:,:,:IMG_CHANNELS]\n",
    "    sizes_test.append([img.shape[0], img.shape[1]])\n",
    "    img = resize(img, (IMG_HEIGHT, IMG_WIDTH), mode='constant', preserve_range=True)\n",
    "    X_test[n] = img\n",
    "\n",
    "print('Done')\n"
   ]
  },
  {
   "cell_type": "code",
   "execution_count": 8,
   "metadata": {
    "ExecuteTime": {
     "end_time": "2020-10-26T14:41:15.609051Z",
     "start_time": "2020-10-26T14:41:14.814161Z"
    }
   },
   "outputs": [
    {
     "data": {
      "image/png": "[encoded data removed]",
      "text/plain": [
       "<Figure size 432x288 with 1 Axes>"
      ]
     },
     "metadata": {
      "needs_background": "light"
     },
     "output_type": "display_data"
    },
    {
     "data": {
      "image/png": "[encoded data removed]",
      "text/plain": [
       "<Figure size 432x288 with 1 Axes>"
      ]
     },
     "metadata": {
      "needs_background": "light"
     },
     "output_type": "display_data"
    }
   ],
   "source": [
    "# 이제 무작위 image와 mask를 그려서 괜찮은 상황인지 보자.\n",
    "\n",
    "# check\n",
    "ix = random.randint(0, len(train_ids))\n",
    "imshow(X_train[ix])\n",
    "plt.show()\n",
    "imshow((np.squeeze(Y_train[ix])))\n",
    "plt.show()\n"
   ]
  },
  {
   "cell_type": "markdown",
   "metadata": {
    "pycharm": {
     "name": "#%% md\n"
    }
   },
   "source": [
    "## 2. Keras metric 생성\n",
    "이제 케라스에서 조합(IoU) 임계값 메트릭을 서로 다른 교차로에서 평균 정밀도를 정의하려고 한다.\n",
    "텐서플로우는 평균 IoU 메트릭이 있지만 다중 임계값에 대한 평균에 대한 기본 지원이 없어 이를 구현하려고 했다.\n",
    "(하지만 저자가 이 구현이 올바른지 결코 확신할 수 없는 점 참고바란다.)\n",
    "\n",
    "업데이트: 여기에서 보고된 결과와 LB 결과 간의 차이가 매우 크기 때문에 이 구현이 가장 분명하지 않다.\n",
    "그것은 또한 시간이 지남에 따라 당신이 언제 훈련을 받든 간에 증가하는 것처럼 보인다\n"
   ]
  },
  {
   "cell_type": "code",
   "execution_count": 9,
   "metadata": {
    "ExecuteTime": {
     "end_time": "2020-10-26T14:41:15.626605Z",
     "start_time": "2020-10-26T14:41:15.614516Z"
    }
   },
   "outputs": [],
   "source": [
    "# Define Iou  metric\n",
    "def mean_iou(y_true, y_pred):\n",
    "    prec =[]\n",
    "    for t in np.arange(0.5, 1.0, 0.05):\n",
    "        y_pred_ = tf.to_int32(y_pred > t)\n",
    "        score, up_opt= tf.metrics.mean_iou(y_true, y_pred, 2)\n",
    "        tf.keras.backend.get_session().run(tf.local_variables_initializer())\n",
    "        with tf.control_dependencies([up_opt]):\n",
    "            score = tf.identity(score)\n",
    "        prec.append(score)\n",
    "\n",
    "    return tf.keras.backend.mean(tf.keras.backend.stack(prec), axis=0)\n"
   ]
  },
  {
   "cell_type": "markdown",
   "metadata": {
    "pycharm": {
     "name": "#%% md\n"
    }
   },
   "source": [
    "## 3. neural network 생성 및 훈련"
   ]
  },
  {
   "cell_type": "code",
   "execution_count": 10,
   "metadata": {
    "ExecuteTime": {
     "end_time": "2020-10-26T14:41:20.022844Z",
     "start_time": "2020-10-26T14:41:15.631433Z"
    }
   },
   "outputs": [
    {
     "name": "stdout",
     "output_type": "stream",
     "text": [
      "WARNING:tensorflow:From c:\\users\\hanbit\\appdata\\local\\programs\\python\\python37\\lib\\site-packages\\tensorflow\\python\\autograph\\converters\\directives.py:130: The name tf.keras.backend.get_session is deprecated. Please use tf.compat.v1.keras.backend.get_session instead.\n",
      "\n",
      "WARNING:tensorflow:From <ipython-input-9-c29cd5c32711>:5: to_int32 (from tensorflow.python.ops.math_ops) is deprecated and will be removed in a future version.\n",
      "Instructions for updating:\n",
      "Use `tf.cast` instead.\n",
      "Model: \"functional_1\"\n",
      "__________________________________________________________________________________________________\n",
      "Layer (type)                    Output Shape         Param #     Connected to                     \n",
      "==================================================================================================\n",
      "input_1 (InputLayer)            [(None, 128, 128, 3) 0                                            \n",
      "__________________________________________________________________________________________________\n",
      "lambda (Lambda)                 (None, 128, 128, 3)  0           input_1[0][0]                    \n",
      "__________________________________________________________________________________________________\n",
      "conv2d (Conv2D)                 (None, 128, 128, 16) 448         lambda[0][0]                     \n",
      "__________________________________________________________________________________________________\n",
      "dropout (Dropout)               (None, 128, 128, 16) 0           conv2d[0][0]                     \n",
      "__________________________________________________________________________________________________\n",
      "conv2d_1 (Conv2D)               (None, 128, 128, 16) 2320        dropout[0][0]                    \n",
      "__________________________________________________________________________________________________\n",
      "max_pooling2d (MaxPooling2D)    (None, 64, 64, 16)   0           conv2d_1[0][0]                   \n",
      "__________________________________________________________________________________________________\n",
      "conv2d_2 (Conv2D)               (None, 64, 64, 32)   4640        max_pooling2d[0][0]              \n",
      "__________________________________________________________________________________________________\n",
      "dropout_1 (Dropout)             (None, 64, 64, 32)   0           conv2d_2[0][0]                   \n",
      "__________________________________________________________________________________________________\n",
      "conv2d_3 (Conv2D)               (None, 64, 64, 32)   9248        dropout_1[0][0]                  \n",
      "__________________________________________________________________________________________________\n",
      "max_pooling2d_1 (MaxPooling2D)  (None, 32, 32, 32)   0           conv2d_3[0][0]                   \n",
      "__________________________________________________________________________________________________\n",
      "conv2d_4 (Conv2D)               (None, 32, 32, 64)   18496       max_pooling2d_1[0][0]            \n",
      "__________________________________________________________________________________________________\n",
      "dropout_2 (Dropout)             (None, 32, 32, 64)   0           conv2d_4[0][0]                   \n",
      "__________________________________________________________________________________________________\n",
      "conv2d_5 (Conv2D)               (None, 32, 32, 64)   36928       dropout_2[0][0]                  \n",
      "__________________________________________________________________________________________________\n",
      "max_pooling2d_2 (MaxPooling2D)  (None, 16, 16, 64)   0           conv2d_5[0][0]                   \n",
      "__________________________________________________________________________________________________\n",
      "conv2d_6 (Conv2D)               (None, 16, 16, 128)  73856       max_pooling2d_2[0][0]            \n",
      "__________________________________________________________________________________________________\n",
      "dropout_3 (Dropout)             (None, 16, 16, 128)  0           conv2d_6[0][0]                   \n",
      "__________________________________________________________________________________________________\n",
      "conv2d_7 (Conv2D)               (None, 16, 16, 128)  147584      dropout_3[0][0]                  \n",
      "__________________________________________________________________________________________________\n",
      "max_pooling2d_3 (MaxPooling2D)  (None, 8, 8, 128)    0           conv2d_7[0][0]                   \n",
      "__________________________________________________________________________________________________\n",
      "conv2d_8 (Conv2D)               (None, 8, 8, 256)    295168      max_pooling2d_3[0][0]            \n",
      "__________________________________________________________________________________________________\n",
      "dropout_4 (Dropout)             (None, 8, 8, 256)    0           conv2d_8[0][0]                   \n",
      "__________________________________________________________________________________________________\n",
      "conv2d_9 (Conv2D)               (None, 8, 8, 256)    590080      dropout_4[0][0]                  \n",
      "__________________________________________________________________________________________________\n",
      "conv2d_transpose (Conv2DTranspo (None, 16, 16, 128)  131200      conv2d_9[0][0]                   \n",
      "__________________________________________________________________________________________________\n",
      "concatenate (Concatenate)       (None, 16, 16, 256)  0           conv2d_transpose[0][0]           \n",
      "                                                                 conv2d_7[0][0]                   \n",
      "__________________________________________________________________________________________________\n",
      "conv2d_10 (Conv2D)              (None, 16, 16, 128)  295040      concatenate[0][0]                \n",
      "__________________________________________________________________________________________________\n",
      "dropout_5 (Dropout)             (None, 16, 16, 128)  0           conv2d_10[0][0]                  \n",
      "__________________________________________________________________________________________________\n",
      "conv2d_11 (Conv2D)              (None, 16, 16, 128)  147584      dropout_5[0][0]                  \n",
      "__________________________________________________________________________________________________\n",
      "conv2d_transpose_1 (Conv2DTrans (None, 32, 32, 64)   32832       conv2d_11[0][0]                  \n",
      "__________________________________________________________________________________________________\n",
      "concatenate_1 (Concatenate)     (None, 32, 32, 128)  0           conv2d_transpose_1[0][0]         \n",
      "                                                                 conv2d_5[0][0]                   \n",
      "__________________________________________________________________________________________________\n",
      "conv2d_12 (Conv2D)              (None, 32, 32, 64)   73792       concatenate_1[0][0]              \n",
      "__________________________________________________________________________________________________\n",
      "dropout_6 (Dropout)             (None, 32, 32, 64)   0           conv2d_12[0][0]                  \n",
      "__________________________________________________________________________________________________\n",
      "conv2d_13 (Conv2D)              (None, 32, 32, 64)   36928       dropout_6[0][0]                  \n",
      "__________________________________________________________________________________________________\n",
      "conv2d_transpose_2 (Conv2DTrans (None, 64, 64, 32)   8224        conv2d_13[0][0]                  \n",
      "__________________________________________________________________________________________________\n",
      "concatenate_2 (Concatenate)     (None, 64, 64, 64)   0           conv2d_transpose_2[0][0]         \n",
      "                                                                 conv2d_3[0][0]                   \n",
      "__________________________________________________________________________________________________\n",
      "conv2d_14 (Conv2D)              (None, 64, 64, 32)   18464       concatenate_2[0][0]              \n",
      "__________________________________________________________________________________________________\n",
      "dropout_7 (Dropout)             (None, 64, 64, 32)   0           conv2d_14[0][0]                  \n",
      "__________________________________________________________________________________________________\n",
      "conv2d_15 (Conv2D)              (None, 64, 64, 32)   9248        dropout_7[0][0]                  \n",
      "__________________________________________________________________________________________________\n",
      "conv2d_transpose_3 (Conv2DTrans (None, 128, 128, 16) 2064        conv2d_15[0][0]                  \n",
      "__________________________________________________________________________________________________\n",
      "concatenate_3 (Concatenate)     (None, 128, 128, 32) 0           conv2d_transpose_3[0][0]         \n",
      "                                                                 conv2d_1[0][0]                   \n",
      "__________________________________________________________________________________________________\n",
      "conv2d_16 (Conv2D)              (None, 128, 128, 16) 4624        concatenate_3[0][0]              \n",
      "__________________________________________________________________________________________________\n",
      "dropout_8 (Dropout)             (None, 128, 128, 16) 0           conv2d_16[0][0]                  \n",
      "__________________________________________________________________________________________________\n",
      "conv2d_17 (Conv2D)              (None, 128, 128, 16) 2320        dropout_8[0][0]                  \n",
      "__________________________________________________________________________________________________\n",
      "conv2d_18 (Conv2D)              (None, 128, 128, 1)  17          conv2d_17[0][0]                  \n",
      "==================================================================================================\n",
      "Total params: 1,941,105\n",
      "Trainable params: 1,941,105\n",
      "Non-trainable params: 0\n",
      "__________________________________________________________________________________________________\n"
     ]
    }
   ],
   "source": [
    "inputs = Input((IMG_HEIGHT, IMG_WIDTH, IMG_CHANNELS))\n",
    "s = Lambda(lambda x: x/255) (inputs)\n",
    "\n",
    "c1 = Conv2D(16, (3,3), activation='elu', kernel_initializer='he_normal', padding='same')(s)\n",
    "c1 = Dropout(0.1)(c1)\n",
    "c1 = Conv2D(16, (3,3), activation='elu', kernel_initializer='he_normal', padding='same')(c1)\n",
    "p1 = MaxPooling2D((2,2)) (c1)\n",
    "\n",
    "c2 = Conv2D(32, (3,3), activation='elu', kernel_initializer='he_normal', padding='same')(p1)\n",
    "c2 = Dropout(0.1)(c2)\n",
    "c2 = Conv2D(32, (3,3), activation='elu', kernel_initializer='he_normal', padding='same')(c2)\n",
    "p2 = MaxPooling2D((2,2)) (c2)\n",
    "\n",
    "c3 = Conv2D(64, (3,3), activation='elu', kernel_initializer='he_normal', padding='same')(p2)\n",
    "c3 = Dropout(0.2)(c3)\n",
    "c3 = Conv2D(64, (3,3), activation='elu', kernel_initializer='he_normal', padding='same')(c3)\n",
    "p3 = MaxPooling2D((2,2)) (c3)\n",
    "\n",
    "c4 = Conv2D(128, (3,3), activation='elu', kernel_initializer='he_normal', padding='same')(p3)\n",
    "c4 = Dropout(0.2)(c4)\n",
    "c4 = Conv2D(128, (3,3), activation='elu', kernel_initializer='he_normal', padding='same')(c4)\n",
    "p4 = MaxPooling2D(pool_size=(2,2)) (c4)\n",
    "\n",
    "c5 = Conv2D(256, (3,3), activation='elu', kernel_initializer='he_normal', padding='same')(p4)\n",
    "c5 = Dropout(0.3)(c5)\n",
    "c5 = Conv2D(256, (3,3), activation='elu', kernel_initializer='he_normal', padding='same')(c5)\n",
    "\n",
    "u6 = Conv2DTranspose(128, (2,2), strides=(2,2), padding='same')(c5)\n",
    "u6 = concatenate([u6, c4])\n",
    "c6 = Conv2D(128, (3,3), activation='elu', kernel_initializer='he_normal', padding='same')(u6)\n",
    "c6 = Dropout(0.2)(c6)\n",
    "c6 = Conv2D(128, (3,3), activation='elu', kernel_initializer='he_normal', padding='same')(c6)\n",
    "\n",
    "u7 = Conv2DTranspose(64, (2,2), strides=(2,2), padding='same')(c6)\n",
    "u7 = concatenate([u7, c3])\n",
    "c7 = Conv2D(64, (3,3), activation='elu', kernel_initializer='he_normal', padding='same')(u7)\n",
    "c7 = Dropout(0.2)(c7)\n",
    "c7 = Conv2D(64, (3,3), activation='elu', kernel_initializer='he_normal', padding='same')(c7)\n",
    "\n",
    "u8 = Conv2DTranspose(32, (2,2), strides=(2,2), padding='same')(c7)\n",
    "u8 = concatenate([u8, c2])\n",
    "c8 = Conv2D(32, (3,3), activation='elu', kernel_initializer='he_normal', padding='same')(u8)\n",
    "c8 = Dropout(0.1)(c8)\n",
    "c8 = Conv2D(32, (3,3), activation='elu', kernel_initializer='he_normal', padding='same')(c8)\n",
    "\n",
    "u9 = Conv2DTranspose(16, (2,2), strides=(2,2), padding='same')(c8)\n",
    "u9 = concatenate([u9, c1], axis=3)\n",
    "c9 = Conv2D(16, (3,3), activation='elu', kernel_initializer='he_normal', padding='same')(u9)\n",
    "c9 = Dropout(0.1)(c9)\n",
    "c9 = Conv2D(16, (3,3), activation='elu', kernel_initializer='he_normal', padding='same')(c9)\n",
    "\n",
    "outputs = Conv2D(1, (1,1), activation='sigmoid') (c9)\n",
    "\n",
    "model = Model(inputs=[inputs], outputs = [outputs])\n",
    "model.compile(optimizer='adam', loss='binary_crossentropy', metrics=[mean_iou])\n",
    "model.summary()"
   ]
  },
  {
   "cell_type": "markdown",
   "metadata": {
    "pycharm": {
     "name": "#%% md\n"
    }
   },
   "source": [
    "업데이트: ELU 유닛으로 변경, 중도 탈락 추가.\n",
    "\n",
    "다음으로 0.1의 검증 분할을 사용하여 교육 데이터에 모형을 fit시킨다.\n",
    "데이터가 너무 적기 때문에 작은 배치 크기를 사용한다. 모델을 훈련시킬 때 체크포인트와 조기 중지를 사용하는 것을 추천한다.\n",
    "현재의 파라미터로 카글 커널에서 10분 정도 걸리는 10세기를 그냥 훈련시키겠다.\n",
    "\n",
    "업데이트: 조기 정지 및 체크포인트 추가 및 30 epoch까지 증가."
   ]
  },
  {
   "cell_type": "code",
   "execution_count": 11,
   "metadata": {
    "ExecuteTime": {
     "end_time": "2020-10-26T14:52:56.766642Z",
     "start_time": "2020-10-26T14:41:20.028670Z"
    },
    "pycharm": {
     "name": "#%%\n"
    }
   },
   "outputs": [
    {
     "name": "stdout",
     "output_type": "stream",
     "text": [
      "Train on 603 samples, validate on 67 samples\n",
      "Epoch 1/10\n",
      "603/603 [==============================] - ETA: 0s - loss: 0.4038 - mean_iou: 0.3904WARNING:tensorflow:From c:\\users\\hanbit\\appdata\\local\\programs\\python\\python37\\lib\\site-packages\\tensorflow\\python\\keras\\engine\\training_v1.py:2048: Model.state_updates (from tensorflow.python.keras.engine.training) is deprecated and will be removed in a future version.\n",
      "Instructions for updating:\n",
      "This property should not be used in TensorFlow 2.0, as updates are applied automatically.\n",
      "\n",
      "Epoch 00001: val_loss improved from inf to 0.21397, saving model to model-dsbowl201801.h5\n",
      "603/603 [==============================] - 67s 111ms/sample - loss: 0.4038 - mean_iou: 0.3904 - val_loss: 0.2140 - val_mean_iou: 0.3988\n",
      "Epoch 2/10\n",
      "603/603 [==============================] - ETA: 0s - loss: 0.1877 - mean_iou: 0.3998\n",
      "Epoch 00002: val_loss improved from 0.21397 to 0.15014, saving model to model-dsbowl201801.h5\n",
      "603/603 [==============================] - 67s 110ms/sample - loss: 0.1877 - mean_iou: 0.3998 - val_loss: 0.1501 - val_mean_iou: 0.3994\n",
      "Epoch 3/10\n",
      "603/603 [==============================] - ETA: 0s - loss: 0.1503 - mean_iou: 0.3995\n",
      "Epoch 00003: val_loss did not improve from 0.15014\n",
      "603/603 [==============================] - 67s 111ms/sample - loss: 0.1503 - mean_iou: 0.3995 - val_loss: 0.1772 - val_mean_iou: 0.3996\n",
      "Epoch 4/10\n",
      "603/603 [==============================] - ETA: 0s - loss: 0.1430 - mean_iou: 0.3999\n",
      "Epoch 00004: val_loss improved from 0.15014 to 0.13813, saving model to model-dsbowl201801.h5\n",
      "603/603 [==============================] - 68s 112ms/sample - loss: 0.1430 - mean_iou: 0.3999 - val_loss: 0.1381 - val_mean_iou: 0.3996\n",
      "Epoch 5/10\n",
      "603/603 [==============================] - ETA: 0s - loss: 0.1247 - mean_iou: 0.3996\n",
      "Epoch 00005: val_loss improved from 0.13813 to 0.13282, saving model to model-dsbowl201801.h5\n",
      "603/603 [==============================] - 68s 113ms/sample - loss: 0.1247 - mean_iou: 0.3996 - val_loss: 0.1328 - val_mean_iou: 0.3996\n",
      "Epoch 6/10\n",
      "603/603 [==============================] - ETA: 0s - loss: 0.1204 - mean_iou: 0.3998\n",
      "Epoch 00006: val_loss improved from 0.13282 to 0.12188, saving model to model-dsbowl201801.h5\n",
      "603/603 [==============================] - 68s 112ms/sample - loss: 0.1204 - mean_iou: 0.3998 - val_loss: 0.1219 - val_mean_iou: 0.3996\n",
      "Epoch 7/10\n",
      "603/603 [==============================] - ETA: 0s - loss: 0.1165 - mean_iou: 0.3997\n",
      "Epoch 00007: val_loss improved from 0.12188 to 0.11546, saving model to model-dsbowl201801.h5\n",
      "603/603 [==============================] - 68s 112ms/sample - loss: 0.1165 - mean_iou: 0.3997 - val_loss: 0.1155 - val_mean_iou: 0.3996\n",
      "Epoch 8/10\n",
      "603/603 [==============================] - ETA: 0s - loss: 0.1121 - mean_iou: 0.3997\n",
      "Epoch 00008: val_loss improved from 0.11546 to 0.10170, saving model to model-dsbowl201801.h5\n",
      "603/603 [==============================] - 68s 112ms/sample - loss: 0.1121 - mean_iou: 0.3997 - val_loss: 0.1017 - val_mean_iou: 0.3997\n",
      "Epoch 9/10\n",
      "603/603 [==============================] - ETA: 0s - loss: 0.1052 - mean_iou: 0.3998\n",
      "Epoch 00009: val_loss did not improve from 0.10170\n",
      "603/603 [==============================] - 68s 112ms/sample - loss: 0.1052 - mean_iou: 0.3998 - val_loss: 0.1034 - val_mean_iou: 0.3997\n",
      "Epoch 10/10\n",
      "603/603 [==============================] - ETA: 0s - loss: 0.1034 - mean_iou: 0.3998\n",
      "Epoch 00010: val_loss improved from 0.10170 to 0.08954, saving model to model-dsbowl201801.h5\n",
      "603/603 [==============================] - 68s 113ms/sample - loss: 0.1034 - mean_iou: 0.3998 - val_loss: 0.0895 - val_mean_iou: 0.3997\n"
     ]
    }
   ],
   "source": [
    "# Fit model\n",
    "earlystopper = EarlyStopping(patience=5, verbose=1)\n",
    "checkpointer = ModelCheckpoint('model-dsbowl201801.h5', verbose=1, save_best_only=True)\n",
    "# epoch 50 -> 10\n",
    "results = model.fit(X_train, Y_train, validation_split = 0.1, batch_size=16, epochs=10,\n",
    "                    callbacks=[earlystopper, checkpointer])\n"
   ]
  },
  {
   "cell_type": "markdown",
   "metadata": {},
   "source": [
    "- 10번의 시도 결과, loss 값은 계속 줄어들고 있음을 알 수있다."
   ]
  },
  {
   "cell_type": "markdown",
   "metadata": {
    "pycharm": {
     "name": "#%% md\n"
    }
   },
   "source": [
    "## 4. 예측 모형 만들기"
   ]
  },
  {
   "cell_type": "markdown",
   "metadata": {
    "pycharm": {
     "name": "#%%\n"
    }
   },
   "source": [
    "testset, trainset, valset 을 데이터를 이제 예측해보자."
   ]
  },
  {
   "cell_type": "code",
   "execution_count": 13,
   "metadata": {
    "ExecuteTime": {
     "end_time": "2020-10-26T16:03:55.355114Z",
     "start_time": "2020-10-26T16:03:37.419486Z"
    },
    "pycharm": {
     "name": "#%%\n"
    }
   },
   "outputs": [],
   "source": [
    "# Predict on train, val and test\n",
    "model = load_model('model-dsbowl201801.h5', custom_objects={'mean_iou':mean_iou})\n",
    "preds_train = model.predict(X_train[:int(X_train.shape[0]*0.9)], verbose=1)\n",
    "preds_val = model.predict(X_train[int(X_train.shape[0]*0.9):], verbose=1)\n",
    "preds_test = model.predict(X_test, verbose=1)"
   ]
  },
  {
   "cell_type": "code",
   "execution_count": 14,
   "metadata": {
    "ExecuteTime": {
     "end_time": "2020-10-26T16:05:00.547792Z",
     "start_time": "2020-10-26T16:05:00.524541Z"
    },
    "pycharm": {
     "name": "#%%\n"
    }
   },
   "outputs": [],
   "source": [
    "# Treshold predictions (임계값 예측) : 0.5 이상인 값만 가져오겠다.\n",
    "preds_train_t = (preds_train > 0.5).astype(np.uint8)\n",
    "preds_val_t = (preds_val > 0.5).astype(np.uint8)\n",
    "preds_test_t = (preds_test > 0.5).astype(np.uint8)"
   ]
  },
  {
   "cell_type": "code",
   "execution_count": 16,
   "metadata": {
    "ExecuteTime": {
     "end_time": "2020-10-26T16:06:42.778403Z",
     "start_time": "2020-10-26T16:06:41.950151Z"
    },
    "pycharm": {
     "name": "#%%\n"
    }
   },
   "outputs": [],
   "source": [
    "preds_test_unsampled = []\n",
    "for i in range(len(preds_test)):\n",
    "    preds_test_unsampled.append(resize(np.squeeze(preds_test[i]),\n",
    "                                       (sizes_test[i][0], sizes_test[i][1]),\n",
    "                                mode='constant', preserve_range=True))\n",
    "\n",
    "    "
   ]
  },
  {
   "cell_type": "code",
   "execution_count": 18,
   "metadata": {
    "ExecuteTime": {
     "end_time": "2020-10-26T16:09:08.362228Z",
     "start_time": "2020-10-26T16:09:07.538893Z"
    },
    "pycharm": {
     "name": "#%%\n"
    }
   },
   "outputs": [
    {
     "data": {
      "image/png": "[encoded data removed]",
      "text/plain": [
       "<Figure size 432x288 with 1 Axes>"
      ]
     },
     "metadata": {
      "needs_background": "light"
     },
     "output_type": "display_data"
    },
    {
     "data": {
      "image/png": "[encoded data removed]",
      "text/plain": [
       "<Figure size 432x288 with 1 Axes>"
      ]
     },
     "metadata": {
      "needs_background": "light"
     },
     "output_type": "display_data"
    },
    {
     "data": {
      "image/png": "[encoded data removed]",
      "text/plain": [
       "<Figure size 432x288 with 2 Axes>"
      ]
     },
     "metadata": {
      "needs_background": "light"
     },
     "output_type": "display_data"
    }
   ],
   "source": [
    "# 일부 랜덤 training 샘플이 맞는지 체크\n",
    "ix = random.randint(0, len(preds_test_t))\n",
    "imshow(X_train[ix])\n",
    "plt.show()\n",
    "imshow(np.squeeze(Y_train[ix]))\n",
    "plt.show()\n",
    "imshow(np.squeeze(preds_test_t[ix]))\n",
    "plt.show()"
   ]
  },
  {
   "cell_type": "markdown",
   "metadata": {
    "pycharm": {
     "name": "#%%\n"
    }
   },
   "source": [
    "모델은 최소한 훈련 데이터에 접합할 수 있다. 여기서에도 개선해야할 점은 많겠지만 괜찮다.!! 검증데이터도 알아보자."
   ]
  },
  {
   "cell_type": "code",
   "execution_count": 19,
   "metadata": {
    "ExecuteTime": {
     "end_time": "2020-10-26T16:17:04.229957Z",
     "start_time": "2020-10-26T16:17:03.826995Z"
    },
    "pycharm": {
     "name": "#%%\n"
    }
   },
   "outputs": [
    {
     "data": {
      "image/png": "[encoded data removed]",
      "text/plain": [
       "<Figure size 432x288 with 1 Axes>"
      ]
     },
     "metadata": {
      "needs_background": "light"
     },
     "output_type": "display_data"
    },
    {
     "data": {
      "image/png": "[encoded data removed]",
      "text/plain": [
       "<Figure size 432x288 with 1 Axes>"
      ]
     },
     "metadata": {
      "needs_background": "light"
     },
     "output_type": "display_data"
    },
    {
     "data": {
      "image/png": "[encoded data removed]",
      "text/plain": [
       "<Figure size 432x288 with 2 Axes>"
      ]
     },
     "metadata": {
      "needs_background": "light"
     },
     "output_type": "display_data"
    }
   ],
   "source": [
    "# Perform a sanity check on some random validation samples\n",
    "ix = random.randint(0, len(preds_val_t))\n",
    "imshow(X_train[int(X_train.shape[0]*0.9):][ix])\n",
    "plt.show()\n",
    "imshow(np.squeeze(Y_train[int(Y_train.shape[0]*0.9):][ix]))\n",
    "plt.show()\n",
    "imshow(np.squeeze(preds_val_t[ix]))\n",
    "plt.show()"
   ]
  },
  {
   "cell_type": "markdown",
   "metadata": {},
   "source": [
    "데이터가 나쁘진 않지만, 좀더 많은 training과 update가 필요할 것 같다."
   ]
  },
  {
   "cell_type": "markdown",
   "metadata": {},
   "source": [
    "## 5. 인코드, 결과물 제출하기"
   ]
  },
  {
   "cell_type": "markdown",
   "metadata": {},
   "source": [
    "이제 결과를 제출하기 위해 encoding 작업을 해보자.\n",
    "Run-length encoding stolen은 [이 사이트]( https://www.kaggle.com/rakhlin/fast-run-length-encoding-python)에 잘나와있다. "
   ]
  },
  {
   "cell_type": "code",
   "execution_count": 23,
   "metadata": {
    "ExecuteTime": {
     "end_time": "2020-10-26T16:22:27.260672Z",
     "start_time": "2020-10-26T16:22:27.254691Z"
    }
   },
   "outputs": [],
   "source": [
    "def rle_encoding(x):\n",
    "    dots = np.where(x.T.flatten() ==1)[0]\n",
    "    run_lengths = []\n",
    "    prev = -2\n",
    "    for b in dots:\n",
    "        if (b>prev+1) : run_lengths.extend((b+1, 0))\n",
    "        run_lengths[-1] += 1\n",
    "        prev = b\n",
    "    return run_lengths\n",
    "\n",
    "def prob_to_rles(x, cutoff=0.5):\n",
    "    lab_img = label(x>cutoff)\n",
    "    for i in range(1, lab_img.max() +1):\n",
    "        yield rle_encoding(lab_img == i)\n",
    "    \n"
   ]
  },
  {
   "cell_type": "markdown",
   "metadata": {},
   "source": [
    "자 이제 skimage에 의해 식별시키기 위해 testID와 일반 run-length 인코딩을 분리해보자. "
   ]
  },
  {
   "cell_type": "code",
   "execution_count": 24,
   "metadata": {
    "ExecuteTime": {
     "end_time": "2020-10-26T16:24:15.132556Z",
     "start_time": "2020-10-26T16:24:13.242261Z"
    }
   },
   "outputs": [],
   "source": [
    "new_test_ids = []\n",
    "rles = []\n",
    "for n, id_ in enumerate(test_ids):\n",
    "    rle = list(prob_to_rles(preds_test_unsampled[n]))\n",
    "    rles.extend(rle)\n",
    "    new_test_ids.extend([id_] * len(rle))"
   ]
  },
  {
   "cell_type": "markdown",
   "metadata": {},
   "source": [
    "그리고 마침네 우리의 제출물을 만들자."
   ]
  },
  {
   "cell_type": "code",
   "execution_count": 29,
   "metadata": {
    "ExecuteTime": {
     "end_time": "2020-10-26T16:32:30.218916Z",
     "start_time": "2020-10-26T16:32:30.126177Z"
    }
   },
   "outputs": [],
   "source": [
    "# 아래 코든느 제출 형식과 맞지 않아 패스!\n",
    "# sub = pd.DataFrame()\n",
    "# sub['ImageId'] = new_test_ids\n",
    "# sub['EncodedPixels'] = pd.Series(rles).apply(lambda x: ' '.join(str(y) for y in x))\n",
    "# sub.to_csv('sub-dsvow12018-1.csv',index=False)"
   ]
  }
 ],
 "metadata": {
  "kernelspec": {
   "display_name": "Python 3",
   "language": "python",
   "name": "python3"
  },
  "language_info": {
   "codemirror_mode": {
    "name": "ipython",
    "version": 3
   },
   "file_extension": ".py",
   "mimetype": "text/x-python",
   "name": "python",
   "nbconvert_exporter": "python",
   "pygments_lexer": "ipython3",
   "version": "3.7.9"
  },
  "toc": {
   "base_numbering": 1,
   "nav_menu": {},
   "number_sections": true,
   "sideBar": true,
   "skip_h1_title": false,
   "title_cell": "Table of Contents",
   "title_sidebar": "Contents",
   "toc_cell": false,
   "toc_position": {
    "height": "calc(100% - 180px)",
    "left": "10px",
    "top": "150px",
    "width": "384.417px"
   },
   "toc_section_display": true,
   "toc_window_display": true
  }
 },
 "nbformat": 4,
 "nbformat_minor": 4
}
