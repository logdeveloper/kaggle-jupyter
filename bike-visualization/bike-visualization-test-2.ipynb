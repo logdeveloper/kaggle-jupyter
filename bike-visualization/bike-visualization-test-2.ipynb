{
 "cells": [
  {
   "cell_type": "code",
   "execution_count": 1,
   "metadata": {},
   "outputs": [],
   "source": [
    "import pandas as pd\n",
    "import numpy as np\n",
    "import matplotlib as mpl\n",
    "import matplotlib.pyplot as plt\n",
    "import seaborn as sns\n",
    "from scipy import stats\n",
    "\n",
    "# 노트북 안에 그래프를 그리기 위해\n",
    "%matplotlib inline\n",
    "\n",
    "# 그래프에서 격자로 숫자 범위가 눈에 잘 띄도록 ggplot 스타일을 사용\n",
    "plt.style.use('ggplot')\n",
    "\n",
    "# 그래프에서 마이너스 폰트 깨지는 문제에 대한 대처\n",
    "mpl.rcParams['axes.unicode_minus'] = False\n",
    "\n",
    "from matplotlib import font_manager, rc\n",
    "font_name = font_manager.FontProperties(fname=\"c:/Windows/Fonts/malgun.ttf\").get_name()\n",
    "rc('font', family=font_name)"
   ]
  },
  {
   "cell_type": "code",
   "execution_count": 2,
   "metadata": {},
   "outputs": [],
   "source": [
    "bike = pd.read_csv('../data/bicycle-hourtime-201905-test.csv', parse_dates=[\"대여일자\"] ,encoding='cp949')"
   ]
  },
  {
   "cell_type": "code",
   "execution_count": 3,
   "metadata": {},
   "outputs": [],
   "source": [
    "bike[\"년\"] = bike[\"대여일자\"].dt.year\n",
    "bike[\"월\"] = bike[\"대여일자\"].dt.month\n",
    "bike[\"일\"] = bike[\"대여일자\"].dt.day"
   ]
  },
  {
   "cell_type": "code",
   "execution_count": 7,
   "metadata": {},
   "outputs": [
    {
     "data": {
      "text/plain": [
       "<bound method NDFrame.describe of             대여일자 요일  요일_New  주중주말구분  대여시간  대여소번호           대여소명  지구  지구_New  \\\n",
       "0     2019-05-01  수       3       0     0    101    (구)합정동 주민센터  주거       0   \n",
       "1     2019-05-01  수       3       0     0    101    (구)합정동 주민센터  주거       0   \n",
       "2     2019-05-01  수       3       0     3    101    (구)합정동 주민센터  주거       0   \n",
       "3     2019-05-01  수       3       0     6    101    (구)합정동 주민센터  주거       0   \n",
       "4     2019-05-01  수       3       0     8    101    (구)합정동 주민센터  주거       0   \n",
       "...          ... ..     ...     ...   ...    ...            ...  ..     ...   \n",
       "69242 2019-05-31  금       5       0    19    439        마포어린이공원  공원       2   \n",
       "69243 2019-05-31  금       5       0    23   3104  e편한세상 신촌4단지 앞  공원       2   \n",
       "69244 2019-05-31  금       5       0    20    439        마포어린이공원  공원       2   \n",
       "69245 2019-05-31  금       5       0    23    439        마포어린이공원  공원       2   \n",
       "69246 2019-05-31  금       5       0    23    439        마포어린이공원  공원       2   \n",
       "\n",
       "       거치대수  ... 연령대코드  연령대코드_New 이용건수     운동량   탄소량   이동거리  사용시간     년  월   일  \n",
       "0         5  ...   20대          2    1   37.37  0.28   1210     8  2019  5   1  \n",
       "1         5  ...   20대          2    1   21.88   0.2    850     9  2019  5   1  \n",
       "2         5  ...   20대          2    1   34.69  0.28   1200     5  2019  5   1  \n",
       "3         5  ...   30대          3    1    27.1  0.27   1180     7  2019  5   1  \n",
       "4         5  ...   20대          2    1   21.78  0.23   1000     6  2019  5   1  \n",
       "...     ...  ...   ...        ...  ...     ...   ...    ...   ...   ... ..  ..  \n",
       "69242    10  ...   30대          3    1   11.06  0.13    570     3  2019  5  31  \n",
       "69243    13  ...   40대          4    1  184.06  1.54   6640    45  2019  5  31  \n",
       "69244    10  ...   20대          2    1  183.28  1.41   6090    35  2019  5  31  \n",
       "69245    10  ...   20대          2    1  167.11  1.96   8440    46  2019  5  31  \n",
       "69246    10  ...   20대          2    1  237.18  2.53  10890    55  2019  5  31  \n",
       "\n",
       "[69247 rows x 24 columns]>"
      ]
     },
     "execution_count": 7,
     "metadata": {},
     "output_type": "execute_result"
    }
   ],
   "source": [
    "bike.describe"
   ]
  },
  {
   "cell_type": "markdown",
   "metadata": {},
   "source": [
    "#### histogram"
   ]
  },
  {
   "cell_type": "code",
   "execution_count": 8,
   "metadata": {},
   "outputs": [
    {
     "ename": "TypeError",
     "evalue": "Cannot cast array data from dtype('int64') to dtype('int32') according to the rule 'safe'",
     "output_type": "error",
     "traceback": [
      "\u001b[1;31m---------------------------------------------------------------------------\u001b[0m",
      "\u001b[1;31mTypeError\u001b[0m                                 Traceback (most recent call last)",
      "\u001b[1;32m<ipython-input-8-90e99766ca64>\u001b[0m in \u001b[0;36m<module>\u001b[1;34m\u001b[0m\n\u001b[0;32m      4\u001b[0m \u001b[1;33m\u001b[0m\u001b[0m\n\u001b[0;32m      5\u001b[0m \u001b[1;31m# sns.barplot(data=bike, x=\"일\", y=\"이용건수\",ax=axes[0][0])\u001b[0m\u001b[1;33m\u001b[0m\u001b[1;33m\u001b[0m\u001b[1;33m\u001b[0m\u001b[0m\n\u001b[1;32m----> 6\u001b[1;33m \u001b[0msns\u001b[0m\u001b[1;33m.\u001b[0m\u001b[0mbarplot\u001b[0m\u001b[1;33m(\u001b[0m\u001b[0mdata\u001b[0m\u001b[1;33m=\u001b[0m\u001b[0mbike\u001b[0m\u001b[1;33m,\u001b[0m \u001b[0mx\u001b[0m\u001b[1;33m=\u001b[0m\u001b[1;34m\"요일\"\u001b[0m\u001b[1;33m,\u001b[0m \u001b[0my\u001b[0m\u001b[1;33m=\u001b[0m\u001b[1;34m\"이용건수\"\u001b[0m\u001b[1;33m,\u001b[0m\u001b[0max\u001b[0m\u001b[1;33m=\u001b[0m\u001b[0maxes\u001b[0m\u001b[1;33m[\u001b[0m\u001b[1;36m0\u001b[0m\u001b[1;33m]\u001b[0m\u001b[1;33m[\u001b[0m\u001b[1;36m1\u001b[0m\u001b[1;33m]\u001b[0m \u001b[1;33m)\u001b[0m\u001b[1;33m\u001b[0m\u001b[1;33m\u001b[0m\u001b[0m\n\u001b[0m\u001b[0;32m      7\u001b[0m \u001b[0msns\u001b[0m\u001b[1;33m.\u001b[0m\u001b[0mbarplot\u001b[0m\u001b[1;33m(\u001b[0m\u001b[0mdata\u001b[0m\u001b[1;33m=\u001b[0m\u001b[0mbike\u001b[0m\u001b[1;33m,\u001b[0m \u001b[0mx\u001b[0m\u001b[1;33m=\u001b[0m\u001b[1;34m\"대여시간\"\u001b[0m\u001b[1;33m,\u001b[0m \u001b[0my\u001b[0m\u001b[1;33m=\u001b[0m\u001b[1;34m\"이용건수\"\u001b[0m\u001b[1;33m,\u001b[0m \u001b[0max\u001b[0m\u001b[1;33m=\u001b[0m\u001b[0maxes\u001b[0m\u001b[1;33m[\u001b[0m\u001b[1;36m1\u001b[0m\u001b[1;33m]\u001b[0m\u001b[1;33m[\u001b[0m\u001b[1;36m0\u001b[0m\u001b[1;33m]\u001b[0m\u001b[1;33m)\u001b[0m\u001b[1;33m\u001b[0m\u001b[1;33m\u001b[0m\u001b[0m\n\u001b[0;32m      8\u001b[0m \u001b[0msns\u001b[0m\u001b[1;33m.\u001b[0m\u001b[0mbarplot\u001b[0m\u001b[1;33m(\u001b[0m\u001b[0mdata\u001b[0m\u001b[1;33m=\u001b[0m\u001b[0mbike\u001b[0m\u001b[1;33m,\u001b[0m \u001b[0mx\u001b[0m\u001b[1;33m=\u001b[0m\u001b[1;34m\"연령대코드\"\u001b[0m\u001b[1;33m,\u001b[0m \u001b[0my\u001b[0m\u001b[1;33m=\u001b[0m\u001b[1;34m\"이용건수\"\u001b[0m\u001b[1;33m,\u001b[0m \u001b[0max\u001b[0m\u001b[1;33m=\u001b[0m\u001b[0maxes\u001b[0m\u001b[1;33m[\u001b[0m\u001b[1;36m1\u001b[0m\u001b[1;33m]\u001b[0m\u001b[1;33m[\u001b[0m\u001b[1;36m1\u001b[0m\u001b[1;33m]\u001b[0m \u001b[1;33m)\u001b[0m\u001b[1;33m\u001b[0m\u001b[1;33m\u001b[0m\u001b[0m\n",
      "\u001b[1;32mc:\\users\\hanbit\\appdata\\local\\programs\\python\\python38-32\\lib\\site-packages\\seaborn\\categorical.py\u001b[0m in \u001b[0;36mbarplot\u001b[1;34m(x, y, hue, data, order, hue_order, estimator, ci, n_boot, units, seed, orient, color, palette, saturation, errcolor, errwidth, capsize, dodge, ax, **kwargs)\u001b[0m\n\u001b[0;32m   3145\u001b[0m             ax=None, **kwargs):\n\u001b[0;32m   3146\u001b[0m \u001b[1;33m\u001b[0m\u001b[0m\n\u001b[1;32m-> 3147\u001b[1;33m     plotter = _BarPlotter(x, y, hue, data, order, hue_order,\n\u001b[0m\u001b[0;32m   3148\u001b[0m                           \u001b[0mestimator\u001b[0m\u001b[1;33m,\u001b[0m \u001b[0mci\u001b[0m\u001b[1;33m,\u001b[0m \u001b[0mn_boot\u001b[0m\u001b[1;33m,\u001b[0m \u001b[0munits\u001b[0m\u001b[1;33m,\u001b[0m \u001b[0mseed\u001b[0m\u001b[1;33m,\u001b[0m\u001b[1;33m\u001b[0m\u001b[1;33m\u001b[0m\u001b[0m\n\u001b[0;32m   3149\u001b[0m                           \u001b[0morient\u001b[0m\u001b[1;33m,\u001b[0m \u001b[0mcolor\u001b[0m\u001b[1;33m,\u001b[0m \u001b[0mpalette\u001b[0m\u001b[1;33m,\u001b[0m \u001b[0msaturation\u001b[0m\u001b[1;33m,\u001b[0m\u001b[1;33m\u001b[0m\u001b[1;33m\u001b[0m\u001b[0m\n",
      "\u001b[1;32mc:\\users\\hanbit\\appdata\\local\\programs\\python\\python38-32\\lib\\site-packages\\seaborn\\categorical.py\u001b[0m in \u001b[0;36m__init__\u001b[1;34m(self, x, y, hue, data, order, hue_order, estimator, ci, n_boot, units, seed, orient, color, palette, saturation, errcolor, errwidth, capsize, dodge)\u001b[0m\n\u001b[0;32m   1615\u001b[0m                                  order, hue_order, units)\n\u001b[0;32m   1616\u001b[0m         \u001b[0mself\u001b[0m\u001b[1;33m.\u001b[0m\u001b[0mestablish_colors\u001b[0m\u001b[1;33m(\u001b[0m\u001b[0mcolor\u001b[0m\u001b[1;33m,\u001b[0m \u001b[0mpalette\u001b[0m\u001b[1;33m,\u001b[0m \u001b[0msaturation\u001b[0m\u001b[1;33m)\u001b[0m\u001b[1;33m\u001b[0m\u001b[1;33m\u001b[0m\u001b[0m\n\u001b[1;32m-> 1617\u001b[1;33m         \u001b[0mself\u001b[0m\u001b[1;33m.\u001b[0m\u001b[0mestimate_statistic\u001b[0m\u001b[1;33m(\u001b[0m\u001b[0mestimator\u001b[0m\u001b[1;33m,\u001b[0m \u001b[0mci\u001b[0m\u001b[1;33m,\u001b[0m \u001b[0mn_boot\u001b[0m\u001b[1;33m,\u001b[0m \u001b[0mseed\u001b[0m\u001b[1;33m)\u001b[0m\u001b[1;33m\u001b[0m\u001b[1;33m\u001b[0m\u001b[0m\n\u001b[0m\u001b[0;32m   1618\u001b[0m \u001b[1;33m\u001b[0m\u001b[0m\n\u001b[0;32m   1619\u001b[0m         \u001b[0mself\u001b[0m\u001b[1;33m.\u001b[0m\u001b[0mdodge\u001b[0m \u001b[1;33m=\u001b[0m \u001b[0mdodge\u001b[0m\u001b[1;33m\u001b[0m\u001b[1;33m\u001b[0m\u001b[0m\n",
      "\u001b[1;32mc:\\users\\hanbit\\appdata\\local\\programs\\python\\python38-32\\lib\\site-packages\\seaborn\\categorical.py\u001b[0m in \u001b[0;36mestimate_statistic\u001b[1;34m(self, estimator, ci, n_boot, seed)\u001b[0m\n\u001b[0;32m   1514\u001b[0m                     \u001b[1;32melse\u001b[0m\u001b[1;33m:\u001b[0m\u001b[1;33m\u001b[0m\u001b[1;33m\u001b[0m\u001b[0m\n\u001b[0;32m   1515\u001b[0m \u001b[1;33m\u001b[0m\u001b[0m\n\u001b[1;32m-> 1516\u001b[1;33m                         boots = bootstrap(stat_data, func=estimator,\n\u001b[0m\u001b[0;32m   1517\u001b[0m                                           \u001b[0mn_boot\u001b[0m\u001b[1;33m=\u001b[0m\u001b[0mn_boot\u001b[0m\u001b[1;33m,\u001b[0m\u001b[1;33m\u001b[0m\u001b[1;33m\u001b[0m\u001b[0m\n\u001b[0;32m   1518\u001b[0m                                           \u001b[0munits\u001b[0m\u001b[1;33m=\u001b[0m\u001b[0munit_data\u001b[0m\u001b[1;33m,\u001b[0m\u001b[1;33m\u001b[0m\u001b[1;33m\u001b[0m\u001b[0m\n",
      "\u001b[1;32mc:\\users\\hanbit\\appdata\\local\\programs\\python\\python38-32\\lib\\site-packages\\seaborn\\algorithms.py\u001b[0m in \u001b[0;36mbootstrap\u001b[1;34m(*args, **kwargs)\u001b[0m\n\u001b[0;32m     83\u001b[0m     \u001b[1;32mfor\u001b[0m \u001b[0mi\u001b[0m \u001b[1;32min\u001b[0m \u001b[0mrange\u001b[0m\u001b[1;33m(\u001b[0m\u001b[0mint\u001b[0m\u001b[1;33m(\u001b[0m\u001b[0mn_boot\u001b[0m\u001b[1;33m)\u001b[0m\u001b[1;33m)\u001b[0m\u001b[1;33m:\u001b[0m\u001b[1;33m\u001b[0m\u001b[1;33m\u001b[0m\u001b[0m\n\u001b[0;32m     84\u001b[0m         \u001b[0mresampler\u001b[0m \u001b[1;33m=\u001b[0m \u001b[0mintegers\u001b[0m\u001b[1;33m(\u001b[0m\u001b[1;36m0\u001b[0m\u001b[1;33m,\u001b[0m \u001b[0mn\u001b[0m\u001b[1;33m,\u001b[0m \u001b[0mn\u001b[0m\u001b[1;33m)\u001b[0m\u001b[1;33m\u001b[0m\u001b[1;33m\u001b[0m\u001b[0m\n\u001b[1;32m---> 85\u001b[1;33m         \u001b[0msample\u001b[0m \u001b[1;33m=\u001b[0m \u001b[1;33m[\u001b[0m\u001b[0ma\u001b[0m\u001b[1;33m.\u001b[0m\u001b[0mtake\u001b[0m\u001b[1;33m(\u001b[0m\u001b[0mresampler\u001b[0m\u001b[1;33m,\u001b[0m \u001b[0maxis\u001b[0m\u001b[1;33m=\u001b[0m\u001b[1;36m0\u001b[0m\u001b[1;33m)\u001b[0m \u001b[1;32mfor\u001b[0m \u001b[0ma\u001b[0m \u001b[1;32min\u001b[0m \u001b[0margs\u001b[0m\u001b[1;33m]\u001b[0m\u001b[1;33m\u001b[0m\u001b[1;33m\u001b[0m\u001b[0m\n\u001b[0m\u001b[0;32m     86\u001b[0m         \u001b[0mboot_dist\u001b[0m\u001b[1;33m.\u001b[0m\u001b[0mappend\u001b[0m\u001b[1;33m(\u001b[0m\u001b[0mf\u001b[0m\u001b[1;33m(\u001b[0m\u001b[1;33m*\u001b[0m\u001b[0msample\u001b[0m\u001b[1;33m,\u001b[0m \u001b[1;33m**\u001b[0m\u001b[0mfunc_kwargs\u001b[0m\u001b[1;33m)\u001b[0m\u001b[1;33m)\u001b[0m\u001b[1;33m\u001b[0m\u001b[1;33m\u001b[0m\u001b[0m\n\u001b[0;32m     87\u001b[0m     \u001b[1;32mreturn\u001b[0m \u001b[0mnp\u001b[0m\u001b[1;33m.\u001b[0m\u001b[0marray\u001b[0m\u001b[1;33m(\u001b[0m\u001b[0mboot_dist\u001b[0m\u001b[1;33m)\u001b[0m\u001b[1;33m\u001b[0m\u001b[1;33m\u001b[0m\u001b[0m\n",
      "\u001b[1;32mc:\\users\\hanbit\\appdata\\local\\programs\\python\\python38-32\\lib\\site-packages\\seaborn\\algorithms.py\u001b[0m in \u001b[0;36m<listcomp>\u001b[1;34m(.0)\u001b[0m\n\u001b[0;32m     83\u001b[0m     \u001b[1;32mfor\u001b[0m \u001b[0mi\u001b[0m \u001b[1;32min\u001b[0m \u001b[0mrange\u001b[0m\u001b[1;33m(\u001b[0m\u001b[0mint\u001b[0m\u001b[1;33m(\u001b[0m\u001b[0mn_boot\u001b[0m\u001b[1;33m)\u001b[0m\u001b[1;33m)\u001b[0m\u001b[1;33m:\u001b[0m\u001b[1;33m\u001b[0m\u001b[1;33m\u001b[0m\u001b[0m\n\u001b[0;32m     84\u001b[0m         \u001b[0mresampler\u001b[0m \u001b[1;33m=\u001b[0m \u001b[0mintegers\u001b[0m\u001b[1;33m(\u001b[0m\u001b[1;36m0\u001b[0m\u001b[1;33m,\u001b[0m \u001b[0mn\u001b[0m\u001b[1;33m,\u001b[0m \u001b[0mn\u001b[0m\u001b[1;33m)\u001b[0m\u001b[1;33m\u001b[0m\u001b[1;33m\u001b[0m\u001b[0m\n\u001b[1;32m---> 85\u001b[1;33m         \u001b[0msample\u001b[0m \u001b[1;33m=\u001b[0m \u001b[1;33m[\u001b[0m\u001b[0ma\u001b[0m\u001b[1;33m.\u001b[0m\u001b[0mtake\u001b[0m\u001b[1;33m(\u001b[0m\u001b[0mresampler\u001b[0m\u001b[1;33m,\u001b[0m \u001b[0maxis\u001b[0m\u001b[1;33m=\u001b[0m\u001b[1;36m0\u001b[0m\u001b[1;33m)\u001b[0m \u001b[1;32mfor\u001b[0m \u001b[0ma\u001b[0m \u001b[1;32min\u001b[0m \u001b[0margs\u001b[0m\u001b[1;33m]\u001b[0m\u001b[1;33m\u001b[0m\u001b[1;33m\u001b[0m\u001b[0m\n\u001b[0m\u001b[0;32m     86\u001b[0m         \u001b[0mboot_dist\u001b[0m\u001b[1;33m.\u001b[0m\u001b[0mappend\u001b[0m\u001b[1;33m(\u001b[0m\u001b[0mf\u001b[0m\u001b[1;33m(\u001b[0m\u001b[1;33m*\u001b[0m\u001b[0msample\u001b[0m\u001b[1;33m,\u001b[0m \u001b[1;33m**\u001b[0m\u001b[0mfunc_kwargs\u001b[0m\u001b[1;33m)\u001b[0m\u001b[1;33m)\u001b[0m\u001b[1;33m\u001b[0m\u001b[1;33m\u001b[0m\u001b[0m\n\u001b[0;32m     87\u001b[0m     \u001b[1;32mreturn\u001b[0m \u001b[0mnp\u001b[0m\u001b[1;33m.\u001b[0m\u001b[0marray\u001b[0m\u001b[1;33m(\u001b[0m\u001b[0mboot_dist\u001b[0m\u001b[1;33m)\u001b[0m\u001b[1;33m\u001b[0m\u001b[1;33m\u001b[0m\u001b[0m\n",
      "\u001b[1;31mTypeError\u001b[0m: Cannot cast array data from dtype('int64') to dtype('int32') according to the rule 'safe'"
     ]
    },
    {
     "data": {
      "image/png": "[encoded data removed]",
      "text/plain": [
       "<Figure size 1440x1152 with 6 Axes>"
      ]
     },
     "metadata": {},
     "output_type": "display_data"
    }
   ],
   "source": [
    "# fig, axes = plt.subplots(nrows=2,ncols=2)\n",
    "fig, axes = plt.subplots(nrows=2,ncols=3)\n",
    "fig.set_size_inches(20, 16)\n",
    "\n",
    "sns.barplot(data=bike, x=\"일\", y=\"이용건수\",ax=axes[0][0])\n",
    "sns.barplot(data=bike, x=\"요일\", y=\"이용건수\",ax=axes[0][1] )\n",
    "sns.barplot(data=bike, x=\"대여시간\", y=\"이용건수\", ax=axes[1][0])\n",
    "sns.barplot(data=bike, x=\"연령대코드\", y=\"이용건수\", ax=axes[1][1] )\n",
    "sns.barplot(data=bike, x=\"주중주말구분\", y=\"이용건수\", ax=axes[0][2] )\n",
    "sns.barplot(data=bike, x=\"지구\", y=\"이용건수\", ax=axes[1][2] )\n",
    "            \n",
    "axes[0][0].set(ylabel='이용건수',title=\"이용건수\")\n",
    "axes[0][1].set(xlabel='요일', ylabel='이용건수',title=\"요일별 이용건수\")\n",
    "axes[1][0].set(xlabel='대여시간', ylabel='이용건수',title=\"대여시간대별 이용건수\")\n",
    "axes[1][1].set(xlabel='연령대코드', ylabel='이용건수',title=\"연령대코드별 이용건수\")\n",
    "axes[0][2].set(xlabel='주중주말구분', ylabel='이용건수',title=\"주중주말구분별 이용건수\")\n",
    "axes[1][2].set(xlabel='지구', ylabel='이용건수',title=\"지구별 이용건수\")\n",
    "# ax1.set(ylabel='이용건수',title=\"일별 이용건수\")\n",
    "# ax2.set(xlabel='요일',title=\"요일별 이용건수\")\n",
    "# ax3.set(xlabel='대여시간', title=\"시간대별 이용건수\")\n",
    "# ax4.set(xlabel='운동량별', title=\"운동량별 이용건수\")"
   ]
  },
  {
   "cell_type": "code",
   "execution_count": null,
   "metadata": {},
   "outputs": [],
   "source": [
    "fig, axes = plt.subplots(nrows=2,ncols=2)\n",
    "fig.set_size_inches(12, 10)\n",
    "sns.boxplot(data=bike,y=\"이용건수\",orient=\"v\",ax=axes[0][0])\n",
    "sns.boxplot(data=bike,y=\"이용건수\",x=\"주중주말구분\",orient=\"v\",ax=axes[0][1])\n",
    "sns.boxplot(data=bike,y=\"이용건수\",x=\"대여시간\",orient=\"v\",ax=axes[1][0])\n",
    "sns.boxplot(data=bike,y=\"이용건수\",x=\"대여구분코드_new\",orient=\"v\",ax=axes[1][1])\n",
    "\n",
    "axes[0][0].set(ylabel='이용건수',title=\"이용건수\")\n",
    "axes[0][1].set(xlabel='요일', ylabel='Count',title=\"주중주말구분 대여량\")\n",
    "axes[1][0].set(xlabel='대여시간', ylabel='Count',title=\"시간별 대여량\")\n",
    "axes[1][1].set(xlabel='대여구분코드_new', ylabel='Count',title=\"대여구분코드에 따른 대여량\")"
   ]
  },
  {
   "cell_type": "code",
   "execution_count": null,
   "metadata": {},
   "outputs": [],
   "source": [
    "bike[\"요일\"].value_counts()"
   ]
  },
  {
   "cell_type": "markdown",
   "metadata": {},
   "source": [
    "## 대여시간별 그래프"
   ]
  },
  {
   "cell_type": "code",
   "execution_count": null,
   "metadata": {},
   "outputs": [],
   "source": [
    "fig,(ax1,ax2,ax3,ax4,ax5, ax6, ax7)= plt.subplots(nrows=7)\n",
    "fig.set_size_inches(18,40)\n",
    "\n",
    "sns.pointplot(data=bike, x=\"대여시간\", y=\"이용건수\", ax=ax1)\n",
    "\n",
    "sns.pointplot(data=bike, x=\"대여시간\", y=\"이용건수\", hue=\"성별_New\", ax=ax2)\n",
    "\n",
    "sns.pointplot(data=bike, x=\"대여시간\", y=\"이용건수\", hue=\"요일_New\", ax=ax3)\n",
    "\n",
    "sns.pointplot(data=bike, x=\"대여시간\", y=\"이용건수\", hue=\"연령대코드_New\", ax=ax4)\n",
    "\n",
    "sns.pointplot(data=bike, x=\"대여시간\", y=\"이용건수\", hue=\"대여구분코드_new\", ax=ax5)\n",
    "\n",
    "sns.pointplot(data=bike, x=\"대여시간\", y=\"이용건수\", hue=\"주중주말구분\", ax=ax6)\n",
    "\n",
    "sns.pointplot(data=bike, x=\"대여시간\", y=\"이용건수\", hue=\"지구\", ax=ax7)"
   ]
  },
  {
   "cell_type": "markdown",
   "metadata": {},
   "source": [
    "## 상관관계 분석"
   ]
  },
  {
   "cell_type": "code",
   "execution_count": null,
   "metadata": {},
   "outputs": [],
   "source": [
    "corrMatt = bike[[\"요일_New\", \"대여시간\", \"대여소번호\", \"대여소 주소(행정동)\", \"거치대수\", \"대여구분코드_new\", \"성별_New\",\"연령대코드_New\",\"이용건수\",\"사용시간\", \"지구\",\"주중주말구분\"]]\n",
    "corrMatt = corrMatt.corr()\n",
    "print(corrMatt)\n",
    "\n",
    "mask = np.array(corrMatt)\n",
    "mask[np.tril_indices_from(mask)] = False"
   ]
  },
  {
   "cell_type": "code",
   "execution_count": null,
   "metadata": {},
   "outputs": [],
   "source": [
    "fig, ax = plt.subplots()\n",
    "fig.set_size_inches(20,10)\n",
    "sns.heatmap(corrMatt, mask=mask,vmax=.8, square=True,annot=True)"
   ]
  },
  {
   "cell_type": "code",
   "execution_count": null,
   "metadata": {},
   "outputs": [],
   "source": [
    "figure, axes = plt.subplots(ncols=2, nrows=2)\n",
    "figure.set_size_inches(12, 10)\n",
    "\n",
    "sns.distplot(bike[\"이용건수\"], ax=axes[0][0])\n",
    "stats.probplot(bike[\"이용건수\"], dist='norm', fit=True, plot=axes[0][1])\n",
    "#sns.distplot(np.log(trainWithoutOutliers[\"이용건수\"]), ax=axes[1][0])\n",
    "#stats.probplot(np.log1p(trainWithoutOutliers[\"이용건수\"]), dist='norm', fit=True, plot=axes[1][1])"
   ]
  },
  {
   "cell_type": "markdown",
   "metadata": {},
   "source": [
    "## pivot data 생성"
   ]
  },
  {
   "cell_type": "code",
   "execution_count": null,
   "metadata": {},
   "outputs": [],
   "source": [
    "bike.columns"
   ]
  },
  {
   "cell_type": "code",
   "execution_count": null,
   "metadata": {},
   "outputs": [],
   "source": [
    "bike_sum_1 = pd.pivot_table(bike, index=[\"지구\",\"주중주말구분\"],values=[\"이용건수\"],aggfunc=np.sum)\n",
    "bike_sum_1.rename(columns={'이용건수':'이용건수합계'}, inplace=True)\n",
    "# bike_sum['이용률'] = bike_sum['이용건수합계']/bike_sum['거치대수합계']\n",
    "bike_sum_1"
   ]
  },
  {
   "cell_type": "code",
   "execution_count": null,
   "metadata": {},
   "outputs": [],
   "source": [
    "# bike_sum_2 = bike.groupby(bike['대여소번호'])\n",
    "bike_sum_2 = pd.pivot_table(bike, index=[\"지구\",\"대여소번호\"],values=[\"거치대수\"],aggfunc=np.average)\n",
    "# bike_sum_1.rename(columns={'이용건수':'이용건수합계'}, inplace=True)\n",
    "# bike_sum['이용률'] = bike_sum['이용건수합계']/bike_sum['거치대수합계']\n",
    "bike_sum_2\n",
    "bike_sum_3 = pd.pivot_table(bike_sum_2,index=[\"지구\"], values=[\"거치대수\"],aggfunc=np.sum)\n",
    "bike_sum_3"
   ]
  },
  {
   "cell_type": "code",
   "execution_count": null,
   "metadata": {},
   "outputs": [],
   "source": [
    "bike_sum_1.columns"
   ]
  },
  {
   "cell_type": "code",
   "execution_count": null,
   "metadata": {},
   "outputs": [],
   "source": [
    "bike_sum_3['거치대수']"
   ]
  },
  {
   "cell_type": "code",
   "execution_count": null,
   "metadata": {},
   "outputs": [],
   "source": [
    "bike_sum_1['지구별거치대수']= pd.Series([266,355,474,266,355,474], index=[('공원',0),('상업',0),('주거',0),('공원',1),('상업',1),('주거',1)])\n",
    "bike_sum_1['이용률']=bike_sum_1['이용건수합계']/bike_sum_1['지구별거치대수']\n",
    "bike_sum_1 #지구별 \n",
    "bike_sum_1.sort_values(by=['주중주말구분'],axis=0) # 주중주말구분별"
   ]
  },
  {
   "cell_type": "markdown",
   "metadata": {},
   "source": [
    "### 주중 이용률에서  상업, 주거 이용률이 공원 이용률보다 1.8배 정도 높다."
   ]
  }
 ],
 "metadata": {
  "celltoolbar": "Raw Cell Format",
  "kernelspec": {
   "display_name": "Python 3",
   "language": "python",
   "name": "python3"
  },
  "language_info": {
   "codemirror_mode": {
    "name": "ipython",
    "version": 3
   },
   "file_extension": ".py",
   "mimetype": "text/x-python",
   "name": "python",
   "nbconvert_exporter": "python",
   "pygments_lexer": "ipython3",
   "version": "3.8.2"
  }
 },
 "nbformat": 4,
 "nbformat_minor": 4
}
