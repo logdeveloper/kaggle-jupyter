{
 "cells": [
  {
   "cell_type": "code",
   "execution_count": 4,
   "metadata": {},
   "outputs": [],
   "source": [
    "import pandas as pd\n",
    "import numpy as np\n",
    "import matplotlib as mpl\n",
    "import matplotlib.pyplot as plt\n",
    "import seaborn as sns\n",
    "from scipy import stats\n",
    "\n",
    "# 노트북 안에 그래프를 그리기 위해\n",
    "%matplotlib inline\n",
    "\n",
    "# 그래프에서 격자로 숫자 범위가 눈에 잘 띄도록 ggplot 스타일을 사용\n",
    "plt.style.use('ggplot')\n",
    "\n",
    "# 그래프에서 마이너스 폰트 깨지는 문제에 대한 대처\n",
    "mpl.rcParams['axes.unicode_minus'] = False\n",
    "\n",
    "from matplotlib import font_manager, rc\n",
    "font_name = font_manager.FontProperties(fname=\"c:/Windows/Fonts/malgun.ttf\").get_name()\n",
    "rc('font', family=font_name)"
   ]
  },
  {
   "cell_type": "code",
   "execution_count": 5,
   "metadata": {},
   "outputs": [
    {
     "data": {
      "text/html": [
       "<div>\n",
       "<style scoped>\n",
       "    .dataframe tbody tr th:only-of-type {\n",
       "        vertical-align: middle;\n",
       "    }\n",
       "\n",
       "    .dataframe tbody tr th {\n",
       "        vertical-align: top;\n",
       "    }\n",
       "\n",
       "    .dataframe thead th {\n",
       "        text-align: right;\n",
       "    }\n",
       "</style>\n",
       "<table border=\"1\" class=\"dataframe\">\n",
       "  <thead>\n",
       "    <tr style=\"text-align: right;\">\n",
       "      <th></th>\n",
       "      <th>대여일자</th>\n",
       "      <th>요일</th>\n",
       "      <th>요일_New</th>\n",
       "      <th>주중주말구분</th>\n",
       "      <th>대여시간</th>\n",
       "      <th>대여소번호</th>\n",
       "      <th>대여소명</th>\n",
       "      <th>지구</th>\n",
       "      <th>지구_New</th>\n",
       "      <th>거치대수</th>\n",
       "      <th>...</th>\n",
       "      <th>대여구분코드_new</th>\n",
       "      <th>성별</th>\n",
       "      <th>성별_New</th>\n",
       "      <th>연령대코드</th>\n",
       "      <th>연령대코드_New</th>\n",
       "      <th>이용건수</th>\n",
       "      <th>운동량</th>\n",
       "      <th>탄소량</th>\n",
       "      <th>이동거리</th>\n",
       "      <th>사용시간</th>\n",
       "    </tr>\n",
       "  </thead>\n",
       "  <tbody>\n",
       "    <tr>\n",
       "      <th>0</th>\n",
       "      <td>2019-05-01</td>\n",
       "      <td>수</td>\n",
       "      <td>3</td>\n",
       "      <td>0</td>\n",
       "      <td>0</td>\n",
       "      <td>101</td>\n",
       "      <td>(구)합정동 주민센터</td>\n",
       "      <td>주거</td>\n",
       "      <td>0</td>\n",
       "      <td>5</td>\n",
       "      <td>...</td>\n",
       "      <td>1</td>\n",
       "      <td>M</td>\n",
       "      <td>0</td>\n",
       "      <td>20대</td>\n",
       "      <td>2</td>\n",
       "      <td>1</td>\n",
       "      <td>37.37</td>\n",
       "      <td>0.28</td>\n",
       "      <td>1210</td>\n",
       "      <td>8</td>\n",
       "    </tr>\n",
       "    <tr>\n",
       "      <th>1</th>\n",
       "      <td>2019-05-01</td>\n",
       "      <td>수</td>\n",
       "      <td>3</td>\n",
       "      <td>0</td>\n",
       "      <td>0</td>\n",
       "      <td>101</td>\n",
       "      <td>(구)합정동 주민센터</td>\n",
       "      <td>주거</td>\n",
       "      <td>0</td>\n",
       "      <td>5</td>\n",
       "      <td>...</td>\n",
       "      <td>0</td>\n",
       "      <td>F</td>\n",
       "      <td>1</td>\n",
       "      <td>20대</td>\n",
       "      <td>2</td>\n",
       "      <td>1</td>\n",
       "      <td>21.88</td>\n",
       "      <td>0.2</td>\n",
       "      <td>850</td>\n",
       "      <td>9</td>\n",
       "    </tr>\n",
       "    <tr>\n",
       "      <th>2</th>\n",
       "      <td>2019-05-01</td>\n",
       "      <td>수</td>\n",
       "      <td>3</td>\n",
       "      <td>0</td>\n",
       "      <td>3</td>\n",
       "      <td>101</td>\n",
       "      <td>(구)합정동 주민센터</td>\n",
       "      <td>주거</td>\n",
       "      <td>0</td>\n",
       "      <td>5</td>\n",
       "      <td>...</td>\n",
       "      <td>1</td>\n",
       "      <td>M</td>\n",
       "      <td>0</td>\n",
       "      <td>20대</td>\n",
       "      <td>2</td>\n",
       "      <td>1</td>\n",
       "      <td>34.69</td>\n",
       "      <td>0.28</td>\n",
       "      <td>1200</td>\n",
       "      <td>5</td>\n",
       "    </tr>\n",
       "    <tr>\n",
       "      <th>3</th>\n",
       "      <td>2019-05-01</td>\n",
       "      <td>수</td>\n",
       "      <td>3</td>\n",
       "      <td>0</td>\n",
       "      <td>6</td>\n",
       "      <td>101</td>\n",
       "      <td>(구)합정동 주민센터</td>\n",
       "      <td>주거</td>\n",
       "      <td>0</td>\n",
       "      <td>5</td>\n",
       "      <td>...</td>\n",
       "      <td>1</td>\n",
       "      <td>F</td>\n",
       "      <td>1</td>\n",
       "      <td>30대</td>\n",
       "      <td>3</td>\n",
       "      <td>1</td>\n",
       "      <td>27.1</td>\n",
       "      <td>0.27</td>\n",
       "      <td>1180</td>\n",
       "      <td>7</td>\n",
       "    </tr>\n",
       "    <tr>\n",
       "      <th>4</th>\n",
       "      <td>2019-05-01</td>\n",
       "      <td>수</td>\n",
       "      <td>3</td>\n",
       "      <td>0</td>\n",
       "      <td>8</td>\n",
       "      <td>101</td>\n",
       "      <td>(구)합정동 주민센터</td>\n",
       "      <td>주거</td>\n",
       "      <td>0</td>\n",
       "      <td>5</td>\n",
       "      <td>...</td>\n",
       "      <td>1</td>\n",
       "      <td>F</td>\n",
       "      <td>1</td>\n",
       "      <td>20대</td>\n",
       "      <td>2</td>\n",
       "      <td>1</td>\n",
       "      <td>21.78</td>\n",
       "      <td>0.23</td>\n",
       "      <td>1000</td>\n",
       "      <td>6</td>\n",
       "    </tr>\n",
       "  </tbody>\n",
       "</table>\n",
       "<p>5 rows × 21 columns</p>\n",
       "</div>"
      ],
      "text/plain": [
       "        대여일자 요일  요일_New  주중주말구분  대여시간  대여소번호         대여소명  지구  지구_New  거치대수  \\\n",
       "0 2019-05-01  수       3       0     0    101  (구)합정동 주민센터  주거       0     5   \n",
       "1 2019-05-01  수       3       0     0    101  (구)합정동 주민센터  주거       0     5   \n",
       "2 2019-05-01  수       3       0     3    101  (구)합정동 주민센터  주거       0     5   \n",
       "3 2019-05-01  수       3       0     6    101  (구)합정동 주민센터  주거       0     5   \n",
       "4 2019-05-01  수       3       0     8    101  (구)합정동 주민센터  주거       0     5   \n",
       "\n",
       "   ... 대여구분코드_new  성별 성별_New  연령대코드 연령대코드_New  이용건수    운동량   탄소량  이동거리  사용시간  \n",
       "0  ...          1   M      0    20대         2     1  37.37  0.28  1210     8  \n",
       "1  ...          0   F      1    20대         2     1  21.88   0.2   850     9  \n",
       "2  ...          1   M      0    20대         2     1  34.69  0.28  1200     5  \n",
       "3  ...          1   F      1    30대         3     1   27.1  0.27  1180     7  \n",
       "4  ...          1   F      1    20대         2     1  21.78  0.23  1000     6  \n",
       "\n",
       "[5 rows x 21 columns]"
      ]
     },
     "execution_count": 5,
     "metadata": {},
     "output_type": "execute_result"
    }
   ],
   "source": [
    "bike = pd.read_csv('../data/bicycle-hourtime-201905-test.csv', parse_dates=[\"대여일자\"] ,encoding='cp949')\n",
    "bike.head()"
   ]
  },
  {
   "cell_type": "code",
   "execution_count": 6,
   "metadata": {},
   "outputs": [
    {
     "data": {
      "text/plain": [
       "Index(['대여일자', '요일', '요일_New', '주중주말구분', '대여시간', '대여소번호', '대여소명', '지구',\n",
       "       '지구_New', '거치대수', '대여구분코드', '대여구분코드_new', '성별', '성별_New', '연령대코드',\n",
       "       '연령대코드_New', '이용건수', '운동량', '탄소량', '이동거리', '사용시간'],\n",
       "      dtype='object')"
      ]
     },
     "execution_count": 6,
     "metadata": {},
     "output_type": "execute_result"
    }
   ],
   "source": [
    "bike.columns"
   ]
  },
  {
   "cell_type": "code",
   "execution_count": 7,
   "metadata": {},
   "outputs": [
    {
     "data": {
      "text/plain": [
       "(69247, 21)"
      ]
     },
     "execution_count": 7,
     "metadata": {},
     "output_type": "execute_result"
    }
   ],
   "source": [
    "bike.shape"
   ]
  },
  {
   "cell_type": "code",
   "execution_count": 8,
   "metadata": {},
   "outputs": [
    {
     "name": "stdout",
     "output_type": "stream",
     "text": [
      "<class 'pandas.core.frame.DataFrame'>\n",
      "RangeIndex: 69247 entries, 0 to 69246\n",
      "Data columns (total 21 columns):\n",
      " #   Column      Non-Null Count  Dtype         \n",
      "---  ------      --------------  -----         \n",
      " 0   대여일자        69247 non-null  datetime64[ns]\n",
      " 1   요일          69247 non-null  object        \n",
      " 2   요일_New      69247 non-null  int64         \n",
      " 3   주중주말구분      69247 non-null  int64         \n",
      " 4   대여시간        69247 non-null  int64         \n",
      " 5   대여소번호       69247 non-null  int64         \n",
      " 6   대여소명        69247 non-null  object        \n",
      " 7   지구          69247 non-null  object        \n",
      " 8   지구_New      69247 non-null  int64         \n",
      " 9   거치대수        69247 non-null  int64         \n",
      " 10  대여구분코드      69247 non-null  object        \n",
      " 11  대여구분코드_new  69247 non-null  int64         \n",
      " 12  성별          69247 non-null  object        \n",
      " 13  성별_New      69247 non-null  int64         \n",
      " 14  연령대코드       69247 non-null  object        \n",
      " 15  연령대코드_New   69247 non-null  int64         \n",
      " 16  이용건수        69247 non-null  int64         \n",
      " 17  운동량         69247 non-null  object        \n",
      " 18  탄소량         69247 non-null  object        \n",
      " 19  이동거리        69247 non-null  int64         \n",
      " 20  사용시간        69247 non-null  int64         \n",
      "dtypes: datetime64[ns](1), int64(12), object(8)\n",
      "memory usage: 11.1+ MB\n"
     ]
    }
   ],
   "source": [
    "bike.info()"
   ]
  },
  {
   "cell_type": "code",
   "execution_count": 9,
   "metadata": {},
   "outputs": [],
   "source": [
    "bike[\"년\"] = bike[\"대여일자\"].dt.year\n",
    "bike[\"월\"] = bike[\"대여일자\"].dt.month\n",
    "bike[\"일\"] = bike[\"대여일자\"].dt.day"
   ]
  },
  {
   "cell_type": "code",
   "execution_count": 10,
   "metadata": {},
   "outputs": [
    {
     "data": {
      "text/plain": [
       "(69247, 24)"
      ]
     },
     "execution_count": 10,
     "metadata": {},
     "output_type": "execute_result"
    }
   ],
   "source": [
    "bike.shape"
   ]
  },
  {
   "cell_type": "code",
   "execution_count": null,
   "metadata": {},
   "outputs": [],
   "source": [
    "bike.describe()"
   ]
  },
  {
   "cell_type": "code",
   "execution_count": null,
   "metadata": {},
   "outputs": [],
   "source": [
    "bike.isnull().sum()"
   ]
  },
  {
   "cell_type": "code",
   "execution_count": null,
   "metadata": {},
   "outputs": [],
   "source": [
    "import missingno as msno\n",
    "\n",
    "msno.matrix(bike, figsize=(12,5))"
   ]
  },
  {
   "cell_type": "code",
   "execution_count": null,
   "metadata": {},
   "outputs": [],
   "source": [
    "bike.head()"
   ]
  },
  {
   "cell_type": "markdown",
   "metadata": {},
   "source": [
    "#### histogram"
   ]
  },
  {
   "cell_type": "code",
   "execution_count": null,
   "metadata": {},
   "outputs": [],
   "source": [
    "# fig, axes = plt.subplots(nrows=2,ncols=2)\n",
    "fig, axes = plt.subplots(nrows=2,ncols=3)\n",
    "fig.set_size_inches(20, 16)\n",
    "\n",
    "sns.barplot(data=bike, x=\"일\", y=\"이용건수\",ax=axes[0][0])\n",
    "sns.barplot(data=bike, x=\"요일\", y=\"이용건수\",ax=axes[0][1] )\n",
    "sns.barplot(data=bike, x=\"대여시간\", y=\"이용건수\", ax=axes[1][0])\n",
    "sns.barplot(data=bike, x=\"연령대코드\", y=\"이용건수\", ax=axes[1][1] )\n",
    "sns.barplot(data=bike, x=\"주중주말구분\", y=\"이용건수\", ax=axes[0][2] )\n",
    "sns.barplot(data=bike, x=\"지구\", y=\"이용건수\", ax=axes[1][2] )\n",
    "            \n",
    "axes[0][0].set(ylabel='이용건수',title=\"이용건수\")\n",
    "axes[0][1].set(xlabel='요일', ylabel='이용건수',title=\"요일별 이용건수\")\n",
    "axes[1][0].set(xlabel='대여시간', ylabel='이용건수',title=\"대여시간대별 이용건수\")\n",
    "axes[1][1].set(xlabel='연령대코드', ylabel='이용건수',title=\"연령대코드별 이용건수\")\n",
    "axes[0][2].set(xlabel='주중주말구분', ylabel='이용건수',title=\"주중주말구분별 이용건수\")\n",
    "axes[1][2].set(xlabel='지구', ylabel='이용건수',title=\"지구별 이용건수\")\n",
    "# ax1.set(ylabel='이용건수',title=\"일별 이용건수\")\n",
    "# ax2.set(xlabel='요일',title=\"요일별 이용건수\")\n",
    "# ax3.set(xlabel='대여시간', title=\"시간대별 이용건수\")\n",
    "# ax4.set(xlabel='운동량별', title=\"운동량별 이용건수\")"
   ]
  },
  {
   "cell_type": "code",
   "execution_count": null,
   "metadata": {},
   "outputs": [],
   "source": [
    "fig, axes = plt.subplots(nrows=2,ncols=2)\n",
    "fig.set_size_inches(12, 10)\n",
    "sns.boxplot(data=bike,y=\"이용건수\",orient=\"v\",ax=axes[0][0])\n",
    "sns.boxplot(data=bike,y=\"이용건수\",x=\"주중주말구분\",orient=\"v\",ax=axes[0][1])\n",
    "sns.boxplot(data=bike,y=\"이용건수\",x=\"대여시간\",orient=\"v\",ax=axes[1][0])\n",
    "sns.boxplot(data=bike,y=\"이용건수\",x=\"대여구분코드_new\",orient=\"v\",ax=axes[1][1])\n",
    "\n",
    "axes[0][0].set(ylabel='이용건수',title=\"이용건수\")\n",
    "axes[0][1].set(xlabel='요일', ylabel='Count',title=\"주중주말구분 대여량\")\n",
    "axes[1][0].set(xlabel='대여시간', ylabel='Count',title=\"시간별 대여량\")\n",
    "axes[1][1].set(xlabel='대여구분코드_new', ylabel='Count',title=\"대여구분코드에 따른 대여량\")"
   ]
  },
  {
   "cell_type": "code",
   "execution_count": null,
   "metadata": {},
   "outputs": [],
   "source": [
    "bike[\"요일\"].value_counts()"
   ]
  },
  {
   "cell_type": "markdown",
   "metadata": {},
   "source": [
    "## 대여시간별 그래프"
   ]
  },
  {
   "cell_type": "code",
   "execution_count": null,
   "metadata": {},
   "outputs": [],
   "source": [
    "fig,(ax1,ax2,ax3,ax4,ax5, ax6, ax7)= plt.subplots(nrows=7)\n",
    "fig.set_size_inches(18,40)\n",
    "\n",
    "sns.pointplot(data=bike, x=\"대여시간\", y=\"이용건수\", ax=ax1)\n",
    "\n",
    "sns.pointplot(data=bike, x=\"대여시간\", y=\"이용건수\", hue=\"성별_New\", ax=ax2)\n",
    "\n",
    "sns.pointplot(data=bike, x=\"대여시간\", y=\"이용건수\", hue=\"요일_New\", ax=ax3)\n",
    "\n",
    "sns.pointplot(data=bike, x=\"대여시간\", y=\"이용건수\", hue=\"연령대코드_New\", ax=ax4)\n",
    "\n",
    "sns.pointplot(data=bike, x=\"대여시간\", y=\"이용건수\", hue=\"대여구분코드_new\", ax=ax5)\n",
    "\n",
    "sns.pointplot(data=bike, x=\"대여시간\", y=\"이용건수\", hue=\"주중주말구분\", ax=ax6)\n",
    "\n",
    "sns.pointplot(data=bike, x=\"대여시간\", y=\"이용건수\", hue=\"지구\", ax=ax7)"
   ]
  },
  {
   "cell_type": "markdown",
   "metadata": {},
   "source": [
    "## 상관관계 분석"
   ]
  },
  {
   "cell_type": "code",
   "execution_count": null,
   "metadata": {},
   "outputs": [],
   "source": [
    "corrMatt = bike[[\"요일_New\", \"대여시간\", \"대여소번호\", \"대여소 주소(행정동)\", \"거치대수\", \"대여구분코드_new\", \"성별_New\",\"연령대코드_New\",\"이용건수\",\"사용시간\", \"지구\",\"주중주말구분\"]]\n",
    "corrMatt = corrMatt.corr()\n",
    "print(corrMatt)\n",
    "\n",
    "mask = np.array(corrMatt)\n",
    "mask[np.tril_indices_from(mask)] = False"
   ]
  },
  {
   "cell_type": "code",
   "execution_count": null,
   "metadata": {},
   "outputs": [],
   "source": [
    "fig, ax = plt.subplots()\n",
    "fig.set_size_inches(20,10)\n",
    "sns.heatmap(corrMatt, mask=mask,vmax=.8, square=True,annot=True)"
   ]
  },
  {
   "cell_type": "code",
   "execution_count": null,
   "metadata": {},
   "outputs": [],
   "source": [
    "figure, axes = plt.subplots(ncols=2, nrows=2)\n",
    "figure.set_size_inches(12, 10)\n",
    "\n",
    "sns.distplot(bike[\"이용건수\"], ax=axes[0][0])\n",
    "stats.probplot(bike[\"이용건수\"], dist='norm', fit=True, plot=axes[0][1])\n",
    "#sns.distplot(np.log(trainWithoutOutliers[\"이용건수\"]), ax=axes[1][0])\n",
    "#stats.probplot(np.log1p(trainWithoutOutliers[\"이용건수\"]), dist='norm', fit=True, plot=axes[1][1])"
   ]
  },
  {
   "cell_type": "markdown",
   "metadata": {},
   "source": [
    "## pivot data 생성"
   ]
  },
  {
   "cell_type": "code",
   "execution_count": null,
   "metadata": {},
   "outputs": [],
   "source": [
    "bike.columns"
   ]
  },
  {
   "cell_type": "code",
   "execution_count": null,
   "metadata": {},
   "outputs": [],
   "source": [
    "bike_sum_1 = pd.pivot_table(bike, index=[\"지구\",\"주중주말구분\"],values=[\"이용건수\"],aggfunc=np.sum)\n",
    "bike_sum_1.rename(columns={'이용건수':'이용건수합계'}, inplace=True)\n",
    "# bike_sum['이용률'] = bike_sum['이용건수합계']/bike_sum['거치대수합계']\n",
    "bike_sum_1"
   ]
  },
  {
   "cell_type": "code",
   "execution_count": null,
   "metadata": {},
   "outputs": [],
   "source": [
    "# bike_sum_2 = bike.groupby(bike['대여소번호'])\n",
    "bike_sum_2 = pd.pivot_table(bike, index=[\"지구\",\"대여소번호\"],values=[\"거치대수\"],aggfunc=np.average)\n",
    "# bike_sum_1.rename(columns={'이용건수':'이용건수합계'}, inplace=True)\n",
    "# bike_sum['이용률'] = bike_sum['이용건수합계']/bike_sum['거치대수합계']\n",
    "bike_sum_2\n",
    "bike_sum_3 = pd.pivot_table(bike_sum_2,index=[\"지구\"], values=[\"거치대수\"],aggfunc=np.sum)\n",
    "bike_sum_3"
   ]
  },
  {
   "cell_type": "code",
   "execution_count": null,
   "metadata": {},
   "outputs": [],
   "source": [
    "bike_sum_1.columns"
   ]
  },
  {
   "cell_type": "code",
   "execution_count": null,
   "metadata": {},
   "outputs": [],
   "source": [
    "bike_sum_3['거치대수']"
   ]
  },
  {
   "cell_type": "code",
   "execution_count": null,
   "metadata": {},
   "outputs": [],
   "source": [
    "bike_sum_1['지구별거치대수']= pd.Series([266,355,474,266,355,474], index=[('공원',0),('상업',0),('주거',0),('공원',1),('상업',1),('주거',1)])\n",
    "bike_sum_1['이용률']=bike_sum_1['이용건수합계']/bike_sum_1['지구별거치대수']\n",
    "bike_sum_1 #지구별 \n",
    "bike_sum_1.sort_values(by=['주중주말구분'],axis=0) # 주중주말구분별"
   ]
  },
  {
   "cell_type": "markdown",
   "metadata": {},
   "source": [
    "### 주중 이용률에서  상업, 주거 이용률이 공원 이용률보다 1.8배 정도 높다."
   ]
  }
 ],
 "metadata": {
  "celltoolbar": "Raw Cell Format",
  "kernelspec": {
   "display_name": "Python 3",
   "language": "python",
   "name": "python3"
  },
  "language_info": {
   "codemirror_mode": {
    "name": "ipython",
    "version": 3
   },
   "file_extension": ".py",
   "mimetype": "text/x-python",
   "name": "python",
   "nbconvert_exporter": "python",
   "pygments_lexer": "ipython3",
   "version": "3.7.6"
  }
 },
 "nbformat": 4,
 "nbformat_minor": 4
}
